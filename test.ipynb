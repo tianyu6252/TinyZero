{
 "cells": [
  {
   "cell_type": "code",
   "execution_count": 1,
   "metadata": {},
   "outputs": [
    {
     "name": "stderr",
     "output_type": "stream",
     "text": [
      "/root/miniconda3/envs/zero/lib/python3.9/site-packages/tqdm/auto.py:21: TqdmWarning: IProgress not found. Please update jupyter and ipywidgets. See https://ipywidgets.readthedocs.io/en/stable/user_install.html\n",
      "  from .autonotebook import tqdm as notebook_tqdm\n",
      "2025-04-13 17:29:30,945\tINFO util.py:154 -- Missing packages: ['ipywidgets']. Run `pip install -U ipywidgets`, then restart the notebook server for rich notebook output.\n",
      "2025-04-13 17:29:32,175\tWARNING utils.py:596 -- Detecting docker specified CPUs. In previous versions of Ray, CPU detection in containers was incorrect. Please ensure that Ray has enough CPUs allocated. As a temporary workaround to revert to the prior behavior, set `RAY_USE_MULTIPROCESSING_CPU_COUNT=1` as an env var before starting Ray. Set the env var: `RAY_DISABLE_DOCKER_CPU_WARNING=1` to mute this warning.\n",
      "2025-04-13 17:29:32,426\tINFO worker.py:1852 -- Started a local Ray instance.\n"
     ]
    },
    {
     "name": "stdout",
     "output_type": "stream",
     "text": [
      "[{'NodeID': 'd91900ce02d9ba625f528a65955979b8425dbc4d1213ccfec8983fa3', 'Alive': True, 'NodeManagerAddress': '172.17.0.7', 'NodeManagerHostname': 'autodl-container-c6c3469f40-ba426363', 'NodeManagerPort': 46055, 'ObjectManagerPort': 37555, 'ObjectStoreSocketName': '/tmp/ray/session_2025-04-13_17-29-30_969148_60141/sockets/plasma_store', 'RayletSocketName': '/tmp/ray/session_2025-04-13_17-29-30_969148_60141/sockets/raylet', 'MetricsExportPort': 63868, 'NodeName': '172.17.0.7', 'RuntimeEnvAgentPort': 54368, 'DeathReason': 0, 'DeathReasonMessage': '', 'alive': True, 'Resources': {'node:172.17.0.7': 1.0, 'object_store_memory': 27823713484.0, 'accelerator_type:G': 1.0, 'GPU': 1.0, 'CPU': 20.0, 'memory': 64921998132.0, 'node:__internal_head__': 1.0}, 'Labels': {'ray.io/node_id': 'd91900ce02d9ba625f528a65955979b8425dbc4d1213ccfec8983fa3'}}]\n"
     ]
    }
   ],
   "source": [
    "import ray\n",
    "ray.init()\n",
    "print(ray.nodes())  # 检查节点状态"
   ]
  },
  {
   "cell_type": "markdown",
   "metadata": {},
   "source": [
    "WanDB Config"
   ]
  },
  {
   "cell_type": "code",
   "execution_count": 3,
   "metadata": {},
   "outputs": [
    {
     "name": "stdout",
     "output_type": "stream",
     "text": [
      "\u001b[34m\u001b[1mwandb\u001b[0m: Logging into wandb.ai. (Learn how to deploy a W&B server locally: https://wandb.me/wandb-server)\n",
      "\u001b[34m\u001b[1mwandb\u001b[0m: You can find your API key in your browser here: https://wandb.ai/authorize\n",
      "\u001b[34m\u001b[1mwandb\u001b[0m: Paste an API key from your profile and hit enter, or press ctrl+c to quit: \n",
      "Aborted!\n"
     ]
    }
   ],
   "source": [
    "!wandb login"
   ]
  }
 ],
 "metadata": {
  "kernelspec": {
   "display_name": "zero",
   "language": "python",
   "name": "python3"
  },
  "language_info": {
   "codemirror_mode": {
    "name": "ipython",
    "version": 3
   },
   "file_extension": ".py",
   "mimetype": "text/x-python",
   "name": "python",
   "nbconvert_exporter": "python",
   "pygments_lexer": "ipython3",
   "version": "3.9.21"
  }
 },
 "nbformat": 4,
 "nbformat_minor": 2
}
