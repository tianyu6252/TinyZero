{
 "cells": [
  {
   "cell_type": "markdown",
   "id": "0ddc582b",
   "metadata": {},
   "source": [
    "# VeRL Ray API Tutorial"
   ]
  },
  {
   "cell_type": "markdown",
   "id": "71fe3b94",
   "metadata": {},
   "source": [
    "## Chapter 1: Ray Basics"
   ]
  },
  {
   "cell_type": "code",
   "execution_count": 1,
   "id": "1347d381",
   "metadata": {
    "tags": []
   },
   "outputs": [],
   "source": [
    "import os"
   ]
  },
  {
   "cell_type": "code",
   "execution_count": 2,
   "id": "e75b9d44",
   "metadata": {
    "tags": []
   },
   "outputs": [
    {
     "name": "stderr",
     "output_type": "stream",
     "text": [
      "/root/miniconda3/envs/zero/lib/python3.9/site-packages/tqdm/auto.py:21: TqdmWarning: IProgress not found. Please update jupyter and ipywidgets. See https://ipywidgets.readthedocs.io/en/stable/user_install.html\n",
      "  from .autonotebook import tqdm as notebook_tqdm\n",
      "2025-04-12 20:50:21,107\tINFO util.py:154 -- Missing packages: ['ipywidgets']. Run `pip install -U ipywidgets`, then restart the notebook server for rich notebook output.\n"
     ]
    }
   ],
   "source": [
    "import ray\n",
    "import torch\n",
    "import warnings\n",
    "warnings.filterwarnings('ignore')"
   ]
  },
  {
   "cell_type": "code",
   "execution_count": 3,
   "id": "2e90ae00",
   "metadata": {
    "tags": []
   },
   "outputs": [
    {
     "name": "stderr",
     "output_type": "stream",
     "text": [
      "2025-04-12 20:50:24,362\tWARNING utils.py:596 -- Detecting docker specified CPUs. In previous versions of Ray, CPU detection in containers was incorrect. Please ensure that Ray has enough CPUs allocated. As a temporary workaround to revert to the prior behavior, set `RAY_USE_MULTIPROCESSING_CPU_COUNT=1` as an env var before starting Ray. Set the env var: `RAY_DISABLE_DOCKER_CPU_WARNING=1` to mute this warning.\n",
      "2025-04-12 20:50:24,654\tINFO worker.py:1852 -- Started a local Ray instance.\n"
     ]
    },
    {
     "data": {
      "text/html": [
       "<div class=\"lm-Widget p-Widget lm-Panel p-Panel jp-Cell-outputWrapper\">\n",
       "    <div style=\"margin-left: 50px;display: flex;flex-direction: row;align-items: center\">\n",
       "        <div class=\"jp-RenderedHTMLCommon\" style=\"display: flex; flex-direction: row;\">\n",
       "  <svg viewBox=\"0 0 567 224\" fill=\"none\" xmlns=\"http://www.w3.org/2000/svg\" style=\"height: 3em;\">\n",
       "    <g clip-path=\"url(#clip0_4338_178347)\">\n",
       "        <path d=\"M341.29 165.561H355.29L330.13 129.051C345.63 123.991 354.21 112.051 354.21 94.2307C354.21 71.3707 338.72 58.1807 311.88 58.1807H271V165.561H283.27V131.661H311.8C314.25 131.661 316.71 131.501 319.01 131.351L341.25 165.561H341.29ZM283.29 119.851V70.0007H311.82C331.3 70.0007 342.34 78.2907 342.34 94.5507C342.34 111.271 331.34 119.861 311.82 119.861L283.29 119.851ZM451.4 138.411L463.4 165.561H476.74L428.74 58.1807H416L367.83 165.561H380.83L392.83 138.411H451.4ZM446.19 126.601H398L422 72.1407L446.24 126.601H446.19ZM526.11 128.741L566.91 58.1807H554.35L519.99 114.181L485.17 58.1807H472.44L514.01 129.181V165.541H526.13V128.741H526.11Z\" fill=\"var(--jp-ui-font-color0)\"/>\n",
       "        <path d=\"M82.35 104.44C84.0187 97.8827 87.8248 92.0678 93.1671 87.9146C98.5094 83.7614 105.083 81.5067 111.85 81.5067C118.617 81.5067 125.191 83.7614 130.533 87.9146C135.875 92.0678 139.681 97.8827 141.35 104.44H163.75C164.476 101.562 165.622 98.8057 167.15 96.2605L127.45 56.5605C121.071 60.3522 113.526 61.6823 106.235 60.3005C98.9443 58.9187 92.4094 54.9203 87.8602 49.0574C83.3109 43.1946 81.0609 35.8714 81.5332 28.4656C82.0056 21.0599 85.1679 14.0819 90.4252 8.8446C95.6824 3.60726 102.672 0.471508 110.08 0.0272655C117.487 -0.416977 124.802 1.86091 130.647 6.4324C136.493 11.0039 140.467 17.5539 141.821 24.8501C143.175 32.1463 141.816 39.6859 138 46.0505L177.69 85.7505C182.31 82.9877 187.58 81.4995 192.962 81.4375C198.345 81.3755 203.648 82.742 208.33 85.3976C213.012 88.0532 216.907 91.9029 219.616 96.5544C222.326 101.206 223.753 106.492 223.753 111.875C223.753 117.258 222.326 122.545 219.616 127.197C216.907 131.848 213.012 135.698 208.33 138.353C203.648 141.009 198.345 142.375 192.962 142.313C187.58 142.251 182.31 140.763 177.69 138L138 177.7C141.808 184.071 143.155 191.614 141.79 198.91C140.424 206.205 136.44 212.75 130.585 217.313C124.731 221.875 117.412 224.141 110.004 223.683C102.596 223.226 95.6103 220.077 90.3621 214.828C85.1139 209.58 81.9647 202.595 81.5072 195.187C81.0497 187.779 83.3154 180.459 87.878 174.605C92.4405 168.751 98.9853 164.766 106.281 163.401C113.576 162.035 121.119 163.383 127.49 167.19L167.19 127.49C165.664 124.941 164.518 122.182 163.79 119.3H141.39C139.721 125.858 135.915 131.673 130.573 135.826C125.231 139.98 118.657 142.234 111.89 142.234C105.123 142.234 98.5494 139.98 93.2071 135.826C87.8648 131.673 84.0587 125.858 82.39 119.3H60C58.1878 126.495 53.8086 132.78 47.6863 136.971C41.5641 141.163 34.1211 142.972 26.7579 142.059C19.3947 141.146 12.6191 137.574 7.70605 132.014C2.79302 126.454 0.0813599 119.29 0.0813599 111.87C0.0813599 104.451 2.79302 97.2871 7.70605 91.7272C12.6191 86.1673 19.3947 82.5947 26.7579 81.6817C34.1211 80.7686 41.5641 82.5781 47.6863 86.7696C53.8086 90.9611 58.1878 97.2456 60 104.44H82.35ZM100.86 204.32C103.407 206.868 106.759 208.453 110.345 208.806C113.93 209.159 117.527 208.258 120.522 206.256C123.517 204.254 125.725 201.276 126.771 197.828C127.816 194.38 127.633 190.677 126.253 187.349C124.874 184.021 122.383 181.274 119.205 179.577C116.027 177.88 112.359 177.337 108.826 178.042C105.293 178.746 102.113 180.654 99.8291 183.44C97.5451 186.226 96.2979 189.718 96.3 193.32C96.2985 195.364 96.7006 197.388 97.4831 199.275C98.2656 201.163 99.4132 202.877 100.86 204.32ZM204.32 122.88C206.868 120.333 208.453 116.981 208.806 113.396C209.159 109.811 208.258 106.214 206.256 103.219C204.254 100.223 201.275 98.0151 197.827 96.97C194.38 95.9249 190.676 96.1077 187.348 97.4873C184.02 98.8669 181.274 101.358 179.577 104.536C177.879 107.714 177.337 111.382 178.041 114.915C178.746 118.448 180.653 121.627 183.439 123.911C186.226 126.195 189.717 127.443 193.32 127.44C195.364 127.443 197.388 127.042 199.275 126.259C201.163 125.476 202.878 124.328 204.32 122.88ZM122.88 19.4205C120.333 16.8729 116.981 15.2876 113.395 14.9347C109.81 14.5817 106.213 15.483 103.218 17.4849C100.223 19.4868 98.0146 22.4654 96.9696 25.9131C95.9245 29.3608 96.1073 33.0642 97.4869 36.3922C98.8665 39.7202 101.358 42.4668 104.535 44.1639C107.713 45.861 111.381 46.4036 114.914 45.6992C118.447 44.9949 121.627 43.0871 123.911 40.301C126.195 37.515 127.442 34.0231 127.44 30.4205C127.44 28.3772 127.038 26.3539 126.255 24.4664C125.473 22.5788 124.326 20.8642 122.88 19.4205ZM19.42 100.86C16.8725 103.408 15.2872 106.76 14.9342 110.345C14.5813 113.93 15.4826 117.527 17.4844 120.522C19.4863 123.518 22.4649 125.726 25.9127 126.771C29.3604 127.816 33.0638 127.633 36.3918 126.254C39.7198 124.874 42.4664 122.383 44.1635 119.205C45.8606 116.027 46.4032 112.359 45.6988 108.826C44.9944 105.293 43.0866 102.114 40.3006 99.8296C37.5145 97.5455 34.0227 96.2983 30.42 96.3005C26.2938 96.3018 22.337 97.9421 19.42 100.86ZM100.86 100.86C98.3125 103.408 96.7272 106.76 96.3742 110.345C96.0213 113.93 96.9226 117.527 98.9244 120.522C100.926 123.518 103.905 125.726 107.353 126.771C110.8 127.816 114.504 127.633 117.832 126.254C121.16 124.874 123.906 122.383 125.604 119.205C127.301 116.027 127.843 112.359 127.139 108.826C126.434 105.293 124.527 102.114 121.741 99.8296C118.955 97.5455 115.463 96.2983 111.86 96.3005C109.817 96.299 107.793 96.701 105.905 97.4835C104.018 98.2661 102.303 99.4136 100.86 100.86Z\" fill=\"#00AEEF\"/>\n",
       "    </g>\n",
       "    <defs>\n",
       "        <clipPath id=\"clip0_4338_178347\">\n",
       "            <rect width=\"566.93\" height=\"223.75\" fill=\"white\"/>\n",
       "        </clipPath>\n",
       "    </defs>\n",
       "  </svg>\n",
       "</div>\n",
       "\n",
       "        <table class=\"jp-RenderedHTMLCommon\" style=\"border-collapse: collapse;color: var(--jp-ui-font-color1);font-size: var(--jp-ui-font-size1);\">\n",
       "    <tr>\n",
       "        <td style=\"text-align: left\"><b>Python version:</b></td>\n",
       "        <td style=\"text-align: left\"><b>3.9.21</b></td>\n",
       "    </tr>\n",
       "    <tr>\n",
       "        <td style=\"text-align: left\"><b>Ray version:</b></td>\n",
       "        <td style=\"text-align: left\"><b>2.44.1</b></td>\n",
       "    </tr>\n",
       "    \n",
       "</table>\n",
       "\n",
       "    </div>\n",
       "</div>\n"
      ],
      "text/plain": [
       "RayContext(dashboard_url='', python_version='3.9.21', ray_version='2.44.1', ray_commit='daca7b2b1a950dc7f731e34e74c76ae383794ffe')"
      ]
     },
     "execution_count": 3,
     "metadata": {},
     "output_type": "execute_result"
    },
    {
     "name": "stderr",
     "output_type": "stream",
     "text": [
      "\u001b[33m(raylet)\u001b[0m [2025-04-12 20:50:34,545 E 2809 2843] (raylet) file_system_monitor.cc:116: /tmp/ray/session_2025-04-12_20-50-22_955978_2486 is over 95% full, available space: 0.846375 GB; capacity: 30 GB. Object creation will fail if spilling is required.\n",
      "\u001b[33m(raylet)\u001b[0m [2025-04-12 20:50:44,554 E 2809 2843] (raylet) file_system_monitor.cc:116: /tmp/ray/session_2025-04-12_20-50-22_955978_2486 is over 95% full, available space: 0.846359 GB; capacity: 30 GB. Object creation will fail if spilling is required.\n",
      "\u001b[33m(raylet)\u001b[0m [2025-04-12 20:50:54,564 E 2809 2843] (raylet) file_system_monitor.cc:116: /tmp/ray/session_2025-04-12_20-50-22_955978_2486 is over 95% full, available space: 0.846359 GB; capacity: 30 GB. Object creation will fail if spilling is required.\n",
      "\u001b[33m(raylet)\u001b[0m [2025-04-12 20:51:04,575 E 2809 2843] (raylet) file_system_monitor.cc:116: /tmp/ray/session_2025-04-12_20-50-22_955978_2486 is over 95% full, available space: 0.846355 GB; capacity: 30 GB. Object creation will fail if spilling is required.\n",
      "\u001b[33m(raylet)\u001b[0m [2025-04-12 20:51:14,588 E 2809 2843] (raylet) file_system_monitor.cc:116: /tmp/ray/session_2025-04-12_20-50-22_955978_2486 is over 95% full, available space: 0.846355 GB; capacity: 30 GB. Object creation will fail if spilling is required.\n",
      "\u001b[33m(raylet)\u001b[0m [2025-04-12 20:51:24,602 E 2809 2843] (raylet) file_system_monitor.cc:116: /tmp/ray/session_2025-04-12_20-50-22_955978_2486 is over 95% full, available space: 0.846321 GB; capacity: 30 GB. Object creation will fail if spilling is required.\n",
      "\u001b[33m(raylet)\u001b[0m [2025-04-12 20:51:34,616 E 2809 2843] (raylet) file_system_monitor.cc:116: /tmp/ray/session_2025-04-12_20-50-22_955978_2486 is over 95% full, available space: 0.846237 GB; capacity: 30 GB. Object creation will fail if spilling is required.\n",
      "\u001b[33m(raylet)\u001b[0m [2025-04-12 20:51:44,628 E 2809 2843] (raylet) file_system_monitor.cc:116: /tmp/ray/session_2025-04-12_20-50-22_955978_2486 is over 95% full, available space: 0.847179 GB; capacity: 30 GB. Object creation will fail if spilling is required.\n",
      "\u001b[33m(raylet)\u001b[0m [2025-04-12 20:51:54,640 E 2809 2843] (raylet) file_system_monitor.cc:116: /tmp/ray/session_2025-04-12_20-50-22_955978_2486 is over 95% full, available space: 0.847179 GB; capacity: 30 GB. Object creation will fail if spilling is required.\n",
      "\u001b[33m(raylet)\u001b[0m [2025-04-12 20:52:04,659 E 2809 2843] (raylet) file_system_monitor.cc:116: /tmp/ray/session_2025-04-12_20-50-22_955978_2486 is over 95% full, available space: 0.847172 GB; capacity: 30 GB. Object creation will fail if spilling is required.\n",
      "\u001b[33m(raylet)\u001b[0m [2025-04-12 20:52:14,691 E 2809 2843] (raylet) file_system_monitor.cc:116: /tmp/ray/session_2025-04-12_20-50-22_955978_2486 is over 95% full, available space: 0.847172 GB; capacity: 30 GB. Object creation will fail if spilling is required.\n",
      "\u001b[33m(raylet)\u001b[0m [2025-04-12 20:52:24,711 E 2809 2843] (raylet) file_system_monitor.cc:116: /tmp/ray/session_2025-04-12_20-50-22_955978_2486 is over 95% full, available space: 0.847134 GB; capacity: 30 GB. Object creation will fail if spilling is required.\n",
      "\u001b[33m(raylet)\u001b[0m [2025-04-12 20:52:34,725 E 2809 2843] (raylet) file_system_monitor.cc:116: /tmp/ray/session_2025-04-12_20-50-22_955978_2486 is over 95% full, available space: 0.846977 GB; capacity: 30 GB. Object creation will fail if spilling is required.\n",
      "\u001b[33m(raylet)\u001b[0m [2025-04-12 20:52:44,737 E 2809 2843] (raylet) file_system_monitor.cc:116: /tmp/ray/session_2025-04-12_20-50-22_955978_2486 is over 95% full, available space: 0.846977 GB; capacity: 30 GB. Object creation will fail if spilling is required.\n",
      "\u001b[33m(raylet)\u001b[0m [2025-04-12 20:52:54,751 E 2809 2843] (raylet) file_system_monitor.cc:116: /tmp/ray/session_2025-04-12_20-50-22_955978_2486 is over 95% full, available space: 0.846973 GB; capacity: 30 GB. Object creation will fail if spilling is required.\n",
      "\u001b[33m(raylet)\u001b[0m [2025-04-12 20:53:04,761 E 2809 2843] (raylet) file_system_monitor.cc:116: /tmp/ray/session_2025-04-12_20-50-22_955978_2486 is over 95% full, available space: 0.846973 GB; capacity: 30 GB. Object creation will fail if spilling is required.\n",
      "\u001b[33m(raylet)\u001b[0m [2025-04-12 20:53:14,781 E 2809 2843] (raylet) file_system_monitor.cc:116: /tmp/ray/session_2025-04-12_20-50-22_955978_2486 is over 95% full, available space: 0.846973 GB; capacity: 30 GB. Object creation will fail if spilling is required.\n",
      "\u001b[33m(raylet)\u001b[0m [2025-04-12 20:53:24,795 E 2809 2843] (raylet) file_system_monitor.cc:116: /tmp/ray/session_2025-04-12_20-50-22_955978_2486 is over 95% full, available space: 0.846828 GB; capacity: 30 GB. Object creation will fail if spilling is required.\n",
      "\u001b[33m(raylet)\u001b[0m [2025-04-12 20:53:34,807 E 2809 2843] (raylet) file_system_monitor.cc:116: /tmp/ray/session_2025-04-12_20-50-22_955978_2486 is over 95% full, available space: 0.846737 GB; capacity: 30 GB. Object creation will fail if spilling is required.\n",
      "\u001b[33m(raylet)\u001b[0m [2025-04-12 20:53:44,819 E 2809 2843] (raylet) file_system_monitor.cc:116: /tmp/ray/session_2025-04-12_20-50-22_955978_2486 is over 95% full, available space: 0.846737 GB; capacity: 30 GB. Object creation will fail if spilling is required.\n",
      "\u001b[33m(raylet)\u001b[0m [2025-04-12 20:53:54,830 E 2809 2843] (raylet) file_system_monitor.cc:116: /tmp/ray/session_2025-04-12_20-50-22_955978_2486 is over 95% full, available space: 0.846832 GB; capacity: 30 GB. Object creation will fail if spilling is required.\n",
      "\u001b[33m(raylet)\u001b[0m [2025-04-12 20:54:04,842 E 2809 2843] (raylet) file_system_monitor.cc:116: /tmp/ray/session_2025-04-12_20-50-22_955978_2486 is over 95% full, available space: 0.846714 GB; capacity: 30 GB. Object creation will fail if spilling is required.\n",
      "\u001b[33m(raylet)\u001b[0m [2025-04-12 20:54:14,856 E 2809 2843] (raylet) file_system_monitor.cc:116: /tmp/ray/session_2025-04-12_20-50-22_955978_2486 is over 95% full, available space: 0.846664 GB; capacity: 30 GB. Object creation will fail if spilling is required.\n",
      "\u001b[33m(raylet)\u001b[0m [2025-04-12 20:54:24,879 E 2809 2843] (raylet) file_system_monitor.cc:116: /tmp/ray/session_2025-04-12_20-50-22_955978_2486 is over 95% full, available space: 0.846611 GB; capacity: 30 GB. Object creation will fail if spilling is required.\n",
      "\u001b[33m(raylet)\u001b[0m [2025-04-12 20:54:34,898 E 2809 2843] (raylet) file_system_monitor.cc:116: /tmp/ray/session_2025-04-12_20-50-22_955978_2486 is over 95% full, available space: 0.846455 GB; capacity: 30 GB. Object creation will fail if spilling is required.\n",
      "\u001b[33m(raylet)\u001b[0m [2025-04-12 20:54:44,916 E 2809 2843] (raylet) file_system_monitor.cc:116: /tmp/ray/session_2025-04-12_20-50-22_955978_2486 is over 95% full, available space: 0.846451 GB; capacity: 30 GB. Object creation will fail if spilling is required.\n",
      "\u001b[33m(raylet)\u001b[0m [2025-04-12 20:54:54,931 E 2809 2843] (raylet) file_system_monitor.cc:116: /tmp/ray/session_2025-04-12_20-50-22_955978_2486 is over 95% full, available space: 0.846451 GB; capacity: 30 GB. Object creation will fail if spilling is required.\n",
      "\u001b[33m(raylet)\u001b[0m [2025-04-12 20:55:04,943 E 2809 2843] (raylet) file_system_monitor.cc:116: /tmp/ray/session_2025-04-12_20-50-22_955978_2486 is over 95% full, available space: 0.846447 GB; capacity: 30 GB. Object creation will fail if spilling is required.\n",
      "\u001b[33m(raylet)\u001b[0m [2025-04-12 20:55:14,955 E 2809 2843] (raylet) file_system_monitor.cc:116: /tmp/ray/session_2025-04-12_20-50-22_955978_2486 is over 95% full, available space: 0.846443 GB; capacity: 30 GB. Object creation will fail if spilling is required.\n",
      "\u001b[33m(raylet)\u001b[0m [2025-04-12 20:55:24,967 E 2809 2843] (raylet) file_system_monitor.cc:116: /tmp/ray/session_2025-04-12_20-50-22_955978_2486 is over 95% full, available space: 0.846443 GB; capacity: 30 GB. Object creation will fail if spilling is required.\n",
      "\u001b[33m(raylet)\u001b[0m [2025-04-12 20:55:34,978 E 2809 2843] (raylet) file_system_monitor.cc:116: /tmp/ray/session_2025-04-12_20-50-22_955978_2486 is over 95% full, available space: 0.846348 GB; capacity: 30 GB. Object creation will fail if spilling is required.\n",
      "\u001b[33m(raylet)\u001b[0m [2025-04-12 20:55:44,989 E 2809 2843] (raylet) file_system_monitor.cc:116: /tmp/ray/session_2025-04-12_20-50-22_955978_2486 is over 95% full, available space: 0.846348 GB; capacity: 30 GB. Object creation will fail if spilling is required.\n",
      "\u001b[33m(raylet)\u001b[0m [2025-04-12 20:55:55,018 E 2809 2843] (raylet) file_system_monitor.cc:116: /tmp/ray/session_2025-04-12_20-50-22_955978_2486 is over 95% full, available space: 0.846348 GB; capacity: 30 GB. Object creation will fail if spilling is required.\n",
      "\u001b[33m(raylet)\u001b[0m [2025-04-12 20:56:05,059 E 2809 2843] (raylet) file_system_monitor.cc:116: /tmp/ray/session_2025-04-12_20-50-22_955978_2486 is over 95% full, available space: 0.846344 GB; capacity: 30 GB. Object creation will fail if spilling is required.\n",
      "\u001b[33m(raylet)\u001b[0m [2025-04-12 20:56:15,078 E 2809 2843] (raylet) file_system_monitor.cc:116: /tmp/ray/session_2025-04-12_20-50-22_955978_2486 is over 95% full, available space: 0.84634 GB; capacity: 30 GB. Object creation will fail if spilling is required.\n",
      "\u001b[33m(raylet)\u001b[0m [2025-04-12 20:56:25,094 E 2809 2843] (raylet) file_system_monitor.cc:116: /tmp/ray/session_2025-04-12_20-50-22_955978_2486 is over 95% full, available space: 0.846169 GB; capacity: 30 GB. Object creation will fail if spilling is required.\n",
      "\u001b[33m(raylet)\u001b[0m [2025-04-12 20:56:35,105 E 2809 2843] (raylet) file_system_monitor.cc:116: /tmp/ray/session_2025-04-12_20-50-22_955978_2486 is over 95% full, available space: 0.846096 GB; capacity: 30 GB. Object creation will fail if spilling is required.\n",
      "\u001b[33m(raylet)\u001b[0m [2025-04-12 20:56:45,113 E 2809 2843] (raylet) file_system_monitor.cc:116: /tmp/ray/session_2025-04-12_20-50-22_955978_2486 is over 95% full, available space: 0.846096 GB; capacity: 30 GB. Object creation will fail if spilling is required.\n",
      "\u001b[33m(raylet)\u001b[0m [2025-04-12 20:56:55,122 E 2809 2843] (raylet) file_system_monitor.cc:116: /tmp/ray/session_2025-04-12_20-50-22_955978_2486 is over 95% full, available space: 0.846092 GB; capacity: 30 GB. Object creation will fail if spilling is required.\n",
      "\u001b[33m(raylet)\u001b[0m [2025-04-12 20:57:05,173 E 2809 2843] (raylet) file_system_monitor.cc:116: /tmp/ray/session_2025-04-12_20-50-22_955978_2486 is over 95% full, available space: 0.846092 GB; capacity: 30 GB. Object creation will fail if spilling is required.\n",
      "\u001b[33m(raylet)\u001b[0m [2025-04-12 20:57:15,190 E 2809 2843] (raylet) file_system_monitor.cc:116: /tmp/ray/session_2025-04-12_20-50-22_955978_2486 is over 95% full, available space: 0.846092 GB; capacity: 30 GB. Object creation will fail if spilling is required.\n",
      "\u001b[33m(raylet)\u001b[0m [2025-04-12 20:57:25,205 E 2809 2843] (raylet) file_system_monitor.cc:116: /tmp/ray/session_2025-04-12_20-50-22_955978_2486 is over 95% full, available space: 0.84584 GB; capacity: 30 GB. Object creation will fail if spilling is required.\n",
      "\u001b[33m(raylet)\u001b[0m [2025-04-12 20:57:35,214 E 2809 2843] (raylet) file_system_monitor.cc:116: /tmp/ray/session_2025-04-12_20-50-22_955978_2486 is over 95% full, available space: 0.84584 GB; capacity: 30 GB. Object creation will fail if spilling is required.\n",
      "\u001b[33m(raylet)\u001b[0m [2025-04-12 20:57:45,222 E 2809 2843] (raylet) file_system_monitor.cc:116: /tmp/ray/session_2025-04-12_20-50-22_955978_2486 is over 95% full, available space: 0.84584 GB; capacity: 30 GB. Object creation will fail if spilling is required.\n",
      "\u001b[33m(raylet)\u001b[0m [2025-04-12 20:57:55,228 E 2809 2843] (raylet) file_system_monitor.cc:116: /tmp/ray/session_2025-04-12_20-50-22_955978_2486 is over 95% full, available space: 0.845833 GB; capacity: 30 GB. Object creation will fail if spilling is required.\n",
      "\u001b[33m(raylet)\u001b[0m [2025-04-12 20:58:05,249 E 2809 2843] (raylet) file_system_monitor.cc:116: /tmp/ray/session_2025-04-12_20-50-22_955978_2486 is over 95% full, available space: 0.845833 GB; capacity: 30 GB. Object creation will fail if spilling is required.\n",
      "\u001b[33m(raylet)\u001b[0m [2025-04-12 20:58:15,283 E 2809 2843] (raylet) file_system_monitor.cc:116: /tmp/ray/session_2025-04-12_20-50-22_955978_2486 is over 95% full, available space: 0.845833 GB; capacity: 30 GB. Object creation will fail if spilling is required.\n",
      "\u001b[33m(raylet)\u001b[0m [2025-04-12 20:58:25,296 E 2809 2843] (raylet) file_system_monitor.cc:116: /tmp/ray/session_2025-04-12_20-50-22_955978_2486 is over 95% full, available space: 0.845688 GB; capacity: 30 GB. Object creation will fail if spilling is required.\n"
     ]
    },
    {
     "name": "stdout",
     "output_type": "stream",
     "text": [
      "\u001b[33m(autoscaler +8m44s)\u001b[0m Error: No available node types can fulfill resource request defaultdict(<class 'float'>, {'CPU': 20.0, 'GPU': 4.0}). Add suitable node types to this cluster to resolve this issue.\n"
     ]
    },
    {
     "name": "stderr",
     "output_type": "stream",
     "text": [
      "\u001b[33m(raylet)\u001b[0m [2025-04-12 20:59:05,334 E 2809 2843] (raylet) file_system_monitor.cc:116: /tmp/ray/session_2025-04-12_20-50-22_955978_2486 is over 95% full, available space: 0.845665 GB; capacity: 30 GB. Object creation will fail if spilling is required.\n",
      "\u001b[33m(raylet)\u001b[0m [2025-04-12 20:59:15,369 E 2809 2843] (raylet) file_system_monitor.cc:116: /tmp/ray/session_2025-04-12_20-50-22_955978_2486 is over 95% full, available space: 0.845665 GB; capacity: 30 GB. Object creation will fail if spilling is required.\n",
      "\u001b[33m(raylet)\u001b[0m [2025-04-12 20:59:25,392 E 2809 2843] (raylet) file_system_monitor.cc:116: /tmp/ray/session_2025-04-12_20-50-22_955978_2486 is over 95% full, available space: 0.845371 GB; capacity: 30 GB. Object creation will fail if spilling is required.\n",
      "\u001b[33m(raylet)\u001b[0m [2025-04-12 20:59:35,406 E 2809 2843] (raylet) file_system_monitor.cc:116: /tmp/ray/session_2025-04-12_20-50-22_955978_2486 is over 95% full, available space: 0.845371 GB; capacity: 30 GB. Object creation will fail if spilling is required.\n"
     ]
    },
    {
     "name": "stdout",
     "output_type": "stream",
     "text": [
      "\u001b[33m(autoscaler +9m19s)\u001b[0m Error: No available node types can fulfill resource request defaultdict(<class 'float'>, {'CPU': 20.0, 'GPU': 4.0}). Add suitable node types to this cluster to resolve this issue.\n"
     ]
    },
    {
     "name": "stderr",
     "output_type": "stream",
     "text": [
      "\u001b[33m(raylet)\u001b[0m [2025-04-12 20:59:45,436 E 2809 2843] (raylet) file_system_monitor.cc:116: /tmp/ray/session_2025-04-12_20-50-22_955978_2486 is over 95% full, available space: 0.845371 GB; capacity: 30 GB. Object creation will fail if spilling is required.\n",
      "\u001b[33m(raylet)\u001b[0m [2025-04-12 20:59:55,454 E 2809 2843] (raylet) file_system_monitor.cc:116: /tmp/ray/session_2025-04-12_20-50-22_955978_2486 is over 95% full, available space: 0.845371 GB; capacity: 30 GB. Object creation will fail if spilling is required.\n",
      "\u001b[33m(raylet)\u001b[0m [2025-04-12 21:00:05,470 E 2809 2843] (raylet) file_system_monitor.cc:116: /tmp/ray/session_2025-04-12_20-50-22_955978_2486 is over 95% full, available space: 0.845371 GB; capacity: 30 GB. Object creation will fail if spilling is required.\n"
     ]
    },
    {
     "name": "stdout",
     "output_type": "stream",
     "text": [
      "\u001b[33m(autoscaler +9m54s)\u001b[0m Error: No available node types can fulfill resource request defaultdict(<class 'float'>, {'CPU': 20.0, 'GPU': 4.0}). Add suitable node types to this cluster to resolve this issue.\n"
     ]
    },
    {
     "name": "stderr",
     "output_type": "stream",
     "text": [
      "\u001b[33m(raylet)\u001b[0m [2025-04-12 21:00:15,481 E 2809 2843] (raylet) file_system_monitor.cc:116: /tmp/ray/session_2025-04-12_20-50-22_955978_2486 is over 95% full, available space: 0.845371 GB; capacity: 30 GB. Object creation will fail if spilling is required.\n",
      "\u001b[33m(raylet)\u001b[0m [2025-04-12 21:00:25,488 E 2809 2843] (raylet) file_system_monitor.cc:116: /tmp/ray/session_2025-04-12_20-50-22_955978_2486 is over 95% full, available space: 0.845177 GB; capacity: 30 GB. Object creation will fail if spilling is required.\n",
      "\u001b[33m(raylet)\u001b[0m [2025-04-12 21:00:35,496 E 2809 2843] (raylet) file_system_monitor.cc:116: /tmp/ray/session_2025-04-12_20-50-22_955978_2486 is over 95% full, available space: 0.845177 GB; capacity: 30 GB. Object creation will fail if spilling is required.\n",
      "\u001b[33m(raylet)\u001b[0m [2025-04-12 21:00:45,506 E 2809 2843] (raylet) file_system_monitor.cc:116: /tmp/ray/session_2025-04-12_20-50-22_955978_2486 is over 95% full, available space: 0.845177 GB; capacity: 30 GB. Object creation will fail if spilling is required.\n"
     ]
    },
    {
     "name": "stdout",
     "output_type": "stream",
     "text": [
      "\u001b[33m(autoscaler +10m29s)\u001b[0m Error: No available node types can fulfill resource request defaultdict(<class 'float'>, {'CPU': 20.0, 'GPU': 4.0}). Add suitable node types to this cluster to resolve this issue.\n"
     ]
    },
    {
     "name": "stderr",
     "output_type": "stream",
     "text": [
      "\u001b[33m(raylet)\u001b[0m [2025-04-12 21:00:55,514 E 2809 2843] (raylet) file_system_monitor.cc:116: /tmp/ray/session_2025-04-12_20-50-22_955978_2486 is over 95% full, available space: 0.845173 GB; capacity: 30 GB. Object creation will fail if spilling is required.\n",
      "\u001b[33m(raylet)\u001b[0m [2025-04-12 21:01:05,523 E 2809 2843] (raylet) file_system_monitor.cc:116: /tmp/ray/session_2025-04-12_20-50-22_955978_2486 is over 95% full, available space: 0.845173 GB; capacity: 30 GB. Object creation will fail if spilling is required.\n",
      "\u001b[33m(raylet)\u001b[0m [2025-04-12 21:01:15,531 E 2809 2843] (raylet) file_system_monitor.cc:116: /tmp/ray/session_2025-04-12_20-50-22_955978_2486 is over 95% full, available space: 0.845173 GB; capacity: 30 GB. Object creation will fail if spilling is required.\n"
     ]
    },
    {
     "name": "stdout",
     "output_type": "stream",
     "text": [
      "\u001b[33m(autoscaler +11m4s)\u001b[0m Error: No available node types can fulfill resource request defaultdict(<class 'float'>, {'CPU': 20.0, 'GPU': 4.0}). Add suitable node types to this cluster to resolve this issue.\n"
     ]
    },
    {
     "name": "stderr",
     "output_type": "stream",
     "text": [
      "\u001b[33m(raylet)\u001b[0m [2025-04-12 21:01:25,568 E 2809 2843] (raylet) file_system_monitor.cc:116: /tmp/ray/session_2025-04-12_20-50-22_955978_2486 is over 95% full, available space: 0.844074 GB; capacity: 30 GB. Object creation will fail if spilling is required.\n",
      "\u001b[33m(raylet)\u001b[0m [2025-04-12 21:01:35,593 E 2809 2843] (raylet) file_system_monitor.cc:116: /tmp/ray/session_2025-04-12_20-50-22_955978_2486 is over 95% full, available space: 0.844013 GB; capacity: 30 GB. Object creation will fail if spilling is required.\n",
      "\u001b[33m(raylet)\u001b[0m [2025-04-12 21:01:45,605 E 2809 2843] (raylet) file_system_monitor.cc:116: /tmp/ray/session_2025-04-12_20-50-22_955978_2486 is over 95% full, available space: 0.844013 GB; capacity: 30 GB. Object creation will fail if spilling is required.\n",
      "\u001b[33m(raylet)\u001b[0m [2025-04-12 21:01:55,616 E 2809 2843] (raylet) file_system_monitor.cc:116: /tmp/ray/session_2025-04-12_20-50-22_955978_2486 is over 95% full, available space: 0.843945 GB; capacity: 30 GB. Object creation will fail if spilling is required.\n"
     ]
    },
    {
     "name": "stdout",
     "output_type": "stream",
     "text": [
      "\u001b[33m(autoscaler +11m39s)\u001b[0m Error: No available node types can fulfill resource request defaultdict(<class 'float'>, {'CPU': 20.0, 'GPU': 4.0}). Add suitable node types to this cluster to resolve this issue.\n"
     ]
    },
    {
     "name": "stderr",
     "output_type": "stream",
     "text": [
      "\u001b[33m(raylet)\u001b[0m [2025-04-12 21:02:05,625 E 2809 2843] (raylet) file_system_monitor.cc:116: /tmp/ray/session_2025-04-12_20-50-22_955978_2486 is over 95% full, available space: 0.843945 GB; capacity: 30 GB. Object creation will fail if spilling is required.\n",
      "\u001b[33m(raylet)\u001b[0m [2025-04-12 21:02:15,634 E 2809 2843] (raylet) file_system_monitor.cc:116: /tmp/ray/session_2025-04-12_20-50-22_955978_2486 is over 95% full, available space: 0.843945 GB; capacity: 30 GB. Object creation will fail if spilling is required.\n",
      "\u001b[33m(raylet)\u001b[0m [2025-04-12 21:02:25,643 E 2809 2843] (raylet) file_system_monitor.cc:116: /tmp/ray/session_2025-04-12_20-50-22_955978_2486 is over 95% full, available space: 0.843628 GB; capacity: 30 GB. Object creation will fail if spilling is required.\n",
      "\u001b[33m(raylet)\u001b[0m [2025-04-12 21:02:35,653 E 2809 2843] (raylet) file_system_monitor.cc:116: /tmp/ray/session_2025-04-12_20-50-22_955978_2486 is over 95% full, available space: 0.843624 GB; capacity: 30 GB. Object creation will fail if spilling is required.\n"
     ]
    },
    {
     "name": "stdout",
     "output_type": "stream",
     "text": [
      "\u001b[33m(autoscaler +12m14s)\u001b[0m Error: No available node types can fulfill resource request defaultdict(<class 'float'>, {'CPU': 20.0, 'GPU': 4.0}). Add suitable node types to this cluster to resolve this issue.\n"
     ]
    },
    {
     "name": "stderr",
     "output_type": "stream",
     "text": [
      "\u001b[33m(raylet)\u001b[0m [2025-04-12 21:02:45,662 E 2809 2843] (raylet) file_system_monitor.cc:116: /tmp/ray/session_2025-04-12_20-50-22_955978_2486 is over 95% full, available space: 0.843624 GB; capacity: 30 GB. Object creation will fail if spilling is required.\n",
      "\u001b[33m(raylet)\u001b[0m [2025-04-12 21:02:55,671 E 2809 2843] (raylet) file_system_monitor.cc:116: /tmp/ray/session_2025-04-12_20-50-22_955978_2486 is over 95% full, available space: 0.843624 GB; capacity: 30 GB. Object creation will fail if spilling is required.\n",
      "\u001b[33m(raylet)\u001b[0m [2025-04-12 21:03:05,680 E 2809 2843] (raylet) file_system_monitor.cc:116: /tmp/ray/session_2025-04-12_20-50-22_955978_2486 is over 95% full, available space: 0.843624 GB; capacity: 30 GB. Object creation will fail if spilling is required.\n"
     ]
    },
    {
     "name": "stdout",
     "output_type": "stream",
     "text": [
      "\u001b[33m(autoscaler +12m49s)\u001b[0m Error: No available node types can fulfill resource request defaultdict(<class 'float'>, {'CPU': 20.0, 'GPU': 4.0}). Add suitable node types to this cluster to resolve this issue.\n"
     ]
    },
    {
     "name": "stderr",
     "output_type": "stream",
     "text": [
      "\u001b[33m(raylet)\u001b[0m [2025-04-12 21:03:15,689 E 2809 2843] (raylet) file_system_monitor.cc:116: /tmp/ray/session_2025-04-12_20-50-22_955978_2486 is over 95% full, available space: 0.843624 GB; capacity: 30 GB. Object creation will fail if spilling is required.\n",
      "\u001b[33m(raylet)\u001b[0m [2025-04-12 21:03:25,698 E 2809 2843] (raylet) file_system_monitor.cc:116: /tmp/ray/session_2025-04-12_20-50-22_955978_2486 is over 95% full, available space: 0.843502 GB; capacity: 30 GB. Object creation will fail if spilling is required.\n",
      "\u001b[33m(raylet)\u001b[0m [2025-04-12 21:03:35,707 E 2809 2843] (raylet) file_system_monitor.cc:116: /tmp/ray/session_2025-04-12_20-50-22_955978_2486 is over 95% full, available space: 0.843502 GB; capacity: 30 GB. Object creation will fail if spilling is required.\n",
      "\u001b[33m(raylet)\u001b[0m [2025-04-12 21:03:45,716 E 2809 2843] (raylet) file_system_monitor.cc:116: /tmp/ray/session_2025-04-12_20-50-22_955978_2486 is over 95% full, available space: 0.843498 GB; capacity: 30 GB. Object creation will fail if spilling is required.\n"
     ]
    },
    {
     "name": "stdout",
     "output_type": "stream",
     "text": [
      "\u001b[33m(autoscaler +13m24s)\u001b[0m Error: No available node types can fulfill resource request defaultdict(<class 'float'>, {'CPU': 20.0, 'GPU': 4.0}). Add suitable node types to this cluster to resolve this issue.\n"
     ]
    },
    {
     "name": "stderr",
     "output_type": "stream",
     "text": [
      "\u001b[33m(raylet)\u001b[0m [2025-04-12 21:03:55,724 E 2809 2843] (raylet) file_system_monitor.cc:116: /tmp/ray/session_2025-04-12_20-50-22_955978_2486 is over 95% full, available space: 0.843498 GB; capacity: 30 GB. Object creation will fail if spilling is required.\n",
      "\u001b[33m(raylet)\u001b[0m [2025-04-12 21:04:05,741 E 2809 2843] (raylet) file_system_monitor.cc:116: /tmp/ray/session_2025-04-12_20-50-22_955978_2486 is over 95% full, available space: 0.843376 GB; capacity: 30 GB. Object creation will fail if spilling is required.\n",
      "\u001b[33m(raylet)\u001b[0m [2025-04-12 21:04:15,772 E 2809 2843] (raylet) file_system_monitor.cc:116: /tmp/ray/session_2025-04-12_20-50-22_955978_2486 is over 95% full, available space: 0.844387 GB; capacity: 30 GB. Object creation will fail if spilling is required.\n"
     ]
    },
    {
     "name": "stdout",
     "output_type": "stream",
     "text": [
      "\u001b[33m(autoscaler +13m59s)\u001b[0m Error: No available node types can fulfill resource request defaultdict(<class 'float'>, {'CPU': 20.0, 'GPU': 4.0}). Add suitable node types to this cluster to resolve this issue.\n"
     ]
    },
    {
     "name": "stderr",
     "output_type": "stream",
     "text": [
      "\u001b[33m(raylet)\u001b[0m [2025-04-12 21:04:25,787 E 2809 2843] (raylet) file_system_monitor.cc:116: /tmp/ray/session_2025-04-12_20-50-22_955978_2486 is over 95% full, available space: 0.843494 GB; capacity: 30 GB. Object creation will fail if spilling is required.\n",
      "\u001b[33m(raylet)\u001b[0m [2025-04-12 21:04:35,803 E 2809 2843] (raylet) file_system_monitor.cc:116: /tmp/ray/session_2025-04-12_20-50-22_955978_2486 is over 95% full, available space: 0.843494 GB; capacity: 30 GB. Object creation will fail if spilling is required.\n",
      "\u001b[33m(raylet)\u001b[0m [2025-04-12 21:04:45,825 E 2809 2843] (raylet) file_system_monitor.cc:116: /tmp/ray/session_2025-04-12_20-50-22_955978_2486 is over 95% full, available space: 0.843491 GB; capacity: 30 GB. Object creation will fail if spilling is required.\n",
      "\u001b[33m(raylet)\u001b[0m [2025-04-12 21:04:55,839 E 2809 2843] (raylet) file_system_monitor.cc:116: /tmp/ray/session_2025-04-12_20-50-22_955978_2486 is over 95% full, available space: 0.843491 GB; capacity: 30 GB. Object creation will fail if spilling is required.\n"
     ]
    },
    {
     "name": "stdout",
     "output_type": "stream",
     "text": [
      "\u001b[33m(autoscaler +14m34s)\u001b[0m Error: No available node types can fulfill resource request defaultdict(<class 'float'>, {'CPU': 20.0, 'GPU': 4.0}). Add suitable node types to this cluster to resolve this issue.\n"
     ]
    },
    {
     "name": "stderr",
     "output_type": "stream",
     "text": [
      "\u001b[33m(raylet)\u001b[0m [2025-04-12 21:05:05,853 E 2809 2843] (raylet) file_system_monitor.cc:116: /tmp/ray/session_2025-04-12_20-50-22_955978_2486 is over 95% full, available space: 0.84343 GB; capacity: 30 GB. Object creation will fail if spilling is required.\n",
      "\u001b[33m(raylet)\u001b[0m [2025-04-12 21:05:15,868 E 2809 2843] (raylet) file_system_monitor.cc:116: /tmp/ray/session_2025-04-12_20-50-22_955978_2486 is over 95% full, available space: 0.843426 GB; capacity: 30 GB. Object creation will fail if spilling is required.\n",
      "\u001b[33m(raylet)\u001b[0m [2025-04-12 21:05:25,880 E 2809 2843] (raylet) file_system_monitor.cc:116: /tmp/ray/session_2025-04-12_20-50-22_955978_2486 is over 95% full, available space: 0.843361 GB; capacity: 30 GB. Object creation will fail if spilling is required.\n"
     ]
    },
    {
     "name": "stdout",
     "output_type": "stream",
     "text": [
      "\u001b[33m(autoscaler +15m9s)\u001b[0m Error: No available node types can fulfill resource request defaultdict(<class 'float'>, {'CPU': 20.0, 'GPU': 4.0}). Add suitable node types to this cluster to resolve this issue.\n"
     ]
    },
    {
     "name": "stderr",
     "output_type": "stream",
     "text": [
      "\u001b[33m(raylet)\u001b[0m [2025-04-12 21:05:35,895 E 2809 2843] (raylet) file_system_monitor.cc:116: /tmp/ray/session_2025-04-12_20-50-22_955978_2486 is over 95% full, available space: 0.843361 GB; capacity: 30 GB. Object creation will fail if spilling is required.\n",
      "\u001b[33m(raylet)\u001b[0m [2025-04-12 21:05:45,946 E 2809 2843] (raylet) file_system_monitor.cc:116: /tmp/ray/session_2025-04-12_20-50-22_955978_2486 is over 95% full, available space: 0.843361 GB; capacity: 30 GB. Object creation will fail if spilling is required.\n",
      "\u001b[33m(raylet)\u001b[0m [2025-04-12 21:05:55,977 E 2809 2843] (raylet) file_system_monitor.cc:116: /tmp/ray/session_2025-04-12_20-50-22_955978_2486 is over 95% full, available space: 0.843361 GB; capacity: 30 GB. Object creation will fail if spilling is required.\n",
      "\u001b[33m(raylet)\u001b[0m [2025-04-12 21:06:05,993 E 2809 2843] (raylet) file_system_monitor.cc:116: /tmp/ray/session_2025-04-12_20-50-22_955978_2486 is over 95% full, available space: 0.843361 GB; capacity: 30 GB. Object creation will fail if spilling is required.\n"
     ]
    },
    {
     "name": "stdout",
     "output_type": "stream",
     "text": [
      "\u001b[33m(autoscaler +15m45s)\u001b[0m Error: No available node types can fulfill resource request defaultdict(<class 'float'>, {'CPU': 20.0, 'GPU': 4.0}). Add suitable node types to this cluster to resolve this issue.\n"
     ]
    },
    {
     "name": "stderr",
     "output_type": "stream",
     "text": [
      "\u001b[33m(raylet)\u001b[0m [2025-04-12 21:06:16,003 E 2809 2843] (raylet) file_system_monitor.cc:116: /tmp/ray/session_2025-04-12_20-50-22_955978_2486 is over 95% full, available space: 0.843361 GB; capacity: 30 GB. Object creation will fail if spilling is required.\n",
      "\u001b[33m(raylet)\u001b[0m [2025-04-12 21:06:26,014 E 2809 2843] (raylet) file_system_monitor.cc:116: /tmp/ray/session_2025-04-12_20-50-22_955978_2486 is over 95% full, available space: 0.8433 GB; capacity: 30 GB. Object creation will fail if spilling is required.\n",
      "\u001b[33m(raylet)\u001b[0m [2025-04-12 21:06:36,029 E 2809 2843] (raylet) file_system_monitor.cc:116: /tmp/ray/session_2025-04-12_20-50-22_955978_2486 is over 95% full, available space: 0.8433 GB; capacity: 30 GB. Object creation will fail if spilling is required.\n"
     ]
    },
    {
     "name": "stdout",
     "output_type": "stream",
     "text": [
      "\u001b[33m(autoscaler +16m20s)\u001b[0m Error: No available node types can fulfill resource request defaultdict(<class 'float'>, {'CPU': 20.0, 'GPU': 4.0}). Add suitable node types to this cluster to resolve this issue.\n"
     ]
    },
    {
     "name": "stderr",
     "output_type": "stream",
     "text": [
      "\u001b[33m(raylet)\u001b[0m [2025-04-12 21:06:46,041 E 2809 2843] (raylet) file_system_monitor.cc:116: /tmp/ray/session_2025-04-12_20-50-22_955978_2486 is over 95% full, available space: 0.843296 GB; capacity: 30 GB. Object creation will fail if spilling is required.\n",
      "\u001b[33m(raylet)\u001b[0m [2025-04-12 21:06:56,053 E 2809 2843] (raylet) file_system_monitor.cc:116: /tmp/ray/session_2025-04-12_20-50-22_955978_2486 is over 95% full, available space: 0.843296 GB; capacity: 30 GB. Object creation will fail if spilling is required.\n",
      "\u001b[33m(raylet)\u001b[0m [2025-04-12 21:07:06,067 E 2809 2843] (raylet) file_system_monitor.cc:116: /tmp/ray/session_2025-04-12_20-50-22_955978_2486 is over 95% full, available space: 0.843296 GB; capacity: 30 GB. Object creation will fail if spilling is required.\n",
      "\u001b[33m(raylet)\u001b[0m [2025-04-12 21:07:16,084 E 2809 2843] (raylet) file_system_monitor.cc:116: /tmp/ray/session_2025-04-12_20-50-22_955978_2486 is over 95% full, available space: 0.843296 GB; capacity: 30 GB. Object creation will fail if spilling is required.\n"
     ]
    },
    {
     "name": "stdout",
     "output_type": "stream",
     "text": [
      "\u001b[33m(autoscaler +16m55s)\u001b[0m Error: No available node types can fulfill resource request defaultdict(<class 'float'>, {'CPU': 20.0, 'GPU': 4.0}). Add suitable node types to this cluster to resolve this issue.\n"
     ]
    },
    {
     "name": "stderr",
     "output_type": "stream",
     "text": [
      "\u001b[33m(raylet)\u001b[0m [2025-04-12 21:07:26,096 E 2809 2843] (raylet) file_system_monitor.cc:116: /tmp/ray/session_2025-04-12_20-50-22_955978_2486 is over 95% full, available space: 0.843296 GB; capacity: 30 GB. Object creation will fail if spilling is required.\n",
      "\u001b[33m(raylet)\u001b[0m [2025-04-12 21:07:36,106 E 2809 2843] (raylet) file_system_monitor.cc:116: /tmp/ray/session_2025-04-12_20-50-22_955978_2486 is over 95% full, available space: 0.843292 GB; capacity: 30 GB. Object creation will fail if spilling is required.\n",
      "\u001b[33m(raylet)\u001b[0m [2025-04-12 21:07:46,117 E 2809 2843] (raylet) file_system_monitor.cc:116: /tmp/ray/session_2025-04-12_20-50-22_955978_2486 is over 95% full, available space: 0.843292 GB; capacity: 30 GB. Object creation will fail if spilling is required.\n"
     ]
    },
    {
     "name": "stdout",
     "output_type": "stream",
     "text": [
      "\u001b[33m(autoscaler +17m30s)\u001b[0m Error: No available node types can fulfill resource request defaultdict(<class 'float'>, {'CPU': 20.0, 'GPU': 4.0}). Add suitable node types to this cluster to resolve this issue.\n"
     ]
    },
    {
     "name": "stderr",
     "output_type": "stream",
     "text": [
      "\u001b[33m(raylet)\u001b[0m [2025-04-12 21:07:56,141 E 2809 2843] (raylet) file_system_monitor.cc:116: /tmp/ray/session_2025-04-12_20-50-22_955978_2486 is over 95% full, available space: 0.843292 GB; capacity: 30 GB. Object creation will fail if spilling is required.\n",
      "\u001b[33m(raylet)\u001b[0m [2025-04-12 21:08:06,152 E 2809 2843] (raylet) file_system_monitor.cc:116: /tmp/ray/session_2025-04-12_20-50-22_955978_2486 is over 95% full, available space: 0.843292 GB; capacity: 30 GB. Object creation will fail if spilling is required.\n",
      "\u001b[33m(raylet)\u001b[0m [2025-04-12 21:08:16,161 E 2809 2843] (raylet) file_system_monitor.cc:116: /tmp/ray/session_2025-04-12_20-50-22_955978_2486 is over 95% full, available space: 0.843288 GB; capacity: 30 GB. Object creation will fail if spilling is required.\n",
      "\u001b[33m(raylet)\u001b[0m [2025-04-12 21:08:26,170 E 2809 2843] (raylet) file_system_monitor.cc:116: /tmp/ray/session_2025-04-12_20-50-22_955978_2486 is over 95% full, available space: 0.843292 GB; capacity: 30 GB. Object creation will fail if spilling is required.\n"
     ]
    },
    {
     "name": "stdout",
     "output_type": "stream",
     "text": [
      "\u001b[33m(autoscaler +18m5s)\u001b[0m Error: No available node types can fulfill resource request defaultdict(<class 'float'>, {'CPU': 20.0, 'GPU': 4.0}). Add suitable node types to this cluster to resolve this issue.\n"
     ]
    },
    {
     "name": "stderr",
     "output_type": "stream",
     "text": [
      "\u001b[33m(raylet)\u001b[0m [2025-04-12 21:08:36,177 E 2809 2843] (raylet) file_system_monitor.cc:116: /tmp/ray/session_2025-04-12_20-50-22_955978_2486 is over 95% full, available space: 0.843288 GB; capacity: 30 GB. Object creation will fail if spilling is required.\n",
      "\u001b[33m(raylet)\u001b[0m [2025-04-12 21:08:46,187 E 2809 2843] (raylet) file_system_monitor.cc:116: /tmp/ray/session_2025-04-12_20-50-22_955978_2486 is over 95% full, available space: 0.843288 GB; capacity: 30 GB. Object creation will fail if spilling is required.\n",
      "\u001b[33m(raylet)\u001b[0m [2025-04-12 21:08:56,197 E 2809 2843] (raylet) file_system_monitor.cc:116: /tmp/ray/session_2025-04-12_20-50-22_955978_2486 is over 95% full, available space: 0.843288 GB; capacity: 30 GB. Object creation will fail if spilling is required.\n"
     ]
    },
    {
     "name": "stdout",
     "output_type": "stream",
     "text": [
      "\u001b[33m(autoscaler +18m40s)\u001b[0m Error: No available node types can fulfill resource request defaultdict(<class 'float'>, {'CPU': 20.0, 'GPU': 4.0}). Add suitable node types to this cluster to resolve this issue.\n"
     ]
    },
    {
     "name": "stderr",
     "output_type": "stream",
     "text": [
      "\u001b[33m(raylet)\u001b[0m [2025-04-12 21:09:06,211 E 2809 2843] (raylet) file_system_monitor.cc:116: /tmp/ray/session_2025-04-12_20-50-22_955978_2486 is over 95% full, available space: 0.843285 GB; capacity: 30 GB. Object creation will fail if spilling is required.\n",
      "\u001b[33m(raylet)\u001b[0m [2025-04-12 21:09:16,225 E 2809 2843] (raylet) file_system_monitor.cc:116: /tmp/ray/session_2025-04-12_20-50-22_955978_2486 is over 95% full, available space: 0.843285 GB; capacity: 30 GB. Object creation will fail if spilling is required.\n",
      "\u001b[33m(raylet)\u001b[0m [2025-04-12 21:09:26,237 E 2809 2843] (raylet) file_system_monitor.cc:116: /tmp/ray/session_2025-04-12_20-50-22_955978_2486 is over 95% full, available space: 0.84304 GB; capacity: 30 GB. Object creation will fail if spilling is required.\n",
      "\u001b[33m(raylet)\u001b[0m [2025-04-12 21:09:36,246 E 2809 2843] (raylet) file_system_monitor.cc:116: /tmp/ray/session_2025-04-12_20-50-22_955978_2486 is over 95% full, available space: 0.84304 GB; capacity: 30 GB. Object creation will fail if spilling is required.\n"
     ]
    },
    {
     "name": "stdout",
     "output_type": "stream",
     "text": [
      "\u001b[33m(autoscaler +19m15s)\u001b[0m Error: No available node types can fulfill resource request defaultdict(<class 'float'>, {'CPU': 20.0, 'GPU': 4.0}). Add suitable node types to this cluster to resolve this issue.\n"
     ]
    },
    {
     "name": "stderr",
     "output_type": "stream",
     "text": [
      "\u001b[33m(raylet)\u001b[0m [2025-04-12 21:09:46,255 E 2809 2843] (raylet) file_system_monitor.cc:116: /tmp/ray/session_2025-04-12_20-50-22_955978_2486 is over 95% full, available space: 0.843037 GB; capacity: 30 GB. Object creation will fail if spilling is required.\n",
      "\u001b[33m(raylet)\u001b[0m [2025-04-12 21:09:56,265 E 2809 2843] (raylet) file_system_monitor.cc:116: /tmp/ray/session_2025-04-12_20-50-22_955978_2486 is over 95% full, available space: 0.843037 GB; capacity: 30 GB. Object creation will fail if spilling is required.\n",
      "\u001b[33m(raylet)\u001b[0m [2025-04-12 21:10:06,275 E 2809 2843] (raylet) file_system_monitor.cc:116: /tmp/ray/session_2025-04-12_20-50-22_955978_2486 is over 95% full, available space: 0.843037 GB; capacity: 30 GB. Object creation will fail if spilling is required.\n"
     ]
    },
    {
     "name": "stdout",
     "output_type": "stream",
     "text": [
      "\u001b[33m(autoscaler +19m50s)\u001b[0m Error: No available node types can fulfill resource request defaultdict(<class 'float'>, {'CPU': 20.0, 'GPU': 4.0}). Add suitable node types to this cluster to resolve this issue.\n"
     ]
    },
    {
     "name": "stderr",
     "output_type": "stream",
     "text": [
      "\u001b[33m(raylet)\u001b[0m [2025-04-12 21:10:16,284 E 2809 2843] (raylet) file_system_monitor.cc:116: /tmp/ray/session_2025-04-12_20-50-22_955978_2486 is over 95% full, available space: 0.843037 GB; capacity: 30 GB. Object creation will fail if spilling is required.\n",
      "\u001b[33m(raylet)\u001b[0m [2025-04-12 21:10:26,294 E 2809 2843] (raylet) file_system_monitor.cc:116: /tmp/ray/session_2025-04-12_20-50-22_955978_2486 is over 95% full, available space: 0.843033 GB; capacity: 30 GB. Object creation will fail if spilling is required.\n",
      "\u001b[33m(raylet)\u001b[0m [2025-04-12 21:10:36,303 E 2809 2843] (raylet) file_system_monitor.cc:116: /tmp/ray/session_2025-04-12_20-50-22_955978_2486 is over 95% full, available space: 0.843033 GB; capacity: 30 GB. Object creation will fail if spilling is required.\n",
      "\u001b[33m(raylet)\u001b[0m [2025-04-12 21:10:46,312 E 2809 2843] (raylet) file_system_monitor.cc:116: /tmp/ray/session_2025-04-12_20-50-22_955978_2486 is over 95% full, available space: 0.843033 GB; capacity: 30 GB. Object creation will fail if spilling is required.\n"
     ]
    },
    {
     "name": "stdout",
     "output_type": "stream",
     "text": [
      "\u001b[33m(autoscaler +20m25s)\u001b[0m Error: No available node types can fulfill resource request defaultdict(<class 'float'>, {'CPU': 20.0, 'GPU': 4.0}). Add suitable node types to this cluster to resolve this issue.\n"
     ]
    },
    {
     "name": "stderr",
     "output_type": "stream",
     "text": [
      "\u001b[33m(raylet)\u001b[0m [2025-04-12 21:10:56,321 E 2809 2843] (raylet) file_system_monitor.cc:116: /tmp/ray/session_2025-04-12_20-50-22_955978_2486 is over 95% full, available space: 0.843037 GB; capacity: 30 GB. Object creation will fail if spilling is required.\n",
      "\u001b[33m(raylet)\u001b[0m [2025-04-12 21:11:06,332 E 2809 2843] (raylet) file_system_monitor.cc:116: /tmp/ray/session_2025-04-12_20-50-22_955978_2486 is over 95% full, available space: 0.843033 GB; capacity: 30 GB. Object creation will fail if spilling is required.\n",
      "\u001b[33m(raylet)\u001b[0m [2025-04-12 21:11:16,342 E 2809 2843] (raylet) file_system_monitor.cc:116: /tmp/ray/session_2025-04-12_20-50-22_955978_2486 is over 95% full, available space: 0.843033 GB; capacity: 30 GB. Object creation will fail if spilling is required.\n"
     ]
    },
    {
     "name": "stdout",
     "output_type": "stream",
     "text": [
      "\u001b[33m(autoscaler +21m0s)\u001b[0m Error: No available node types can fulfill resource request defaultdict(<class 'float'>, {'CPU': 20.0, 'GPU': 4.0}). Add suitable node types to this cluster to resolve this issue.\n"
     ]
    },
    {
     "name": "stderr",
     "output_type": "stream",
     "text": [
      "\u001b[33m(raylet)\u001b[0m [2025-04-12 21:11:26,360 E 2809 2843] (raylet) file_system_monitor.cc:116: /tmp/ray/session_2025-04-12_20-50-22_955978_2486 is over 95% full, available space: 0.841629 GB; capacity: 30 GB. Object creation will fail if spilling is required.\n",
      "\u001b[33m(raylet)\u001b[0m [2025-04-12 21:11:36,381 E 2809 2843] (raylet) file_system_monitor.cc:116: /tmp/ray/session_2025-04-12_20-50-22_955978_2486 is over 95% full, available space: 0.841629 GB; capacity: 30 GB. Object creation will fail if spilling is required.\n",
      "\u001b[33m(raylet)\u001b[0m [2025-04-12 21:11:46,407 E 2809 2843] (raylet) file_system_monitor.cc:116: /tmp/ray/session_2025-04-12_20-50-22_955978_2486 is over 95% full, available space: 0.841629 GB; capacity: 30 GB. Object creation will fail if spilling is required.\n",
      "\u001b[33m(raylet)\u001b[0m [2025-04-12 21:11:56,432 E 2809 2843] (raylet) file_system_monitor.cc:116: /tmp/ray/session_2025-04-12_20-50-22_955978_2486 is over 95% full, available space: 0.841629 GB; capacity: 30 GB. Object creation will fail if spilling is required.\n"
     ]
    },
    {
     "name": "stdout",
     "output_type": "stream",
     "text": [
      "\u001b[33m(autoscaler +21m35s)\u001b[0m Error: No available node types can fulfill resource request defaultdict(<class 'float'>, {'CPU': 20.0, 'GPU': 4.0}). Add suitable node types to this cluster to resolve this issue.\n"
     ]
    },
    {
     "name": "stderr",
     "output_type": "stream",
     "text": [
      "\u001b[33m(raylet)\u001b[0m [2025-04-12 21:12:06,448 E 2809 2843] (raylet) file_system_monitor.cc:116: /tmp/ray/session_2025-04-12_20-50-22_955978_2486 is over 95% full, available space: 0.841618 GB; capacity: 30 GB. Object creation will fail if spilling is required.\n",
      "\u001b[33m(raylet)\u001b[0m [2025-04-12 21:12:16,460 E 2809 2843] (raylet) file_system_monitor.cc:116: /tmp/ray/session_2025-04-12_20-50-22_955978_2486 is over 95% full, available space: 0.841618 GB; capacity: 30 GB. Object creation will fail if spilling is required.\n",
      "\u001b[33m(raylet)\u001b[0m [2025-04-12 21:12:26,470 E 2809 2843] (raylet) file_system_monitor.cc:116: /tmp/ray/session_2025-04-12_20-50-22_955978_2486 is over 95% full, available space: 0.841496 GB; capacity: 30 GB. Object creation will fail if spilling is required.\n"
     ]
    },
    {
     "name": "stdout",
     "output_type": "stream",
     "text": [
      "\u001b[33m(autoscaler +22m10s)\u001b[0m Error: No available node types can fulfill resource request defaultdict(<class 'float'>, {'CPU': 20.0, 'GPU': 4.0}). Add suitable node types to this cluster to resolve this issue.\n"
     ]
    },
    {
     "name": "stderr",
     "output_type": "stream",
     "text": [
      "\u001b[33m(raylet)\u001b[0m [2025-04-12 21:12:36,480 E 2809 2843] (raylet) file_system_monitor.cc:116: /tmp/ray/session_2025-04-12_20-50-22_955978_2486 is over 95% full, available space: 0.841488 GB; capacity: 30 GB. Object creation will fail if spilling is required.\n",
      "\u001b[33m(raylet)\u001b[0m [2025-04-12 21:12:46,499 E 2809 2843] (raylet) file_system_monitor.cc:116: /tmp/ray/session_2025-04-12_20-50-22_955978_2486 is over 95% full, available space: 0.841488 GB; capacity: 30 GB. Object creation will fail if spilling is required.\n",
      "\u001b[33m(raylet)\u001b[0m [2025-04-12 21:12:56,516 E 2809 2843] (raylet) file_system_monitor.cc:116: /tmp/ray/session_2025-04-12_20-50-22_955978_2486 is over 95% full, available space: 0.841488 GB; capacity: 30 GB. Object creation will fail if spilling is required.\n",
      "\u001b[33m(raylet)\u001b[0m [2025-04-12 21:13:06,529 E 2809 2843] (raylet) file_system_monitor.cc:116: /tmp/ray/session_2025-04-12_20-50-22_955978_2486 is over 95% full, available space: 0.841484 GB; capacity: 30 GB. Object creation will fail if spilling is required.\n"
     ]
    },
    {
     "name": "stdout",
     "output_type": "stream",
     "text": [
      "\u001b[33m(autoscaler +22m45s)\u001b[0m Error: No available node types can fulfill resource request defaultdict(<class 'float'>, {'CPU': 20.0, 'GPU': 4.0}). Add suitable node types to this cluster to resolve this issue.\n"
     ]
    },
    {
     "name": "stderr",
     "output_type": "stream",
     "text": [
      "\u001b[33m(raylet)\u001b[0m [2025-04-12 21:13:16,543 E 2809 2843] (raylet) file_system_monitor.cc:116: /tmp/ray/session_2025-04-12_20-50-22_955978_2486 is over 95% full, available space: 0.84148 GB; capacity: 30 GB. Object creation will fail if spilling is required.\n",
      "\u001b[33m(raylet)\u001b[0m [2025-04-12 21:13:26,557 E 2809 2843] (raylet) file_system_monitor.cc:116: /tmp/ray/session_2025-04-12_20-50-22_955978_2486 is over 95% full, available space: 0.84148 GB; capacity: 30 GB. Object creation will fail if spilling is required.\n",
      "\u001b[33m(raylet)\u001b[0m [2025-04-12 21:13:36,568 E 2809 2843] (raylet) file_system_monitor.cc:116: /tmp/ray/session_2025-04-12_20-50-22_955978_2486 is over 95% full, available space: 0.84148 GB; capacity: 30 GB. Object creation will fail if spilling is required.\n"
     ]
    },
    {
     "name": "stdout",
     "output_type": "stream",
     "text": [
      "\u001b[33m(autoscaler +23m21s)\u001b[0m Error: No available node types can fulfill resource request defaultdict(<class 'float'>, {'CPU': 20.0, 'GPU': 4.0}). Add suitable node types to this cluster to resolve this issue.\n"
     ]
    },
    {
     "name": "stderr",
     "output_type": "stream",
     "text": [
      "\u001b[33m(raylet)\u001b[0m [2025-04-12 21:13:46,578 E 2809 2843] (raylet) file_system_monitor.cc:116: /tmp/ray/session_2025-04-12_20-50-22_955978_2486 is over 95% full, available space: 0.84148 GB; capacity: 30 GB. Object creation will fail if spilling is required.\n",
      "\u001b[33m(raylet)\u001b[0m [2025-04-12 21:13:56,586 E 2809 2843] (raylet) file_system_monitor.cc:116: /tmp/ray/session_2025-04-12_20-50-22_955978_2486 is over 95% full, available space: 0.84148 GB; capacity: 30 GB. Object creation will fail if spilling is required.\n",
      "\u001b[33m(raylet)\u001b[0m [2025-04-12 21:14:06,594 E 2809 2843] (raylet) file_system_monitor.cc:116: /tmp/ray/session_2025-04-12_20-50-22_955978_2486 is over 95% full, available space: 0.841419 GB; capacity: 30 GB. Object creation will fail if spilling is required.\n",
      "\u001b[33m(raylet)\u001b[0m [2025-04-12 21:14:16,602 E 2809 2843] (raylet) file_system_monitor.cc:116: /tmp/ray/session_2025-04-12_20-50-22_955978_2486 is over 95% full, available space: 0.841419 GB; capacity: 30 GB. Object creation will fail if spilling is required.\n"
     ]
    },
    {
     "name": "stdout",
     "output_type": "stream",
     "text": [
      "\u001b[33m(autoscaler +23m56s)\u001b[0m Error: No available node types can fulfill resource request defaultdict(<class 'float'>, {'CPU': 20.0, 'GPU': 4.0}). Add suitable node types to this cluster to resolve this issue.\n"
     ]
    },
    {
     "name": "stderr",
     "output_type": "stream",
     "text": [
      "\u001b[33m(raylet)\u001b[0m [2025-04-12 21:14:26,611 E 2809 2843] (raylet) file_system_monitor.cc:116: /tmp/ray/session_2025-04-12_20-50-22_955978_2486 is over 95% full, available space: 0.841419 GB; capacity: 30 GB. Object creation will fail if spilling is required.\n",
      "\u001b[33m(raylet)\u001b[0m [2025-04-12 21:14:36,631 E 2809 2843] (raylet) file_system_monitor.cc:116: /tmp/ray/session_2025-04-12_20-50-22_955978_2486 is over 95% full, available space: 0.841415 GB; capacity: 30 GB. Object creation will fail if spilling is required.\n",
      "\u001b[33m(raylet)\u001b[0m [2025-04-12 21:14:46,650 E 2809 2843] (raylet) file_system_monitor.cc:116: /tmp/ray/session_2025-04-12_20-50-22_955978_2486 is over 95% full, available space: 0.841415 GB; capacity: 30 GB. Object creation will fail if spilling is required.\n"
     ]
    },
    {
     "name": "stdout",
     "output_type": "stream",
     "text": [
      "\u001b[33m(autoscaler +24m31s)\u001b[0m Error: No available node types can fulfill resource request defaultdict(<class 'float'>, {'CPU': 20.0, 'GPU': 4.0}). Add suitable node types to this cluster to resolve this issue.\n"
     ]
    },
    {
     "name": "stderr",
     "output_type": "stream",
     "text": [
      "\u001b[33m(raylet)\u001b[0m [2025-04-12 21:14:56,670 E 2809 2843] (raylet) file_system_monitor.cc:116: /tmp/ray/session_2025-04-12_20-50-22_955978_2486 is over 95% full, available space: 0.841412 GB; capacity: 30 GB. Object creation will fail if spilling is required.\n",
      "\u001b[33m(raylet)\u001b[0m [2025-04-12 21:15:06,688 E 2809 2843] (raylet) file_system_monitor.cc:116: /tmp/ray/session_2025-04-12_20-50-22_955978_2486 is over 95% full, available space: 0.841412 GB; capacity: 30 GB. Object creation will fail if spilling is required.\n",
      "\u001b[33m(raylet)\u001b[0m [2025-04-12 21:15:16,707 E 2809 2843] (raylet) file_system_monitor.cc:116: /tmp/ray/session_2025-04-12_20-50-22_955978_2486 is over 95% full, available space: 0.841412 GB; capacity: 30 GB. Object creation will fail if spilling is required.\n",
      "\u001b[33m(raylet)\u001b[0m [2025-04-12 21:15:26,726 E 2809 2843] (raylet) file_system_monitor.cc:116: /tmp/ray/session_2025-04-12_20-50-22_955978_2486 is over 95% full, available space: 0.840679 GB; capacity: 30 GB. Object creation will fail if spilling is required.\n"
     ]
    },
    {
     "name": "stdout",
     "output_type": "stream",
     "text": [
      "\u001b[33m(autoscaler +25m6s)\u001b[0m Error: No available node types can fulfill resource request defaultdict(<class 'float'>, {'CPU': 20.0, 'GPU': 4.0}). Add suitable node types to this cluster to resolve this issue.\n"
     ]
    },
    {
     "name": "stderr",
     "output_type": "stream",
     "text": [
      "\u001b[33m(raylet)\u001b[0m [2025-04-12 21:15:36,745 E 2809 2843] (raylet) file_system_monitor.cc:116: /tmp/ray/session_2025-04-12_20-50-22_955978_2486 is over 95% full, available space: 0.840679 GB; capacity: 30 GB. Object creation will fail if spilling is required.\n",
      "\u001b[33m(raylet)\u001b[0m [2025-04-12 21:15:46,764 E 2809 2843] (raylet) file_system_monitor.cc:116: /tmp/ray/session_2025-04-12_20-50-22_955978_2486 is over 95% full, available space: 0.840679 GB; capacity: 30 GB. Object creation will fail if spilling is required.\n",
      "\u001b[33m(raylet)\u001b[0m [2025-04-12 21:15:56,808 E 2809 2843] (raylet) file_system_monitor.cc:116: /tmp/ray/session_2025-04-12_20-50-22_955978_2486 is over 95% full, available space: 0.840679 GB; capacity: 30 GB. Object creation will fail if spilling is required.\n"
     ]
    },
    {
     "name": "stdout",
     "output_type": "stream",
     "text": [
      "\u001b[33m(autoscaler +25m41s)\u001b[0m Error: No available node types can fulfill resource request defaultdict(<class 'float'>, {'CPU': 20.0, 'GPU': 4.0}). Add suitable node types to this cluster to resolve this issue.\n"
     ]
    },
    {
     "name": "stderr",
     "output_type": "stream",
     "text": [
      "\u001b[33m(raylet)\u001b[0m [2025-04-12 21:16:06,875 E 2809 2843] (raylet) file_system_monitor.cc:116: /tmp/ray/session_2025-04-12_20-50-22_955978_2486 is over 95% full, available space: 0.840672 GB; capacity: 30 GB. Object creation will fail if spilling is required.\n",
      "\u001b[33m(raylet)\u001b[0m [2025-04-12 21:16:16,905 E 2809 2843] (raylet) file_system_monitor.cc:116: /tmp/ray/session_2025-04-12_20-50-22_955978_2486 is over 95% full, available space: 0.840672 GB; capacity: 30 GB. Object creation will fail if spilling is required.\n",
      "\u001b[33m(raylet)\u001b[0m [2025-04-12 21:16:26,931 E 2809 2843] (raylet) file_system_monitor.cc:116: /tmp/ray/session_2025-04-12_20-50-22_955978_2486 is over 95% full, available space: 0.840672 GB; capacity: 30 GB. Object creation will fail if spilling is required.\n",
      "\u001b[33m(raylet)\u001b[0m [2025-04-12 21:16:36,949 E 2809 2843] (raylet) file_system_monitor.cc:116: /tmp/ray/session_2025-04-12_20-50-22_955978_2486 is over 95% full, available space: 0.840672 GB; capacity: 30 GB. Object creation will fail if spilling is required.\n"
     ]
    },
    {
     "name": "stdout",
     "output_type": "stream",
     "text": [
      "\u001b[33m(autoscaler +26m16s)\u001b[0m Error: No available node types can fulfill resource request defaultdict(<class 'float'>, {'CPU': 20.0, 'GPU': 4.0}). Add suitable node types to this cluster to resolve this issue.\n"
     ]
    },
    {
     "name": "stderr",
     "output_type": "stream",
     "text": [
      "\u001b[33m(raylet)\u001b[0m [2025-04-12 21:16:46,959 E 2809 2843] (raylet) file_system_monitor.cc:116: /tmp/ray/session_2025-04-12_20-50-22_955978_2486 is over 95% full, available space: 0.840672 GB; capacity: 30 GB. Object creation will fail if spilling is required.\n",
      "\u001b[33m(raylet)\u001b[0m [2025-04-12 21:16:56,969 E 2809 2843] (raylet) file_system_monitor.cc:116: /tmp/ray/session_2025-04-12_20-50-22_955978_2486 is over 95% full, available space: 0.840427 GB; capacity: 30 GB. Object creation will fail if spilling is required.\n",
      "\u001b[33m(raylet)\u001b[0m [2025-04-12 21:17:06,977 E 2809 2843] (raylet) file_system_monitor.cc:116: /tmp/ray/session_2025-04-12_20-50-22_955978_2486 is over 95% full, available space: 0.840427 GB; capacity: 30 GB. Object creation will fail if spilling is required.\n"
     ]
    },
    {
     "name": "stdout",
     "output_type": "stream",
     "text": [
      "\u001b[33m(autoscaler +26m51s)\u001b[0m Error: No available node types can fulfill resource request defaultdict(<class 'float'>, {'CPU': 20.0, 'GPU': 4.0}). Add suitable node types to this cluster to resolve this issue.\n"
     ]
    },
    {
     "name": "stderr",
     "output_type": "stream",
     "text": [
      "\u001b[33m(raylet)\u001b[0m [2025-04-12 21:17:16,986 E 2809 2843] (raylet) file_system_monitor.cc:116: /tmp/ray/session_2025-04-12_20-50-22_955978_2486 is over 95% full, available space: 0.840427 GB; capacity: 30 GB. Object creation will fail if spilling is required.\n",
      "\u001b[33m(raylet)\u001b[0m [2025-04-12 21:17:26,995 E 2809 2843] (raylet) file_system_monitor.cc:116: /tmp/ray/session_2025-04-12_20-50-22_955978_2486 is over 95% full, available space: 0.840427 GB; capacity: 30 GB. Object creation will fail if spilling is required.\n",
      "\u001b[33m(raylet)\u001b[0m [2025-04-12 21:17:37,007 E 2809 2843] (raylet) file_system_monitor.cc:116: /tmp/ray/session_2025-04-12_20-50-22_955978_2486 is over 95% full, available space: 0.840221 GB; capacity: 30 GB. Object creation will fail if spilling is required.\n",
      "\u001b[33m(raylet)\u001b[0m [2025-04-12 21:17:47,026 E 2809 2843] (raylet) file_system_monitor.cc:116: /tmp/ray/session_2025-04-12_20-50-22_955978_2486 is over 95% full, available space: 0.840221 GB; capacity: 30 GB. Object creation will fail if spilling is required.\n"
     ]
    },
    {
     "name": "stdout",
     "output_type": "stream",
     "text": [
      "\u001b[33m(autoscaler +27m26s)\u001b[0m Error: No available node types can fulfill resource request defaultdict(<class 'float'>, {'CPU': 20.0, 'GPU': 4.0}). Add suitable node types to this cluster to resolve this issue.\n"
     ]
    },
    {
     "name": "stderr",
     "output_type": "stream",
     "text": [
      "\u001b[33m(raylet)\u001b[0m [2025-04-12 21:17:57,037 E 2809 2843] (raylet) file_system_monitor.cc:116: /tmp/ray/session_2025-04-12_20-50-22_955978_2486 is over 95% full, available space: 0.840221 GB; capacity: 30 GB. Object creation will fail if spilling is required.\n",
      "\u001b[33m(raylet)\u001b[0m [2025-04-12 21:18:07,047 E 2809 2843] (raylet) file_system_monitor.cc:116: /tmp/ray/session_2025-04-12_20-50-22_955978_2486 is over 95% full, available space: 0.840221 GB; capacity: 30 GB. Object creation will fail if spilling is required.\n",
      "\u001b[33m(raylet)\u001b[0m [2025-04-12 21:18:17,061 E 2809 2843] (raylet) file_system_monitor.cc:116: /tmp/ray/session_2025-04-12_20-50-22_955978_2486 is over 95% full, available space: 0.840221 GB; capacity: 30 GB. Object creation will fail if spilling is required.\n"
     ]
    },
    {
     "name": "stdout",
     "output_type": "stream",
     "text": [
      "\u001b[33m(autoscaler +28m1s)\u001b[0m Error: No available node types can fulfill resource request defaultdict(<class 'float'>, {'CPU': 20.0, 'GPU': 4.0}). Add suitable node types to this cluster to resolve this issue.\n"
     ]
    },
    {
     "name": "stderr",
     "output_type": "stream",
     "text": [
      "\u001b[33m(raylet)\u001b[0m [2025-04-12 21:18:27,082 E 2809 2843] (raylet) file_system_monitor.cc:116: /tmp/ray/session_2025-04-12_20-50-22_955978_2486 is over 95% full, available space: 0.840221 GB; capacity: 30 GB. Object creation will fail if spilling is required.\n",
      "\u001b[33m(raylet)\u001b[0m [2025-04-12 21:18:37,093 E 2809 2843] (raylet) file_system_monitor.cc:116: /tmp/ray/session_2025-04-12_20-50-22_955978_2486 is over 95% full, available space: 0.840221 GB; capacity: 30 GB. Object creation will fail if spilling is required.\n",
      "\u001b[33m(raylet)\u001b[0m [2025-04-12 21:18:47,104 E 2809 2843] (raylet) file_system_monitor.cc:116: /tmp/ray/session_2025-04-12_20-50-22_955978_2486 is over 95% full, available space: 0.840088 GB; capacity: 30 GB. Object creation will fail if spilling is required.\n",
      "\u001b[33m(raylet)\u001b[0m [2025-04-12 21:18:57,114 E 2809 2843] (raylet) file_system_monitor.cc:116: /tmp/ray/session_2025-04-12_20-50-22_955978_2486 is over 95% full, available space: 0.840084 GB; capacity: 30 GB. Object creation will fail if spilling is required.\n"
     ]
    },
    {
     "name": "stdout",
     "output_type": "stream",
     "text": [
      "\u001b[33m(autoscaler +28m36s)\u001b[0m Error: No available node types can fulfill resource request defaultdict(<class 'float'>, {'CPU': 20.0, 'GPU': 4.0}). Add suitable node types to this cluster to resolve this issue.\n"
     ]
    },
    {
     "name": "stderr",
     "output_type": "stream",
     "text": [
      "\u001b[33m(raylet)\u001b[0m [2025-04-12 21:19:07,123 E 2809 2843] (raylet) file_system_monitor.cc:116: /tmp/ray/session_2025-04-12_20-50-22_955978_2486 is over 95% full, available space: 0.840084 GB; capacity: 30 GB. Object creation will fail if spilling is required.\n",
      "\u001b[33m(raylet)\u001b[0m [2025-04-12 21:19:17,134 E 2809 2843] (raylet) file_system_monitor.cc:116: /tmp/ray/session_2025-04-12_20-50-22_955978_2486 is over 95% full, available space: 0.84013 GB; capacity: 30 GB. Object creation will fail if spilling is required.\n",
      "\u001b[33m(raylet)\u001b[0m [2025-04-12 21:19:27,145 E 2809 2843] (raylet) file_system_monitor.cc:116: /tmp/ray/session_2025-04-12_20-50-22_955978_2486 is over 95% full, available space: 0.84013 GB; capacity: 30 GB. Object creation will fail if spilling is required.\n"
     ]
    },
    {
     "name": "stdout",
     "output_type": "stream",
     "text": [
      "\u001b[33m(autoscaler +29m11s)\u001b[0m Error: No available node types can fulfill resource request defaultdict(<class 'float'>, {'CPU': 20.0, 'GPU': 4.0}). Add suitable node types to this cluster to resolve this issue.\n"
     ]
    },
    {
     "name": "stderr",
     "output_type": "stream",
     "text": [
      "\u001b[33m(raylet)\u001b[0m [2025-04-12 21:19:37,167 E 2809 2843] (raylet) file_system_monitor.cc:116: /tmp/ray/session_2025-04-12_20-50-22_955978_2486 is over 95% full, available space: 0.84013 GB; capacity: 30 GB. Object creation will fail if spilling is required.\n",
      "\u001b[33m(raylet)\u001b[0m [2025-04-12 21:19:47,188 E 2809 2843] (raylet) file_system_monitor.cc:116: /tmp/ray/session_2025-04-12_20-50-22_955978_2486 is over 95% full, available space: 0.84013 GB; capacity: 30 GB. Object creation will fail if spilling is required.\n",
      "\u001b[33m(raylet)\u001b[0m [2025-04-12 21:19:57,205 E 2809 2843] (raylet) file_system_monitor.cc:116: /tmp/ray/session_2025-04-12_20-50-22_955978_2486 is over 95% full, available space: 0.840687 GB; capacity: 30 GB. Object creation will fail if spilling is required.\n",
      "\u001b[33m(raylet)\u001b[0m [2025-04-12 21:20:07,221 E 2809 2843] (raylet) file_system_monitor.cc:116: /tmp/ray/session_2025-04-12_20-50-22_955978_2486 is over 95% full, available space: 0.840687 GB; capacity: 30 GB. Object creation will fail if spilling is required.\n"
     ]
    },
    {
     "name": "stdout",
     "output_type": "stream",
     "text": [
      "\u001b[33m(autoscaler +29m46s)\u001b[0m Error: No available node types can fulfill resource request defaultdict(<class 'float'>, {'CPU': 20.0, 'GPU': 4.0}). Add suitable node types to this cluster to resolve this issue.\n"
     ]
    },
    {
     "name": "stderr",
     "output_type": "stream",
     "text": [
      "\u001b[33m(raylet)\u001b[0m [2025-04-12 21:20:17,263 E 2809 2843] (raylet) file_system_monitor.cc:116: /tmp/ray/session_2025-04-12_20-50-22_955978_2486 is over 95% full, available space: 0.840652 GB; capacity: 30 GB. Object creation will fail if spilling is required.\n",
      "\u001b[33m(raylet)\u001b[0m [2025-04-12 21:20:27,293 E 2809 2843] (raylet) file_system_monitor.cc:116: /tmp/ray/session_2025-04-12_20-50-22_955978_2486 is over 95% full, available space: 0.840569 GB; capacity: 30 GB. Object creation will fail if spilling is required.\n",
      "\u001b[33m(raylet)\u001b[0m [2025-04-12 21:20:37,312 E 2809 2843] (raylet) file_system_monitor.cc:116: /tmp/ray/session_2025-04-12_20-50-22_955978_2486 is over 95% full, available space: 0.840565 GB; capacity: 30 GB. Object creation will fail if spilling is required.\n"
     ]
    },
    {
     "name": "stdout",
     "output_type": "stream",
     "text": [
      "\u001b[33m(autoscaler +30m22s)\u001b[0m Error: No available node types can fulfill resource request defaultdict(<class 'float'>, {'CPU': 20.0, 'GPU': 4.0}). Add suitable node types to this cluster to resolve this issue.\n"
     ]
    },
    {
     "name": "stderr",
     "output_type": "stream",
     "text": [
      "\u001b[33m(raylet)\u001b[0m [2025-04-12 21:20:47,327 E 2809 2843] (raylet) file_system_monitor.cc:116: /tmp/ray/session_2025-04-12_20-50-22_955978_2486 is over 95% full, available space: 0.840565 GB; capacity: 30 GB. Object creation will fail if spilling is required.\n",
      "\u001b[33m(raylet)\u001b[0m [2025-04-12 21:20:57,338 E 2809 2843] (raylet) file_system_monitor.cc:116: /tmp/ray/session_2025-04-12_20-50-22_955978_2486 is over 95% full, available space: 0.840565 GB; capacity: 30 GB. Object creation will fail if spilling is required.\n",
      "\u001b[33m(raylet)\u001b[0m [2025-04-12 21:21:07,351 E 2809 2843] (raylet) file_system_monitor.cc:116: /tmp/ray/session_2025-04-12_20-50-22_955978_2486 is over 95% full, available space: 0.840565 GB; capacity: 30 GB. Object creation will fail if spilling is required.\n",
      "\u001b[33m(raylet)\u001b[0m [2025-04-12 21:21:17,364 E 2809 2843] (raylet) file_system_monitor.cc:116: /tmp/ray/session_2025-04-12_20-50-22_955978_2486 is over 95% full, available space: 0.840565 GB; capacity: 30 GB. Object creation will fail if spilling is required.\n"
     ]
    },
    {
     "name": "stdout",
     "output_type": "stream",
     "text": [
      "\u001b[33m(autoscaler +30m57s)\u001b[0m Error: No available node types can fulfill resource request defaultdict(<class 'float'>, {'CPU': 20.0, 'GPU': 4.0}). Add suitable node types to this cluster to resolve this issue.\n"
     ]
    },
    {
     "name": "stderr",
     "output_type": "stream",
     "text": [
      "\u001b[33m(raylet)\u001b[0m [2025-04-12 21:21:27,377 E 2809 2843] (raylet) file_system_monitor.cc:116: /tmp/ray/session_2025-04-12_20-50-22_955978_2486 is over 95% full, available space: 0.839222 GB; capacity: 30 GB. Object creation will fail if spilling is required.\n",
      "\u001b[33m(raylet)\u001b[0m [2025-04-12 21:21:37,390 E 2809 2843] (raylet) file_system_monitor.cc:116: /tmp/ray/session_2025-04-12_20-50-22_955978_2486 is over 95% full, available space: 0.839222 GB; capacity: 30 GB. Object creation will fail if spilling is required.\n",
      "\u001b[33m(raylet)\u001b[0m [2025-04-12 21:21:47,402 E 2809 2843] (raylet) file_system_monitor.cc:116: /tmp/ray/session_2025-04-12_20-50-22_955978_2486 is over 95% full, available space: 0.839218 GB; capacity: 30 GB. Object creation will fail if spilling is required.\n"
     ]
    },
    {
     "name": "stdout",
     "output_type": "stream",
     "text": [
      "\u001b[33m(autoscaler +31m32s)\u001b[0m Error: No available node types can fulfill resource request defaultdict(<class 'float'>, {'CPU': 20.0, 'GPU': 4.0}). Add suitable node types to this cluster to resolve this issue.\n"
     ]
    },
    {
     "name": "stderr",
     "output_type": "stream",
     "text": [
      "\u001b[33m(raylet)\u001b[0m [2025-04-12 21:21:57,410 E 2809 2843] (raylet) file_system_monitor.cc:116: /tmp/ray/session_2025-04-12_20-50-22_955978_2486 is over 95% full, available space: 0.839218 GB; capacity: 30 GB. Object creation will fail if spilling is required.\n",
      "\u001b[33m(raylet)\u001b[0m [2025-04-12 21:22:07,420 E 2809 2843] (raylet) file_system_monitor.cc:116: /tmp/ray/session_2025-04-12_20-50-22_955978_2486 is over 95% full, available space: 0.839218 GB; capacity: 30 GB. Object creation will fail if spilling is required.\n",
      "\u001b[33m(raylet)\u001b[0m [2025-04-12 21:22:17,430 E 2809 2843] (raylet) file_system_monitor.cc:116: /tmp/ray/session_2025-04-12_20-50-22_955978_2486 is over 95% full, available space: 0.839218 GB; capacity: 30 GB. Object creation will fail if spilling is required.\n",
      "\u001b[33m(raylet)\u001b[0m [2025-04-12 21:22:27,441 E 2809 2843] (raylet) file_system_monitor.cc:116: /tmp/ray/session_2025-04-12_20-50-22_955978_2486 is over 95% full, available space: 0.83873 GB; capacity: 30 GB. Object creation will fail if spilling is required.\n"
     ]
    },
    {
     "name": "stdout",
     "output_type": "stream",
     "text": [
      "\u001b[33m(autoscaler +32m7s)\u001b[0m Error: No available node types can fulfill resource request defaultdict(<class 'float'>, {'CPU': 20.0, 'GPU': 4.0}). Add suitable node types to this cluster to resolve this issue.\n"
     ]
    },
    {
     "name": "stderr",
     "output_type": "stream",
     "text": [
      "\u001b[33m(raylet)\u001b[0m [2025-04-12 21:22:37,451 E 2809 2843] (raylet) file_system_monitor.cc:116: /tmp/ray/session_2025-04-12_20-50-22_955978_2486 is over 95% full, available space: 0.838726 GB; capacity: 30 GB. Object creation will fail if spilling is required.\n",
      "\u001b[33m(raylet)\u001b[0m [2025-04-12 21:22:47,468 E 2809 2843] (raylet) file_system_monitor.cc:116: /tmp/ray/session_2025-04-12_20-50-22_955978_2486 is over 95% full, available space: 0.838726 GB; capacity: 30 GB. Object creation will fail if spilling is required.\n",
      "\u001b[33m(raylet)\u001b[0m [2025-04-12 21:22:57,497 E 2809 2843] (raylet) file_system_monitor.cc:116: /tmp/ray/session_2025-04-12_20-50-22_955978_2486 is over 95% full, available space: 0.838726 GB; capacity: 30 GB. Object creation will fail if spilling is required.\n"
     ]
    },
    {
     "name": "stdout",
     "output_type": "stream",
     "text": [
      "\u001b[33m(autoscaler +32m42s)\u001b[0m Error: No available node types can fulfill resource request defaultdict(<class 'float'>, {'CPU': 20.0, 'GPU': 4.0}). Add suitable node types to this cluster to resolve this issue.\n"
     ]
    },
    {
     "name": "stderr",
     "output_type": "stream",
     "text": [
      "\u001b[33m(raylet)\u001b[0m [2025-04-12 21:23:07,535 E 2809 2843] (raylet) file_system_monitor.cc:116: /tmp/ray/session_2025-04-12_20-50-22_955978_2486 is over 95% full, available space: 0.838726 GB; capacity: 30 GB. Object creation will fail if spilling is required.\n",
      "\u001b[33m(raylet)\u001b[0m [2025-04-12 21:23:17,561 E 2809 2843] (raylet) file_system_monitor.cc:116: /tmp/ray/session_2025-04-12_20-50-22_955978_2486 is over 95% full, available space: 0.838726 GB; capacity: 30 GB. Object creation will fail if spilling is required.\n",
      "\u001b[33m(raylet)\u001b[0m [2025-04-12 21:23:27,577 E 2809 2843] (raylet) file_system_monitor.cc:116: /tmp/ray/session_2025-04-12_20-50-22_955978_2486 is over 95% full, available space: 0.838604 GB; capacity: 30 GB. Object creation will fail if spilling is required.\n",
      "\u001b[33m(raylet)\u001b[0m [2025-04-12 21:23:37,585 E 2809 2843] (raylet) file_system_monitor.cc:116: /tmp/ray/session_2025-04-12_20-50-22_955978_2486 is over 95% full, available space: 0.838608 GB; capacity: 30 GB. Object creation will fail if spilling is required.\n"
     ]
    },
    {
     "name": "stdout",
     "output_type": "stream",
     "text": [
      "\u001b[33m(autoscaler +33m17s)\u001b[0m Error: No available node types can fulfill resource request defaultdict(<class 'float'>, {'CPU': 20.0, 'GPU': 4.0}). Add suitable node types to this cluster to resolve this issue.\n"
     ]
    },
    {
     "name": "stderr",
     "output_type": "stream",
     "text": [
      "\u001b[33m(raylet)\u001b[0m [2025-04-12 21:23:47,593 E 2809 2843] (raylet) file_system_monitor.cc:116: /tmp/ray/session_2025-04-12_20-50-22_955978_2486 is over 95% full, available space: 0.838608 GB; capacity: 30 GB. Object creation will fail if spilling is required.\n",
      "\u001b[33m(raylet)\u001b[0m [2025-04-12 21:23:57,602 E 2809 2843] (raylet) file_system_monitor.cc:116: /tmp/ray/session_2025-04-12_20-50-22_955978_2486 is over 95% full, available space: 0.838608 GB; capacity: 30 GB. Object creation will fail if spilling is required.\n",
      "\u001b[33m(raylet)\u001b[0m [2025-04-12 21:24:07,618 E 2809 2843] (raylet) file_system_monitor.cc:116: /tmp/ray/session_2025-04-12_20-50-22_955978_2486 is over 95% full, available space: 0.838608 GB; capacity: 30 GB. Object creation will fail if spilling is required.\n"
     ]
    },
    {
     "name": "stdout",
     "output_type": "stream",
     "text": [
      "\u001b[33m(autoscaler +33m52s)\u001b[0m Error: No available node types can fulfill resource request defaultdict(<class 'float'>, {'CPU': 20.0, 'GPU': 4.0}). Add suitable node types to this cluster to resolve this issue.\n"
     ]
    },
    {
     "name": "stderr",
     "output_type": "stream",
     "text": [
      "\u001b[33m(raylet)\u001b[0m [2025-04-12 21:24:17,633 E 2809 2843] (raylet) file_system_monitor.cc:116: /tmp/ray/session_2025-04-12_20-50-22_955978_2486 is over 95% full, available space: 0.838608 GB; capacity: 30 GB. Object creation will fail if spilling is required.\n",
      "\u001b[33m(raylet)\u001b[0m [2025-04-12 21:24:27,648 E 2809 2843] (raylet) file_system_monitor.cc:116: /tmp/ray/session_2025-04-12_20-50-22_955978_2486 is over 95% full, available space: 0.838364 GB; capacity: 30 GB. Object creation will fail if spilling is required.\n",
      "\u001b[33m(raylet)\u001b[0m [2025-04-12 21:24:37,659 E 2809 2843] (raylet) file_system_monitor.cc:116: /tmp/ray/session_2025-04-12_20-50-22_955978_2486 is over 95% full, available space: 0.83836 GB; capacity: 30 GB. Object creation will fail if spilling is required.\n",
      "\u001b[33m(raylet)\u001b[0m [2025-04-12 21:24:47,670 E 2809 2843] (raylet) file_system_monitor.cc:116: /tmp/ray/session_2025-04-12_20-50-22_955978_2486 is over 95% full, available space: 0.83836 GB; capacity: 30 GB. Object creation will fail if spilling is required.\n"
     ]
    },
    {
     "name": "stdout",
     "output_type": "stream",
     "text": [
      "\u001b[33m(autoscaler +34m27s)\u001b[0m Error: No available node types can fulfill resource request defaultdict(<class 'float'>, {'CPU': 20.0, 'GPU': 4.0}). Add suitable node types to this cluster to resolve this issue.\n"
     ]
    },
    {
     "name": "stderr",
     "output_type": "stream",
     "text": [
      "\u001b[33m(raylet)\u001b[0m [2025-04-12 21:24:57,679 E 2809 2843] (raylet) file_system_monitor.cc:116: /tmp/ray/session_2025-04-12_20-50-22_955978_2486 is over 95% full, available space: 0.83836 GB; capacity: 30 GB. Object creation will fail if spilling is required.\n",
      "\u001b[33m(raylet)\u001b[0m [2025-04-12 21:25:07,692 E 2809 2843] (raylet) file_system_monitor.cc:116: /tmp/ray/session_2025-04-12_20-50-22_955978_2486 is over 95% full, available space: 0.840176 GB; capacity: 30 GB. Object creation will fail if spilling is required.\n",
      "\u001b[33m(raylet)\u001b[0m [2025-04-12 21:25:17,712 E 2809 2843] (raylet) file_system_monitor.cc:116: /tmp/ray/session_2025-04-12_20-50-22_955978_2486 is over 95% full, available space: 0.840176 GB; capacity: 30 GB. Object creation will fail if spilling is required.\n"
     ]
    },
    {
     "name": "stdout",
     "output_type": "stream",
     "text": [
      "\u001b[33m(autoscaler +35m2s)\u001b[0m Error: No available node types can fulfill resource request defaultdict(<class 'float'>, {'CPU': 20.0, 'GPU': 4.0}). Add suitable node types to this cluster to resolve this issue.\n"
     ]
    },
    {
     "name": "stderr",
     "output_type": "stream",
     "text": [
      "\u001b[33m(raylet)\u001b[0m [2025-04-12 21:25:27,727 E 2809 2843] (raylet) file_system_monitor.cc:116: /tmp/ray/session_2025-04-12_20-50-22_955978_2486 is over 95% full, available space: 0.838737 GB; capacity: 30 GB. Object creation will fail if spilling is required.\n",
      "\u001b[33m(raylet)\u001b[0m [2025-04-12 21:25:37,739 E 2809 2843] (raylet) file_system_monitor.cc:116: /tmp/ray/session_2025-04-12_20-50-22_955978_2486 is over 95% full, available space: 0.838737 GB; capacity: 30 GB. Object creation will fail if spilling is required.\n",
      "\u001b[33m(raylet)\u001b[0m [2025-04-12 21:25:47,752 E 2809 2843] (raylet) file_system_monitor.cc:116: /tmp/ray/session_2025-04-12_20-50-22_955978_2486 is over 95% full, available space: 0.838737 GB; capacity: 30 GB. Object creation will fail if spilling is required.\n",
      "\u001b[33m(raylet)\u001b[0m [2025-04-12 21:25:57,762 E 2809 2843] (raylet) file_system_monitor.cc:116: /tmp/ray/session_2025-04-12_20-50-22_955978_2486 is over 95% full, available space: 0.838715 GB; capacity: 30 GB. Object creation will fail if spilling is required.\n"
     ]
    },
    {
     "name": "stdout",
     "output_type": "stream",
     "text": [
      "\u001b[33m(autoscaler +35m37s)\u001b[0m Error: No available node types can fulfill resource request defaultdict(<class 'float'>, {'CPU': 20.0, 'GPU': 4.0}). Add suitable node types to this cluster to resolve this issue.\n"
     ]
    },
    {
     "name": "stderr",
     "output_type": "stream",
     "text": [
      "\u001b[33m(raylet)\u001b[0m [2025-04-12 21:26:07,773 E 2809 2843] (raylet) file_system_monitor.cc:116: /tmp/ray/session_2025-04-12_20-50-22_955978_2486 is over 95% full, available space: 0.838715 GB; capacity: 30 GB. Object creation will fail if spilling is required.\n",
      "\u001b[33m(raylet)\u001b[0m [2025-04-12 21:26:17,792 E 2809 2843] (raylet) file_system_monitor.cc:116: /tmp/ray/session_2025-04-12_20-50-22_955978_2486 is over 95% full, available space: 0.838715 GB; capacity: 30 GB. Object creation will fail if spilling is required.\n",
      "\u001b[33m(raylet)\u001b[0m [2025-04-12 21:26:27,808 E 2809 2843] (raylet) file_system_monitor.cc:116: /tmp/ray/session_2025-04-12_20-50-22_955978_2486 is over 95% full, available space: 0.838715 GB; capacity: 30 GB. Object creation will fail if spilling is required.\n"
     ]
    },
    {
     "name": "stdout",
     "output_type": "stream",
     "text": [
      "\u001b[33m(autoscaler +36m12s)\u001b[0m Error: No available node types can fulfill resource request defaultdict(<class 'float'>, {'CPU': 20.0, 'GPU': 4.0}). Add suitable node types to this cluster to resolve this issue.\n"
     ]
    },
    {
     "name": "stderr",
     "output_type": "stream",
     "text": [
      "\u001b[33m(raylet)\u001b[0m [2025-04-12 21:26:37,817 E 2809 2843] (raylet) file_system_monitor.cc:116: /tmp/ray/session_2025-04-12_20-50-22_955978_2486 is over 95% full, available space: 0.838715 GB; capacity: 30 GB. Object creation will fail if spilling is required.\n",
      "\u001b[33m(raylet)\u001b[0m [2025-04-12 21:26:47,827 E 2809 2843] (raylet) file_system_monitor.cc:116: /tmp/ray/session_2025-04-12_20-50-22_955978_2486 is over 95% full, available space: 0.838715 GB; capacity: 30 GB. Object creation will fail if spilling is required.\n",
      "\u001b[33m(raylet)\u001b[0m [2025-04-12 21:26:57,837 E 2809 2843] (raylet) file_system_monitor.cc:116: /tmp/ray/session_2025-04-12_20-50-22_955978_2486 is over 95% full, available space: 0.838715 GB; capacity: 30 GB. Object creation will fail if spilling is required.\n",
      "\u001b[33m(raylet)\u001b[0m [2025-04-12 21:27:07,847 E 2809 2843] (raylet) file_system_monitor.cc:116: /tmp/ray/session_2025-04-12_20-50-22_955978_2486 is over 95% full, available space: 0.838715 GB; capacity: 30 GB. Object creation will fail if spilling is required.\n"
     ]
    },
    {
     "name": "stdout",
     "output_type": "stream",
     "text": [
      "\u001b[33m(autoscaler +36m47s)\u001b[0m Error: No available node types can fulfill resource request defaultdict(<class 'float'>, {'CPU': 20.0, 'GPU': 4.0}). Add suitable node types to this cluster to resolve this issue.\n"
     ]
    },
    {
     "name": "stderr",
     "output_type": "stream",
     "text": [
      "\u001b[33m(raylet)\u001b[0m [2025-04-12 21:27:17,867 E 2809 2843] (raylet) file_system_monitor.cc:116: /tmp/ray/session_2025-04-12_20-50-22_955978_2486 is over 95% full, available space: 0.838715 GB; capacity: 30 GB. Object creation will fail if spilling is required.\n",
      "\u001b[33m(raylet)\u001b[0m [2025-04-12 21:27:27,888 E 2809 2843] (raylet) file_system_monitor.cc:116: /tmp/ray/session_2025-04-12_20-50-22_955978_2486 is over 95% full, available space: 0.838711 GB; capacity: 30 GB. Object creation will fail if spilling is required.\n",
      "\u001b[33m(raylet)\u001b[0m [2025-04-12 21:27:37,904 E 2809 2843] (raylet) file_system_monitor.cc:116: /tmp/ray/session_2025-04-12_20-50-22_955978_2486 is over 95% full, available space: 0.838711 GB; capacity: 30 GB. Object creation will fail if spilling is required.\n"
     ]
    },
    {
     "name": "stdout",
     "output_type": "stream",
     "text": [
      "\u001b[33m(autoscaler +37m22s)\u001b[0m Error: No available node types can fulfill resource request defaultdict(<class 'float'>, {'CPU': 20.0, 'GPU': 4.0}). Add suitable node types to this cluster to resolve this issue.\n"
     ]
    },
    {
     "name": "stderr",
     "output_type": "stream",
     "text": [
      "\u001b[33m(raylet)\u001b[0m [2025-04-12 21:27:47,915 E 2809 2843] (raylet) file_system_monitor.cc:116: /tmp/ray/session_2025-04-12_20-50-22_955978_2486 is over 95% full, available space: 0.838711 GB; capacity: 30 GB. Object creation will fail if spilling is required.\n",
      "\u001b[33m(raylet)\u001b[0m [2025-04-12 21:27:57,926 E 2809 2843] (raylet) file_system_monitor.cc:116: /tmp/ray/session_2025-04-12_20-50-22_955978_2486 is over 95% full, available space: 0.838711 GB; capacity: 30 GB. Object creation will fail if spilling is required.\n",
      "\u001b[33m(raylet)\u001b[0m [2025-04-12 21:28:07,937 E 2809 2843] (raylet) file_system_monitor.cc:116: /tmp/ray/session_2025-04-12_20-50-22_955978_2486 is over 95% full, available space: 0.838711 GB; capacity: 30 GB. Object creation will fail if spilling is required.\n",
      "\u001b[33m(raylet)\u001b[0m [2025-04-12 21:28:17,947 E 2809 2843] (raylet) file_system_monitor.cc:116: /tmp/ray/session_2025-04-12_20-50-22_955978_2486 is over 95% full, available space: 0.838711 GB; capacity: 30 GB. Object creation will fail if spilling is required.\n"
     ]
    },
    {
     "name": "stdout",
     "output_type": "stream",
     "text": [
      "\u001b[33m(autoscaler +37m58s)\u001b[0m Error: No available node types can fulfill resource request defaultdict(<class 'float'>, {'CPU': 20.0, 'GPU': 4.0}). Add suitable node types to this cluster to resolve this issue.\n"
     ]
    },
    {
     "name": "stderr",
     "output_type": "stream",
     "text": [
      "\u001b[33m(raylet)\u001b[0m [2025-04-12 21:28:27,958 E 2809 2843] (raylet) file_system_monitor.cc:116: /tmp/ray/session_2025-04-12_20-50-22_955978_2486 is over 95% full, available space: 0.838711 GB; capacity: 30 GB. Object creation will fail if spilling is required.\n",
      "\u001b[33m(raylet)\u001b[0m [2025-04-12 21:28:37,970 E 2809 2843] (raylet) file_system_monitor.cc:116: /tmp/ray/session_2025-04-12_20-50-22_955978_2486 is over 95% full, available space: 0.838711 GB; capacity: 30 GB. Object creation will fail if spilling is required.\n",
      "\u001b[33m(raylet)\u001b[0m [2025-04-12 21:28:47,980 E 2809 2843] (raylet) file_system_monitor.cc:116: /tmp/ray/session_2025-04-12_20-50-22_955978_2486 is over 95% full, available space: 0.838711 GB; capacity: 30 GB. Object creation will fail if spilling is required.\n"
     ]
    },
    {
     "name": "stdout",
     "output_type": "stream",
     "text": [
      "\u001b[33m(autoscaler +38m33s)\u001b[0m Error: No available node types can fulfill resource request defaultdict(<class 'float'>, {'CPU': 20.0, 'GPU': 4.0}). Add suitable node types to this cluster to resolve this issue.\n"
     ]
    },
    {
     "name": "stderr",
     "output_type": "stream",
     "text": [
      "\u001b[33m(raylet)\u001b[0m [2025-04-12 21:28:57,989 E 2809 2843] (raylet) file_system_monitor.cc:116: /tmp/ray/session_2025-04-12_20-50-22_955978_2486 is over 95% full, available space: 0.838711 GB; capacity: 30 GB. Object creation will fail if spilling is required.\n",
      "\u001b[33m(raylet)\u001b[0m [2025-04-12 21:29:07,999 E 2809 2843] (raylet) file_system_monitor.cc:116: /tmp/ray/session_2025-04-12_20-50-22_955978_2486 is over 95% full, available space: 0.838711 GB; capacity: 30 GB. Object creation will fail if spilling is required.\n",
      "\u001b[33m(raylet)\u001b[0m [2025-04-12 21:29:18,010 E 2809 2843] (raylet) file_system_monitor.cc:116: /tmp/ray/session_2025-04-12_20-50-22_955978_2486 is over 95% full, available space: 0.838707 GB; capacity: 30 GB. Object creation will fail if spilling is required.\n",
      "\u001b[33m(raylet)\u001b[0m [2025-04-12 21:29:28,021 E 2809 2843] (raylet) file_system_monitor.cc:116: /tmp/ray/session_2025-04-12_20-50-22_955978_2486 is over 95% full, available space: 0.838707 GB; capacity: 30 GB. Object creation will fail if spilling is required.\n"
     ]
    },
    {
     "name": "stdout",
     "output_type": "stream",
     "text": [
      "\u001b[33m(autoscaler +39m8s)\u001b[0m Error: No available node types can fulfill resource request defaultdict(<class 'float'>, {'CPU': 20.0, 'GPU': 4.0}). Add suitable node types to this cluster to resolve this issue.\n"
     ]
    },
    {
     "name": "stderr",
     "output_type": "stream",
     "text": [
      "\u001b[33m(raylet)\u001b[0m [2025-04-12 21:29:38,033 E 2809 2843] (raylet) file_system_monitor.cc:116: /tmp/ray/session_2025-04-12_20-50-22_955978_2486 is over 95% full, available space: 0.838707 GB; capacity: 30 GB. Object creation will fail if spilling is required.\n",
      "\u001b[33m(raylet)\u001b[0m [2025-04-12 21:29:48,045 E 2809 2843] (raylet) file_system_monitor.cc:116: /tmp/ray/session_2025-04-12_20-50-22_955978_2486 is over 95% full, available space: 0.838707 GB; capacity: 30 GB. Object creation will fail if spilling is required.\n",
      "\u001b[33m(raylet)\u001b[0m [2025-04-12 21:29:58,056 E 2809 2843] (raylet) file_system_monitor.cc:116: /tmp/ray/session_2025-04-12_20-50-22_955978_2486 is over 95% full, available space: 0.838707 GB; capacity: 30 GB. Object creation will fail if spilling is required.\n"
     ]
    },
    {
     "name": "stdout",
     "output_type": "stream",
     "text": [
      "\u001b[33m(autoscaler +39m43s)\u001b[0m Error: No available node types can fulfill resource request defaultdict(<class 'float'>, {'CPU': 20.0, 'GPU': 4.0}). Add suitable node types to this cluster to resolve this issue.\n"
     ]
    },
    {
     "name": "stderr",
     "output_type": "stream",
     "text": [
      "\u001b[33m(raylet)\u001b[0m [2025-04-12 21:30:08,066 E 2809 2843] (raylet) file_system_monitor.cc:116: /tmp/ray/session_2025-04-12_20-50-22_955978_2486 is over 95% full, available space: 0.838707 GB; capacity: 30 GB. Object creation will fail if spilling is required.\n",
      "\u001b[33m(raylet)\u001b[0m [2025-04-12 21:30:18,077 E 2809 2843] (raylet) file_system_monitor.cc:116: /tmp/ray/session_2025-04-12_20-50-22_955978_2486 is over 95% full, available space: 0.83939 GB; capacity: 30 GB. Object creation will fail if spilling is required.\n",
      "\u001b[33m(raylet)\u001b[0m [2025-04-12 21:30:28,088 E 2809 2843] (raylet) file_system_monitor.cc:116: /tmp/ray/session_2025-04-12_20-50-22_955978_2486 is over 95% full, available space: 0.839016 GB; capacity: 30 GB. Object creation will fail if spilling is required.\n",
      "\u001b[33m(raylet)\u001b[0m [2025-04-12 21:30:38,097 E 2809 2843] (raylet) file_system_monitor.cc:116: /tmp/ray/session_2025-04-12_20-50-22_955978_2486 is over 95% full, available space: 0.839016 GB; capacity: 30 GB. Object creation will fail if spilling is required.\n"
     ]
    },
    {
     "name": "stdout",
     "output_type": "stream",
     "text": [
      "\u001b[33m(autoscaler +40m18s)\u001b[0m Error: No available node types can fulfill resource request defaultdict(<class 'float'>, {'CPU': 20.0, 'GPU': 4.0}). Add suitable node types to this cluster to resolve this issue.\n"
     ]
    },
    {
     "name": "stderr",
     "output_type": "stream",
     "text": [
      "\u001b[33m(raylet)\u001b[0m [2025-04-12 21:30:48,105 E 2809 2843] (raylet) file_system_monitor.cc:116: /tmp/ray/session_2025-04-12_20-50-22_955978_2486 is over 95% full, available space: 0.839016 GB; capacity: 30 GB. Object creation will fail if spilling is required.\n",
      "\u001b[33m(raylet)\u001b[0m [2025-04-12 21:30:58,116 E 2809 2843] (raylet) file_system_monitor.cc:116: /tmp/ray/session_2025-04-12_20-50-22_955978_2486 is over 95% full, available space: 0.839008 GB; capacity: 30 GB. Object creation will fail if spilling is required.\n",
      "\u001b[33m(raylet)\u001b[0m [2025-04-12 21:31:08,125 E 2809 2843] (raylet) file_system_monitor.cc:116: /tmp/ray/session_2025-04-12_20-50-22_955978_2486 is over 95% full, available space: 0.839008 GB; capacity: 30 GB. Object creation will fail if spilling is required.\n"
     ]
    },
    {
     "name": "stdout",
     "output_type": "stream",
     "text": [
      "\u001b[33m(autoscaler +40m53s)\u001b[0m Error: No available node types can fulfill resource request defaultdict(<class 'float'>, {'CPU': 20.0, 'GPU': 4.0}). Add suitable node types to this cluster to resolve this issue.\n"
     ]
    },
    {
     "name": "stderr",
     "output_type": "stream",
     "text": [
      "\u001b[33m(raylet)\u001b[0m [2025-04-12 21:31:18,134 E 2809 2843] (raylet) file_system_monitor.cc:116: /tmp/ray/session_2025-04-12_20-50-22_955978_2486 is over 95% full, available space: 0.839005 GB; capacity: 30 GB. Object creation will fail if spilling is required.\n",
      "\u001b[33m(raylet)\u001b[0m [2025-04-12 21:31:28,143 E 2809 2843] (raylet) file_system_monitor.cc:116: /tmp/ray/session_2025-04-12_20-50-22_955978_2486 is over 95% full, available space: 0.839005 GB; capacity: 30 GB. Object creation will fail if spilling is required.\n",
      "\u001b[33m(raylet)\u001b[0m [2025-04-12 21:31:38,152 E 2809 2843] (raylet) file_system_monitor.cc:116: /tmp/ray/session_2025-04-12_20-50-22_955978_2486 is over 95% full, available space: 0.839005 GB; capacity: 30 GB. Object creation will fail if spilling is required.\n",
      "\u001b[33m(raylet)\u001b[0m [2025-04-12 21:31:48,162 E 2809 2843] (raylet) file_system_monitor.cc:116: /tmp/ray/session_2025-04-12_20-50-22_955978_2486 is over 95% full, available space: 0.839005 GB; capacity: 30 GB. Object creation will fail if spilling is required.\n"
     ]
    },
    {
     "name": "stdout",
     "output_type": "stream",
     "text": [
      "\u001b[33m(autoscaler +41m28s)\u001b[0m Error: No available node types can fulfill resource request defaultdict(<class 'float'>, {'CPU': 20.0, 'GPU': 4.0}). Add suitable node types to this cluster to resolve this issue.\n"
     ]
    },
    {
     "name": "stderr",
     "output_type": "stream",
     "text": [
      "\u001b[33m(raylet)\u001b[0m [2025-04-12 21:31:58,173 E 2809 2843] (raylet) file_system_monitor.cc:116: /tmp/ray/session_2025-04-12_20-50-22_955978_2486 is over 95% full, available space: 0.839008 GB; capacity: 30 GB. Object creation will fail if spilling is required.\n",
      "\u001b[33m(raylet)\u001b[0m [2025-04-12 21:32:08,184 E 2809 2843] (raylet) file_system_monitor.cc:116: /tmp/ray/session_2025-04-12_20-50-22_955978_2486 is over 95% full, available space: 0.839008 GB; capacity: 30 GB. Object creation will fail if spilling is required.\n",
      "\u001b[33m(raylet)\u001b[0m [2025-04-12 21:32:18,194 E 2809 2843] (raylet) file_system_monitor.cc:116: /tmp/ray/session_2025-04-12_20-50-22_955978_2486 is over 95% full, available space: 0.839008 GB; capacity: 30 GB. Object creation will fail if spilling is required.\n"
     ]
    },
    {
     "name": "stdout",
     "output_type": "stream",
     "text": [
      "\u001b[33m(autoscaler +42m3s)\u001b[0m Error: No available node types can fulfill resource request defaultdict(<class 'float'>, {'CPU': 20.0, 'GPU': 4.0}). Add suitable node types to this cluster to resolve this issue.\n"
     ]
    },
    {
     "name": "stderr",
     "output_type": "stream",
     "text": [
      "\u001b[33m(raylet)\u001b[0m [2025-04-12 21:32:28,203 E 2809 2843] (raylet) file_system_monitor.cc:116: /tmp/ray/session_2025-04-12_20-50-22_955978_2486 is over 95% full, available space: 0.83736 GB; capacity: 30 GB. Object creation will fail if spilling is required.\n",
      "\u001b[33m(raylet)\u001b[0m [2025-04-12 21:32:38,212 E 2809 2843] (raylet) file_system_monitor.cc:116: /tmp/ray/session_2025-04-12_20-50-22_955978_2486 is over 95% full, available space: 0.837357 GB; capacity: 30 GB. Object creation will fail if spilling is required.\n",
      "\u001b[33m(raylet)\u001b[0m [2025-04-12 21:32:48,220 E 2809 2843] (raylet) file_system_monitor.cc:116: /tmp/ray/session_2025-04-12_20-50-22_955978_2486 is over 95% full, available space: 0.837357 GB; capacity: 30 GB. Object creation will fail if spilling is required.\n",
      "\u001b[33m(raylet)\u001b[0m [2025-04-12 21:32:58,229 E 2809 2843] (raylet) file_system_monitor.cc:116: /tmp/ray/session_2025-04-12_20-50-22_955978_2486 is over 95% full, available space: 0.837357 GB; capacity: 30 GB. Object creation will fail if spilling is required.\n"
     ]
    },
    {
     "name": "stdout",
     "output_type": "stream",
     "text": [
      "\u001b[33m(autoscaler +42m38s)\u001b[0m Error: No available node types can fulfill resource request defaultdict(<class 'float'>, {'CPU': 20.0, 'GPU': 4.0}). Add suitable node types to this cluster to resolve this issue.\n"
     ]
    },
    {
     "name": "stderr",
     "output_type": "stream",
     "text": [
      "\u001b[33m(raylet)\u001b[0m [2025-04-12 21:33:08,241 E 2809 2843] (raylet) file_system_monitor.cc:116: /tmp/ray/session_2025-04-12_20-50-22_955978_2486 is over 95% full, available space: 0.837353 GB; capacity: 30 GB. Object creation will fail if spilling is required.\n",
      "\u001b[33m(raylet)\u001b[0m [2025-04-12 21:33:18,262 E 2809 2843] (raylet) file_system_monitor.cc:116: /tmp/ray/session_2025-04-12_20-50-22_955978_2486 is over 95% full, available space: 0.837349 GB; capacity: 30 GB. Object creation will fail if spilling is required.\n",
      "\u001b[33m(raylet)\u001b[0m [2025-04-12 21:33:28,282 E 2809 2843] (raylet) file_system_monitor.cc:116: /tmp/ray/session_2025-04-12_20-50-22_955978_2486 is over 95% full, available space: 0.837227 GB; capacity: 30 GB. Object creation will fail if spilling is required.\n"
     ]
    },
    {
     "name": "stdout",
     "output_type": "stream",
     "text": [
      "\u001b[33m(autoscaler +43m13s)\u001b[0m Error: No available node types can fulfill resource request defaultdict(<class 'float'>, {'CPU': 20.0, 'GPU': 4.0}). Add suitable node types to this cluster to resolve this issue.\n"
     ]
    },
    {
     "name": "stderr",
     "output_type": "stream",
     "text": [
      "\u001b[33m(raylet)\u001b[0m [2025-04-12 21:33:38,302 E 2809 2843] (raylet) file_system_monitor.cc:116: /tmp/ray/session_2025-04-12_20-50-22_955978_2486 is over 95% full, available space: 0.837227 GB; capacity: 30 GB. Object creation will fail if spilling is required.\n",
      "\u001b[33m(raylet)\u001b[0m [2025-04-12 21:33:48,311 E 2809 2843] (raylet) file_system_monitor.cc:116: /tmp/ray/session_2025-04-12_20-50-22_955978_2486 is over 95% full, available space: 0.837227 GB; capacity: 30 GB. Object creation will fail if spilling is required.\n",
      "\u001b[33m(raylet)\u001b[0m [2025-04-12 21:33:58,319 E 2809 2843] (raylet) file_system_monitor.cc:116: /tmp/ray/session_2025-04-12_20-50-22_955978_2486 is over 95% full, available space: 0.837227 GB; capacity: 30 GB. Object creation will fail if spilling is required.\n",
      "\u001b[33m(raylet)\u001b[0m [2025-04-12 21:34:08,328 E 2809 2843] (raylet) file_system_monitor.cc:116: /tmp/ray/session_2025-04-12_20-50-22_955978_2486 is over 95% full, available space: 0.837227 GB; capacity: 30 GB. Object creation will fail if spilling is required.\n"
     ]
    },
    {
     "name": "stdout",
     "output_type": "stream",
     "text": [
      "\u001b[33m(autoscaler +43m48s)\u001b[0m Error: No available node types can fulfill resource request defaultdict(<class 'float'>, {'CPU': 20.0, 'GPU': 4.0}). Add suitable node types to this cluster to resolve this issue.\n"
     ]
    },
    {
     "name": "stderr",
     "output_type": "stream",
     "text": [
      "\u001b[33m(raylet)\u001b[0m [2025-04-12 21:34:18,340 E 2809 2843] (raylet) file_system_monitor.cc:116: /tmp/ray/session_2025-04-12_20-50-22_955978_2486 is over 95% full, available space: 0.837227 GB; capacity: 30 GB. Object creation will fail if spilling is required.\n",
      "\u001b[33m(raylet)\u001b[0m [2025-04-12 21:34:28,350 E 2809 2843] (raylet) file_system_monitor.cc:116: /tmp/ray/session_2025-04-12_20-50-22_955978_2486 is over 95% full, available space: 0.836983 GB; capacity: 30 GB. Object creation will fail if spilling is required.\n",
      "\u001b[33m(raylet)\u001b[0m [2025-04-12 21:34:38,359 E 2809 2843] (raylet) file_system_monitor.cc:116: /tmp/ray/session_2025-04-12_20-50-22_955978_2486 is over 95% full, available space: 0.836983 GB; capacity: 30 GB. Object creation will fail if spilling is required.\n"
     ]
    },
    {
     "name": "stdout",
     "output_type": "stream",
     "text": [
      "\u001b[33m(autoscaler +44m23s)\u001b[0m Error: No available node types can fulfill resource request defaultdict(<class 'float'>, {'CPU': 20.0, 'GPU': 4.0}). Add suitable node types to this cluster to resolve this issue.\n"
     ]
    },
    {
     "name": "stderr",
     "output_type": "stream",
     "text": [
      "\u001b[33m(raylet)\u001b[0m [2025-04-12 21:34:48,371 E 2809 2843] (raylet) file_system_monitor.cc:116: /tmp/ray/session_2025-04-12_20-50-22_955978_2486 is over 95% full, available space: 0.836983 GB; capacity: 30 GB. Object creation will fail if spilling is required.\n",
      "\u001b[33m(raylet)\u001b[0m [2025-04-12 21:34:58,385 E 2809 2843] (raylet) file_system_monitor.cc:116: /tmp/ray/session_2025-04-12_20-50-22_955978_2486 is over 95% full, available space: 0.836983 GB; capacity: 30 GB. Object creation will fail if spilling is required.\n",
      "\u001b[33m(raylet)\u001b[0m [2025-04-12 21:35:08,397 E 2809 2843] (raylet) file_system_monitor.cc:116: /tmp/ray/session_2025-04-12_20-50-22_955978_2486 is over 95% full, available space: 0.836983 GB; capacity: 30 GB. Object creation will fail if spilling is required.\n",
      "\u001b[33m(raylet)\u001b[0m [2025-04-12 21:35:18,408 E 2809 2843] (raylet) file_system_monitor.cc:116: /tmp/ray/session_2025-04-12_20-50-22_955978_2486 is over 95% full, available space: 0.836983 GB; capacity: 30 GB. Object creation will fail if spilling is required.\n"
     ]
    },
    {
     "name": "stdout",
     "output_type": "stream",
     "text": [
      "\u001b[33m(autoscaler +44m59s)\u001b[0m Error: No available node types can fulfill resource request defaultdict(<class 'float'>, {'CPU': 20.0, 'GPU': 4.0}). Add suitable node types to this cluster to resolve this issue.\n"
     ]
    },
    {
     "name": "stderr",
     "output_type": "stream",
     "text": [
      "\u001b[33m(raylet)\u001b[0m [2025-04-12 21:35:28,415 E 2809 2843] (raylet) file_system_monitor.cc:116: /tmp/ray/session_2025-04-12_20-50-22_955978_2486 is over 95% full, available space: 0.837658 GB; capacity: 30 GB. Object creation will fail if spilling is required.\n",
      "\u001b[33m(raylet)\u001b[0m [2025-04-12 21:35:38,424 E 2809 2843] (raylet) file_system_monitor.cc:116: /tmp/ray/session_2025-04-12_20-50-22_955978_2486 is over 95% full, available space: 0.837658 GB; capacity: 30 GB. Object creation will fail if spilling is required.\n",
      "\u001b[33m(raylet)\u001b[0m [2025-04-12 21:35:48,436 E 2809 2843] (raylet) file_system_monitor.cc:116: /tmp/ray/session_2025-04-12_20-50-22_955978_2486 is over 95% full, available space: 0.837658 GB; capacity: 30 GB. Object creation will fail if spilling is required.\n"
     ]
    },
    {
     "name": "stdout",
     "output_type": "stream",
     "text": [
      "\u001b[33m(autoscaler +45m34s)\u001b[0m Error: No available node types can fulfill resource request defaultdict(<class 'float'>, {'CPU': 20.0, 'GPU': 4.0}). Add suitable node types to this cluster to resolve this issue.\n"
     ]
    },
    {
     "name": "stderr",
     "output_type": "stream",
     "text": [
      "\u001b[33m(raylet)\u001b[0m [2025-04-12 21:35:58,451 E 2809 2843] (raylet) file_system_monitor.cc:116: /tmp/ray/session_2025-04-12_20-50-22_955978_2486 is over 95% full, available space: 0.837654 GB; capacity: 30 GB. Object creation will fail if spilling is required.\n",
      "\u001b[33m(raylet)\u001b[0m [2025-04-12 21:36:08,463 E 2809 2843] (raylet) file_system_monitor.cc:116: /tmp/ray/session_2025-04-12_20-50-22_955978_2486 is over 95% full, available space: 0.837593 GB; capacity: 30 GB. Object creation will fail if spilling is required.\n",
      "\u001b[33m(raylet)\u001b[0m [2025-04-12 21:36:18,474 E 2809 2843] (raylet) file_system_monitor.cc:116: /tmp/ray/session_2025-04-12_20-50-22_955978_2486 is over 95% full, available space: 0.837349 GB; capacity: 30 GB. Object creation will fail if spilling is required.\n",
      "\u001b[33m(raylet)\u001b[0m [2025-04-12 21:36:28,486 E 2809 2843] (raylet) file_system_monitor.cc:116: /tmp/ray/session_2025-04-12_20-50-22_955978_2486 is over 95% full, available space: 0.836861 GB; capacity: 30 GB. Object creation will fail if spilling is required.\n"
     ]
    },
    {
     "name": "stdout",
     "output_type": "stream",
     "text": [
      "\u001b[33m(autoscaler +46m9s)\u001b[0m Error: No available node types can fulfill resource request defaultdict(<class 'float'>, {'CPU': 20.0, 'GPU': 4.0}). Add suitable node types to this cluster to resolve this issue.\n"
     ]
    },
    {
     "name": "stderr",
     "output_type": "stream",
     "text": [
      "\u001b[33m(raylet)\u001b[0m [2025-04-12 21:36:38,496 E 2809 2843] (raylet) file_system_monitor.cc:116: /tmp/ray/session_2025-04-12_20-50-22_955978_2486 is over 95% full, available space: 0.836857 GB; capacity: 30 GB. Object creation will fail if spilling is required.\n",
      "\u001b[33m(raylet)\u001b[0m [2025-04-12 21:36:48,505 E 2809 2843] (raylet) file_system_monitor.cc:116: /tmp/ray/session_2025-04-12_20-50-22_955978_2486 is over 95% full, available space: 0.836857 GB; capacity: 30 GB. Object creation will fail if spilling is required.\n",
      "\u001b[33m(raylet)\u001b[0m [2025-04-12 21:36:58,514 E 2809 2843] (raylet) file_system_monitor.cc:116: /tmp/ray/session_2025-04-12_20-50-22_955978_2486 is over 95% full, available space: 0.836857 GB; capacity: 30 GB. Object creation will fail if spilling is required.\n"
     ]
    },
    {
     "name": "stdout",
     "output_type": "stream",
     "text": [
      "\u001b[33m(autoscaler +46m44s)\u001b[0m Error: No available node types can fulfill resource request defaultdict(<class 'float'>, {'CPU': 20.0, 'GPU': 4.0}). Add suitable node types to this cluster to resolve this issue.\n"
     ]
    },
    {
     "name": "stderr",
     "output_type": "stream",
     "text": [
      "\u001b[33m(raylet)\u001b[0m [2025-04-12 21:37:08,523 E 2809 2843] (raylet) file_system_monitor.cc:116: /tmp/ray/session_2025-04-12_20-50-22_955978_2486 is over 95% full, available space: 0.836857 GB; capacity: 30 GB. Object creation will fail if spilling is required.\n",
      "\u001b[33m(raylet)\u001b[0m [2025-04-12 21:37:18,532 E 2809 2843] (raylet) file_system_monitor.cc:116: /tmp/ray/session_2025-04-12_20-50-22_955978_2486 is over 95% full, available space: 0.836857 GB; capacity: 30 GB. Object creation will fail if spilling is required.\n",
      "\u001b[33m(raylet)\u001b[0m [2025-04-12 21:37:28,542 E 2809 2843] (raylet) file_system_monitor.cc:116: /tmp/ray/session_2025-04-12_20-50-22_955978_2486 is over 95% full, available space: 0.836613 GB; capacity: 30 GB. Object creation will fail if spilling is required.\n",
      "\u001b[33m(raylet)\u001b[0m [2025-04-12 21:37:38,559 E 2809 2843] (raylet) file_system_monitor.cc:116: /tmp/ray/session_2025-04-12_20-50-22_955978_2486 is over 95% full, available space: 0.836613 GB; capacity: 30 GB. Object creation will fail if spilling is required.\n"
     ]
    },
    {
     "name": "stdout",
     "output_type": "stream",
     "text": [
      "\u001b[33m(autoscaler +47m19s)\u001b[0m Error: No available node types can fulfill resource request defaultdict(<class 'float'>, {'CPU': 20.0, 'GPU': 4.0}). Add suitable node types to this cluster to resolve this issue.\n"
     ]
    },
    {
     "name": "stderr",
     "output_type": "stream",
     "text": [
      "\u001b[33m(raylet)\u001b[0m [2025-04-12 21:37:48,568 E 2809 2843] (raylet) file_system_monitor.cc:116: /tmp/ray/session_2025-04-12_20-50-22_955978_2486 is over 95% full, available space: 0.836613 GB; capacity: 30 GB. Object creation will fail if spilling is required.\n",
      "\u001b[33m(raylet)\u001b[0m [2025-04-12 21:37:58,577 E 2809 2843] (raylet) file_system_monitor.cc:116: /tmp/ray/session_2025-04-12_20-50-22_955978_2486 is over 95% full, available space: 0.836613 GB; capacity: 30 GB. Object creation will fail if spilling is required.\n",
      "\u001b[33m(raylet)\u001b[0m [2025-04-12 21:38:08,585 E 2809 2843] (raylet) file_system_monitor.cc:116: /tmp/ray/session_2025-04-12_20-50-22_955978_2486 is over 95% full, available space: 0.836613 GB; capacity: 30 GB. Object creation will fail if spilling is required.\n"
     ]
    },
    {
     "name": "stdout",
     "output_type": "stream",
     "text": [
      "\u001b[33m(autoscaler +47m54s)\u001b[0m Error: No available node types can fulfill resource request defaultdict(<class 'float'>, {'CPU': 20.0, 'GPU': 4.0}). Add suitable node types to this cluster to resolve this issue.\n"
     ]
    },
    {
     "name": "stderr",
     "output_type": "stream",
     "text": [
      "\u001b[33m(raylet)\u001b[0m [2025-04-12 21:38:18,593 E 2809 2843] (raylet) file_system_monitor.cc:116: /tmp/ray/session_2025-04-12_20-50-22_955978_2486 is over 95% full, available space: 0.836613 GB; capacity: 30 GB. Object creation will fail if spilling is required.\n",
      "\u001b[33m(raylet)\u001b[0m [2025-04-12 21:38:28,603 E 2809 2843] (raylet) file_system_monitor.cc:116: /tmp/ray/session_2025-04-12_20-50-22_955978_2486 is over 95% full, available space: 0.836613 GB; capacity: 30 GB. Object creation will fail if spilling is required.\n",
      "\u001b[33m(raylet)\u001b[0m [2025-04-12 21:38:38,622 E 2809 2843] (raylet) file_system_monitor.cc:116: /tmp/ray/session_2025-04-12_20-50-22_955978_2486 is over 95% full, available space: 0.836613 GB; capacity: 30 GB. Object creation will fail if spilling is required.\n",
      "\u001b[33m(raylet)\u001b[0m [2025-04-12 21:38:48,634 E 2809 2843] (raylet) file_system_monitor.cc:116: /tmp/ray/session_2025-04-12_20-50-22_955978_2486 is over 95% full, available space: 0.836613 GB; capacity: 30 GB. Object creation will fail if spilling is required.\n"
     ]
    },
    {
     "name": "stdout",
     "output_type": "stream",
     "text": [
      "\u001b[33m(autoscaler +48m29s)\u001b[0m Error: No available node types can fulfill resource request defaultdict(<class 'float'>, {'CPU': 20.0, 'GPU': 4.0}). Add suitable node types to this cluster to resolve this issue.\n"
     ]
    },
    {
     "name": "stderr",
     "output_type": "stream",
     "text": [
      "\u001b[33m(raylet)\u001b[0m [2025-04-12 21:38:58,644 E 2809 2843] (raylet) file_system_monitor.cc:116: /tmp/ray/session_2025-04-12_20-50-22_955978_2486 is over 95% full, available space: 0.836613 GB; capacity: 30 GB. Object creation will fail if spilling is required.\n",
      "\u001b[33m(raylet)\u001b[0m [2025-04-12 21:39:08,654 E 2809 2843] (raylet) file_system_monitor.cc:116: /tmp/ray/session_2025-04-12_20-50-22_955978_2486 is over 95% full, available space: 0.836613 GB; capacity: 30 GB. Object creation will fail if spilling is required.\n",
      "\u001b[33m(raylet)\u001b[0m [2025-04-12 21:39:18,663 E 2809 2843] (raylet) file_system_monitor.cc:116: /tmp/ray/session_2025-04-12_20-50-22_955978_2486 is over 95% full, available space: 0.836613 GB; capacity: 30 GB. Object creation will fail if spilling is required.\n"
     ]
    },
    {
     "name": "stdout",
     "output_type": "stream",
     "text": [
      "\u001b[33m(autoscaler +49m4s)\u001b[0m Error: No available node types can fulfill resource request defaultdict(<class 'float'>, {'CPU': 20.0, 'GPU': 4.0}). Add suitable node types to this cluster to resolve this issue.\n"
     ]
    },
    {
     "name": "stderr",
     "output_type": "stream",
     "text": [
      "\u001b[33m(raylet)\u001b[0m [2025-04-12 21:39:28,673 E 2809 2843] (raylet) file_system_monitor.cc:116: /tmp/ray/session_2025-04-12_20-50-22_955978_2486 is over 95% full, available space: 0.836613 GB; capacity: 30 GB. Object creation will fail if spilling is required.\n",
      "\u001b[33m(raylet)\u001b[0m [2025-04-12 21:39:38,682 E 2809 2843] (raylet) file_system_monitor.cc:116: /tmp/ray/session_2025-04-12_20-50-22_955978_2486 is over 95% full, available space: 0.836613 GB; capacity: 30 GB. Object creation will fail if spilling is required.\n",
      "\u001b[33m(raylet)\u001b[0m [2025-04-12 21:39:48,691 E 2809 2843] (raylet) file_system_monitor.cc:116: /tmp/ray/session_2025-04-12_20-50-22_955978_2486 is over 95% full, available space: 0.836613 GB; capacity: 30 GB. Object creation will fail if spilling is required.\n",
      "\u001b[33m(raylet)\u001b[0m [2025-04-12 21:39:58,699 E 2809 2843] (raylet) file_system_monitor.cc:116: /tmp/ray/session_2025-04-12_20-50-22_955978_2486 is over 95% full, available space: 0.836613 GB; capacity: 30 GB. Object creation will fail if spilling is required.\n"
     ]
    },
    {
     "name": "stdout",
     "output_type": "stream",
     "text": [
      "\u001b[33m(autoscaler +49m39s)\u001b[0m Error: No available node types can fulfill resource request defaultdict(<class 'float'>, {'CPU': 20.0, 'GPU': 4.0}). Add suitable node types to this cluster to resolve this issue.\n"
     ]
    },
    {
     "name": "stderr",
     "output_type": "stream",
     "text": [
      "\u001b[33m(raylet)\u001b[0m [2025-04-12 21:40:08,707 E 2809 2843] (raylet) file_system_monitor.cc:116: /tmp/ray/session_2025-04-12_20-50-22_955978_2486 is over 95% full, available space: 0.836613 GB; capacity: 30 GB. Object creation will fail if spilling is required.\n",
      "\u001b[33m(raylet)\u001b[0m [2025-04-12 21:40:18,718 E 2809 2843] (raylet) file_system_monitor.cc:116: /tmp/ray/session_2025-04-12_20-50-22_955978_2486 is over 95% full, available space: 0.836613 GB; capacity: 30 GB. Object creation will fail if spilling is required.\n",
      "\u001b[33m(raylet)\u001b[0m [2025-04-12 21:40:28,726 E 2809 2843] (raylet) file_system_monitor.cc:116: /tmp/ray/session_2025-04-12_20-50-22_955978_2486 is over 95% full, available space: 0.836491 GB; capacity: 30 GB. Object creation will fail if spilling is required.\n"
     ]
    },
    {
     "name": "stdout",
     "output_type": "stream",
     "text": [
      "\u001b[33m(autoscaler +50m14s)\u001b[0m Error: No available node types can fulfill resource request defaultdict(<class 'float'>, {'CPU': 20.0, 'GPU': 4.0}). Add suitable node types to this cluster to resolve this issue.\n"
     ]
    },
    {
     "name": "stderr",
     "output_type": "stream",
     "text": [
      "\u001b[33m(raylet)\u001b[0m [2025-04-12 21:40:38,734 E 2809 2843] (raylet) file_system_monitor.cc:116: /tmp/ray/session_2025-04-12_20-50-22_955978_2486 is over 95% full, available space: 0.836952 GB; capacity: 30 GB. Object creation will fail if spilling is required.\n",
      "\u001b[33m(raylet)\u001b[0m [2025-04-12 21:40:48,744 E 2809 2843] (raylet) file_system_monitor.cc:116: /tmp/ray/session_2025-04-12_20-50-22_955978_2486 is over 95% full, available space: 0.836952 GB; capacity: 30 GB. Object creation will fail if spilling is required.\n",
      "\u001b[33m(raylet)\u001b[0m [2025-04-12 21:40:58,757 E 2809 2843] (raylet) file_system_monitor.cc:116: /tmp/ray/session_2025-04-12_20-50-22_955978_2486 is over 95% full, available space: 0.836849 GB; capacity: 30 GB. Object creation will fail if spilling is required.\n",
      "\u001b[33m(raylet)\u001b[0m [2025-04-12 21:41:08,770 E 2809 2843] (raylet) file_system_monitor.cc:116: /tmp/ray/session_2025-04-12_20-50-22_955978_2486 is over 95% full, available space: 0.836849 GB; capacity: 30 GB. Object creation will fail if spilling is required.\n"
     ]
    },
    {
     "name": "stdout",
     "output_type": "stream",
     "text": [
      "\u001b[33m(autoscaler +50m49s)\u001b[0m Error: No available node types can fulfill resource request defaultdict(<class 'float'>, {'CPU': 20.0, 'GPU': 4.0}). Add suitable node types to this cluster to resolve this issue.\n"
     ]
    },
    {
     "name": "stderr",
     "output_type": "stream",
     "text": [
      "\u001b[33m(raylet)\u001b[0m [2025-04-12 21:41:18,780 E 2809 2843] (raylet) file_system_monitor.cc:116: /tmp/ray/session_2025-04-12_20-50-22_955978_2486 is over 95% full, available space: 0.836849 GB; capacity: 30 GB. Object creation will fail if spilling is required.\n",
      "\u001b[33m(raylet)\u001b[0m [2025-04-12 21:41:28,791 E 2809 2843] (raylet) file_system_monitor.cc:116: /tmp/ray/session_2025-04-12_20-50-22_955978_2486 is over 95% full, available space: 0.836849 GB; capacity: 30 GB. Object creation will fail if spilling is required.\n",
      "\u001b[33m(raylet)\u001b[0m [2025-04-12 21:41:38,800 E 2809 2843] (raylet) file_system_monitor.cc:116: /tmp/ray/session_2025-04-12_20-50-22_955978_2486 is over 95% full, available space: 0.836849 GB; capacity: 30 GB. Object creation will fail if spilling is required.\n"
     ]
    },
    {
     "name": "stdout",
     "output_type": "stream",
     "text": [
      "\u001b[33m(autoscaler +51m24s)\u001b[0m Error: No available node types can fulfill resource request defaultdict(<class 'float'>, {'CPU': 20.0, 'GPU': 4.0}). Add suitable node types to this cluster to resolve this issue.\n"
     ]
    },
    {
     "name": "stderr",
     "output_type": "stream",
     "text": [
      "\u001b[33m(raylet)\u001b[0m [2025-04-12 21:41:48,810 E 2809 2843] (raylet) file_system_monitor.cc:116: /tmp/ray/session_2025-04-12_20-50-22_955978_2486 is over 95% full, available space: 0.836796 GB; capacity: 30 GB. Object creation will fail if spilling is required.\n",
      "\u001b[33m(raylet)\u001b[0m [2025-04-12 21:41:58,821 E 2809 2843] (raylet) file_system_monitor.cc:116: /tmp/ray/session_2025-04-12_20-50-22_955978_2486 is over 95% full, available space: 0.836796 GB; capacity: 30 GB. Object creation will fail if spilling is required.\n",
      "\u001b[33m(raylet)\u001b[0m [2025-04-12 21:42:08,831 E 2809 2843] (raylet) file_system_monitor.cc:116: /tmp/ray/session_2025-04-12_20-50-22_955978_2486 is over 95% full, available space: 0.836796 GB; capacity: 30 GB. Object creation will fail if spilling is required.\n",
      "\u001b[33m(raylet)\u001b[0m [2025-04-12 21:42:18,841 E 2809 2843] (raylet) file_system_monitor.cc:116: /tmp/ray/session_2025-04-12_20-50-22_955978_2486 is over 95% full, available space: 0.836796 GB; capacity: 30 GB. Object creation will fail if spilling is required.\n"
     ]
    },
    {
     "name": "stdout",
     "output_type": "stream",
     "text": [
      "\u001b[33m(autoscaler +51m59s)\u001b[0m Error: No available node types can fulfill resource request defaultdict(<class 'float'>, {'CPU': 20.0, 'GPU': 4.0}). Add suitable node types to this cluster to resolve this issue.\n"
     ]
    },
    {
     "name": "stderr",
     "output_type": "stream",
     "text": [
      "\u001b[33m(raylet)\u001b[0m [2025-04-12 21:42:28,848 E 2809 2843] (raylet) file_system_monitor.cc:116: /tmp/ray/session_2025-04-12_20-50-22_955978_2486 is over 95% full, available space: 0.834656 GB; capacity: 30 GB. Object creation will fail if spilling is required.\n",
      "\u001b[33m(raylet)\u001b[0m [2025-04-12 21:42:38,858 E 2809 2843] (raylet) file_system_monitor.cc:116: /tmp/ray/session_2025-04-12_20-50-22_955978_2486 is over 95% full, available space: 0.834656 GB; capacity: 30 GB. Object creation will fail if spilling is required.\n",
      "\u001b[33m(raylet)\u001b[0m [2025-04-12 21:42:48,875 E 2809 2843] (raylet) file_system_monitor.cc:116: /tmp/ray/session_2025-04-12_20-50-22_955978_2486 is over 95% full, available space: 0.834656 GB; capacity: 30 GB. Object creation will fail if spilling is required.\n"
     ]
    },
    {
     "name": "stdout",
     "output_type": "stream",
     "text": [
      "\u001b[33m(autoscaler +52m34s)\u001b[0m Error: No available node types can fulfill resource request defaultdict(<class 'float'>, {'CPU': 20.0, 'GPU': 4.0}). Add suitable node types to this cluster to resolve this issue.\n"
     ]
    },
    {
     "name": "stderr",
     "output_type": "stream",
     "text": [
      "\u001b[33m(raylet)\u001b[0m [2025-04-12 21:42:58,887 E 2809 2843] (raylet) file_system_monitor.cc:116: /tmp/ray/session_2025-04-12_20-50-22_955978_2486 is over 95% full, available space: 0.834656 GB; capacity: 30 GB. Object creation will fail if spilling is required.\n",
      "\u001b[33m(raylet)\u001b[0m [2025-04-12 21:43:08,897 E 2809 2843] (raylet) file_system_monitor.cc:116: /tmp/ray/session_2025-04-12_20-50-22_955978_2486 is over 95% full, available space: 0.834656 GB; capacity: 30 GB. Object creation will fail if spilling is required.\n",
      "\u001b[33m(raylet)\u001b[0m [2025-04-12 21:43:18,907 E 2809 2843] (raylet) file_system_monitor.cc:116: /tmp/ray/session_2025-04-12_20-50-22_955978_2486 is over 95% full, available space: 0.834656 GB; capacity: 30 GB. Object creation will fail if spilling is required.\n",
      "\u001b[33m(raylet)\u001b[0m [2025-04-12 21:43:28,916 E 2809 2843] (raylet) file_system_monitor.cc:116: /tmp/ray/session_2025-04-12_20-50-22_955978_2486 is over 95% full, available space: 0.834412 GB; capacity: 30 GB. Object creation will fail if spilling is required.\n"
     ]
    },
    {
     "name": "stdout",
     "output_type": "stream",
     "text": [
      "\u001b[33m(autoscaler +53m10s)\u001b[0m Error: No available node types can fulfill resource request defaultdict(<class 'float'>, {'CPU': 20.0, 'GPU': 4.0}). Add suitable node types to this cluster to resolve this issue.\n"
     ]
    },
    {
     "name": "stderr",
     "output_type": "stream",
     "text": [
      "\u001b[33m(raylet)\u001b[0m [2025-04-12 21:43:38,924 E 2809 2843] (raylet) file_system_monitor.cc:116: /tmp/ray/session_2025-04-12_20-50-22_955978_2486 is over 95% full, available space: 0.834412 GB; capacity: 30 GB. Object creation will fail if spilling is required.\n",
      "\u001b[33m(raylet)\u001b[0m [2025-04-12 21:43:48,933 E 2809 2843] (raylet) file_system_monitor.cc:116: /tmp/ray/session_2025-04-12_20-50-22_955978_2486 is over 95% full, available space: 0.834412 GB; capacity: 30 GB. Object creation will fail if spilling is required.\n",
      "\u001b[33m(raylet)\u001b[0m [2025-04-12 21:43:58,942 E 2809 2843] (raylet) file_system_monitor.cc:116: /tmp/ray/session_2025-04-12_20-50-22_955978_2486 is over 95% full, available space: 0.834412 GB; capacity: 30 GB. Object creation will fail if spilling is required.\n"
     ]
    },
    {
     "name": "stdout",
     "output_type": "stream",
     "text": [
      "\u001b[33m(autoscaler +53m45s)\u001b[0m Error: No available node types can fulfill resource request defaultdict(<class 'float'>, {'CPU': 20.0, 'GPU': 4.0}). Add suitable node types to this cluster to resolve this issue.\n"
     ]
    },
    {
     "name": "stderr",
     "output_type": "stream",
     "text": [
      "\u001b[33m(raylet)\u001b[0m [2025-04-12 21:44:08,953 E 2809 2843] (raylet) file_system_monitor.cc:116: /tmp/ray/session_2025-04-12_20-50-22_955978_2486 is over 95% full, available space: 0.834412 GB; capacity: 30 GB. Object creation will fail if spilling is required.\n",
      "\u001b[33m(raylet)\u001b[0m [2025-04-12 21:44:18,965 E 2809 2843] (raylet) file_system_monitor.cc:116: /tmp/ray/session_2025-04-12_20-50-22_955978_2486 is over 95% full, available space: 0.834412 GB; capacity: 30 GB. Object creation will fail if spilling is required.\n",
      "\u001b[33m(raylet)\u001b[0m [2025-04-12 21:44:28,977 E 2809 2843] (raylet) file_system_monitor.cc:116: /tmp/ray/session_2025-04-12_20-50-22_955978_2486 is over 95% full, available space: 0.834412 GB; capacity: 30 GB. Object creation will fail if spilling is required.\n",
      "\u001b[33m(raylet)\u001b[0m [2025-04-12 21:44:38,989 E 2809 2843] (raylet) file_system_monitor.cc:116: /tmp/ray/session_2025-04-12_20-50-22_955978_2486 is over 95% full, available space: 0.834412 GB; capacity: 30 GB. Object creation will fail if spilling is required.\n"
     ]
    },
    {
     "name": "stdout",
     "output_type": "stream",
     "text": [
      "\u001b[33m(autoscaler +54m20s)\u001b[0m Error: No available node types can fulfill resource request defaultdict(<class 'float'>, {'CPU': 20.0, 'GPU': 4.0}). Add suitable node types to this cluster to resolve this issue.\n"
     ]
    },
    {
     "name": "stderr",
     "output_type": "stream",
     "text": [
      "\u001b[33m(raylet)\u001b[0m [2025-04-12 21:44:49,002 E 2809 2843] (raylet) file_system_monitor.cc:116: /tmp/ray/session_2025-04-12_20-50-22_955978_2486 is over 95% full, available space: 0.834412 GB; capacity: 30 GB. Object creation will fail if spilling is required.\n",
      "\u001b[33m(raylet)\u001b[0m [2025-04-12 21:44:59,016 E 2809 2843] (raylet) file_system_monitor.cc:116: /tmp/ray/session_2025-04-12_20-50-22_955978_2486 is over 95% full, available space: 0.834412 GB; capacity: 30 GB. Object creation will fail if spilling is required.\n",
      "\u001b[33m(raylet)\u001b[0m [2025-04-12 21:45:09,030 E 2809 2843] (raylet) file_system_monitor.cc:116: /tmp/ray/session_2025-04-12_20-50-22_955978_2486 is over 95% full, available space: 0.834412 GB; capacity: 30 GB. Object creation will fail if spilling is required.\n"
     ]
    },
    {
     "name": "stdout",
     "output_type": "stream",
     "text": [
      "\u001b[33m(autoscaler +54m55s)\u001b[0m Error: No available node types can fulfill resource request defaultdict(<class 'float'>, {'CPU': 20.0, 'GPU': 4.0}). Add suitable node types to this cluster to resolve this issue.\n"
     ]
    },
    {
     "name": "stderr",
     "output_type": "stream",
     "text": [
      "\u001b[33m(raylet)\u001b[0m [2025-04-12 21:45:19,044 E 2809 2843] (raylet) file_system_monitor.cc:116: /tmp/ray/session_2025-04-12_20-50-22_955978_2486 is over 95% full, available space: 0.834511 GB; capacity: 30 GB. Object creation will fail if spilling is required.\n",
      "\u001b[33m(raylet)\u001b[0m [2025-04-12 21:45:29,058 E 2809 2843] (raylet) file_system_monitor.cc:116: /tmp/ray/session_2025-04-12_20-50-22_955978_2486 is over 95% full, available space: 0.834511 GB; capacity: 30 GB. Object creation will fail if spilling is required.\n",
      "\u001b[33m(raylet)\u001b[0m [2025-04-12 21:45:39,072 E 2809 2843] (raylet) file_system_monitor.cc:116: /tmp/ray/session_2025-04-12_20-50-22_955978_2486 is over 95% full, available space: 0.834511 GB; capacity: 30 GB. Object creation will fail if spilling is required.\n",
      "\u001b[33m(raylet)\u001b[0m [2025-04-12 21:45:49,087 E 2809 2843] (raylet) file_system_monitor.cc:116: /tmp/ray/session_2025-04-12_20-50-22_955978_2486 is over 95% full, available space: 0.834663 GB; capacity: 30 GB. Object creation will fail if spilling is required.\n"
     ]
    },
    {
     "name": "stdout",
     "output_type": "stream",
     "text": [
      "\u001b[33m(autoscaler +55m30s)\u001b[0m Error: No available node types can fulfill resource request defaultdict(<class 'float'>, {'CPU': 20.0, 'GPU': 4.0}). Add suitable node types to this cluster to resolve this issue.\n"
     ]
    },
    {
     "name": "stderr",
     "output_type": "stream",
     "text": [
      "\u001b[33m(raylet)\u001b[0m [2025-04-12 21:45:59,101 E 2809 2843] (raylet) file_system_monitor.cc:116: /tmp/ray/session_2025-04-12_20-50-22_955978_2486 is over 95% full, available space: 0.834572 GB; capacity: 30 GB. Object creation will fail if spilling is required.\n",
      "\u001b[33m(raylet)\u001b[0m [2025-04-12 21:46:09,115 E 2809 2843] (raylet) file_system_monitor.cc:116: /tmp/ray/session_2025-04-12_20-50-22_955978_2486 is over 95% full, available space: 0.834572 GB; capacity: 30 GB. Object creation will fail if spilling is required.\n",
      "\u001b[33m(raylet)\u001b[0m [2025-04-12 21:46:19,130 E 2809 2843] (raylet) file_system_monitor.cc:116: /tmp/ray/session_2025-04-12_20-50-22_955978_2486 is over 95% full, available space: 0.834534 GB; capacity: 30 GB. Object creation will fail if spilling is required.\n"
     ]
    },
    {
     "name": "stdout",
     "output_type": "stream",
     "text": [
      "\u001b[33m(autoscaler +56m5s)\u001b[0m Error: No available node types can fulfill resource request defaultdict(<class 'float'>, {'CPU': 20.0, 'GPU': 4.0}). Add suitable node types to this cluster to resolve this issue.\n"
     ]
    },
    {
     "name": "stderr",
     "output_type": "stream",
     "text": [
      "\u001b[33m(raylet)\u001b[0m [2025-04-12 21:46:29,146 E 2809 2843] (raylet) file_system_monitor.cc:116: /tmp/ray/session_2025-04-12_20-50-22_955978_2486 is over 95% full, available space: 0.83429 GB; capacity: 30 GB. Object creation will fail if spilling is required.\n",
      "\u001b[33m(raylet)\u001b[0m [2025-04-12 21:46:39,160 E 2809 2843] (raylet) file_system_monitor.cc:116: /tmp/ray/session_2025-04-12_20-50-22_955978_2486 is over 95% full, available space: 0.83429 GB; capacity: 30 GB. Object creation will fail if spilling is required.\n",
      "\u001b[33m(raylet)\u001b[0m [2025-04-12 21:46:49,173 E 2809 2843] (raylet) file_system_monitor.cc:116: /tmp/ray/session_2025-04-12_20-50-22_955978_2486 is over 95% full, available space: 0.83429 GB; capacity: 30 GB. Object creation will fail if spilling is required.\n",
      "\u001b[33m(raylet)\u001b[0m [2025-04-12 21:46:59,186 E 2809 2843] (raylet) file_system_monitor.cc:116: /tmp/ray/session_2025-04-12_20-50-22_955978_2486 is over 95% full, available space: 0.83429 GB; capacity: 30 GB. Object creation will fail if spilling is required.\n"
     ]
    },
    {
     "name": "stdout",
     "output_type": "stream",
     "text": [
      "\u001b[33m(autoscaler +56m40s)\u001b[0m Error: No available node types can fulfill resource request defaultdict(<class 'float'>, {'CPU': 20.0, 'GPU': 4.0}). Add suitable node types to this cluster to resolve this issue.\n"
     ]
    },
    {
     "name": "stderr",
     "output_type": "stream",
     "text": [
      "\u001b[33m(raylet)\u001b[0m [2025-04-12 21:47:09,206 E 2809 2843] (raylet) file_system_monitor.cc:116: /tmp/ray/session_2025-04-12_20-50-22_955978_2486 is over 95% full, available space: 0.83429 GB; capacity: 30 GB. Object creation will fail if spilling is required.\n",
      "\u001b[33m(raylet)\u001b[0m [2025-04-12 21:47:19,218 E 2809 2843] (raylet) file_system_monitor.cc:116: /tmp/ray/session_2025-04-12_20-50-22_955978_2486 is over 95% full, available space: 0.83429 GB; capacity: 30 GB. Object creation will fail if spilling is required.\n",
      "\u001b[33m(raylet)\u001b[0m [2025-04-12 21:47:29,227 E 2809 2843] (raylet) file_system_monitor.cc:116: /tmp/ray/session_2025-04-12_20-50-22_955978_2486 is over 95% full, available space: 0.83429 GB; capacity: 30 GB. Object creation will fail if spilling is required.\n"
     ]
    },
    {
     "name": "stdout",
     "output_type": "stream",
     "text": [
      "\u001b[33m(autoscaler +57m15s)\u001b[0m Error: No available node types can fulfill resource request defaultdict(<class 'float'>, {'CPU': 20.0, 'GPU': 4.0}). Add suitable node types to this cluster to resolve this issue.\n"
     ]
    },
    {
     "name": "stderr",
     "output_type": "stream",
     "text": [
      "\u001b[33m(raylet)\u001b[0m [2025-04-12 21:47:39,237 E 2809 2843] (raylet) file_system_monitor.cc:116: /tmp/ray/session_2025-04-12_20-50-22_955978_2486 is over 95% full, available space: 0.834282 GB; capacity: 30 GB. Object creation will fail if spilling is required.\n",
      "\u001b[33m(raylet)\u001b[0m [2025-04-12 21:47:49,248 E 2809 2843] (raylet) file_system_monitor.cc:116: /tmp/ray/session_2025-04-12_20-50-22_955978_2486 is over 95% full, available space: 0.834282 GB; capacity: 30 GB. Object creation will fail if spilling is required.\n",
      "\u001b[33m(raylet)\u001b[0m [2025-04-12 21:47:59,258 E 2809 2843] (raylet) file_system_monitor.cc:116: /tmp/ray/session_2025-04-12_20-50-22_955978_2486 is over 95% full, available space: 0.834282 GB; capacity: 30 GB. Object creation will fail if spilling is required.\n",
      "\u001b[33m(raylet)\u001b[0m [2025-04-12 21:48:09,267 E 2809 2843] (raylet) file_system_monitor.cc:116: /tmp/ray/session_2025-04-12_20-50-22_955978_2486 is over 95% full, available space: 0.834282 GB; capacity: 30 GB. Object creation will fail if spilling is required.\n"
     ]
    },
    {
     "name": "stdout",
     "output_type": "stream",
     "text": [
      "\u001b[33m(autoscaler +57m50s)\u001b[0m Error: No available node types can fulfill resource request defaultdict(<class 'float'>, {'CPU': 20.0, 'GPU': 4.0}). Add suitable node types to this cluster to resolve this issue.\n"
     ]
    },
    {
     "name": "stderr",
     "output_type": "stream",
     "text": [
      "\u001b[33m(raylet)\u001b[0m [2025-04-12 21:48:19,276 E 2809 2843] (raylet) file_system_monitor.cc:116: /tmp/ray/session_2025-04-12_20-50-22_955978_2486 is over 95% full, available space: 0.834282 GB; capacity: 30 GB. Object creation will fail if spilling is required.\n",
      "\u001b[33m(raylet)\u001b[0m [2025-04-12 21:48:29,286 E 2809 2843] (raylet) file_system_monitor.cc:116: /tmp/ray/session_2025-04-12_20-50-22_955978_2486 is over 95% full, available space: 0.834282 GB; capacity: 30 GB. Object creation will fail if spilling is required.\n",
      "\u001b[33m(raylet)\u001b[0m [2025-04-12 21:48:39,296 E 2809 2843] (raylet) file_system_monitor.cc:116: /tmp/ray/session_2025-04-12_20-50-22_955978_2486 is over 95% full, available space: 0.834278 GB; capacity: 30 GB. Object creation will fail if spilling is required.\n"
     ]
    },
    {
     "name": "stdout",
     "output_type": "stream",
     "text": [
      "\u001b[33m(autoscaler +58m25s)\u001b[0m Error: No available node types can fulfill resource request defaultdict(<class 'float'>, {'CPU': 20.0, 'GPU': 4.0}). Add suitable node types to this cluster to resolve this issue.\n"
     ]
    },
    {
     "name": "stderr",
     "output_type": "stream",
     "text": [
      "\u001b[33m(raylet)\u001b[0m [2025-04-12 21:48:49,306 E 2809 2843] (raylet) file_system_monitor.cc:116: /tmp/ray/session_2025-04-12_20-50-22_955978_2486 is over 95% full, available space: 0.834278 GB; capacity: 30 GB. Object creation will fail if spilling is required.\n",
      "\u001b[33m(raylet)\u001b[0m [2025-04-12 21:48:59,316 E 2809 2843] (raylet) file_system_monitor.cc:116: /tmp/ray/session_2025-04-12_20-50-22_955978_2486 is over 95% full, available space: 0.834278 GB; capacity: 30 GB. Object creation will fail if spilling is required.\n",
      "\u001b[33m(raylet)\u001b[0m [2025-04-12 21:49:09,326 E 2809 2843] (raylet) file_system_monitor.cc:116: /tmp/ray/session_2025-04-12_20-50-22_955978_2486 is over 95% full, available space: 0.834278 GB; capacity: 30 GB. Object creation will fail if spilling is required.\n",
      "\u001b[33m(raylet)\u001b[0m [2025-04-12 21:49:19,335 E 2809 2843] (raylet) file_system_monitor.cc:116: /tmp/ray/session_2025-04-12_20-50-22_955978_2486 is over 95% full, available space: 0.834278 GB; capacity: 30 GB. Object creation will fail if spilling is required.\n"
     ]
    },
    {
     "name": "stdout",
     "output_type": "stream",
     "text": [
      "\u001b[33m(autoscaler +59m0s)\u001b[0m Error: No available node types can fulfill resource request defaultdict(<class 'float'>, {'CPU': 20.0, 'GPU': 4.0}). Add suitable node types to this cluster to resolve this issue.\n"
     ]
    },
    {
     "name": "stderr",
     "output_type": "stream",
     "text": [
      "\u001b[33m(raylet)\u001b[0m [2025-04-12 21:49:29,344 E 2809 2843] (raylet) file_system_monitor.cc:116: /tmp/ray/session_2025-04-12_20-50-22_955978_2486 is over 95% full, available space: 0.834278 GB; capacity: 30 GB. Object creation will fail if spilling is required.\n",
      "\u001b[33m(raylet)\u001b[0m [2025-04-12 21:49:39,353 E 2809 2843] (raylet) file_system_monitor.cc:116: /tmp/ray/session_2025-04-12_20-50-22_955978_2486 is over 95% full, available space: 0.834278 GB; capacity: 30 GB. Object creation will fail if spilling is required.\n",
      "\u001b[33m(raylet)\u001b[0m [2025-04-12 21:49:49,362 E 2809 2843] (raylet) file_system_monitor.cc:116: /tmp/ray/session_2025-04-12_20-50-22_955978_2486 is over 95% full, available space: 0.834278 GB; capacity: 30 GB. Object creation will fail if spilling is required.\n"
     ]
    },
    {
     "name": "stdout",
     "output_type": "stream",
     "text": [
      "\u001b[33m(autoscaler +59m35s)\u001b[0m Error: No available node types can fulfill resource request defaultdict(<class 'float'>, {'CPU': 20.0, 'GPU': 4.0}). Add suitable node types to this cluster to resolve this issue.\n"
     ]
    },
    {
     "name": "stderr",
     "output_type": "stream",
     "text": [
      "\u001b[33m(raylet)\u001b[0m [2025-04-12 21:49:59,370 E 2809 2843] (raylet) file_system_monitor.cc:116: /tmp/ray/session_2025-04-12_20-50-22_955978_2486 is over 95% full, available space: 0.834278 GB; capacity: 30 GB. Object creation will fail if spilling is required.\n",
      "\u001b[33m(raylet)\u001b[0m [2025-04-12 21:50:09,378 E 2809 2843] (raylet) file_system_monitor.cc:116: /tmp/ray/session_2025-04-12_20-50-22_955978_2486 is over 95% full, available space: 0.834278 GB; capacity: 30 GB. Object creation will fail if spilling is required.\n",
      "\u001b[33m(raylet)\u001b[0m [2025-04-12 21:50:19,387 E 2809 2843] (raylet) file_system_monitor.cc:116: /tmp/ray/session_2025-04-12_20-50-22_955978_2486 is over 95% full, available space: 0.834278 GB; capacity: 30 GB. Object creation will fail if spilling is required.\n",
      "\u001b[33m(raylet)\u001b[0m [2025-04-12 21:50:29,396 E 2809 2843] (raylet) file_system_monitor.cc:116: /tmp/ray/session_2025-04-12_20-50-22_955978_2486 is over 95% full, available space: 0.834278 GB; capacity: 30 GB. Object creation will fail if spilling is required.\n"
     ]
    },
    {
     "name": "stdout",
     "output_type": "stream",
     "text": [
      "\u001b[33m(autoscaler +1h11s)\u001b[0m Error: No available node types can fulfill resource request defaultdict(<class 'float'>, {'CPU': 20.0, 'GPU': 4.0}). Add suitable node types to this cluster to resolve this issue.\n"
     ]
    },
    {
     "name": "stderr",
     "output_type": "stream",
     "text": [
      "\u001b[33m(raylet)\u001b[0m [2025-04-12 21:50:39,404 E 2809 2843] (raylet) file_system_monitor.cc:116: /tmp/ray/session_2025-04-12_20-50-22_955978_2486 is over 95% full, available space: 0.834278 GB; capacity: 30 GB. Object creation will fail if spilling is required.\n",
      "\u001b[33m(raylet)\u001b[0m [2025-04-12 21:50:49,414 E 2809 2843] (raylet) file_system_monitor.cc:116: /tmp/ray/session_2025-04-12_20-50-22_955978_2486 is over 95% full, available space: 0.834278 GB; capacity: 30 GB. Object creation will fail if spilling is required.\n",
      "\u001b[33m(raylet)\u001b[0m [2025-04-12 21:50:59,423 E 2809 2843] (raylet) file_system_monitor.cc:116: /tmp/ray/session_2025-04-12_20-50-22_955978_2486 is over 95% full, available space: 0.83437 GB; capacity: 30 GB. Object creation will fail if spilling is required.\n"
     ]
    },
    {
     "name": "stdout",
     "output_type": "stream",
     "text": [
      "\u001b[33m(autoscaler +1h46s)\u001b[0m Error: No available node types can fulfill resource request defaultdict(<class 'float'>, {'CPU': 20.0, 'GPU': 4.0}). Add suitable node types to this cluster to resolve this issue.\n"
     ]
    },
    {
     "name": "stderr",
     "output_type": "stream",
     "text": [
      "\u001b[33m(raylet)\u001b[0m [2025-04-12 21:51:09,431 E 2809 2843] (raylet) file_system_monitor.cc:116: /tmp/ray/session_2025-04-12_20-50-22_955978_2486 is over 95% full, available space: 0.83437 GB; capacity: 30 GB. Object creation will fail if spilling is required.\n",
      "\u001b[33m(raylet)\u001b[0m [2025-04-12 21:51:19,441 E 2809 2843] (raylet) file_system_monitor.cc:116: /tmp/ray/session_2025-04-12_20-50-22_955978_2486 is over 95% full, available space: 0.83437 GB; capacity: 30 GB. Object creation will fail if spilling is required.\n",
      "\u001b[33m(raylet)\u001b[0m [2025-04-12 21:51:29,450 E 2809 2843] (raylet) file_system_monitor.cc:116: /tmp/ray/session_2025-04-12_20-50-22_955978_2486 is over 95% full, available space: 0.834156 GB; capacity: 30 GB. Object creation will fail if spilling is required.\n",
      "\u001b[33m(raylet)\u001b[0m [2025-04-12 21:51:39,458 E 2809 2843] (raylet) file_system_monitor.cc:116: /tmp/ray/session_2025-04-12_20-50-22_955978_2486 is over 95% full, available space: 0.834156 GB; capacity: 30 GB. Object creation will fail if spilling is required.\n"
     ]
    },
    {
     "name": "stdout",
     "output_type": "stream",
     "text": [
      "\u001b[33m(autoscaler +1h1m21s)\u001b[0m Error: No available node types can fulfill resource request defaultdict(<class 'float'>, {'CPU': 20.0, 'GPU': 4.0}). Add suitable node types to this cluster to resolve this issue.\n"
     ]
    },
    {
     "name": "stderr",
     "output_type": "stream",
     "text": [
      "\u001b[33m(raylet)\u001b[0m [2025-04-12 21:51:49,467 E 2809 2843] (raylet) file_system_monitor.cc:116: /tmp/ray/session_2025-04-12_20-50-22_955978_2486 is over 95% full, available space: 0.834156 GB; capacity: 30 GB. Object creation will fail if spilling is required.\n",
      "\u001b[33m(raylet)\u001b[0m [2025-04-12 21:51:59,476 E 2809 2843] (raylet) file_system_monitor.cc:116: /tmp/ray/session_2025-04-12_20-50-22_955978_2486 is over 95% full, available space: 0.834156 GB; capacity: 30 GB. Object creation will fail if spilling is required.\n",
      "\u001b[33m(raylet)\u001b[0m [2025-04-12 21:52:09,485 E 2809 2843] (raylet) file_system_monitor.cc:116: /tmp/ray/session_2025-04-12_20-50-22_955978_2486 is over 95% full, available space: 0.834156 GB; capacity: 30 GB. Object creation will fail if spilling is required.\n"
     ]
    },
    {
     "name": "stdout",
     "output_type": "stream",
     "text": [
      "\u001b[33m(autoscaler +1h1m56s)\u001b[0m Error: No available node types can fulfill resource request defaultdict(<class 'float'>, {'CPU': 20.0, 'GPU': 4.0}). Add suitable node types to this cluster to resolve this issue.\n"
     ]
    },
    {
     "name": "stderr",
     "output_type": "stream",
     "text": [
      "\u001b[33m(raylet)\u001b[0m [2025-04-12 21:52:19,493 E 2809 2843] (raylet) file_system_monitor.cc:116: /tmp/ray/session_2025-04-12_20-50-22_955978_2486 is over 95% full, available space: 0.834156 GB; capacity: 30 GB. Object creation will fail if spilling is required.\n",
      "\u001b[33m(raylet)\u001b[0m [2025-04-12 21:52:29,501 E 2809 2843] (raylet) file_system_monitor.cc:116: /tmp/ray/session_2025-04-12_20-50-22_955978_2486 is over 95% full, available space: 0.833912 GB; capacity: 30 GB. Object creation will fail if spilling is required.\n",
      "\u001b[33m(raylet)\u001b[0m [2025-04-12 21:52:39,509 E 2809 2843] (raylet) file_system_monitor.cc:116: /tmp/ray/session_2025-04-12_20-50-22_955978_2486 is over 95% full, available space: 0.833908 GB; capacity: 30 GB. Object creation will fail if spilling is required.\n",
      "\u001b[33m(raylet)\u001b[0m [2025-04-12 21:52:49,520 E 2809 2843] (raylet) file_system_monitor.cc:116: /tmp/ray/session_2025-04-12_20-50-22_955978_2486 is over 95% full, available space: 0.833908 GB; capacity: 30 GB. Object creation will fail if spilling is required.\n"
     ]
    },
    {
     "name": "stdout",
     "output_type": "stream",
     "text": [
      "\u001b[33m(autoscaler +1h2m31s)\u001b[0m Error: No available node types can fulfill resource request defaultdict(<class 'float'>, {'CPU': 20.0, 'GPU': 4.0}). Add suitable node types to this cluster to resolve this issue.\n"
     ]
    },
    {
     "name": "stderr",
     "output_type": "stream",
     "text": [
      "\u001b[33m(raylet)\u001b[0m [2025-04-12 21:52:59,528 E 2809 2843] (raylet) file_system_monitor.cc:116: /tmp/ray/session_2025-04-12_20-50-22_955978_2486 is over 95% full, available space: 0.833904 GB; capacity: 30 GB. Object creation will fail if spilling is required.\n",
      "\u001b[33m(raylet)\u001b[0m [2025-04-12 21:53:09,538 E 2809 2843] (raylet) file_system_monitor.cc:116: /tmp/ray/session_2025-04-12_20-50-22_955978_2486 is over 95% full, available space: 0.833904 GB; capacity: 30 GB. Object creation will fail if spilling is required.\n",
      "\u001b[33m(raylet)\u001b[0m [2025-04-12 21:53:19,547 E 2809 2843] (raylet) file_system_monitor.cc:116: /tmp/ray/session_2025-04-12_20-50-22_955978_2486 is over 95% full, available space: 0.833904 GB; capacity: 30 GB. Object creation will fail if spilling is required.\n"
     ]
    },
    {
     "name": "stdout",
     "output_type": "stream",
     "text": [
      "\u001b[33m(autoscaler +1h3m6s)\u001b[0m Error: No available node types can fulfill resource request defaultdict(<class 'float'>, {'CPU': 20.0, 'GPU': 4.0}). Add suitable node types to this cluster to resolve this issue.\n"
     ]
    },
    {
     "name": "stderr",
     "output_type": "stream",
     "text": [
      "\u001b[33m(raylet)\u001b[0m [2025-04-12 21:53:29,557 E 2809 2843] (raylet) file_system_monitor.cc:116: /tmp/ray/session_2025-04-12_20-50-22_955978_2486 is over 95% full, available space: 0.833538 GB; capacity: 30 GB. Object creation will fail if spilling is required.\n",
      "\u001b[33m(raylet)\u001b[0m [2025-04-12 21:53:39,567 E 2809 2843] (raylet) file_system_monitor.cc:116: /tmp/ray/session_2025-04-12_20-50-22_955978_2486 is over 95% full, available space: 0.833538 GB; capacity: 30 GB. Object creation will fail if spilling is required.\n",
      "\u001b[33m(raylet)\u001b[0m [2025-04-12 21:53:49,578 E 2809 2843] (raylet) file_system_monitor.cc:116: /tmp/ray/session_2025-04-12_20-50-22_955978_2486 is over 95% full, available space: 0.833538 GB; capacity: 30 GB. Object creation will fail if spilling is required.\n",
      "\u001b[33m(raylet)\u001b[0m [2025-04-12 21:53:59,589 E 2809 2843] (raylet) file_system_monitor.cc:116: /tmp/ray/session_2025-04-12_20-50-22_955978_2486 is over 95% full, available space: 0.833538 GB; capacity: 30 GB. Object creation will fail if spilling is required.\n"
     ]
    },
    {
     "name": "stdout",
     "output_type": "stream",
     "text": [
      "\u001b[33m(autoscaler +1h3m41s)\u001b[0m Error: No available node types can fulfill resource request defaultdict(<class 'float'>, {'CPU': 20.0, 'GPU': 4.0}). Add suitable node types to this cluster to resolve this issue.\n"
     ]
    },
    {
     "name": "stderr",
     "output_type": "stream",
     "text": [
      "\u001b[33m(raylet)\u001b[0m [2025-04-12 21:54:09,599 E 2809 2843] (raylet) file_system_monitor.cc:116: /tmp/ray/session_2025-04-12_20-50-22_955978_2486 is over 95% full, available space: 0.833538 GB; capacity: 30 GB. Object creation will fail if spilling is required.\n",
      "\u001b[33m(raylet)\u001b[0m [2025-04-12 21:54:19,608 E 2809 2843] (raylet) file_system_monitor.cc:116: /tmp/ray/session_2025-04-12_20-50-22_955978_2486 is over 95% full, available space: 0.833538 GB; capacity: 30 GB. Object creation will fail if spilling is required.\n",
      "\u001b[33m(raylet)\u001b[0m [2025-04-12 21:54:29,618 E 2809 2843] (raylet) file_system_monitor.cc:116: /tmp/ray/session_2025-04-12_20-50-22_955978_2486 is over 95% full, available space: 0.833294 GB; capacity: 30 GB. Object creation will fail if spilling is required.\n"
     ]
    },
    {
     "name": "stdout",
     "output_type": "stream",
     "text": [
      "\u001b[33m(autoscaler +1h4m16s)\u001b[0m Error: No available node types can fulfill resource request defaultdict(<class 'float'>, {'CPU': 20.0, 'GPU': 4.0}). Add suitable node types to this cluster to resolve this issue.\n"
     ]
    },
    {
     "name": "stderr",
     "output_type": "stream",
     "text": [
      "\u001b[33m(raylet)\u001b[0m [2025-04-12 21:54:39,628 E 2809 2843] (raylet) file_system_monitor.cc:116: /tmp/ray/session_2025-04-12_20-50-22_955978_2486 is over 95% full, available space: 0.833294 GB; capacity: 30 GB. Object creation will fail if spilling is required.\n",
      "\u001b[33m(raylet)\u001b[0m [2025-04-12 21:54:49,638 E 2809 2843] (raylet) file_system_monitor.cc:116: /tmp/ray/session_2025-04-12_20-50-22_955978_2486 is over 95% full, available space: 0.833294 GB; capacity: 30 GB. Object creation will fail if spilling is required.\n",
      "\u001b[33m(raylet)\u001b[0m [2025-04-12 21:54:59,646 E 2809 2843] (raylet) file_system_monitor.cc:116: /tmp/ray/session_2025-04-12_20-50-22_955978_2486 is over 95% full, available space: 0.833294 GB; capacity: 30 GB. Object creation will fail if spilling is required.\n",
      "\u001b[33m(raylet)\u001b[0m [2025-04-12 21:55:09,656 E 2809 2843] (raylet) file_system_monitor.cc:116: /tmp/ray/session_2025-04-12_20-50-22_955978_2486 is over 95% full, available space: 0.833294 GB; capacity: 30 GB. Object creation will fail if spilling is required.\n"
     ]
    },
    {
     "name": "stdout",
     "output_type": "stream",
     "text": [
      "\u001b[33m(autoscaler +1h4m51s)\u001b[0m Error: No available node types can fulfill resource request defaultdict(<class 'float'>, {'CPU': 20.0, 'GPU': 4.0}). Add suitable node types to this cluster to resolve this issue.\n"
     ]
    },
    {
     "name": "stderr",
     "output_type": "stream",
     "text": [
      "\u001b[33m(raylet)\u001b[0m [2025-04-12 21:55:19,666 E 2809 2843] (raylet) file_system_monitor.cc:116: /tmp/ray/session_2025-04-12_20-50-22_955978_2486 is over 95% full, available space: 0.833294 GB; capacity: 30 GB. Object creation will fail if spilling is required.\n",
      "\u001b[33m(raylet)\u001b[0m [2025-04-12 21:55:29,676 E 2809 2843] (raylet) file_system_monitor.cc:116: /tmp/ray/session_2025-04-12_20-50-22_955978_2486 is over 95% full, available space: 0.833294 GB; capacity: 30 GB. Object creation will fail if spilling is required.\n",
      "\u001b[33m(raylet)\u001b[0m [2025-04-12 21:55:39,686 E 2809 2843] (raylet) file_system_monitor.cc:116: /tmp/ray/session_2025-04-12_20-50-22_955978_2486 is over 95% full, available space: 0.83305 GB; capacity: 30 GB. Object creation will fail if spilling is required.\n"
     ]
    },
    {
     "name": "stdout",
     "output_type": "stream",
     "text": [
      "\u001b[33m(autoscaler +1h5m26s)\u001b[0m Error: No available node types can fulfill resource request defaultdict(<class 'float'>, {'CPU': 20.0, 'GPU': 4.0}). Add suitable node types to this cluster to resolve this issue.\n"
     ]
    },
    {
     "name": "stderr",
     "output_type": "stream",
     "text": [
      "\u001b[33m(raylet)\u001b[0m [2025-04-12 21:55:49,696 E 2809 2843] (raylet) file_system_monitor.cc:116: /tmp/ray/session_2025-04-12_20-50-22_955978_2486 is over 95% full, available space: 0.83305 GB; capacity: 30 GB. Object creation will fail if spilling is required.\n",
      "\u001b[33m(raylet)\u001b[0m [2025-04-12 21:55:59,706 E 2809 2843] (raylet) file_system_monitor.cc:116: /tmp/ray/session_2025-04-12_20-50-22_955978_2486 is over 95% full, available space: 0.83305 GB; capacity: 30 GB. Object creation will fail if spilling is required.\n",
      "\u001b[33m(raylet)\u001b[0m [2025-04-12 21:56:09,716 E 2809 2843] (raylet) file_system_monitor.cc:116: /tmp/ray/session_2025-04-12_20-50-22_955978_2486 is over 95% full, available space: 0.834465 GB; capacity: 30 GB. Object creation will fail if spilling is required.\n",
      "\u001b[33m(raylet)\u001b[0m [2025-04-12 21:56:19,726 E 2809 2843] (raylet) file_system_monitor.cc:116: /tmp/ray/session_2025-04-12_20-50-22_955978_2486 is over 95% full, available space: 0.834465 GB; capacity: 30 GB. Object creation will fail if spilling is required.\n"
     ]
    },
    {
     "name": "stdout",
     "output_type": "stream",
     "text": [
      "\u001b[33m(autoscaler +1h6m1s)\u001b[0m Error: No available node types can fulfill resource request defaultdict(<class 'float'>, {'CPU': 20.0, 'GPU': 4.0}). Add suitable node types to this cluster to resolve this issue.\n"
     ]
    },
    {
     "name": "stderr",
     "output_type": "stream",
     "text": [
      "\u001b[33m(raylet)\u001b[0m [2025-04-12 21:56:29,736 E 2809 2843] (raylet) file_system_monitor.cc:116: /tmp/ray/session_2025-04-12_20-50-22_955978_2486 is over 95% full, available space: 0.832134 GB; capacity: 30 GB. Object creation will fail if spilling is required.\n",
      "\u001b[33m(raylet)\u001b[0m [2025-04-12 21:56:39,745 E 2809 2843] (raylet) file_system_monitor.cc:116: /tmp/ray/session_2025-04-12_20-50-22_955978_2486 is over 95% full, available space: 0.832134 GB; capacity: 30 GB. Object creation will fail if spilling is required.\n",
      "\u001b[33m(raylet)\u001b[0m [2025-04-12 21:56:49,756 E 2809 2843] (raylet) file_system_monitor.cc:116: /tmp/ray/session_2025-04-12_20-50-22_955978_2486 is over 95% full, available space: 0.83213 GB; capacity: 30 GB. Object creation will fail if spilling is required.\n"
     ]
    },
    {
     "name": "stdout",
     "output_type": "stream",
     "text": [
      "\u001b[33m(autoscaler +1h6m36s)\u001b[0m Error: No available node types can fulfill resource request defaultdict(<class 'float'>, {'CPU': 20.0, 'GPU': 4.0}). Add suitable node types to this cluster to resolve this issue.\n"
     ]
    },
    {
     "name": "stderr",
     "output_type": "stream",
     "text": [
      "\u001b[33m(raylet)\u001b[0m [2025-04-12 21:56:59,766 E 2809 2843] (raylet) file_system_monitor.cc:116: /tmp/ray/session_2025-04-12_20-50-22_955978_2486 is over 95% full, available space: 0.83213 GB; capacity: 30 GB. Object creation will fail if spilling is required.\n",
      "\u001b[33m(raylet)\u001b[0m [2025-04-12 21:57:09,777 E 2809 2843] (raylet) file_system_monitor.cc:116: /tmp/ray/session_2025-04-12_20-50-22_955978_2486 is over 95% full, available space: 0.83213 GB; capacity: 30 GB. Object creation will fail if spilling is required.\n",
      "\u001b[33m(raylet)\u001b[0m [2025-04-12 21:57:19,796 E 2809 2843] (raylet) file_system_monitor.cc:116: /tmp/ray/session_2025-04-12_20-50-22_955978_2486 is over 95% full, available space: 0.83213 GB; capacity: 30 GB. Object creation will fail if spilling is required.\n",
      "\u001b[33m(raylet)\u001b[0m [2025-04-12 21:57:29,809 E 2809 2843] (raylet) file_system_monitor.cc:116: /tmp/ray/session_2025-04-12_20-50-22_955978_2486 is over 95% full, available space: 0.83213 GB; capacity: 30 GB. Object creation will fail if spilling is required.\n"
     ]
    },
    {
     "name": "stdout",
     "output_type": "stream",
     "text": [
      "\u001b[33m(autoscaler +1h7m11s)\u001b[0m Error: No available node types can fulfill resource request defaultdict(<class 'float'>, {'CPU': 20.0, 'GPU': 4.0}). Add suitable node types to this cluster to resolve this issue.\n"
     ]
    },
    {
     "name": "stderr",
     "output_type": "stream",
     "text": [
      "\u001b[33m(raylet)\u001b[0m [2025-04-12 21:57:39,827 E 2809 2843] (raylet) file_system_monitor.cc:116: /tmp/ray/session_2025-04-12_20-50-22_955978_2486 is over 95% full, available space: 0.83213 GB; capacity: 30 GB. Object creation will fail if spilling is required.\n",
      "\u001b[33m(raylet)\u001b[0m [2025-04-12 21:57:49,842 E 2809 2843] (raylet) file_system_monitor.cc:116: /tmp/ray/session_2025-04-12_20-50-22_955978_2486 is over 95% full, available space: 0.83213 GB; capacity: 30 GB. Object creation will fail if spilling is required.\n",
      "\u001b[33m(raylet)\u001b[0m [2025-04-12 21:57:59,851 E 2809 2843] (raylet) file_system_monitor.cc:116: /tmp/ray/session_2025-04-12_20-50-22_955978_2486 is over 95% full, available space: 0.83213 GB; capacity: 30 GB. Object creation will fail if spilling is required.\n"
     ]
    },
    {
     "name": "stdout",
     "output_type": "stream",
     "text": [
      "\u001b[33m(autoscaler +1h7m47s)\u001b[0m Error: No available node types can fulfill resource request defaultdict(<class 'float'>, {'CPU': 20.0, 'GPU': 4.0}). Add suitable node types to this cluster to resolve this issue.\n"
     ]
    },
    {
     "name": "stderr",
     "output_type": "stream",
     "text": [
      "\u001b[33m(raylet)\u001b[0m [2025-04-12 21:58:09,861 E 2809 2843] (raylet) file_system_monitor.cc:116: /tmp/ray/session_2025-04-12_20-50-22_955978_2486 is over 95% full, available space: 0.83213 GB; capacity: 30 GB. Object creation will fail if spilling is required.\n",
      "\u001b[33m(raylet)\u001b[0m [2025-04-12 21:58:19,870 E 2809 2843] (raylet) file_system_monitor.cc:116: /tmp/ray/session_2025-04-12_20-50-22_955978_2486 is over 95% full, available space: 0.83213 GB; capacity: 30 GB. Object creation will fail if spilling is required.\n",
      "\u001b[33m(raylet)\u001b[0m [2025-04-12 21:58:29,879 E 2809 2843] (raylet) file_system_monitor.cc:116: /tmp/ray/session_2025-04-12_20-50-22_955978_2486 is over 95% full, available space: 0.83213 GB; capacity: 30 GB. Object creation will fail if spilling is required.\n",
      "\u001b[33m(raylet)\u001b[0m [2025-04-12 21:58:39,889 E 2809 2843] (raylet) file_system_monitor.cc:116: /tmp/ray/session_2025-04-12_20-50-22_955978_2486 is over 95% full, available space: 0.83213 GB; capacity: 30 GB. Object creation will fail if spilling is required.\n"
     ]
    },
    {
     "name": "stdout",
     "output_type": "stream",
     "text": [
      "\u001b[33m(autoscaler +1h8m22s)\u001b[0m Error: No available node types can fulfill resource request defaultdict(<class 'float'>, {'CPU': 20.0, 'GPU': 4.0}). Add suitable node types to this cluster to resolve this issue.\n"
     ]
    },
    {
     "name": "stderr",
     "output_type": "stream",
     "text": [
      "\u001b[33m(raylet)\u001b[0m [2025-04-12 21:58:49,898 E 2809 2843] (raylet) file_system_monitor.cc:116: /tmp/ray/session_2025-04-12_20-50-22_955978_2486 is over 95% full, available space: 0.832127 GB; capacity: 30 GB. Object creation will fail if spilling is required.\n",
      "\u001b[33m(raylet)\u001b[0m [2025-04-12 21:58:59,906 E 2809 2843] (raylet) file_system_monitor.cc:116: /tmp/ray/session_2025-04-12_20-50-22_955978_2486 is over 95% full, available space: 0.832127 GB; capacity: 30 GB. Object creation will fail if spilling is required.\n",
      "\u001b[33m(raylet)\u001b[0m [2025-04-12 21:59:09,916 E 2809 2843] (raylet) file_system_monitor.cc:116: /tmp/ray/session_2025-04-12_20-50-22_955978_2486 is over 95% full, available space: 0.832127 GB; capacity: 30 GB. Object creation will fail if spilling is required.\n"
     ]
    },
    {
     "name": "stdout",
     "output_type": "stream",
     "text": [
      "\u001b[33m(autoscaler +1h8m57s)\u001b[0m Error: No available node types can fulfill resource request defaultdict(<class 'float'>, {'CPU': 20.0, 'GPU': 4.0}). Add suitable node types to this cluster to resolve this issue.\n"
     ]
    },
    {
     "name": "stderr",
     "output_type": "stream",
     "text": [
      "\u001b[33m(raylet)\u001b[0m [2025-04-12 21:59:19,926 E 2809 2843] (raylet) file_system_monitor.cc:116: /tmp/ray/session_2025-04-12_20-50-22_955978_2486 is over 95% full, available space: 0.832127 GB; capacity: 30 GB. Object creation will fail if spilling is required.\n",
      "\u001b[33m(raylet)\u001b[0m [2025-04-12 21:59:29,936 E 2809 2843] (raylet) file_system_monitor.cc:116: /tmp/ray/session_2025-04-12_20-50-22_955978_2486 is over 95% full, available space: 0.832127 GB; capacity: 30 GB. Object creation will fail if spilling is required.\n",
      "\u001b[33m(raylet)\u001b[0m [2025-04-12 21:59:39,946 E 2809 2843] (raylet) file_system_monitor.cc:116: /tmp/ray/session_2025-04-12_20-50-22_955978_2486 is over 95% full, available space: 0.832127 GB; capacity: 30 GB. Object creation will fail if spilling is required.\n",
      "\u001b[33m(raylet)\u001b[0m [2025-04-12 21:59:49,955 E 2809 2843] (raylet) file_system_monitor.cc:116: /tmp/ray/session_2025-04-12_20-50-22_955978_2486 is over 95% full, available space: 0.832123 GB; capacity: 30 GB. Object creation will fail if spilling is required.\n"
     ]
    },
    {
     "name": "stdout",
     "output_type": "stream",
     "text": [
      "\u001b[33m(autoscaler +1h9m32s)\u001b[0m Error: No available node types can fulfill resource request defaultdict(<class 'float'>, {'CPU': 20.0, 'GPU': 4.0}). Add suitable node types to this cluster to resolve this issue.\n"
     ]
    },
    {
     "name": "stderr",
     "output_type": "stream",
     "text": [
      "\u001b[33m(raylet)\u001b[0m [2025-04-12 21:59:59,966 E 2809 2843] (raylet) file_system_monitor.cc:116: /tmp/ray/session_2025-04-12_20-50-22_955978_2486 is over 95% full, available space: 0.832123 GB; capacity: 30 GB. Object creation will fail if spilling is required.\n",
      "\u001b[33m(raylet)\u001b[0m [2025-04-12 22:00:09,975 E 2809 2843] (raylet) file_system_monitor.cc:116: /tmp/ray/session_2025-04-12_20-50-22_955978_2486 is over 95% full, available space: 0.832123 GB; capacity: 30 GB. Object creation will fail if spilling is required.\n",
      "\u001b[33m(raylet)\u001b[0m [2025-04-12 22:00:19,986 E 2809 2843] (raylet) file_system_monitor.cc:116: /tmp/ray/session_2025-04-12_20-50-22_955978_2486 is over 95% full, available space: 0.832123 GB; capacity: 30 GB. Object creation will fail if spilling is required.\n"
     ]
    },
    {
     "name": "stdout",
     "output_type": "stream",
     "text": [
      "\u001b[33m(autoscaler +1h10m7s)\u001b[0m Error: No available node types can fulfill resource request defaultdict(<class 'float'>, {'CPU': 20.0, 'GPU': 4.0}). Add suitable node types to this cluster to resolve this issue.\n"
     ]
    },
    {
     "name": "stderr",
     "output_type": "stream",
     "text": [
      "\u001b[33m(raylet)\u001b[0m [2025-04-12 22:00:29,996 E 2809 2843] (raylet) file_system_monitor.cc:116: /tmp/ray/session_2025-04-12_20-50-22_955978_2486 is over 95% full, available space: 0.832123 GB; capacity: 30 GB. Object creation will fail if spilling is required.\n",
      "\u001b[33m(raylet)\u001b[0m [2025-04-12 22:00:40,007 E 2809 2843] (raylet) file_system_monitor.cc:116: /tmp/ray/session_2025-04-12_20-50-22_955978_2486 is over 95% full, available space: 0.832123 GB; capacity: 30 GB. Object creation will fail if spilling is required.\n",
      "\u001b[33m(raylet)\u001b[0m [2025-04-12 22:00:50,019 E 2809 2843] (raylet) file_system_monitor.cc:116: /tmp/ray/session_2025-04-12_20-50-22_955978_2486 is over 95% full, available space: 0.832123 GB; capacity: 30 GB. Object creation will fail if spilling is required.\n",
      "\u001b[33m(raylet)\u001b[0m [2025-04-12 22:01:00,029 E 2809 2843] (raylet) file_system_monitor.cc:116: /tmp/ray/session_2025-04-12_20-50-22_955978_2486 is over 95% full, available space: 0.832001 GB; capacity: 30 GB. Object creation will fail if spilling is required.\n"
     ]
    },
    {
     "name": "stdout",
     "output_type": "stream",
     "text": [
      "\u001b[33m(autoscaler +1h10m42s)\u001b[0m Error: No available node types can fulfill resource request defaultdict(<class 'float'>, {'CPU': 20.0, 'GPU': 4.0}). Add suitable node types to this cluster to resolve this issue.\n"
     ]
    },
    {
     "name": "stderr",
     "output_type": "stream",
     "text": [
      "\u001b[33m(raylet)\u001b[0m [2025-04-12 22:01:10,040 E 2809 2843] (raylet) file_system_monitor.cc:116: /tmp/ray/session_2025-04-12_20-50-22_955978_2486 is over 95% full, available space: 0.832001 GB; capacity: 30 GB. Object creation will fail if spilling is required.\n",
      "\u001b[33m(raylet)\u001b[0m [2025-04-12 22:01:20,051 E 2809 2843] (raylet) file_system_monitor.cc:116: /tmp/ray/session_2025-04-12_20-50-22_955978_2486 is over 95% full, available space: 0.833714 GB; capacity: 30 GB. Object creation will fail if spilling is required.\n",
      "\u001b[33m(raylet)\u001b[0m [2025-04-12 22:01:30,062 E 2809 2843] (raylet) file_system_monitor.cc:116: /tmp/ray/session_2025-04-12_20-50-22_955978_2486 is over 95% full, available space: 0.832699 GB; capacity: 30 GB. Object creation will fail if spilling is required.\n"
     ]
    },
    {
     "name": "stdout",
     "output_type": "stream",
     "text": [
      "\u001b[33m(autoscaler +1h11m17s)\u001b[0m Error: No available node types can fulfill resource request defaultdict(<class 'float'>, {'CPU': 20.0, 'GPU': 4.0}). Add suitable node types to this cluster to resolve this issue.\n"
     ]
    },
    {
     "name": "stderr",
     "output_type": "stream",
     "text": [
      "\u001b[33m(raylet)\u001b[0m [2025-04-12 22:01:40,074 E 2809 2843] (raylet) file_system_monitor.cc:116: /tmp/ray/session_2025-04-12_20-50-22_955978_2486 is over 95% full, available space: 0.832672 GB; capacity: 30 GB. Object creation will fail if spilling is required.\n",
      "\u001b[33m(raylet)\u001b[0m [2025-04-12 22:01:50,084 E 2809 2843] (raylet) file_system_monitor.cc:116: /tmp/ray/session_2025-04-12_20-50-22_955978_2486 is over 95% full, available space: 0.832672 GB; capacity: 30 GB. Object creation will fail if spilling is required.\n",
      "\u001b[33m(raylet)\u001b[0m [2025-04-12 22:02:00,094 E 2809 2843] (raylet) file_system_monitor.cc:116: /tmp/ray/session_2025-04-12_20-50-22_955978_2486 is over 95% full, available space: 0.832668 GB; capacity: 30 GB. Object creation will fail if spilling is required.\n",
      "\u001b[33m(raylet)\u001b[0m [2025-04-12 22:02:10,105 E 2809 2843] (raylet) file_system_monitor.cc:116: /tmp/ray/session_2025-04-12_20-50-22_955978_2486 is over 95% full, available space: 0.832668 GB; capacity: 30 GB. Object creation will fail if spilling is required.\n"
     ]
    },
    {
     "name": "stdout",
     "output_type": "stream",
     "text": [
      "\u001b[33m(autoscaler +1h11m52s)\u001b[0m Error: No available node types can fulfill resource request defaultdict(<class 'float'>, {'CPU': 20.0, 'GPU': 4.0}). Add suitable node types to this cluster to resolve this issue.\n"
     ]
    },
    {
     "name": "stderr",
     "output_type": "stream",
     "text": [
      "\u001b[33m(raylet)\u001b[0m [2025-04-12 22:02:20,114 E 2809 2843] (raylet) file_system_monitor.cc:116: /tmp/ray/session_2025-04-12_20-50-22_955978_2486 is over 95% full, available space: 0.832668 GB; capacity: 30 GB. Object creation will fail if spilling is required.\n",
      "\u001b[33m(raylet)\u001b[0m [2025-04-12 22:02:30,125 E 2809 2843] (raylet) file_system_monitor.cc:116: /tmp/ray/session_2025-04-12_20-50-22_955978_2486 is over 95% full, available space: 0.832668 GB; capacity: 30 GB. Object creation will fail if spilling is required.\n",
      "\u001b[33m(raylet)\u001b[0m [2025-04-12 22:02:40,134 E 2809 2843] (raylet) file_system_monitor.cc:116: /tmp/ray/session_2025-04-12_20-50-22_955978_2486 is over 95% full, available space: 0.832664 GB; capacity: 30 GB. Object creation will fail if spilling is required.\n"
     ]
    },
    {
     "name": "stdout",
     "output_type": "stream",
     "text": [
      "\u001b[33m(autoscaler +1h12m27s)\u001b[0m Error: No available node types can fulfill resource request defaultdict(<class 'float'>, {'CPU': 20.0, 'GPU': 4.0}). Add suitable node types to this cluster to resolve this issue.\n"
     ]
    },
    {
     "name": "stderr",
     "output_type": "stream",
     "text": [
      "\u001b[33m(raylet)\u001b[0m [2025-04-12 22:02:50,144 E 2809 2843] (raylet) file_system_monitor.cc:116: /tmp/ray/session_2025-04-12_20-50-22_955978_2486 is over 95% full, available space: 0.832668 GB; capacity: 30 GB. Object creation will fail if spilling is required.\n",
      "\u001b[33m(raylet)\u001b[0m [2025-04-12 22:03:00,154 E 2809 2843] (raylet) file_system_monitor.cc:116: /tmp/ray/session_2025-04-12_20-50-22_955978_2486 is over 95% full, available space: 0.832668 GB; capacity: 30 GB. Object creation will fail if spilling is required.\n",
      "\u001b[33m(raylet)\u001b[0m [2025-04-12 22:03:10,164 E 2809 2843] (raylet) file_system_monitor.cc:116: /tmp/ray/session_2025-04-12_20-50-22_955978_2486 is over 95% full, available space: 0.832668 GB; capacity: 30 GB. Object creation will fail if spilling is required.\n",
      "\u001b[33m(raylet)\u001b[0m [2025-04-12 22:03:20,175 E 2809 2843] (raylet) file_system_monitor.cc:116: /tmp/ray/session_2025-04-12_20-50-22_955978_2486 is over 95% full, available space: 0.832668 GB; capacity: 30 GB. Object creation will fail if spilling is required.\n"
     ]
    },
    {
     "name": "stdout",
     "output_type": "stream",
     "text": [
      "\u001b[33m(autoscaler +1h13m2s)\u001b[0m Error: No available node types can fulfill resource request defaultdict(<class 'float'>, {'CPU': 20.0, 'GPU': 4.0}). Add suitable node types to this cluster to resolve this issue.\n"
     ]
    },
    {
     "name": "stderr",
     "output_type": "stream",
     "text": [
      "\u001b[33m(raylet)\u001b[0m [2025-04-12 22:03:30,186 E 2809 2843] (raylet) file_system_monitor.cc:116: /tmp/ray/session_2025-04-12_20-50-22_955978_2486 is over 95% full, available space: 0.831631 GB; capacity: 30 GB. Object creation will fail if spilling is required.\n",
      "\u001b[33m(raylet)\u001b[0m [2025-04-12 22:03:40,196 E 2809 2843] (raylet) file_system_monitor.cc:116: /tmp/ray/session_2025-04-12_20-50-22_955978_2486 is over 95% full, available space: 0.831631 GB; capacity: 30 GB. Object creation will fail if spilling is required.\n",
      "\u001b[33m(raylet)\u001b[0m [2025-04-12 22:03:50,206 E 2809 2843] (raylet) file_system_monitor.cc:116: /tmp/ray/session_2025-04-12_20-50-22_955978_2486 is over 95% full, available space: 0.831631 GB; capacity: 30 GB. Object creation will fail if spilling is required.\n"
     ]
    },
    {
     "name": "stdout",
     "output_type": "stream",
     "text": [
      "\u001b[33m(autoscaler +1h13m37s)\u001b[0m Error: No available node types can fulfill resource request defaultdict(<class 'float'>, {'CPU': 20.0, 'GPU': 4.0}). Add suitable node types to this cluster to resolve this issue.\n"
     ]
    },
    {
     "name": "stderr",
     "output_type": "stream",
     "text": [
      "\u001b[33m(raylet)\u001b[0m [2025-04-12 22:04:00,216 E 2809 2843] (raylet) file_system_monitor.cc:116: /tmp/ray/session_2025-04-12_20-50-22_955978_2486 is over 95% full, available space: 0.831627 GB; capacity: 30 GB. Object creation will fail if spilling is required.\n",
      "\u001b[33m(raylet)\u001b[0m [2025-04-12 22:04:10,227 E 2809 2843] (raylet) file_system_monitor.cc:116: /tmp/ray/session_2025-04-12_20-50-22_955978_2486 is over 95% full, available space: 0.831627 GB; capacity: 30 GB. Object creation will fail if spilling is required.\n",
      "\u001b[33m(raylet)\u001b[0m [2025-04-12 22:04:20,237 E 2809 2843] (raylet) file_system_monitor.cc:116: /tmp/ray/session_2025-04-12_20-50-22_955978_2486 is over 95% full, available space: 0.831627 GB; capacity: 30 GB. Object creation will fail if spilling is required.\n",
      "\u001b[33m(raylet)\u001b[0m [2025-04-12 22:04:30,247 E 2809 2843] (raylet) file_system_monitor.cc:116: /tmp/ray/session_2025-04-12_20-50-22_955978_2486 is over 95% full, available space: 0.831566 GB; capacity: 30 GB. Object creation will fail if spilling is required.\n"
     ]
    },
    {
     "name": "stdout",
     "output_type": "stream",
     "text": [
      "\u001b[33m(autoscaler +1h14m13s)\u001b[0m Error: No available node types can fulfill resource request defaultdict(<class 'float'>, {'CPU': 20.0, 'GPU': 4.0}). Add suitable node types to this cluster to resolve this issue.\n"
     ]
    },
    {
     "name": "stderr",
     "output_type": "stream",
     "text": [
      "\u001b[33m(raylet)\u001b[0m [2025-04-12 22:04:40,257 E 2809 2843] (raylet) file_system_monitor.cc:116: /tmp/ray/session_2025-04-12_20-50-22_955978_2486 is over 95% full, available space: 0.831566 GB; capacity: 30 GB. Object creation will fail if spilling is required.\n",
      "\u001b[33m(raylet)\u001b[0m [2025-04-12 22:04:50,266 E 2809 2843] (raylet) file_system_monitor.cc:116: /tmp/ray/session_2025-04-12_20-50-22_955978_2486 is over 95% full, available space: 0.831566 GB; capacity: 30 GB. Object creation will fail if spilling is required.\n",
      "\u001b[33m(raylet)\u001b[0m [2025-04-12 22:05:00,275 E 2809 2843] (raylet) file_system_monitor.cc:116: /tmp/ray/session_2025-04-12_20-50-22_955978_2486 is over 95% full, available space: 0.831566 GB; capacity: 30 GB. Object creation will fail if spilling is required.\n"
     ]
    },
    {
     "name": "stdout",
     "output_type": "stream",
     "text": [
      "\u001b[33m(autoscaler +1h14m48s)\u001b[0m Error: No available node types can fulfill resource request defaultdict(<class 'float'>, {'CPU': 20.0, 'GPU': 4.0}). Add suitable node types to this cluster to resolve this issue.\n"
     ]
    },
    {
     "name": "stderr",
     "output_type": "stream",
     "text": [
      "\u001b[33m(raylet)\u001b[0m [2025-04-12 22:05:10,285 E 2809 2843] (raylet) file_system_monitor.cc:116: /tmp/ray/session_2025-04-12_20-50-22_955978_2486 is over 95% full, available space: 0.831566 GB; capacity: 30 GB. Object creation will fail if spilling is required.\n",
      "\u001b[33m(raylet)\u001b[0m [2025-04-12 22:05:20,295 E 2809 2843] (raylet) file_system_monitor.cc:116: /tmp/ray/session_2025-04-12_20-50-22_955978_2486 is over 95% full, available space: 0.831566 GB; capacity: 30 GB. Object creation will fail if spilling is required.\n",
      "\u001b[33m(raylet)\u001b[0m [2025-04-12 22:05:30,305 E 2809 2843] (raylet) file_system_monitor.cc:116: /tmp/ray/session_2025-04-12_20-50-22_955978_2486 is over 95% full, available space: 0.831566 GB; capacity: 30 GB. Object creation will fail if spilling is required.\n",
      "\u001b[33m(raylet)\u001b[0m [2025-04-12 22:05:40,315 E 2809 2843] (raylet) file_system_monitor.cc:116: /tmp/ray/session_2025-04-12_20-50-22_955978_2486 is over 95% full, available space: 0.831566 GB; capacity: 30 GB. Object creation will fail if spilling is required.\n"
     ]
    },
    {
     "name": "stdout",
     "output_type": "stream",
     "text": [
      "\u001b[33m(autoscaler +1h15m23s)\u001b[0m Error: No available node types can fulfill resource request defaultdict(<class 'float'>, {'CPU': 20.0, 'GPU': 4.0}). Add suitable node types to this cluster to resolve this issue.\n"
     ]
    },
    {
     "name": "stderr",
     "output_type": "stream",
     "text": [
      "\u001b[33m(raylet)\u001b[0m [2025-04-12 22:05:50,324 E 2809 2843] (raylet) file_system_monitor.cc:116: /tmp/ray/session_2025-04-12_20-50-22_955978_2486 is over 95% full, available space: 0.831566 GB; capacity: 30 GB. Object creation will fail if spilling is required.\n",
      "\u001b[33m(raylet)\u001b[0m [2025-04-12 22:06:00,335 E 2809 2843] (raylet) file_system_monitor.cc:116: /tmp/ray/session_2025-04-12_20-50-22_955978_2486 is over 95% full, available space: 0.831566 GB; capacity: 30 GB. Object creation will fail if spilling is required.\n",
      "\u001b[33m(raylet)\u001b[0m [2025-04-12 22:06:10,345 E 2809 2843] (raylet) file_system_monitor.cc:116: /tmp/ray/session_2025-04-12_20-50-22_955978_2486 is over 95% full, available space: 0.831566 GB; capacity: 30 GB. Object creation will fail if spilling is required.\n"
     ]
    },
    {
     "name": "stdout",
     "output_type": "stream",
     "text": [
      "\u001b[33m(autoscaler +1h15m58s)\u001b[0m Error: No available node types can fulfill resource request defaultdict(<class 'float'>, {'CPU': 20.0, 'GPU': 4.0}). Add suitable node types to this cluster to resolve this issue.\n"
     ]
    },
    {
     "name": "stderr",
     "output_type": "stream",
     "text": [
      "\u001b[33m(raylet)\u001b[0m [2025-04-12 22:06:20,355 E 2809 2843] (raylet) file_system_monitor.cc:116: /tmp/ray/session_2025-04-12_20-50-22_955978_2486 is over 95% full, available space: 0.831566 GB; capacity: 30 GB. Object creation will fail if spilling is required.\n",
      "\u001b[33m(raylet)\u001b[0m [2025-04-12 22:06:30,365 E 2809 2843] (raylet) file_system_monitor.cc:116: /tmp/ray/session_2025-04-12_20-50-22_955978_2486 is over 95% full, available space: 0.831566 GB; capacity: 30 GB. Object creation will fail if spilling is required.\n",
      "\u001b[33m(raylet)\u001b[0m [2025-04-12 22:06:40,375 E 2809 2843] (raylet) file_system_monitor.cc:116: /tmp/ray/session_2025-04-12_20-50-22_955978_2486 is over 95% full, available space: 0.831566 GB; capacity: 30 GB. Object creation will fail if spilling is required.\n",
      "\u001b[33m(raylet)\u001b[0m [2025-04-12 22:06:50,387 E 2809 2843] (raylet) file_system_monitor.cc:116: /tmp/ray/session_2025-04-12_20-50-22_955978_2486 is over 95% full, available space: 0.831566 GB; capacity: 30 GB. Object creation will fail if spilling is required.\n"
     ]
    },
    {
     "name": "stdout",
     "output_type": "stream",
     "text": [
      "\u001b[33m(autoscaler +1h16m33s)\u001b[0m Error: No available node types can fulfill resource request defaultdict(<class 'float'>, {'CPU': 20.0, 'GPU': 4.0}). Add suitable node types to this cluster to resolve this issue.\n"
     ]
    },
    {
     "name": "stderr",
     "output_type": "stream",
     "text": [
      "\u001b[33m(raylet)\u001b[0m [2025-04-12 22:07:00,400 E 2809 2843] (raylet) file_system_monitor.cc:116: /tmp/ray/session_2025-04-12_20-50-22_955978_2486 is over 95% full, available space: 0.831566 GB; capacity: 30 GB. Object creation will fail if spilling is required.\n",
      "\u001b[33m(raylet)\u001b[0m [2025-04-12 22:07:10,412 E 2809 2843] (raylet) file_system_monitor.cc:116: /tmp/ray/session_2025-04-12_20-50-22_955978_2486 is over 95% full, available space: 0.831566 GB; capacity: 30 GB. Object creation will fail if spilling is required.\n",
      "\u001b[33m(raylet)\u001b[0m [2025-04-12 22:07:20,422 E 2809 2843] (raylet) file_system_monitor.cc:116: /tmp/ray/session_2025-04-12_20-50-22_955978_2486 is over 95% full, available space: 0.831566 GB; capacity: 30 GB. Object creation will fail if spilling is required.\n"
     ]
    },
    {
     "name": "stdout",
     "output_type": "stream",
     "text": [
      "\u001b[33m(autoscaler +1h17m8s)\u001b[0m Error: No available node types can fulfill resource request defaultdict(<class 'float'>, {'CPU': 20.0, 'GPU': 4.0}). Add suitable node types to this cluster to resolve this issue.\n"
     ]
    },
    {
     "name": "stderr",
     "output_type": "stream",
     "text": [
      "\u001b[33m(raylet)\u001b[0m [2025-04-12 22:07:30,434 E 2809 2843] (raylet) file_system_monitor.cc:116: /tmp/ray/session_2025-04-12_20-50-22_955978_2486 is over 95% full, available space: 0.831566 GB; capacity: 30 GB. Object creation will fail if spilling is required.\n",
      "\u001b[33m(raylet)\u001b[0m [2025-04-12 22:07:40,443 E 2809 2843] (raylet) file_system_monitor.cc:116: /tmp/ray/session_2025-04-12_20-50-22_955978_2486 is over 95% full, available space: 0.831566 GB; capacity: 30 GB. Object creation will fail if spilling is required.\n",
      "\u001b[33m(raylet)\u001b[0m [2025-04-12 22:07:50,453 E 2809 2843] (raylet) file_system_monitor.cc:116: /tmp/ray/session_2025-04-12_20-50-22_955978_2486 is over 95% full, available space: 0.831566 GB; capacity: 30 GB. Object creation will fail if spilling is required.\n",
      "\u001b[33m(raylet)\u001b[0m [2025-04-12 22:08:00,465 E 2809 2843] (raylet) file_system_monitor.cc:116: /tmp/ray/session_2025-04-12_20-50-22_955978_2486 is over 95% full, available space: 0.831566 GB; capacity: 30 GB. Object creation will fail if spilling is required.\n"
     ]
    },
    {
     "name": "stdout",
     "output_type": "stream",
     "text": [
      "\u001b[33m(autoscaler +1h17m43s)\u001b[0m Error: No available node types can fulfill resource request defaultdict(<class 'float'>, {'CPU': 20.0, 'GPU': 4.0}). Add suitable node types to this cluster to resolve this issue.\n"
     ]
    },
    {
     "name": "stderr",
     "output_type": "stream",
     "text": [
      "\u001b[33m(raylet)\u001b[0m [2025-04-12 22:08:10,475 E 2809 2843] (raylet) file_system_monitor.cc:116: /tmp/ray/session_2025-04-12_20-50-22_955978_2486 is over 95% full, available space: 0.831566 GB; capacity: 30 GB. Object creation will fail if spilling is required.\n",
      "\u001b[33m(raylet)\u001b[0m [2025-04-12 22:08:20,486 E 2809 2843] (raylet) file_system_monitor.cc:116: /tmp/ray/session_2025-04-12_20-50-22_955978_2486 is over 95% full, available space: 0.831566 GB; capacity: 30 GB. Object creation will fail if spilling is required.\n",
      "\u001b[33m(raylet)\u001b[0m [2025-04-12 22:08:30,498 E 2809 2843] (raylet) file_system_monitor.cc:116: /tmp/ray/session_2025-04-12_20-50-22_955978_2486 is over 95% full, available space: 0.831444 GB; capacity: 30 GB. Object creation will fail if spilling is required.\n"
     ]
    },
    {
     "name": "stdout",
     "output_type": "stream",
     "text": [
      "\u001b[33m(autoscaler +1h18m18s)\u001b[0m Error: No available node types can fulfill resource request defaultdict(<class 'float'>, {'CPU': 20.0, 'GPU': 4.0}). Add suitable node types to this cluster to resolve this issue.\n"
     ]
    },
    {
     "name": "stderr",
     "output_type": "stream",
     "text": [
      "\u001b[33m(raylet)\u001b[0m [2025-04-12 22:08:40,510 E 2809 2843] (raylet) file_system_monitor.cc:116: /tmp/ray/session_2025-04-12_20-50-22_955978_2486 is over 95% full, available space: 0.831444 GB; capacity: 30 GB. Object creation will fail if spilling is required.\n",
      "\u001b[33m(raylet)\u001b[0m [2025-04-12 22:08:50,521 E 2809 2843] (raylet) file_system_monitor.cc:116: /tmp/ray/session_2025-04-12_20-50-22_955978_2486 is over 95% full, available space: 0.831444 GB; capacity: 30 GB. Object creation will fail if spilling is required.\n",
      "\u001b[33m(raylet)\u001b[0m [2025-04-12 22:09:00,531 E 2809 2843] (raylet) file_system_monitor.cc:116: /tmp/ray/session_2025-04-12_20-50-22_955978_2486 is over 95% full, available space: 0.831444 GB; capacity: 30 GB. Object creation will fail if spilling is required.\n",
      "\u001b[33m(raylet)\u001b[0m [2025-04-12 22:09:10,542 E 2809 2843] (raylet) file_system_monitor.cc:116: /tmp/ray/session_2025-04-12_20-50-22_955978_2486 is over 95% full, available space: 0.831444 GB; capacity: 30 GB. Object creation will fail if spilling is required.\n"
     ]
    },
    {
     "name": "stdout",
     "output_type": "stream",
     "text": [
      "\u001b[33m(autoscaler +1h18m53s)\u001b[0m Error: No available node types can fulfill resource request defaultdict(<class 'float'>, {'CPU': 20.0, 'GPU': 4.0}). Add suitable node types to this cluster to resolve this issue.\n"
     ]
    },
    {
     "name": "stderr",
     "output_type": "stream",
     "text": [
      "\u001b[33m(raylet)\u001b[0m [2025-04-12 22:09:20,551 E 2809 2843] (raylet) file_system_monitor.cc:116: /tmp/ray/session_2025-04-12_20-50-22_955978_2486 is over 95% full, available space: 0.831444 GB; capacity: 30 GB. Object creation will fail if spilling is required.\n",
      "\u001b[33m(raylet)\u001b[0m [2025-04-12 22:09:30,560 E 2809 2843] (raylet) file_system_monitor.cc:116: /tmp/ray/session_2025-04-12_20-50-22_955978_2486 is over 95% full, available space: 0.831444 GB; capacity: 30 GB. Object creation will fail if spilling is required.\n",
      "\u001b[33m(raylet)\u001b[0m [2025-04-12 22:09:40,570 E 2809 2843] (raylet) file_system_monitor.cc:116: /tmp/ray/session_2025-04-12_20-50-22_955978_2486 is over 95% full, available space: 0.831444 GB; capacity: 30 GB. Object creation will fail if spilling is required.\n"
     ]
    },
    {
     "name": "stdout",
     "output_type": "stream",
     "text": [
      "\u001b[33m(autoscaler +1h19m28s)\u001b[0m Error: No available node types can fulfill resource request defaultdict(<class 'float'>, {'CPU': 20.0, 'GPU': 4.0}). Add suitable node types to this cluster to resolve this issue.\n"
     ]
    },
    {
     "name": "stderr",
     "output_type": "stream",
     "text": [
      "\u001b[33m(raylet)\u001b[0m [2025-04-12 22:09:50,579 E 2809 2843] (raylet) file_system_monitor.cc:116: /tmp/ray/session_2025-04-12_20-50-22_955978_2486 is over 95% full, available space: 0.831436 GB; capacity: 30 GB. Object creation will fail if spilling is required.\n",
      "\u001b[33m(raylet)\u001b[0m [2025-04-12 22:10:00,588 E 2809 2843] (raylet) file_system_monitor.cc:116: /tmp/ray/session_2025-04-12_20-50-22_955978_2486 is over 95% full, available space: 0.831436 GB; capacity: 30 GB. Object creation will fail if spilling is required.\n",
      "\u001b[33m(raylet)\u001b[0m [2025-04-12 22:10:10,598 E 2809 2843] (raylet) file_system_monitor.cc:116: /tmp/ray/session_2025-04-12_20-50-22_955978_2486 is over 95% full, available space: 0.831436 GB; capacity: 30 GB. Object creation will fail if spilling is required.\n",
      "\u001b[33m(raylet)\u001b[0m [2025-04-12 22:10:20,606 E 2809 2843] (raylet) file_system_monitor.cc:116: /tmp/ray/session_2025-04-12_20-50-22_955978_2486 is over 95% full, available space: 0.831436 GB; capacity: 30 GB. Object creation will fail if spilling is required.\n"
     ]
    },
    {
     "name": "stdout",
     "output_type": "stream",
     "text": [
      "\u001b[33m(autoscaler +1h20m3s)\u001b[0m Error: No available node types can fulfill resource request defaultdict(<class 'float'>, {'CPU': 20.0, 'GPU': 4.0}). Add suitable node types to this cluster to resolve this issue.\n"
     ]
    },
    {
     "name": "stderr",
     "output_type": "stream",
     "text": [
      "\u001b[33m(raylet)\u001b[0m [2025-04-12 22:10:30,617 E 2809 2843] (raylet) file_system_monitor.cc:116: /tmp/ray/session_2025-04-12_20-50-22_955978_2486 is over 95% full, available space: 0.831436 GB; capacity: 30 GB. Object creation will fail if spilling is required.\n",
      "\u001b[33m(raylet)\u001b[0m [2025-04-12 22:10:40,626 E 2809 2843] (raylet) file_system_monitor.cc:116: /tmp/ray/session_2025-04-12_20-50-22_955978_2486 is over 95% full, available space: 0.831436 GB; capacity: 30 GB. Object creation will fail if spilling is required.\n",
      "\u001b[33m(raylet)\u001b[0m [2025-04-12 22:10:50,636 E 2809 2843] (raylet) file_system_monitor.cc:116: /tmp/ray/session_2025-04-12_20-50-22_955978_2486 is over 95% full, available space: 0.831436 GB; capacity: 30 GB. Object creation will fail if spilling is required.\n"
     ]
    },
    {
     "name": "stdout",
     "output_type": "stream",
     "text": [
      "\u001b[33m(autoscaler +1h20m38s)\u001b[0m Error: No available node types can fulfill resource request defaultdict(<class 'float'>, {'CPU': 20.0, 'GPU': 4.0}). Add suitable node types to this cluster to resolve this issue.\n"
     ]
    },
    {
     "name": "stderr",
     "output_type": "stream",
     "text": [
      "\u001b[33m(raylet)\u001b[0m [2025-04-12 22:11:00,646 E 2809 2843] (raylet) file_system_monitor.cc:116: /tmp/ray/session_2025-04-12_20-50-22_955978_2486 is over 95% full, available space: 0.831436 GB; capacity: 30 GB. Object creation will fail if spilling is required.\n",
      "\u001b[33m(raylet)\u001b[0m [2025-04-12 22:11:10,656 E 2809 2843] (raylet) file_system_monitor.cc:116: /tmp/ray/session_2025-04-12_20-50-22_955978_2486 is over 95% full, available space: 0.831104 GB; capacity: 30 GB. Object creation will fail if spilling is required.\n",
      "\u001b[33m(raylet)\u001b[0m [2025-04-12 22:11:20,665 E 2809 2843] (raylet) file_system_monitor.cc:116: /tmp/ray/session_2025-04-12_20-50-22_955978_2486 is over 95% full, available space: 0.831104 GB; capacity: 30 GB. Object creation will fail if spilling is required.\n",
      "\u001b[33m(raylet)\u001b[0m [2025-04-12 22:11:30,674 E 2809 2843] (raylet) file_system_monitor.cc:116: /tmp/ray/session_2025-04-12_20-50-22_955978_2486 is over 95% full, available space: 0.830616 GB; capacity: 30 GB. Object creation will fail if spilling is required.\n"
     ]
    },
    {
     "name": "stdout",
     "output_type": "stream",
     "text": [
      "\u001b[33m(autoscaler +1h21m13s)\u001b[0m Error: No available node types can fulfill resource request defaultdict(<class 'float'>, {'CPU': 20.0, 'GPU': 4.0}). Add suitable node types to this cluster to resolve this issue.\n"
     ]
    },
    {
     "name": "stderr",
     "output_type": "stream",
     "text": [
      "\u001b[33m(raylet)\u001b[0m [2025-04-12 22:11:40,683 E 2809 2843] (raylet) file_system_monitor.cc:116: /tmp/ray/session_2025-04-12_20-50-22_955978_2486 is over 95% full, available space: 0.830608 GB; capacity: 30 GB. Object creation will fail if spilling is required.\n",
      "\u001b[33m(raylet)\u001b[0m [2025-04-12 22:11:50,692 E 2809 2843] (raylet) file_system_monitor.cc:116: /tmp/ray/session_2025-04-12_20-50-22_955978_2486 is over 95% full, available space: 0.830608 GB; capacity: 30 GB. Object creation will fail if spilling is required.\n",
      "\u001b[33m(raylet)\u001b[0m [2025-04-12 22:12:00,702 E 2809 2843] (raylet) file_system_monitor.cc:116: /tmp/ray/session_2025-04-12_20-50-22_955978_2486 is over 95% full, available space: 0.830608 GB; capacity: 30 GB. Object creation will fail if spilling is required.\n"
     ]
    },
    {
     "name": "stdout",
     "output_type": "stream",
     "text": [
      "\u001b[33m(autoscaler +1h21m49s)\u001b[0m Error: No available node types can fulfill resource request defaultdict(<class 'float'>, {'CPU': 20.0, 'GPU': 4.0}). Add suitable node types to this cluster to resolve this issue.\n"
     ]
    },
    {
     "name": "stderr",
     "output_type": "stream",
     "text": [
      "\u001b[33m(raylet)\u001b[0m [2025-04-12 22:12:10,711 E 2809 2843] (raylet) file_system_monitor.cc:116: /tmp/ray/session_2025-04-12_20-50-22_955978_2486 is over 95% full, available space: 0.830608 GB; capacity: 30 GB. Object creation will fail if spilling is required.\n",
      "\u001b[33m(raylet)\u001b[0m [2025-04-12 22:12:20,721 E 2809 2843] (raylet) file_system_monitor.cc:116: /tmp/ray/session_2025-04-12_20-50-22_955978_2486 is over 95% full, available space: 0.830608 GB; capacity: 30 GB. Object creation will fail if spilling is required.\n",
      "\u001b[33m(raylet)\u001b[0m [2025-04-12 22:12:30,730 E 2809 2843] (raylet) file_system_monitor.cc:116: /tmp/ray/session_2025-04-12_20-50-22_955978_2486 is over 95% full, available space: 0.830608 GB; capacity: 30 GB. Object creation will fail if spilling is required.\n",
      "\u001b[33m(raylet)\u001b[0m [2025-04-12 22:12:40,738 E 2809 2843] (raylet) file_system_monitor.cc:116: /tmp/ray/session_2025-04-12_20-50-22_955978_2486 is over 95% full, available space: 0.830605 GB; capacity: 30 GB. Object creation will fail if spilling is required.\n"
     ]
    },
    {
     "name": "stdout",
     "output_type": "stream",
     "text": [
      "\u001b[33m(autoscaler +1h22m24s)\u001b[0m Error: No available node types can fulfill resource request defaultdict(<class 'float'>, {'CPU': 20.0, 'GPU': 4.0}). Add suitable node types to this cluster to resolve this issue.\n"
     ]
    },
    {
     "name": "stderr",
     "output_type": "stream",
     "text": [
      "\u001b[33m(raylet)\u001b[0m [2025-04-12 22:12:50,748 E 2809 2843] (raylet) file_system_monitor.cc:116: /tmp/ray/session_2025-04-12_20-50-22_955978_2486 is over 95% full, available space: 0.830605 GB; capacity: 30 GB. Object creation will fail if spilling is required.\n",
      "\u001b[33m(raylet)\u001b[0m [2025-04-12 22:13:00,757 E 2809 2843] (raylet) file_system_monitor.cc:116: /tmp/ray/session_2025-04-12_20-50-22_955978_2486 is over 95% full, available space: 0.830605 GB; capacity: 30 GB. Object creation will fail if spilling is required.\n",
      "\u001b[33m(raylet)\u001b[0m [2025-04-12 22:13:10,768 E 2809 2843] (raylet) file_system_monitor.cc:116: /tmp/ray/session_2025-04-12_20-50-22_955978_2486 is over 95% full, available space: 0.830605 GB; capacity: 30 GB. Object creation will fail if spilling is required.\n"
     ]
    },
    {
     "name": "stdout",
     "output_type": "stream",
     "text": [
      "\u001b[33m(autoscaler +1h22m59s)\u001b[0m Error: No available node types can fulfill resource request defaultdict(<class 'float'>, {'CPU': 20.0, 'GPU': 4.0}). Add suitable node types to this cluster to resolve this issue.\n"
     ]
    },
    {
     "name": "stderr",
     "output_type": "stream",
     "text": [
      "\u001b[33m(raylet)\u001b[0m [2025-04-12 22:13:20,778 E 2809 2843] (raylet) file_system_monitor.cc:116: /tmp/ray/session_2025-04-12_20-50-22_955978_2486 is over 95% full, available space: 0.830605 GB; capacity: 30 GB. Object creation will fail if spilling is required.\n",
      "\u001b[33m(raylet)\u001b[0m [2025-04-12 22:13:30,788 E 2809 2843] (raylet) file_system_monitor.cc:116: /tmp/ray/session_2025-04-12_20-50-22_955978_2486 is over 95% full, available space: 0.830482 GB; capacity: 30 GB. Object creation will fail if spilling is required.\n",
      "\u001b[33m(raylet)\u001b[0m [2025-04-12 22:13:40,799 E 2809 2843] (raylet) file_system_monitor.cc:116: /tmp/ray/session_2025-04-12_20-50-22_955978_2486 is over 95% full, available space: 0.830482 GB; capacity: 30 GB. Object creation will fail if spilling is required.\n",
      "\u001b[33m(raylet)\u001b[0m [2025-04-12 22:13:50,808 E 2809 2843] (raylet) file_system_monitor.cc:116: /tmp/ray/session_2025-04-12_20-50-22_955978_2486 is over 95% full, available space: 0.830482 GB; capacity: 30 GB. Object creation will fail if spilling is required.\n"
     ]
    },
    {
     "name": "stdout",
     "output_type": "stream",
     "text": [
      "\u001b[33m(autoscaler +1h23m34s)\u001b[0m Error: No available node types can fulfill resource request defaultdict(<class 'float'>, {'CPU': 20.0, 'GPU': 4.0}). Add suitable node types to this cluster to resolve this issue.\n"
     ]
    },
    {
     "name": "stderr",
     "output_type": "stream",
     "text": [
      "\u001b[33m(raylet)\u001b[0m [2025-04-12 22:14:00,816 E 2809 2843] (raylet) file_system_monitor.cc:116: /tmp/ray/session_2025-04-12_20-50-22_955978_2486 is over 95% full, available space: 0.830482 GB; capacity: 30 GB. Object creation will fail if spilling is required.\n",
      "\u001b[33m(raylet)\u001b[0m [2025-04-12 22:14:10,825 E 2809 2843] (raylet) file_system_monitor.cc:116: /tmp/ray/session_2025-04-12_20-50-22_955978_2486 is over 95% full, available space: 0.830482 GB; capacity: 30 GB. Object creation will fail if spilling is required.\n",
      "\u001b[33m(raylet)\u001b[0m [2025-04-12 22:14:20,834 E 2809 2843] (raylet) file_system_monitor.cc:116: /tmp/ray/session_2025-04-12_20-50-22_955978_2486 is over 95% full, available space: 0.830482 GB; capacity: 30 GB. Object creation will fail if spilling is required.\n"
     ]
    },
    {
     "name": "stdout",
     "output_type": "stream",
     "text": [
      "\u001b[33m(autoscaler +1h24m9s)\u001b[0m Error: No available node types can fulfill resource request defaultdict(<class 'float'>, {'CPU': 20.0, 'GPU': 4.0}). Add suitable node types to this cluster to resolve this issue.\n"
     ]
    },
    {
     "name": "stderr",
     "output_type": "stream",
     "text": [
      "\u001b[33m(raylet)\u001b[0m [2025-04-12 22:14:30,844 E 2809 2843] (raylet) file_system_monitor.cc:116: /tmp/ray/session_2025-04-12_20-50-22_955978_2486 is over 95% full, available space: 0.828163 GB; capacity: 30 GB. Object creation will fail if spilling is required.\n",
      "\u001b[33m(raylet)\u001b[0m [2025-04-12 22:14:40,853 E 2809 2843] (raylet) file_system_monitor.cc:116: /tmp/ray/session_2025-04-12_20-50-22_955978_2486 is over 95% full, available space: 0.828159 GB; capacity: 30 GB. Object creation will fail if spilling is required.\n",
      "\u001b[33m(raylet)\u001b[0m [2025-04-12 22:14:50,862 E 2809 2843] (raylet) file_system_monitor.cc:116: /tmp/ray/session_2025-04-12_20-50-22_955978_2486 is over 95% full, available space: 0.828159 GB; capacity: 30 GB. Object creation will fail if spilling is required.\n",
      "\u001b[33m(raylet)\u001b[0m [2025-04-12 22:15:00,872 E 2809 2843] (raylet) file_system_monitor.cc:116: /tmp/ray/session_2025-04-12_20-50-22_955978_2486 is over 95% full, available space: 0.828159 GB; capacity: 30 GB. Object creation will fail if spilling is required.\n"
     ]
    },
    {
     "name": "stdout",
     "output_type": "stream",
     "text": [
      "\u001b[33m(autoscaler +1h24m44s)\u001b[0m Error: No available node types can fulfill resource request defaultdict(<class 'float'>, {'CPU': 20.0, 'GPU': 4.0}). Add suitable node types to this cluster to resolve this issue.\n"
     ]
    },
    {
     "name": "stderr",
     "output_type": "stream",
     "text": [
      "\u001b[33m(raylet)\u001b[0m [2025-04-12 22:15:10,882 E 2809 2843] (raylet) file_system_monitor.cc:116: /tmp/ray/session_2025-04-12_20-50-22_955978_2486 is over 95% full, available space: 0.828156 GB; capacity: 30 GB. Object creation will fail if spilling is required.\n",
      "\u001b[33m(raylet)\u001b[0m [2025-04-12 22:15:20,893 E 2809 2843] (raylet) file_system_monitor.cc:116: /tmp/ray/session_2025-04-12_20-50-22_955978_2486 is over 95% full, available space: 0.828156 GB; capacity: 30 GB. Object creation will fail if spilling is required.\n",
      "\u001b[33m(raylet)\u001b[0m [2025-04-12 22:15:30,903 E 2809 2843] (raylet) file_system_monitor.cc:116: /tmp/ray/session_2025-04-12_20-50-22_955978_2486 is over 95% full, available space: 0.828156 GB; capacity: 30 GB. Object creation will fail if spilling is required.\n"
     ]
    },
    {
     "name": "stdout",
     "output_type": "stream",
     "text": [
      "\u001b[33m(autoscaler +1h25m19s)\u001b[0m Error: No available node types can fulfill resource request defaultdict(<class 'float'>, {'CPU': 20.0, 'GPU': 4.0}). Add suitable node types to this cluster to resolve this issue.\n"
     ]
    },
    {
     "name": "stderr",
     "output_type": "stream",
     "text": [
      "\u001b[33m(raylet)\u001b[0m [2025-04-12 22:15:40,912 E 2809 2843] (raylet) file_system_monitor.cc:116: /tmp/ray/session_2025-04-12_20-50-22_955978_2486 is over 95% full, available space: 0.828156 GB; capacity: 30 GB. Object creation will fail if spilling is required.\n",
      "\u001b[33m(raylet)\u001b[0m [2025-04-12 22:15:50,922 E 2809 2843] (raylet) file_system_monitor.cc:116: /tmp/ray/session_2025-04-12_20-50-22_955978_2486 is over 95% full, available space: 0.828156 GB; capacity: 30 GB. Object creation will fail if spilling is required.\n",
      "\u001b[33m(raylet)\u001b[0m [2025-04-12 22:16:00,932 E 2809 2843] (raylet) file_system_monitor.cc:116: /tmp/ray/session_2025-04-12_20-50-22_955978_2486 is over 95% full, available space: 0.828156 GB; capacity: 30 GB. Object creation will fail if spilling is required.\n",
      "\u001b[33m(raylet)\u001b[0m [2025-04-12 22:16:10,941 E 2809 2843] (raylet) file_system_monitor.cc:116: /tmp/ray/session_2025-04-12_20-50-22_955978_2486 is over 95% full, available space: 0.828156 GB; capacity: 30 GB. Object creation will fail if spilling is required.\n"
     ]
    },
    {
     "name": "stdout",
     "output_type": "stream",
     "text": [
      "\u001b[33m(autoscaler +1h25m54s)\u001b[0m Error: No available node types can fulfill resource request defaultdict(<class 'float'>, {'CPU': 20.0, 'GPU': 4.0}). Add suitable node types to this cluster to resolve this issue.\n"
     ]
    },
    {
     "name": "stderr",
     "output_type": "stream",
     "text": [
      "\u001b[33m(raylet)\u001b[0m [2025-04-12 22:16:20,950 E 2809 2843] (raylet) file_system_monitor.cc:116: /tmp/ray/session_2025-04-12_20-50-22_955978_2486 is over 95% full, available space: 0.828156 GB; capacity: 30 GB. Object creation will fail if spilling is required.\n",
      "\u001b[33m(raylet)\u001b[0m [2025-04-12 22:16:30,960 E 2809 2843] (raylet) file_system_monitor.cc:116: /tmp/ray/session_2025-04-12_20-50-22_955978_2486 is over 95% full, available space: 0.828156 GB; capacity: 30 GB. Object creation will fail if spilling is required.\n",
      "\u001b[33m(raylet)\u001b[0m [2025-04-12 22:16:40,970 E 2809 2843] (raylet) file_system_monitor.cc:116: /tmp/ray/session_2025-04-12_20-50-22_955978_2486 is over 95% full, available space: 0.828156 GB; capacity: 30 GB. Object creation will fail if spilling is required.\n"
     ]
    },
    {
     "name": "stdout",
     "output_type": "stream",
     "text": [
      "\u001b[33m(autoscaler +1h26m29s)\u001b[0m Error: No available node types can fulfill resource request defaultdict(<class 'float'>, {'CPU': 20.0, 'GPU': 4.0}). Add suitable node types to this cluster to resolve this issue.\n"
     ]
    },
    {
     "name": "stderr",
     "output_type": "stream",
     "text": [
      "\u001b[33m(raylet)\u001b[0m [2025-04-12 22:16:50,980 E 2809 2843] (raylet) file_system_monitor.cc:116: /tmp/ray/session_2025-04-12_20-50-22_955978_2486 is over 95% full, available space: 0.828156 GB; capacity: 30 GB. Object creation will fail if spilling is required.\n",
      "\u001b[33m(raylet)\u001b[0m [2025-04-12 22:17:00,991 E 2809 2843] (raylet) file_system_monitor.cc:116: /tmp/ray/session_2025-04-12_20-50-22_955978_2486 is over 95% full, available space: 0.828156 GB; capacity: 30 GB. Object creation will fail if spilling is required.\n",
      "\u001b[33m(raylet)\u001b[0m [2025-04-12 22:17:11,002 E 2809 2843] (raylet) file_system_monitor.cc:116: /tmp/ray/session_2025-04-12_20-50-22_955978_2486 is over 95% full, available space: 0.828156 GB; capacity: 30 GB. Object creation will fail if spilling is required.\n",
      "\u001b[33m(raylet)\u001b[0m [2025-04-12 22:17:21,011 E 2809 2843] (raylet) file_system_monitor.cc:116: /tmp/ray/session_2025-04-12_20-50-22_955978_2486 is over 95% full, available space: 0.828156 GB; capacity: 30 GB. Object creation will fail if spilling is required.\n"
     ]
    },
    {
     "name": "stdout",
     "output_type": "stream",
     "text": [
      "\u001b[33m(autoscaler +1h27m4s)\u001b[0m Error: No available node types can fulfill resource request defaultdict(<class 'float'>, {'CPU': 20.0, 'GPU': 4.0}). Add suitable node types to this cluster to resolve this issue.\n"
     ]
    },
    {
     "name": "stderr",
     "output_type": "stream",
     "text": [
      "\u001b[33m(raylet)\u001b[0m [2025-04-12 22:17:31,022 E 2809 2843] (raylet) file_system_monitor.cc:116: /tmp/ray/session_2025-04-12_20-50-22_955978_2486 is over 95% full, available space: 0.828156 GB; capacity: 30 GB. Object creation will fail if spilling is required.\n",
      "\u001b[33m(raylet)\u001b[0m [2025-04-12 22:17:41,032 E 2809 2843] (raylet) file_system_monitor.cc:116: /tmp/ray/session_2025-04-12_20-50-22_955978_2486 is over 95% full, available space: 0.828159 GB; capacity: 30 GB. Object creation will fail if spilling is required.\n",
      "\u001b[33m(raylet)\u001b[0m [2025-04-12 22:17:51,041 E 2809 2843] (raylet) file_system_monitor.cc:116: /tmp/ray/session_2025-04-12_20-50-22_955978_2486 is over 95% full, available space: 0.828159 GB; capacity: 30 GB. Object creation will fail if spilling is required.\n"
     ]
    },
    {
     "name": "stdout",
     "output_type": "stream",
     "text": [
      "\u001b[33m(autoscaler +1h27m39s)\u001b[0m Error: No available node types can fulfill resource request defaultdict(<class 'float'>, {'CPU': 20.0, 'GPU': 4.0}). Add suitable node types to this cluster to resolve this issue.\n"
     ]
    },
    {
     "name": "stderr",
     "output_type": "stream",
     "text": [
      "\u001b[33m(raylet)\u001b[0m [2025-04-12 22:18:01,051 E 2809 2843] (raylet) file_system_monitor.cc:116: /tmp/ray/session_2025-04-12_20-50-22_955978_2486 is over 95% full, available space: 0.828159 GB; capacity: 30 GB. Object creation will fail if spilling is required.\n",
      "\u001b[33m(raylet)\u001b[0m [2025-04-12 22:18:11,061 E 2809 2843] (raylet) file_system_monitor.cc:116: /tmp/ray/session_2025-04-12_20-50-22_955978_2486 is over 95% full, available space: 0.828159 GB; capacity: 30 GB. Object creation will fail if spilling is required.\n",
      "\u001b[33m(raylet)\u001b[0m [2025-04-12 22:18:21,072 E 2809 2843] (raylet) file_system_monitor.cc:116: /tmp/ray/session_2025-04-12_20-50-22_955978_2486 is over 95% full, available space: 0.828159 GB; capacity: 30 GB. Object creation will fail if spilling is required.\n",
      "\u001b[33m(raylet)\u001b[0m [2025-04-12 22:18:31,081 E 2809 2843] (raylet) file_system_monitor.cc:116: /tmp/ray/session_2025-04-12_20-50-22_955978_2486 is over 95% full, available space: 0.828159 GB; capacity: 30 GB. Object creation will fail if spilling is required.\n"
     ]
    },
    {
     "name": "stdout",
     "output_type": "stream",
     "text": [
      "\u001b[33m(autoscaler +1h28m14s)\u001b[0m Error: No available node types can fulfill resource request defaultdict(<class 'float'>, {'CPU': 20.0, 'GPU': 4.0}). Add suitable node types to this cluster to resolve this issue.\n"
     ]
    },
    {
     "name": "stderr",
     "output_type": "stream",
     "text": [
      "\u001b[33m(raylet)\u001b[0m [2025-04-12 22:18:41,090 E 2809 2843] (raylet) file_system_monitor.cc:116: /tmp/ray/session_2025-04-12_20-50-22_955978_2486 is over 95% full, available space: 0.828159 GB; capacity: 30 GB. Object creation will fail if spilling is required.\n",
      "\u001b[33m(raylet)\u001b[0m [2025-04-12 22:18:51,100 E 2809 2843] (raylet) file_system_monitor.cc:116: /tmp/ray/session_2025-04-12_20-50-22_955978_2486 is over 95% full, available space: 0.828159 GB; capacity: 30 GB. Object creation will fail if spilling is required.\n",
      "\u001b[33m(raylet)\u001b[0m [2025-04-12 22:19:01,113 E 2809 2843] (raylet) file_system_monitor.cc:116: /tmp/ray/session_2025-04-12_20-50-22_955978_2486 is over 95% full, available space: 0.828159 GB; capacity: 30 GB. Object creation will fail if spilling is required.\n",
      "\u001b[33m(raylet)\u001b[0m [2025-04-12 22:19:11,127 E 2809 2843] (raylet) file_system_monitor.cc:116: /tmp/ray/session_2025-04-12_20-50-22_955978_2486 is over 95% full, available space: 0.828159 GB; capacity: 30 GB. Object creation will fail if spilling is required.\n"
     ]
    },
    {
     "name": "stdout",
     "output_type": "stream",
     "text": [
      "\u001b[33m(autoscaler +1h28m50s)\u001b[0m Error: No available node types can fulfill resource request defaultdict(<class 'float'>, {'CPU': 20.0, 'GPU': 4.0}). Add suitable node types to this cluster to resolve this issue.\n"
     ]
    },
    {
     "name": "stderr",
     "output_type": "stream",
     "text": [
      "\u001b[33m(raylet)\u001b[0m [2025-04-12 22:19:21,142 E 2809 2843] (raylet) file_system_monitor.cc:116: /tmp/ray/session_2025-04-12_20-50-22_955978_2486 is over 95% full, available space: 0.828159 GB; capacity: 30 GB. Object creation will fail if spilling is required.\n",
      "\u001b[33m(raylet)\u001b[0m [2025-04-12 22:19:31,154 E 2809 2843] (raylet) file_system_monitor.cc:116: /tmp/ray/session_2025-04-12_20-50-22_955978_2486 is over 95% full, available space: 0.828159 GB; capacity: 30 GB. Object creation will fail if spilling is required.\n",
      "\u001b[33m(raylet)\u001b[0m [2025-04-12 22:19:41,179 E 2809 2843] (raylet) file_system_monitor.cc:116: /tmp/ray/session_2025-04-12_20-50-22_955978_2486 is over 95% full, available space: 0.828159 GB; capacity: 30 GB. Object creation will fail if spilling is required.\n"
     ]
    },
    {
     "name": "stdout",
     "output_type": "stream",
     "text": [
      "\u001b[33m(autoscaler +1h29m25s)\u001b[0m Error: No available node types can fulfill resource request defaultdict(<class 'float'>, {'CPU': 20.0, 'GPU': 4.0}). Add suitable node types to this cluster to resolve this issue.\n"
     ]
    },
    {
     "name": "stderr",
     "output_type": "stream",
     "text": [
      "\u001b[33m(raylet)\u001b[0m [2025-04-12 22:19:51,207 E 2809 2843] (raylet) file_system_monitor.cc:116: /tmp/ray/session_2025-04-12_20-50-22_955978_2486 is over 95% full, available space: 0.828159 GB; capacity: 30 GB. Object creation will fail if spilling is required.\n",
      "\u001b[33m(raylet)\u001b[0m [2025-04-12 22:20:01,220 E 2809 2843] (raylet) file_system_monitor.cc:116: /tmp/ray/session_2025-04-12_20-50-22_955978_2486 is over 95% full, available space: 0.828159 GB; capacity: 30 GB. Object creation will fail if spilling is required.\n",
      "\u001b[33m(raylet)\u001b[0m [2025-04-12 22:20:11,229 E 2809 2843] (raylet) file_system_monitor.cc:116: /tmp/ray/session_2025-04-12_20-50-22_955978_2486 is over 95% full, available space: 0.827785 GB; capacity: 30 GB. Object creation will fail if spilling is required.\n",
      "\u001b[33m(raylet)\u001b[0m [2025-04-12 22:20:21,237 E 2809 2843] (raylet) file_system_monitor.cc:116: /tmp/ray/session_2025-04-12_20-50-22_955978_2486 is over 95% full, available space: 0.827782 GB; capacity: 30 GB. Object creation will fail if spilling is required.\n"
     ]
    },
    {
     "name": "stdout",
     "output_type": "stream",
     "text": [
      "\u001b[33m(autoscaler +1h30m0s)\u001b[0m Error: No available node types can fulfill resource request defaultdict(<class 'float'>, {'CPU': 20.0, 'GPU': 4.0}). Add suitable node types to this cluster to resolve this issue.\n"
     ]
    },
    {
     "name": "stderr",
     "output_type": "stream",
     "text": [
      "\u001b[33m(raylet)\u001b[0m [2025-04-12 22:20:31,250 E 2809 2843] (raylet) file_system_monitor.cc:116: /tmp/ray/session_2025-04-12_20-50-22_955978_2486 is over 95% full, available space: 0.827782 GB; capacity: 30 GB. Object creation will fail if spilling is required.\n",
      "\u001b[33m(raylet)\u001b[0m [2025-04-12 22:20:41,260 E 2809 2843] (raylet) file_system_monitor.cc:116: /tmp/ray/session_2025-04-12_20-50-22_955978_2486 is over 95% full, available space: 0.827782 GB; capacity: 30 GB. Object creation will fail if spilling is required.\n",
      "\u001b[33m(raylet)\u001b[0m [2025-04-12 22:20:51,268 E 2809 2843] (raylet) file_system_monitor.cc:116: /tmp/ray/session_2025-04-12_20-50-22_955978_2486 is over 95% full, available space: 0.827782 GB; capacity: 30 GB. Object creation will fail if spilling is required.\n"
     ]
    },
    {
     "name": "stdout",
     "output_type": "stream",
     "text": [
      "\u001b[33m(autoscaler +1h30m35s)\u001b[0m Error: No available node types can fulfill resource request defaultdict(<class 'float'>, {'CPU': 20.0, 'GPU': 4.0}). Add suitable node types to this cluster to resolve this issue.\n"
     ]
    },
    {
     "name": "stderr",
     "output_type": "stream",
     "text": [
      "\u001b[33m(raylet)\u001b[0m [2025-04-12 22:21:01,276 E 2809 2843] (raylet) file_system_monitor.cc:116: /tmp/ray/session_2025-04-12_20-50-22_955978_2486 is over 95% full, available space: 0.827782 GB; capacity: 30 GB. Object creation will fail if spilling is required.\n",
      "\u001b[33m(raylet)\u001b[0m [2025-04-12 22:21:11,286 E 2809 2843] (raylet) file_system_monitor.cc:116: /tmp/ray/session_2025-04-12_20-50-22_955978_2486 is over 95% full, available space: 0.827538 GB; capacity: 30 GB. Object creation will fail if spilling is required.\n",
      "\u001b[33m(raylet)\u001b[0m [2025-04-12 22:21:21,294 E 2809 2843] (raylet) file_system_monitor.cc:116: /tmp/ray/session_2025-04-12_20-50-22_955978_2486 is over 95% full, available space: 0.827538 GB; capacity: 30 GB. Object creation will fail if spilling is required.\n",
      "\u001b[33m(raylet)\u001b[0m [2025-04-12 22:21:31,302 E 2809 2843] (raylet) file_system_monitor.cc:116: /tmp/ray/session_2025-04-12_20-50-22_955978_2486 is over 95% full, available space: 0.827049 GB; capacity: 30 GB. Object creation will fail if spilling is required.\n"
     ]
    },
    {
     "name": "stdout",
     "output_type": "stream",
     "text": [
      "\u001b[33m(autoscaler +1h31m10s)\u001b[0m Error: No available node types can fulfill resource request defaultdict(<class 'float'>, {'CPU': 20.0, 'GPU': 4.0}). Add suitable node types to this cluster to resolve this issue.\n"
     ]
    },
    {
     "name": "stderr",
     "output_type": "stream",
     "text": [
      "\u001b[33m(raylet)\u001b[0m [2025-04-12 22:21:41,310 E 2809 2843] (raylet) file_system_monitor.cc:116: /tmp/ray/session_2025-04-12_20-50-22_955978_2486 is over 95% full, available space: 0.826996 GB; capacity: 30 GB. Object creation will fail if spilling is required.\n",
      "\u001b[33m(raylet)\u001b[0m [2025-04-12 22:21:51,348 E 2809 2843] (raylet) file_system_monitor.cc:116: /tmp/ray/session_2025-04-12_20-50-22_955978_2486 is over 95% full, available space: 0.826996 GB; capacity: 30 GB. Object creation will fail if spilling is required.\n",
      "\u001b[33m(raylet)\u001b[0m [2025-04-12 22:22:01,380 E 2809 2843] (raylet) file_system_monitor.cc:116: /tmp/ray/session_2025-04-12_20-50-22_955978_2486 is over 95% full, available space: 0.826752 GB; capacity: 30 GB. Object creation will fail if spilling is required.\n"
     ]
    },
    {
     "name": "stdout",
     "output_type": "stream",
     "text": [
      "\u001b[33m(autoscaler +1h31m45s)\u001b[0m Error: No available node types can fulfill resource request defaultdict(<class 'float'>, {'CPU': 20.0, 'GPU': 4.0}). Add suitable node types to this cluster to resolve this issue.\n"
     ]
    },
    {
     "name": "stderr",
     "output_type": "stream",
     "text": [
      "\u001b[33m(raylet)\u001b[0m [2025-04-12 22:22:11,395 E 2809 2843] (raylet) file_system_monitor.cc:116: /tmp/ray/session_2025-04-12_20-50-22_955978_2486 is over 95% full, available space: 0.828388 GB; capacity: 30 GB. Object creation will fail if spilling is required.\n",
      "\u001b[33m(raylet)\u001b[0m [2025-04-12 22:22:21,406 E 2809 2843] (raylet) file_system_monitor.cc:116: /tmp/ray/session_2025-04-12_20-50-22_955978_2486 is over 95% full, available space: 0.828388 GB; capacity: 30 GB. Object creation will fail if spilling is required.\n",
      "\u001b[33m(raylet)\u001b[0m [2025-04-12 22:22:31,417 E 2809 2843] (raylet) file_system_monitor.cc:116: /tmp/ray/session_2025-04-12_20-50-22_955978_2486 is over 95% full, available space: 0.827057 GB; capacity: 30 GB. Object creation will fail if spilling is required.\n",
      "\u001b[33m(raylet)\u001b[0m [2025-04-12 22:22:41,428 E 2809 2843] (raylet) file_system_monitor.cc:116: /tmp/ray/session_2025-04-12_20-50-22_955978_2486 is over 95% full, available space: 0.827053 GB; capacity: 30 GB. Object creation will fail if spilling is required.\n"
     ]
    },
    {
     "name": "stdout",
     "output_type": "stream",
     "text": [
      "\u001b[33m(autoscaler +1h32m20s)\u001b[0m Error: No available node types can fulfill resource request defaultdict(<class 'float'>, {'CPU': 20.0, 'GPU': 4.0}). Add suitable node types to this cluster to resolve this issue.\n"
     ]
    },
    {
     "name": "stderr",
     "output_type": "stream",
     "text": [
      "\u001b[33m(raylet)\u001b[0m [2025-04-12 22:22:51,440 E 2809 2843] (raylet) file_system_monitor.cc:116: /tmp/ray/session_2025-04-12_20-50-22_955978_2486 is over 95% full, available space: 0.827049 GB; capacity: 30 GB. Object creation will fail if spilling is required.\n",
      "\u001b[33m(raylet)\u001b[0m [2025-04-12 22:23:01,449 E 2809 2843] (raylet) file_system_monitor.cc:116: /tmp/ray/session_2025-04-12_20-50-22_955978_2486 is over 95% full, available space: 0.827049 GB; capacity: 30 GB. Object creation will fail if spilling is required.\n",
      "\u001b[33m(raylet)\u001b[0m [2025-04-12 22:23:11,458 E 2809 2843] (raylet) file_system_monitor.cc:116: /tmp/ray/session_2025-04-12_20-50-22_955978_2486 is over 95% full, available space: 0.827049 GB; capacity: 30 GB. Object creation will fail if spilling is required.\n"
     ]
    },
    {
     "name": "stdout",
     "output_type": "stream",
     "text": [
      "\u001b[33m(autoscaler +1h32m55s)\u001b[0m Error: No available node types can fulfill resource request defaultdict(<class 'float'>, {'CPU': 20.0, 'GPU': 4.0}). Add suitable node types to this cluster to resolve this issue.\n"
     ]
    },
    {
     "name": "stderr",
     "output_type": "stream",
     "text": [
      "\u001b[33m(raylet)\u001b[0m [2025-04-12 22:23:21,467 E 2809 2843] (raylet) file_system_monitor.cc:116: /tmp/ray/session_2025-04-12_20-50-22_955978_2486 is over 95% full, available space: 0.827049 GB; capacity: 30 GB. Object creation will fail if spilling is required.\n",
      "\u001b[33m(raylet)\u001b[0m [2025-04-12 22:23:31,521 E 2809 2843] (raylet) file_system_monitor.cc:116: /tmp/ray/session_2025-04-12_20-50-22_955978_2486 is over 95% full, available space: 0.826435 GB; capacity: 30 GB. Object creation will fail if spilling is required.\n",
      "\u001b[33m(raylet)\u001b[0m [2025-04-12 22:23:41,552 E 2809 2843] (raylet) file_system_monitor.cc:116: /tmp/ray/session_2025-04-12_20-50-22_955978_2486 is over 95% full, available space: 0.826183 GB; capacity: 30 GB. Object creation will fail if spilling is required.\n",
      "\u001b[33m(raylet)\u001b[0m [2025-04-12 22:23:51,569 E 2809 2843] (raylet) file_system_monitor.cc:116: /tmp/ray/session_2025-04-12_20-50-22_955978_2486 is over 95% full, available space: 0.826183 GB; capacity: 30 GB. Object creation will fail if spilling is required.\n"
     ]
    },
    {
     "name": "stdout",
     "output_type": "stream",
     "text": [
      "\u001b[33m(autoscaler +1h33m30s)\u001b[0m Error: No available node types can fulfill resource request defaultdict(<class 'float'>, {'CPU': 20.0, 'GPU': 4.0}). Add suitable node types to this cluster to resolve this issue.\n"
     ]
    },
    {
     "name": "stderr",
     "output_type": "stream",
     "text": [
      "\u001b[33m(raylet)\u001b[0m [2025-04-12 22:24:01,601 E 2809 2843] (raylet) file_system_monitor.cc:116: /tmp/ray/session_2025-04-12_20-50-22_955978_2486 is over 95% full, available space: 0.826183 GB; capacity: 30 GB. Object creation will fail if spilling is required.\n",
      "\u001b[33m(raylet)\u001b[0m [2025-04-12 22:24:11,626 E 2809 2843] (raylet) file_system_monitor.cc:116: /tmp/ray/session_2025-04-12_20-50-22_955978_2486 is over 95% full, available space: 0.826183 GB; capacity: 30 GB. Object creation will fail if spilling is required.\n",
      "\u001b[33m(raylet)\u001b[0m [2025-04-12 22:24:21,639 E 2809 2843] (raylet) file_system_monitor.cc:116: /tmp/ray/session_2025-04-12_20-50-22_955978_2486 is over 95% full, available space: 0.826057 GB; capacity: 30 GB. Object creation will fail if spilling is required.\n"
     ]
    },
    {
     "name": "stdout",
     "output_type": "stream",
     "text": [
      "\u001b[33m(autoscaler +1h34m5s)\u001b[0m Error: No available node types can fulfill resource request defaultdict(<class 'float'>, {'CPU': 20.0, 'GPU': 4.0}). Add suitable node types to this cluster to resolve this issue.\n"
     ]
    },
    {
     "name": "stderr",
     "output_type": "stream",
     "text": [
      "\u001b[33m(raylet)\u001b[0m [2025-04-12 22:24:31,651 E 2809 2843] (raylet) file_system_monitor.cc:116: /tmp/ray/session_2025-04-12_20-50-22_955978_2486 is over 95% full, available space: 0.823982 GB; capacity: 30 GB. Object creation will fail if spilling is required.\n",
      "\u001b[33m(raylet)\u001b[0m [2025-04-12 22:24:41,659 E 2809 2843] (raylet) file_system_monitor.cc:116: /tmp/ray/session_2025-04-12_20-50-22_955978_2486 is over 95% full, available space: 0.823738 GB; capacity: 30 GB. Object creation will fail if spilling is required.\n",
      "\u001b[33m(raylet)\u001b[0m [2025-04-12 22:24:51,667 E 2809 2843] (raylet) file_system_monitor.cc:116: /tmp/ray/session_2025-04-12_20-50-22_955978_2486 is over 95% full, available space: 0.823738 GB; capacity: 30 GB. Object creation will fail if spilling is required.\n",
      "\u001b[33m(raylet)\u001b[0m [2025-04-12 22:25:01,675 E 2809 2843] (raylet) file_system_monitor.cc:116: /tmp/ray/session_2025-04-12_20-50-22_955978_2486 is over 95% full, available space: 0.823738 GB; capacity: 30 GB. Object creation will fail if spilling is required.\n"
     ]
    },
    {
     "name": "stdout",
     "output_type": "stream",
     "text": [
      "\u001b[33m(autoscaler +1h34m40s)\u001b[0m Error: No available node types can fulfill resource request defaultdict(<class 'float'>, {'CPU': 20.0, 'GPU': 4.0}). Add suitable node types to this cluster to resolve this issue.\n"
     ]
    },
    {
     "name": "stderr",
     "output_type": "stream",
     "text": [
      "\u001b[33m(raylet)\u001b[0m [2025-04-12 22:25:11,691 E 2809 2843] (raylet) file_system_monitor.cc:116: /tmp/ray/session_2025-04-12_20-50-22_955978_2486 is over 95% full, available space: 0.823738 GB; capacity: 30 GB. Object creation will fail if spilling is required.\n",
      "\u001b[33m(raylet)\u001b[0m [2025-04-12 22:25:21,702 E 2809 2843] (raylet) file_system_monitor.cc:116: /tmp/ray/session_2025-04-12_20-50-22_955978_2486 is over 95% full, available space: 0.823738 GB; capacity: 30 GB. Object creation will fail if spilling is required.\n",
      "\u001b[33m(raylet)\u001b[0m [2025-04-12 22:25:31,715 E 2809 2843] (raylet) file_system_monitor.cc:116: /tmp/ray/session_2025-04-12_20-50-22_955978_2486 is over 95% full, available space: 0.823738 GB; capacity: 30 GB. Object creation will fail if spilling is required.\n"
     ]
    },
    {
     "name": "stdout",
     "output_type": "stream",
     "text": [
      "\u001b[33m(autoscaler +1h35m15s)\u001b[0m Error: No available node types can fulfill resource request defaultdict(<class 'float'>, {'CPU': 20.0, 'GPU': 4.0}). Add suitable node types to this cluster to resolve this issue.\n"
     ]
    },
    {
     "name": "stderr",
     "output_type": "stream",
     "text": [
      "\u001b[33m(raylet)\u001b[0m [2025-04-12 22:25:41,727 E 2809 2843] (raylet) file_system_monitor.cc:116: /tmp/ray/session_2025-04-12_20-50-22_955978_2486 is over 95% full, available space: 0.823738 GB; capacity: 30 GB. Object creation will fail if spilling is required.\n",
      "\u001b[33m(raylet)\u001b[0m [2025-04-12 22:25:51,739 E 2809 2843] (raylet) file_system_monitor.cc:116: /tmp/ray/session_2025-04-12_20-50-22_955978_2486 is over 95% full, available space: 0.823738 GB; capacity: 30 GB. Object creation will fail if spilling is required.\n",
      "\u001b[33m(raylet)\u001b[0m [2025-04-12 22:26:01,749 E 2809 2843] (raylet) file_system_monitor.cc:116: /tmp/ray/session_2025-04-12_20-50-22_955978_2486 is over 95% full, available space: 0.823738 GB; capacity: 30 GB. Object creation will fail if spilling is required.\n",
      "\u001b[33m(raylet)\u001b[0m [2025-04-12 22:26:11,758 E 2809 2843] (raylet) file_system_monitor.cc:116: /tmp/ray/session_2025-04-12_20-50-22_955978_2486 is over 95% full, available space: 0.823738 GB; capacity: 30 GB. Object creation will fail if spilling is required.\n"
     ]
    },
    {
     "name": "stdout",
     "output_type": "stream",
     "text": [
      "\u001b[33m(autoscaler +1h35m50s)\u001b[0m Error: No available node types can fulfill resource request defaultdict(<class 'float'>, {'CPU': 20.0, 'GPU': 4.0}). Add suitable node types to this cluster to resolve this issue.\n"
     ]
    },
    {
     "name": "stderr",
     "output_type": "stream",
     "text": [
      "\u001b[33m(raylet)\u001b[0m [2025-04-12 22:26:21,768 E 2809 2843] (raylet) file_system_monitor.cc:116: /tmp/ray/session_2025-04-12_20-50-22_955978_2486 is over 95% full, available space: 0.823677 GB; capacity: 30 GB. Object creation will fail if spilling is required.\n",
      "\u001b[33m(raylet)\u001b[0m [2025-04-12 22:26:31,781 E 2809 2843] (raylet) file_system_monitor.cc:116: /tmp/ray/session_2025-04-12_20-50-22_955978_2486 is over 95% full, available space: 0.823677 GB; capacity: 30 GB. Object creation will fail if spilling is required.\n",
      "\u001b[33m(raylet)\u001b[0m [2025-04-12 22:26:41,794 E 2809 2843] (raylet) file_system_monitor.cc:116: /tmp/ray/session_2025-04-12_20-50-22_955978_2486 is over 95% full, available space: 0.823677 GB; capacity: 30 GB. Object creation will fail if spilling is required.\n"
     ]
    },
    {
     "name": "stdout",
     "output_type": "stream",
     "text": [
      "\u001b[33m(autoscaler +1h36m26s)\u001b[0m Error: No available node types can fulfill resource request defaultdict(<class 'float'>, {'CPU': 20.0, 'GPU': 4.0}). Add suitable node types to this cluster to resolve this issue.\n"
     ]
    },
    {
     "name": "stderr",
     "output_type": "stream",
     "text": [
      "\u001b[33m(raylet)\u001b[0m [2025-04-12 22:26:51,821 E 2809 2843] (raylet) file_system_monitor.cc:116: /tmp/ray/session_2025-04-12_20-50-22_955978_2486 is over 95% full, available space: 0.823677 GB; capacity: 30 GB. Object creation will fail if spilling is required.\n",
      "\u001b[33m(raylet)\u001b[0m [2025-04-12 22:27:01,842 E 2809 2843] (raylet) file_system_monitor.cc:116: /tmp/ray/session_2025-04-12_20-50-22_955978_2486 is over 95% full, available space: 0.823669 GB; capacity: 30 GB. Object creation will fail if spilling is required.\n",
      "\u001b[33m(raylet)\u001b[0m [2025-04-12 22:27:11,863 E 2809 2843] (raylet) file_system_monitor.cc:116: /tmp/ray/session_2025-04-12_20-50-22_955978_2486 is over 95% full, available space: 0.823669 GB; capacity: 30 GB. Object creation will fail if spilling is required.\n",
      "\u001b[33m(raylet)\u001b[0m [2025-04-12 22:27:21,877 E 2809 2843] (raylet) file_system_monitor.cc:116: /tmp/ray/session_2025-04-12_20-50-22_955978_2486 is over 95% full, available space: 0.826401 GB; capacity: 30 GB. Object creation will fail if spilling is required.\n"
     ]
    },
    {
     "name": "stdout",
     "output_type": "stream",
     "text": [
      "\u001b[33m(autoscaler +1h37m1s)\u001b[0m Error: No available node types can fulfill resource request defaultdict(<class 'float'>, {'CPU': 20.0, 'GPU': 4.0}). Add suitable node types to this cluster to resolve this issue.\n"
     ]
    },
    {
     "name": "stderr",
     "output_type": "stream",
     "text": [
      "\u001b[33m(raylet)\u001b[0m [2025-04-12 22:27:31,892 E 2809 2843] (raylet) file_system_monitor.cc:116: /tmp/ray/session_2025-04-12_20-50-22_955978_2486 is over 95% full, available space: 0.824825 GB; capacity: 30 GB. Object creation will fail if spilling is required.\n",
      "\u001b[33m(raylet)\u001b[0m [2025-04-12 22:27:41,909 E 2809 2843] (raylet) file_system_monitor.cc:116: /tmp/ray/session_2025-04-12_20-50-22_955978_2486 is over 95% full, available space: 0.824825 GB; capacity: 30 GB. Object creation will fail if spilling is required.\n",
      "\u001b[33m(raylet)\u001b[0m [2025-04-12 22:27:51,923 E 2809 2843] (raylet) file_system_monitor.cc:116: /tmp/ray/session_2025-04-12_20-50-22_955978_2486 is over 95% full, available space: 0.824825 GB; capacity: 30 GB. Object creation will fail if spilling is required.\n"
     ]
    },
    {
     "name": "stdout",
     "output_type": "stream",
     "text": [
      "\u001b[33m(autoscaler +1h37m36s)\u001b[0m Error: No available node types can fulfill resource request defaultdict(<class 'float'>, {'CPU': 20.0, 'GPU': 4.0}). Add suitable node types to this cluster to resolve this issue.\n"
     ]
    },
    {
     "name": "stderr",
     "output_type": "stream",
     "text": [
      "\u001b[33m(raylet)\u001b[0m [2025-04-12 22:28:01,936 E 2809 2843] (raylet) file_system_monitor.cc:116: /tmp/ray/session_2025-04-12_20-50-22_955978_2486 is over 95% full, available space: 0.824825 GB; capacity: 30 GB. Object creation will fail if spilling is required.\n",
      "\u001b[33m(raylet)\u001b[0m [2025-04-12 22:28:11,948 E 2809 2843] (raylet) file_system_monitor.cc:116: /tmp/ray/session_2025-04-12_20-50-22_955978_2486 is over 95% full, available space: 0.824825 GB; capacity: 30 GB. Object creation will fail if spilling is required.\n",
      "\u001b[33m(raylet)\u001b[0m [2025-04-12 22:28:21,956 E 2809 2843] (raylet) file_system_monitor.cc:116: /tmp/ray/session_2025-04-12_20-50-22_955978_2486 is over 95% full, available space: 0.824825 GB; capacity: 30 GB. Object creation will fail if spilling is required.\n",
      "\u001b[33m(raylet)\u001b[0m [2025-04-12 22:28:31,965 E 2809 2843] (raylet) file_system_monitor.cc:116: /tmp/ray/session_2025-04-12_20-50-22_955978_2486 is over 95% full, available space: 0.824703 GB; capacity: 30 GB. Object creation will fail if spilling is required.\n"
     ]
    },
    {
     "name": "stdout",
     "output_type": "stream",
     "text": [
      "\u001b[33m(autoscaler +1h38m11s)\u001b[0m Error: No available node types can fulfill resource request defaultdict(<class 'float'>, {'CPU': 20.0, 'GPU': 4.0}). Add suitable node types to this cluster to resolve this issue.\n"
     ]
    },
    {
     "name": "stderr",
     "output_type": "stream",
     "text": [
      "\u001b[33m(raylet)\u001b[0m [2025-04-12 22:28:41,975 E 2809 2843] (raylet) file_system_monitor.cc:116: /tmp/ray/session_2025-04-12_20-50-22_955978_2486 is over 95% full, available space: 0.824703 GB; capacity: 30 GB. Object creation will fail if spilling is required.\n",
      "\u001b[33m(raylet)\u001b[0m [2025-04-12 22:28:51,984 E 2809 2843] (raylet) file_system_monitor.cc:116: /tmp/ray/session_2025-04-12_20-50-22_955978_2486 is over 95% full, available space: 0.824692 GB; capacity: 30 GB. Object creation will fail if spilling is required.\n",
      "\u001b[33m(raylet)\u001b[0m [2025-04-12 22:29:01,994 E 2809 2843] (raylet) file_system_monitor.cc:116: /tmp/ray/session_2025-04-12_20-50-22_955978_2486 is over 95% full, available space: 0.824692 GB; capacity: 30 GB. Object creation will fail if spilling is required.\n"
     ]
    },
    {
     "name": "stdout",
     "output_type": "stream",
     "text": [
      "\u001b[33m(autoscaler +1h38m46s)\u001b[0m Error: No available node types can fulfill resource request defaultdict(<class 'float'>, {'CPU': 20.0, 'GPU': 4.0}). Add suitable node types to this cluster to resolve this issue.\n"
     ]
    },
    {
     "name": "stderr",
     "output_type": "stream",
     "text": [
      "\u001b[33m(raylet)\u001b[0m [2025-04-12 22:29:12,003 E 2809 2843] (raylet) file_system_monitor.cc:116: /tmp/ray/session_2025-04-12_20-50-22_955978_2486 is over 95% full, available space: 0.824688 GB; capacity: 30 GB. Object creation will fail if spilling is required.\n",
      "\u001b[33m(raylet)\u001b[0m [2025-04-12 22:29:22,012 E 2809 2843] (raylet) file_system_monitor.cc:116: /tmp/ray/session_2025-04-12_20-50-22_955978_2486 is over 95% full, available space: 0.824688 GB; capacity: 30 GB. Object creation will fail if spilling is required.\n",
      "\u001b[33m(raylet)\u001b[0m [2025-04-12 22:29:32,022 E 2809 2843] (raylet) file_system_monitor.cc:116: /tmp/ray/session_2025-04-12_20-50-22_955978_2486 is over 95% full, available space: 0.82428 GB; capacity: 30 GB. Object creation will fail if spilling is required.\n",
      "\u001b[33m(raylet)\u001b[0m [2025-04-12 22:29:42,033 E 2809 2843] (raylet) file_system_monitor.cc:116: /tmp/ray/session_2025-04-12_20-50-22_955978_2486 is over 95% full, available space: 0.824242 GB; capacity: 30 GB. Object creation will fail if spilling is required.\n"
     ]
    },
    {
     "name": "stdout",
     "output_type": "stream",
     "text": [
      "\u001b[33m(autoscaler +1h39m21s)\u001b[0m Error: No available node types can fulfill resource request defaultdict(<class 'float'>, {'CPU': 20.0, 'GPU': 4.0}). Add suitable node types to this cluster to resolve this issue.\n"
     ]
    },
    {
     "name": "stderr",
     "output_type": "stream",
     "text": [
      "\u001b[33m(raylet)\u001b[0m [2025-04-12 22:29:52,042 E 2809 2843] (raylet) file_system_monitor.cc:116: /tmp/ray/session_2025-04-12_20-50-22_955978_2486 is over 95% full, available space: 0.824242 GB; capacity: 30 GB. Object creation will fail if spilling is required.\n",
      "\u001b[33m(raylet)\u001b[0m [2025-04-12 22:30:02,054 E 2809 2843] (raylet) file_system_monitor.cc:116: /tmp/ray/session_2025-04-12_20-50-22_955978_2486 is over 95% full, available space: 0.824234 GB; capacity: 30 GB. Object creation will fail if spilling is required.\n",
      "\u001b[33m(raylet)\u001b[0m [2025-04-12 22:30:12,064 E 2809 2843] (raylet) file_system_monitor.cc:116: /tmp/ray/session_2025-04-12_20-50-22_955978_2486 is over 95% full, available space: 0.824234 GB; capacity: 30 GB. Object creation will fail if spilling is required.\n"
     ]
    },
    {
     "name": "stdout",
     "output_type": "stream",
     "text": [
      "\u001b[33m(autoscaler +1h39m56s)\u001b[0m Error: No available node types can fulfill resource request defaultdict(<class 'float'>, {'CPU': 20.0, 'GPU': 4.0}). Add suitable node types to this cluster to resolve this issue.\n"
     ]
    },
    {
     "name": "stderr",
     "output_type": "stream",
     "text": [
      "\u001b[33m(raylet)\u001b[0m [2025-04-12 22:30:22,074 E 2809 2843] (raylet) file_system_monitor.cc:116: /tmp/ray/session_2025-04-12_20-50-22_955978_2486 is over 95% full, available space: 0.824234 GB; capacity: 30 GB. Object creation will fail if spilling is required.\n",
      "\u001b[33m(raylet)\u001b[0m [2025-04-12 22:30:32,084 E 2809 2843] (raylet) file_system_monitor.cc:116: /tmp/ray/session_2025-04-12_20-50-22_955978_2486 is over 95% full, available space: 0.824234 GB; capacity: 30 GB. Object creation will fail if spilling is required.\n",
      "\u001b[33m(raylet)\u001b[0m [2025-04-12 22:30:42,094 E 2809 2843] (raylet) file_system_monitor.cc:116: /tmp/ray/session_2025-04-12_20-50-22_955978_2486 is over 95% full, available space: 0.824234 GB; capacity: 30 GB. Object creation will fail if spilling is required.\n",
      "\u001b[33m(raylet)\u001b[0m [2025-04-12 22:30:52,103 E 2809 2843] (raylet) file_system_monitor.cc:116: /tmp/ray/session_2025-04-12_20-50-22_955978_2486 is over 95% full, available space: 0.824234 GB; capacity: 30 GB. Object creation will fail if spilling is required.\n"
     ]
    },
    {
     "name": "stdout",
     "output_type": "stream",
     "text": [
      "\u001b[33m(autoscaler +1h40m31s)\u001b[0m Error: No available node types can fulfill resource request defaultdict(<class 'float'>, {'CPU': 20.0, 'GPU': 4.0}). Add suitable node types to this cluster to resolve this issue.\n"
     ]
    },
    {
     "name": "stderr",
     "output_type": "stream",
     "text": [
      "\u001b[33m(raylet)\u001b[0m [2025-04-12 22:31:02,113 E 2809 2843] (raylet) file_system_monitor.cc:116: /tmp/ray/session_2025-04-12_20-50-22_955978_2486 is over 95% full, available space: 0.824234 GB; capacity: 30 GB. Object creation will fail if spilling is required.\n",
      "\u001b[33m(raylet)\u001b[0m [2025-04-12 22:31:12,121 E 2809 2843] (raylet) file_system_monitor.cc:116: /tmp/ray/session_2025-04-12_20-50-22_955978_2486 is over 95% full, available space: 0.824234 GB; capacity: 30 GB. Object creation will fail if spilling is required.\n",
      "\u001b[33m(raylet)\u001b[0m [2025-04-12 22:31:22,129 E 2809 2843] (raylet) file_system_monitor.cc:116: /tmp/ray/session_2025-04-12_20-50-22_955978_2486 is over 95% full, available space: 0.824234 GB; capacity: 30 GB. Object creation will fail if spilling is required.\n"
     ]
    },
    {
     "name": "stdout",
     "output_type": "stream",
     "text": [
      "\u001b[33m(autoscaler +1h41m6s)\u001b[0m Error: No available node types can fulfill resource request defaultdict(<class 'float'>, {'CPU': 20.0, 'GPU': 4.0}). Add suitable node types to this cluster to resolve this issue.\n"
     ]
    },
    {
     "name": "stderr",
     "output_type": "stream",
     "text": [
      "\u001b[33m(raylet)\u001b[0m [2025-04-12 22:31:32,139 E 2809 2843] (raylet) file_system_monitor.cc:116: /tmp/ray/session_2025-04-12_20-50-22_955978_2486 is over 95% full, available space: 0.824112 GB; capacity: 30 GB. Object creation will fail if spilling is required.\n",
      "\u001b[33m(raylet)\u001b[0m [2025-04-12 22:31:42,153 E 2809 2843] (raylet) file_system_monitor.cc:116: /tmp/ray/session_2025-04-12_20-50-22_955978_2486 is over 95% full, available space: 0.824112 GB; capacity: 30 GB. Object creation will fail if spilling is required.\n",
      "\u001b[33m(raylet)\u001b[0m [2025-04-12 22:31:52,167 E 2809 2843] (raylet) file_system_monitor.cc:116: /tmp/ray/session_2025-04-12_20-50-22_955978_2486 is over 95% full, available space: 0.824112 GB; capacity: 30 GB. Object creation will fail if spilling is required.\n",
      "\u001b[33m(raylet)\u001b[0m [2025-04-12 22:32:02,178 E 2809 2843] (raylet) file_system_monitor.cc:116: /tmp/ray/session_2025-04-12_20-50-22_955978_2486 is over 95% full, available space: 0.824112 GB; capacity: 30 GB. Object creation will fail if spilling is required.\n"
     ]
    },
    {
     "name": "stdout",
     "output_type": "stream",
     "text": [
      "\u001b[33m(autoscaler +1h41m41s)\u001b[0m Error: No available node types can fulfill resource request defaultdict(<class 'float'>, {'CPU': 20.0, 'GPU': 4.0}). Add suitable node types to this cluster to resolve this issue.\n"
     ]
    },
    {
     "name": "stderr",
     "output_type": "stream",
     "text": [
      "\u001b[33m(raylet)\u001b[0m [2025-04-12 22:32:12,188 E 2809 2843] (raylet) file_system_monitor.cc:116: /tmp/ray/session_2025-04-12_20-50-22_955978_2486 is over 95% full, available space: 0.824112 GB; capacity: 30 GB. Object creation will fail if spilling is required.\n",
      "\u001b[33m(raylet)\u001b[0m [2025-04-12 22:32:22,199 E 2809 2843] (raylet) file_system_monitor.cc:116: /tmp/ray/session_2025-04-12_20-50-22_955978_2486 is over 95% full, available space: 0.824112 GB; capacity: 30 GB. Object creation will fail if spilling is required.\n",
      "\u001b[33m(raylet)\u001b[0m [2025-04-12 22:32:32,211 E 2809 2843] (raylet) file_system_monitor.cc:116: /tmp/ray/session_2025-04-12_20-50-22_955978_2486 is over 95% full, available space: 0.823658 GB; capacity: 30 GB. Object creation will fail if spilling is required.\n"
     ]
    },
    {
     "name": "stdout",
     "output_type": "stream",
     "text": [
      "\u001b[33m(autoscaler +1h42m16s)\u001b[0m Error: No available node types can fulfill resource request defaultdict(<class 'float'>, {'CPU': 20.0, 'GPU': 4.0}). Add suitable node types to this cluster to resolve this issue.\n"
     ]
    },
    {
     "name": "stderr",
     "output_type": "stream",
     "text": [
      "\u001b[33m(raylet)\u001b[0m [2025-04-12 22:32:42,222 E 2809 2843] (raylet) file_system_monitor.cc:116: /tmp/ray/session_2025-04-12_20-50-22_955978_2486 is over 95% full, available space: 0.823658 GB; capacity: 30 GB. Object creation will fail if spilling is required.\n",
      "\u001b[33m(raylet)\u001b[0m [2025-04-12 22:32:52,233 E 2809 2843] (raylet) file_system_monitor.cc:116: /tmp/ray/session_2025-04-12_20-50-22_955978_2486 is over 95% full, available space: 0.823647 GB; capacity: 30 GB. Object creation will fail if spilling is required.\n",
      "\u001b[33m(raylet)\u001b[0m [2025-04-12 22:33:02,242 E 2809 2843] (raylet) file_system_monitor.cc:116: /tmp/ray/session_2025-04-12_20-50-22_955978_2486 is over 95% full, available space: 0.823647 GB; capacity: 30 GB. Object creation will fail if spilling is required.\n",
      "\u001b[33m(raylet)\u001b[0m [2025-04-12 22:33:12,252 E 2809 2843] (raylet) file_system_monitor.cc:116: /tmp/ray/session_2025-04-12_20-50-22_955978_2486 is over 95% full, available space: 0.823349 GB; capacity: 30 GB. Object creation will fail if spilling is required.\n"
     ]
    },
    {
     "name": "stdout",
     "output_type": "stream",
     "text": [
      "\u001b[33m(autoscaler +1h42m51s)\u001b[0m Error: No available node types can fulfill resource request defaultdict(<class 'float'>, {'CPU': 20.0, 'GPU': 4.0}). Add suitable node types to this cluster to resolve this issue.\n"
     ]
    },
    {
     "name": "stderr",
     "output_type": "stream",
     "text": [
      "\u001b[33m(raylet)\u001b[0m [2025-04-12 22:33:22,261 E 2809 2843] (raylet) file_system_monitor.cc:116: /tmp/ray/session_2025-04-12_20-50-22_955978_2486 is over 95% full, available space: 0.823307 GB; capacity: 30 GB. Object creation will fail if spilling is required.\n",
      "\u001b[33m(raylet)\u001b[0m [2025-04-12 22:33:32,271 E 2809 2843] (raylet) file_system_monitor.cc:116: /tmp/ray/session_2025-04-12_20-50-22_955978_2486 is over 95% full, available space: 0.823299 GB; capacity: 30 GB. Object creation will fail if spilling is required.\n",
      "\u001b[33m(raylet)\u001b[0m [2025-04-12 22:33:42,286 E 2809 2843] (raylet) file_system_monitor.cc:116: /tmp/ray/session_2025-04-12_20-50-22_955978_2486 is over 95% full, available space: 0.823296 GB; capacity: 30 GB. Object creation will fail if spilling is required.\n"
     ]
    },
    {
     "name": "stdout",
     "output_type": "stream",
     "text": [
      "\u001b[33m(autoscaler +1h43m26s)\u001b[0m Error: No available node types can fulfill resource request defaultdict(<class 'float'>, {'CPU': 20.0, 'GPU': 4.0}). Add suitable node types to this cluster to resolve this issue.\n"
     ]
    },
    {
     "name": "stderr",
     "output_type": "stream",
     "text": [
      "\u001b[33m(raylet)\u001b[0m [2025-04-12 22:33:52,308 E 2809 2843] (raylet) file_system_monitor.cc:116: /tmp/ray/session_2025-04-12_20-50-22_955978_2486 is over 95% full, available space: 0.823296 GB; capacity: 30 GB. Object creation will fail if spilling is required.\n",
      "\u001b[33m(raylet)\u001b[0m [2025-04-12 22:34:02,324 E 2809 2843] (raylet) file_system_monitor.cc:116: /tmp/ray/session_2025-04-12_20-50-22_955978_2486 is over 95% full, available space: 0.823296 GB; capacity: 30 GB. Object creation will fail if spilling is required.\n",
      "\u001b[33m(raylet)\u001b[0m [2025-04-12 22:34:12,336 E 2809 2843] (raylet) file_system_monitor.cc:116: /tmp/ray/session_2025-04-12_20-50-22_955978_2486 is over 95% full, available space: 0.823296 GB; capacity: 30 GB. Object creation will fail if spilling is required.\n",
      "\u001b[33m(raylet)\u001b[0m [2025-04-12 22:34:22,362 E 2809 2843] (raylet) file_system_monitor.cc:116: /tmp/ray/session_2025-04-12_20-50-22_955978_2486 is over 95% full, available space: 0.823296 GB; capacity: 30 GB. Object creation will fail if spilling is required.\n"
     ]
    },
    {
     "name": "stdout",
     "output_type": "stream",
     "text": [
      "\u001b[33m(autoscaler +1h44m2s)\u001b[0m Error: No available node types can fulfill resource request defaultdict(<class 'float'>, {'CPU': 20.0, 'GPU': 4.0}). Add suitable node types to this cluster to resolve this issue.\n"
     ]
    },
    {
     "name": "stderr",
     "output_type": "stream",
     "text": [
      "\u001b[33m(raylet)\u001b[0m [2025-04-12 22:34:32,372 E 2809 2843] (raylet) file_system_monitor.cc:116: /tmp/ray/session_2025-04-12_20-50-22_955978_2486 is over 95% full, available space: 0.821198 GB; capacity: 30 GB. Object creation will fail if spilling is required.\n",
      "\u001b[33m(raylet)\u001b[0m [2025-04-12 22:34:42,381 E 2809 2843] (raylet) file_system_monitor.cc:116: /tmp/ray/session_2025-04-12_20-50-22_955978_2486 is over 95% full, available space: 0.821198 GB; capacity: 30 GB. Object creation will fail if spilling is required.\n",
      "\u001b[33m(raylet)\u001b[0m [2025-04-12 22:34:52,389 E 2809 2843] (raylet) file_system_monitor.cc:116: /tmp/ray/session_2025-04-12_20-50-22_955978_2486 is over 95% full, available space: 0.821198 GB; capacity: 30 GB. Object creation will fail if spilling is required.\n"
     ]
    },
    {
     "name": "stdout",
     "output_type": "stream",
     "text": [
      "\u001b[33m(autoscaler +1h44m37s)\u001b[0m Error: No available node types can fulfill resource request defaultdict(<class 'float'>, {'CPU': 20.0, 'GPU': 4.0}). Add suitable node types to this cluster to resolve this issue.\n"
     ]
    },
    {
     "name": "stderr",
     "output_type": "stream",
     "text": [
      "\u001b[33m(raylet)\u001b[0m [2025-04-12 22:35:02,397 E 2809 2843] (raylet) file_system_monitor.cc:116: /tmp/ray/session_2025-04-12_20-50-22_955978_2486 is over 95% full, available space: 0.821198 GB; capacity: 30 GB. Object creation will fail if spilling is required.\n",
      "\u001b[33m(raylet)\u001b[0m [2025-04-12 22:35:12,405 E 2809 2843] (raylet) file_system_monitor.cc:116: /tmp/ray/session_2025-04-12_20-50-22_955978_2486 is over 95% full, available space: 0.821198 GB; capacity: 30 GB. Object creation will fail if spilling is required.\n",
      "\u001b[33m(raylet)\u001b[0m [2025-04-12 22:35:22,440 E 2809 2843] (raylet) file_system_monitor.cc:116: /tmp/ray/session_2025-04-12_20-50-22_955978_2486 is over 95% full, available space: 0.821198 GB; capacity: 30 GB. Object creation will fail if spilling is required.\n",
      "\u001b[33m(raylet)\u001b[0m [2025-04-12 22:35:32,461 E 2809 2843] (raylet) file_system_monitor.cc:116: /tmp/ray/session_2025-04-12_20-50-22_955978_2486 is over 95% full, available space: 0.821194 GB; capacity: 30 GB. Object creation will fail if spilling is required.\n"
     ]
    },
    {
     "name": "stdout",
     "output_type": "stream",
     "text": [
      "\u001b[33m(autoscaler +1h45m12s)\u001b[0m Error: No available node types can fulfill resource request defaultdict(<class 'float'>, {'CPU': 20.0, 'GPU': 4.0}). Add suitable node types to this cluster to resolve this issue.\n"
     ]
    },
    {
     "name": "stderr",
     "output_type": "stream",
     "text": [
      "\u001b[33m(raylet)\u001b[0m [2025-04-12 22:35:42,472 E 2809 2843] (raylet) file_system_monitor.cc:116: /tmp/ray/session_2025-04-12_20-50-22_955978_2486 is over 95% full, available space: 0.821194 GB; capacity: 30 GB. Object creation will fail if spilling is required.\n",
      "\u001b[33m(raylet)\u001b[0m [2025-04-12 22:35:52,481 E 2809 2843] (raylet) file_system_monitor.cc:116: /tmp/ray/session_2025-04-12_20-50-22_955978_2486 is over 95% full, available space: 0.821194 GB; capacity: 30 GB. Object creation will fail if spilling is required.\n",
      "\u001b[33m(raylet)\u001b[0m [2025-04-12 22:36:02,489 E 2809 2843] (raylet) file_system_monitor.cc:116: /tmp/ray/session_2025-04-12_20-50-22_955978_2486 is over 95% full, available space: 0.821125 GB; capacity: 30 GB. Object creation will fail if spilling is required.\n"
     ]
    },
    {
     "name": "stdout",
     "output_type": "stream",
     "text": [
      "\u001b[33m(autoscaler +1h45m47s)\u001b[0m Error: No available node types can fulfill resource request defaultdict(<class 'float'>, {'CPU': 20.0, 'GPU': 4.0}). Add suitable node types to this cluster to resolve this issue.\n"
     ]
    },
    {
     "name": "stderr",
     "output_type": "stream",
     "text": [
      "\u001b[33m(raylet)\u001b[0m [2025-04-12 22:36:12,497 E 2809 2843] (raylet) file_system_monitor.cc:116: /tmp/ray/session_2025-04-12_20-50-22_955978_2486 is over 95% full, available space: 0.821125 GB; capacity: 30 GB. Object creation will fail if spilling is required.\n",
      "\u001b[33m(raylet)\u001b[0m [2025-04-12 22:36:22,505 E 2809 2843] (raylet) file_system_monitor.cc:116: /tmp/ray/session_2025-04-12_20-50-22_955978_2486 is over 95% full, available space: 0.821125 GB; capacity: 30 GB. Object creation will fail if spilling is required.\n",
      "\u001b[33m(raylet)\u001b[0m [2025-04-12 22:36:32,522 E 2809 2843] (raylet) file_system_monitor.cc:116: /tmp/ray/session_2025-04-12_20-50-22_955978_2486 is over 95% full, available space: 0.821125 GB; capacity: 30 GB. Object creation will fail if spilling is required.\n",
      "\u001b[33m(raylet)\u001b[0m [2025-04-12 22:36:42,538 E 2809 2843] (raylet) file_system_monitor.cc:116: /tmp/ray/session_2025-04-12_20-50-22_955978_2486 is over 95% full, available space: 0.821125 GB; capacity: 30 GB. Object creation will fail if spilling is required.\n"
     ]
    },
    {
     "name": "stdout",
     "output_type": "stream",
     "text": [
      "\u001b[33m(autoscaler +1h46m22s)\u001b[0m Error: No available node types can fulfill resource request defaultdict(<class 'float'>, {'CPU': 20.0, 'GPU': 4.0}). Add suitable node types to this cluster to resolve this issue.\n"
     ]
    },
    {
     "name": "stderr",
     "output_type": "stream",
     "text": [
      "\u001b[33m(raylet)\u001b[0m [2025-04-12 22:36:52,549 E 2809 2843] (raylet) file_system_monitor.cc:116: /tmp/ray/session_2025-04-12_20-50-22_955978_2486 is over 95% full, available space: 0.821125 GB; capacity: 30 GB. Object creation will fail if spilling is required.\n",
      "\u001b[33m(raylet)\u001b[0m [2025-04-12 22:37:02,571 E 2809 2843] (raylet) file_system_monitor.cc:116: /tmp/ray/session_2025-04-12_20-50-22_955978_2486 is over 95% full, available space: 0.821125 GB; capacity: 30 GB. Object creation will fail if spilling is required.\n",
      "\u001b[33m(raylet)\u001b[0m [2025-04-12 22:37:12,586 E 2809 2843] (raylet) file_system_monitor.cc:116: /tmp/ray/session_2025-04-12_20-50-22_955978_2486 is over 95% full, available space: 0.821117 GB; capacity: 30 GB. Object creation will fail if spilling is required.\n"
     ]
    },
    {
     "name": "stdout",
     "output_type": "stream",
     "text": [
      "\u001b[33m(autoscaler +1h46m57s)\u001b[0m Error: No available node types can fulfill resource request defaultdict(<class 'float'>, {'CPU': 20.0, 'GPU': 4.0}). Add suitable node types to this cluster to resolve this issue.\n"
     ]
    },
    {
     "name": "stderr",
     "output_type": "stream",
     "text": [
      "\u001b[33m(raylet)\u001b[0m [2025-04-12 22:37:22,598 E 2809 2843] (raylet) file_system_monitor.cc:116: /tmp/ray/session_2025-04-12_20-50-22_955978_2486 is over 95% full, available space: 0.821117 GB; capacity: 30 GB. Object creation will fail if spilling is required.\n",
      "\u001b[33m(raylet)\u001b[0m [2025-04-12 22:37:32,606 E 2809 2843] (raylet) file_system_monitor.cc:116: /tmp/ray/session_2025-04-12_20-50-22_955978_2486 is over 95% full, available space: 0.821114 GB; capacity: 30 GB. Object creation will fail if spilling is required.\n",
      "\u001b[33m(raylet)\u001b[0m [2025-04-12 22:37:42,617 E 2809 2843] (raylet) file_system_monitor.cc:116: /tmp/ray/session_2025-04-12_20-50-22_955978_2486 is over 95% full, available space: 0.821114 GB; capacity: 30 GB. Object creation will fail if spilling is required.\n",
      "\u001b[33m(raylet)\u001b[0m [2025-04-12 22:37:52,627 E 2809 2843] (raylet) file_system_monitor.cc:116: /tmp/ray/session_2025-04-12_20-50-22_955978_2486 is over 95% full, available space: 0.821106 GB; capacity: 30 GB. Object creation will fail if spilling is required.\n"
     ]
    },
    {
     "name": "stdout",
     "output_type": "stream",
     "text": [
      "\u001b[33m(autoscaler +1h47m32s)\u001b[0m Error: No available node types can fulfill resource request defaultdict(<class 'float'>, {'CPU': 20.0, 'GPU': 4.0}). Add suitable node types to this cluster to resolve this issue.\n"
     ]
    },
    {
     "name": "stderr",
     "output_type": "stream",
     "text": [
      "\u001b[33m(raylet)\u001b[0m [2025-04-12 22:38:02,642 E 2809 2843] (raylet) file_system_monitor.cc:116: /tmp/ray/session_2025-04-12_20-50-22_955978_2486 is over 95% full, available space: 0.821106 GB; capacity: 30 GB. Object creation will fail if spilling is required.\n",
      "\u001b[33m(raylet)\u001b[0m [2025-04-12 22:38:12,657 E 2809 2843] (raylet) file_system_monitor.cc:116: /tmp/ray/session_2025-04-12_20-50-22_955978_2486 is over 95% full, available space: 0.821106 GB; capacity: 30 GB. Object creation will fail if spilling is required.\n",
      "\u001b[33m(raylet)\u001b[0m [2025-04-12 22:38:22,671 E 2809 2843] (raylet) file_system_monitor.cc:116: /tmp/ray/session_2025-04-12_20-50-22_955978_2486 is over 95% full, available space: 0.821106 GB; capacity: 30 GB. Object creation will fail if spilling is required.\n"
     ]
    },
    {
     "name": "stdout",
     "output_type": "stream",
     "text": [
      "\u001b[33m(autoscaler +1h48m7s)\u001b[0m Error: No available node types can fulfill resource request defaultdict(<class 'float'>, {'CPU': 20.0, 'GPU': 4.0}). Add suitable node types to this cluster to resolve this issue.\n"
     ]
    },
    {
     "name": "stderr",
     "output_type": "stream",
     "text": [
      "\u001b[33m(raylet)\u001b[0m [2025-04-12 22:38:32,682 E 2809 2843] (raylet) file_system_monitor.cc:116: /tmp/ray/session_2025-04-12_20-50-22_955978_2486 is over 95% full, available space: 0.821106 GB; capacity: 30 GB. Object creation will fail if spilling is required.\n",
      "\u001b[33m(raylet)\u001b[0m [2025-04-12 22:38:42,693 E 2809 2843] (raylet) file_system_monitor.cc:116: /tmp/ray/session_2025-04-12_20-50-22_955978_2486 is over 95% full, available space: 0.821102 GB; capacity: 30 GB. Object creation will fail if spilling is required.\n",
      "\u001b[33m(raylet)\u001b[0m [2025-04-12 22:38:52,703 E 2809 2843] (raylet) file_system_monitor.cc:116: /tmp/ray/session_2025-04-12_20-50-22_955978_2486 is over 95% full, available space: 0.821102 GB; capacity: 30 GB. Object creation will fail if spilling is required.\n",
      "\u001b[33m(raylet)\u001b[0m [2025-04-12 22:39:02,712 E 2809 2843] (raylet) file_system_monitor.cc:116: /tmp/ray/session_2025-04-12_20-50-22_955978_2486 is over 95% full, available space: 0.821102 GB; capacity: 30 GB. Object creation will fail if spilling is required.\n"
     ]
    },
    {
     "name": "stdout",
     "output_type": "stream",
     "text": [
      "\u001b[33m(autoscaler +1h48m42s)\u001b[0m Error: No available node types can fulfill resource request defaultdict(<class 'float'>, {'CPU': 20.0, 'GPU': 4.0}). Add suitable node types to this cluster to resolve this issue.\n"
     ]
    },
    {
     "name": "stderr",
     "output_type": "stream",
     "text": [
      "\u001b[33m(raylet)\u001b[0m [2025-04-12 22:39:12,722 E 2809 2843] (raylet) file_system_monitor.cc:116: /tmp/ray/session_2025-04-12_20-50-22_955978_2486 is over 95% full, available space: 0.821102 GB; capacity: 30 GB. Object creation will fail if spilling is required.\n",
      "\u001b[33m(raylet)\u001b[0m [2025-04-12 22:39:22,733 E 2809 2843] (raylet) file_system_monitor.cc:116: /tmp/ray/session_2025-04-12_20-50-22_955978_2486 is over 95% full, available space: 0.821098 GB; capacity: 30 GB. Object creation will fail if spilling is required.\n",
      "\u001b[33m(raylet)\u001b[0m [2025-04-12 22:39:32,743 E 2809 2843] (raylet) file_system_monitor.cc:116: /tmp/ray/session_2025-04-12_20-50-22_955978_2486 is over 95% full, available space: 0.821098 GB; capacity: 30 GB. Object creation will fail if spilling is required.\n"
     ]
    },
    {
     "name": "stdout",
     "output_type": "stream",
     "text": [
      "\u001b[33m(autoscaler +1h49m17s)\u001b[0m Error: No available node types can fulfill resource request defaultdict(<class 'float'>, {'CPU': 20.0, 'GPU': 4.0}). Add suitable node types to this cluster to resolve this issue.\n"
     ]
    },
    {
     "name": "stderr",
     "output_type": "stream",
     "text": [
      "\u001b[33m(raylet)\u001b[0m [2025-04-12 22:39:42,751 E 2809 2843] (raylet) file_system_monitor.cc:116: /tmp/ray/session_2025-04-12_20-50-22_955978_2486 is over 95% full, available space: 0.821098 GB; capacity: 30 GB. Object creation will fail if spilling is required.\n",
      "\u001b[33m(raylet)\u001b[0m [2025-04-12 22:39:52,759 E 2809 2843] (raylet) file_system_monitor.cc:116: /tmp/ray/session_2025-04-12_20-50-22_955978_2486 is over 95% full, available space: 0.821098 GB; capacity: 30 GB. Object creation will fail if spilling is required.\n",
      "\u001b[33m(raylet)\u001b[0m [2025-04-12 22:40:02,766 E 2809 2843] (raylet) file_system_monitor.cc:116: /tmp/ray/session_2025-04-12_20-50-22_955978_2486 is over 95% full, available space: 0.821098 GB; capacity: 30 GB. Object creation will fail if spilling is required.\n",
      "\u001b[33m(raylet)\u001b[0m [2025-04-12 22:40:12,774 E 2809 2843] (raylet) file_system_monitor.cc:116: /tmp/ray/session_2025-04-12_20-50-22_955978_2486 is over 95% full, available space: 0.821098 GB; capacity: 30 GB. Object creation will fail if spilling is required.\n"
     ]
    },
    {
     "name": "stdout",
     "output_type": "stream",
     "text": [
      "\u001b[33m(autoscaler +1h49m52s)\u001b[0m Error: No available node types can fulfill resource request defaultdict(<class 'float'>, {'CPU': 20.0, 'GPU': 4.0}). Add suitable node types to this cluster to resolve this issue.\n"
     ]
    },
    {
     "name": "stderr",
     "output_type": "stream",
     "text": [
      "\u001b[33m(raylet)\u001b[0m [2025-04-12 22:40:22,783 E 2809 2843] (raylet) file_system_monitor.cc:116: /tmp/ray/session_2025-04-12_20-50-22_955978_2486 is over 95% full, available space: 0.821095 GB; capacity: 30 GB. Object creation will fail if spilling is required.\n",
      "\u001b[33m(raylet)\u001b[0m [2025-04-12 22:40:32,800 E 2809 2843] (raylet) file_system_monitor.cc:116: /tmp/ray/session_2025-04-12_20-50-22_955978_2486 is over 95% full, available space: 0.821095 GB; capacity: 30 GB. Object creation will fail if spilling is required.\n",
      "\u001b[33m(raylet)\u001b[0m [2025-04-12 22:40:42,817 E 2809 2843] (raylet) file_system_monitor.cc:116: /tmp/ray/session_2025-04-12_20-50-22_955978_2486 is over 95% full, available space: 0.821095 GB; capacity: 30 GB. Object creation will fail if spilling is required.\n"
     ]
    },
    {
     "name": "stdout",
     "output_type": "stream",
     "text": [
      "\u001b[33m(autoscaler +1h50m27s)\u001b[0m Error: No available node types can fulfill resource request defaultdict(<class 'float'>, {'CPU': 20.0, 'GPU': 4.0}). Add suitable node types to this cluster to resolve this issue.\n"
     ]
    },
    {
     "name": "stderr",
     "output_type": "stream",
     "text": [
      "\u001b[33m(raylet)\u001b[0m [2025-04-12 22:40:52,835 E 2809 2843] (raylet) file_system_monitor.cc:116: /tmp/ray/session_2025-04-12_20-50-22_955978_2486 is over 95% full, available space: 0.821095 GB; capacity: 30 GB. Object creation will fail if spilling is required.\n",
      "\u001b[33m(raylet)\u001b[0m [2025-04-12 22:41:02,851 E 2809 2843] (raylet) file_system_monitor.cc:116: /tmp/ray/session_2025-04-12_20-50-22_955978_2486 is over 95% full, available space: 0.821095 GB; capacity: 30 GB. Object creation will fail if spilling is required.\n",
      "\u001b[33m(raylet)\u001b[0m [2025-04-12 22:41:12,871 E 2809 2843] (raylet) file_system_monitor.cc:116: /tmp/ray/session_2025-04-12_20-50-22_955978_2486 is over 95% full, available space: 0.821091 GB; capacity: 30 GB. Object creation will fail if spilling is required.\n",
      "\u001b[33m(raylet)\u001b[0m [2025-04-12 22:41:22,890 E 2809 2843] (raylet) file_system_monitor.cc:116: /tmp/ray/session_2025-04-12_20-50-22_955978_2486 is over 95% full, available space: 0.821091 GB; capacity: 30 GB. Object creation will fail if spilling is required.\n"
     ]
    },
    {
     "name": "stdout",
     "output_type": "stream",
     "text": [
      "\u001b[33m(autoscaler +1h51m2s)\u001b[0m Error: No available node types can fulfill resource request defaultdict(<class 'float'>, {'CPU': 20.0, 'GPU': 4.0}). Add suitable node types to this cluster to resolve this issue.\n"
     ]
    },
    {
     "name": "stderr",
     "output_type": "stream",
     "text": [
      "\u001b[33m(raylet)\u001b[0m [2025-04-12 22:41:32,902 E 2809 2843] (raylet) file_system_monitor.cc:116: /tmp/ray/session_2025-04-12_20-50-22_955978_2486 is over 95% full, available space: 0.821091 GB; capacity: 30 GB. Object creation will fail if spilling is required.\n",
      "\u001b[33m(raylet)\u001b[0m [2025-04-12 22:41:42,910 E 2809 2843] (raylet) file_system_monitor.cc:116: /tmp/ray/session_2025-04-12_20-50-22_955978_2486 is over 95% full, available space: 0.821087 GB; capacity: 30 GB. Object creation will fail if spilling is required.\n",
      "\u001b[33m(raylet)\u001b[0m [2025-04-12 22:41:52,921 E 2809 2843] (raylet) file_system_monitor.cc:116: /tmp/ray/session_2025-04-12_20-50-22_955978_2486 is over 95% full, available space: 0.821083 GB; capacity: 30 GB. Object creation will fail if spilling is required.\n"
     ]
    },
    {
     "name": "stdout",
     "output_type": "stream",
     "text": [
      "\u001b[33m(autoscaler +1h51m38s)\u001b[0m Error: No available node types can fulfill resource request defaultdict(<class 'float'>, {'CPU': 20.0, 'GPU': 4.0}). Add suitable node types to this cluster to resolve this issue.\n"
     ]
    },
    {
     "name": "stderr",
     "output_type": "stream",
     "text": [
      "\u001b[33m(raylet)\u001b[0m [2025-04-12 22:42:02,936 E 2809 2843] (raylet) file_system_monitor.cc:116: /tmp/ray/session_2025-04-12_20-50-22_955978_2486 is over 95% full, available space: 0.821083 GB; capacity: 30 GB. Object creation will fail if spilling is required.\n",
      "\u001b[33m(raylet)\u001b[0m [2025-04-12 22:42:12,951 E 2809 2843] (raylet) file_system_monitor.cc:116: /tmp/ray/session_2025-04-12_20-50-22_955978_2486 is over 95% full, available space: 0.821079 GB; capacity: 30 GB. Object creation will fail if spilling is required.\n",
      "\u001b[33m(raylet)\u001b[0m [2025-04-12 22:42:22,965 E 2809 2843] (raylet) file_system_monitor.cc:116: /tmp/ray/session_2025-04-12_20-50-22_955978_2486 is over 95% full, available space: 0.821075 GB; capacity: 30 GB. Object creation will fail if spilling is required.\n",
      "\u001b[33m(raylet)\u001b[0m [2025-04-12 22:42:32,979 E 2809 2843] (raylet) file_system_monitor.cc:116: /tmp/ray/session_2025-04-12_20-50-22_955978_2486 is over 95% full, available space: 0.820827 GB; capacity: 30 GB. Object creation will fail if spilling is required.\n"
     ]
    },
    {
     "name": "stdout",
     "output_type": "stream",
     "text": [
      "\u001b[33m(autoscaler +1h52m13s)\u001b[0m Error: No available node types can fulfill resource request defaultdict(<class 'float'>, {'CPU': 20.0, 'GPU': 4.0}). Add suitable node types to this cluster to resolve this issue.\n"
     ]
    },
    {
     "name": "stderr",
     "output_type": "stream",
     "text": [
      "\u001b[33m(raylet)\u001b[0m [2025-04-12 22:42:42,994 E 2809 2843] (raylet) file_system_monitor.cc:116: /tmp/ray/session_2025-04-12_20-50-22_955978_2486 is over 95% full, available space: 0.820827 GB; capacity: 30 GB. Object creation will fail if spilling is required.\n",
      "\u001b[33m(raylet)\u001b[0m [2025-04-12 22:42:53,009 E 2809 2843] (raylet) file_system_monitor.cc:116: /tmp/ray/session_2025-04-12_20-50-22_955978_2486 is over 95% full, available space: 0.820919 GB; capacity: 30 GB. Object creation will fail if spilling is required.\n",
      "\u001b[33m(raylet)\u001b[0m [2025-04-12 22:43:03,024 E 2809 2843] (raylet) file_system_monitor.cc:116: /tmp/ray/session_2025-04-12_20-50-22_955978_2486 is over 95% full, available space: 0.820919 GB; capacity: 30 GB. Object creation will fail if spilling is required.\n"
     ]
    },
    {
     "name": "stdout",
     "output_type": "stream",
     "text": [
      "\u001b[33m(autoscaler +1h52m48s)\u001b[0m Error: No available node types can fulfill resource request defaultdict(<class 'float'>, {'CPU': 20.0, 'GPU': 4.0}). Add suitable node types to this cluster to resolve this issue.\n"
     ]
    },
    {
     "name": "stderr",
     "output_type": "stream",
     "text": [
      "\u001b[33m(raylet)\u001b[0m [2025-04-12 22:43:13,040 E 2809 2843] (raylet) file_system_monitor.cc:116: /tmp/ray/session_2025-04-12_20-50-22_955978_2486 is over 95% full, available space: 0.820919 GB; capacity: 30 GB. Object creation will fail if spilling is required.\n",
      "\u001b[33m(raylet)\u001b[0m [2025-04-12 22:43:23,054 E 2809 2843] (raylet) file_system_monitor.cc:116: /tmp/ray/session_2025-04-12_20-50-22_955978_2486 is over 95% full, available space: 0.820919 GB; capacity: 30 GB. Object creation will fail if spilling is required.\n",
      "\u001b[33m(raylet)\u001b[0m [2025-04-12 22:43:33,070 E 2809 2843] (raylet) file_system_monitor.cc:116: /tmp/ray/session_2025-04-12_20-50-22_955978_2486 is over 95% full, available space: 0.820919 GB; capacity: 30 GB. Object creation will fail if spilling is required.\n",
      "\u001b[33m(raylet)\u001b[0m [2025-04-12 22:43:43,086 E 2809 2843] (raylet) file_system_monitor.cc:116: /tmp/ray/session_2025-04-12_20-50-22_955978_2486 is over 95% full, available space: 0.820919 GB; capacity: 30 GB. Object creation will fail if spilling is required.\n"
     ]
    },
    {
     "name": "stdout",
     "output_type": "stream",
     "text": [
      "\u001b[33m(autoscaler +1h53m23s)\u001b[0m Error: No available node types can fulfill resource request defaultdict(<class 'float'>, {'CPU': 20.0, 'GPU': 4.0}). Add suitable node types to this cluster to resolve this issue.\n"
     ]
    },
    {
     "name": "stderr",
     "output_type": "stream",
     "text": [
      "\u001b[33m(raylet)\u001b[0m [2025-04-12 22:43:53,102 E 2809 2843] (raylet) file_system_monitor.cc:116: /tmp/ray/session_2025-04-12_20-50-22_955978_2486 is over 95% full, available space: 0.820919 GB; capacity: 30 GB. Object creation will fail if spilling is required.\n",
      "\u001b[33m(raylet)\u001b[0m [2025-04-12 22:44:03,117 E 2809 2843] (raylet) file_system_monitor.cc:116: /tmp/ray/session_2025-04-12_20-50-22_955978_2486 is over 95% full, available space: 0.820919 GB; capacity: 30 GB. Object creation will fail if spilling is required.\n",
      "\u001b[33m(raylet)\u001b[0m [2025-04-12 22:44:13,132 E 2809 2843] (raylet) file_system_monitor.cc:116: /tmp/ray/session_2025-04-12_20-50-22_955978_2486 is over 95% full, available space: 0.820919 GB; capacity: 30 GB. Object creation will fail if spilling is required.\n"
     ]
    },
    {
     "name": "stdout",
     "output_type": "stream",
     "text": [
      "\u001b[33m(autoscaler +1h53m58s)\u001b[0m Error: No available node types can fulfill resource request defaultdict(<class 'float'>, {'CPU': 20.0, 'GPU': 4.0}). Add suitable node types to this cluster to resolve this issue.\n"
     ]
    },
    {
     "name": "stderr",
     "output_type": "stream",
     "text": [
      "\u001b[33m(raylet)\u001b[0m [2025-04-12 22:44:23,146 E 2809 2843] (raylet) file_system_monitor.cc:116: /tmp/ray/session_2025-04-12_20-50-22_955978_2486 is over 95% full, available space: 0.820889 GB; capacity: 30 GB. Object creation will fail if spilling is required.\n",
      "\u001b[33m(raylet)\u001b[0m [2025-04-12 22:44:33,158 E 2809 2843] (raylet) file_system_monitor.cc:116: /tmp/ray/session_2025-04-12_20-50-22_955978_2486 is over 95% full, available space: 0.8204 GB; capacity: 30 GB. Object creation will fail if spilling is required.\n",
      "\u001b[33m(raylet)\u001b[0m [2025-04-12 22:44:43,168 E 2809 2843] (raylet) file_system_monitor.cc:116: /tmp/ray/session_2025-04-12_20-50-22_955978_2486 is over 95% full, available space: 0.8204 GB; capacity: 30 GB. Object creation will fail if spilling is required.\n",
      "\u001b[33m(raylet)\u001b[0m [2025-04-12 22:44:53,178 E 2809 2843] (raylet) file_system_monitor.cc:116: /tmp/ray/session_2025-04-12_20-50-22_955978_2486 is over 95% full, available space: 0.8204 GB; capacity: 30 GB. Object creation will fail if spilling is required.\n"
     ]
    },
    {
     "name": "stdout",
     "output_type": "stream",
     "text": [
      "\u001b[33m(autoscaler +1h54m33s)\u001b[0m Error: No available node types can fulfill resource request defaultdict(<class 'float'>, {'CPU': 20.0, 'GPU': 4.0}). Add suitable node types to this cluster to resolve this issue.\n"
     ]
    },
    {
     "name": "stderr",
     "output_type": "stream",
     "text": [
      "\u001b[33m(raylet)\u001b[0m [2025-04-12 22:45:03,188 E 2809 2843] (raylet) file_system_monitor.cc:116: /tmp/ray/session_2025-04-12_20-50-22_955978_2486 is over 95% full, available space: 0.8204 GB; capacity: 30 GB. Object creation will fail if spilling is required.\n",
      "\u001b[33m(raylet)\u001b[0m [2025-04-12 22:45:13,199 E 2809 2843] (raylet) file_system_monitor.cc:116: /tmp/ray/session_2025-04-12_20-50-22_955978_2486 is over 95% full, available space: 0.8204 GB; capacity: 30 GB. Object creation will fail if spilling is required.\n",
      "\u001b[33m(raylet)\u001b[0m [2025-04-12 22:45:23,209 E 2809 2843] (raylet) file_system_monitor.cc:116: /tmp/ray/session_2025-04-12_20-50-22_955978_2486 is over 95% full, available space: 0.8204 GB; capacity: 30 GB. Object creation will fail if spilling is required.\n"
     ]
    },
    {
     "name": "stdout",
     "output_type": "stream",
     "text": [
      "\u001b[33m(autoscaler +1h55m8s)\u001b[0m Error: No available node types can fulfill resource request defaultdict(<class 'float'>, {'CPU': 20.0, 'GPU': 4.0}). Add suitable node types to this cluster to resolve this issue.\n"
     ]
    },
    {
     "name": "stderr",
     "output_type": "stream",
     "text": [
      "\u001b[33m(raylet)\u001b[0m [2025-04-12 22:45:33,219 E 2809 2843] (raylet) file_system_monitor.cc:116: /tmp/ray/session_2025-04-12_20-50-22_955978_2486 is over 95% full, available space: 0.8204 GB; capacity: 30 GB. Object creation will fail if spilling is required.\n",
      "\u001b[33m(raylet)\u001b[0m [2025-04-12 22:45:43,228 E 2809 2843] (raylet) file_system_monitor.cc:116: /tmp/ray/session_2025-04-12_20-50-22_955978_2486 is over 95% full, available space: 0.8204 GB; capacity: 30 GB. Object creation will fail if spilling is required.\n",
      "\u001b[33m(raylet)\u001b[0m [2025-04-12 22:45:53,238 E 2809 2843] (raylet) file_system_monitor.cc:116: /tmp/ray/session_2025-04-12_20-50-22_955978_2486 is over 95% full, available space: 0.8204 GB; capacity: 30 GB. Object creation will fail if spilling is required.\n",
      "\u001b[33m(raylet)\u001b[0m [2025-04-12 22:46:03,247 E 2809 2843] (raylet) file_system_monitor.cc:116: /tmp/ray/session_2025-04-12_20-50-22_955978_2486 is over 95% full, available space: 0.8204 GB; capacity: 30 GB. Object creation will fail if spilling is required.\n"
     ]
    },
    {
     "name": "stdout",
     "output_type": "stream",
     "text": [
      "\u001b[33m(autoscaler +1h55m43s)\u001b[0m Error: No available node types can fulfill resource request defaultdict(<class 'float'>, {'CPU': 20.0, 'GPU': 4.0}). Add suitable node types to this cluster to resolve this issue.\n"
     ]
    },
    {
     "name": "stderr",
     "output_type": "stream",
     "text": [
      "\u001b[33m(raylet)\u001b[0m [2025-04-12 22:46:13,256 E 2809 2843] (raylet) file_system_monitor.cc:116: /tmp/ray/session_2025-04-12_20-50-22_955978_2486 is over 95% full, available space: 0.820381 GB; capacity: 30 GB. Object creation will fail if spilling is required.\n",
      "\u001b[33m(raylet)\u001b[0m [2025-04-12 22:46:23,266 E 2809 2843] (raylet) file_system_monitor.cc:116: /tmp/ray/session_2025-04-12_20-50-22_955978_2486 is over 95% full, available space: 0.820381 GB; capacity: 30 GB. Object creation will fail if spilling is required.\n",
      "\u001b[33m(raylet)\u001b[0m [2025-04-12 22:46:33,275 E 2809 2843] (raylet) file_system_monitor.cc:116: /tmp/ray/session_2025-04-12_20-50-22_955978_2486 is over 95% full, available space: 0.820381 GB; capacity: 30 GB. Object creation will fail if spilling is required.\n"
     ]
    },
    {
     "name": "stdout",
     "output_type": "stream",
     "text": [
      "\u001b[33m(autoscaler +1h56m18s)\u001b[0m Error: No available node types can fulfill resource request defaultdict(<class 'float'>, {'CPU': 20.0, 'GPU': 4.0}). Add suitable node types to this cluster to resolve this issue.\n"
     ]
    },
    {
     "name": "stderr",
     "output_type": "stream",
     "text": [
      "\u001b[33m(raylet)\u001b[0m [2025-04-12 22:46:43,286 E 2809 2843] (raylet) file_system_monitor.cc:116: /tmp/ray/session_2025-04-12_20-50-22_955978_2486 is over 95% full, available space: 0.820381 GB; capacity: 30 GB. Object creation will fail if spilling is required.\n",
      "\u001b[33m(raylet)\u001b[0m [2025-04-12 22:46:53,296 E 2809 2843] (raylet) file_system_monitor.cc:116: /tmp/ray/session_2025-04-12_20-50-22_955978_2486 is over 95% full, available space: 0.820381 GB; capacity: 30 GB. Object creation will fail if spilling is required.\n",
      "\u001b[33m(raylet)\u001b[0m [2025-04-12 22:47:03,305 E 2809 2843] (raylet) file_system_monitor.cc:116: /tmp/ray/session_2025-04-12_20-50-22_955978_2486 is over 95% full, available space: 0.820381 GB; capacity: 30 GB. Object creation will fail if spilling is required.\n",
      "\u001b[33m(raylet)\u001b[0m [2025-04-12 22:47:13,315 E 2809 2843] (raylet) file_system_monitor.cc:116: /tmp/ray/session_2025-04-12_20-50-22_955978_2486 is over 95% full, available space: 0.820431 GB; capacity: 30 GB. Object creation will fail if spilling is required.\n"
     ]
    },
    {
     "name": "stdout",
     "output_type": "stream",
     "text": [
      "\u001b[33m(autoscaler +1h56m53s)\u001b[0m Error: No available node types can fulfill resource request defaultdict(<class 'float'>, {'CPU': 20.0, 'GPU': 4.0}). Add suitable node types to this cluster to resolve this issue.\n"
     ]
    },
    {
     "name": "stderr",
     "output_type": "stream",
     "text": [
      "\u001b[33m(raylet)\u001b[0m [2025-04-12 22:47:23,325 E 2809 2843] (raylet) file_system_monitor.cc:116: /tmp/ray/session_2025-04-12_20-50-22_955978_2486 is over 95% full, available space: 0.820431 GB; capacity: 30 GB. Object creation will fail if spilling is required.\n",
      "\u001b[33m(raylet)\u001b[0m [2025-04-12 22:47:33,334 E 2809 2843] (raylet) file_system_monitor.cc:116: /tmp/ray/session_2025-04-12_20-50-22_955978_2486 is over 95% full, available space: 0.820492 GB; capacity: 30 GB. Object creation will fail if spilling is required.\n",
      "\u001b[33m(raylet)\u001b[0m [2025-04-12 22:47:43,344 E 2809 2843] (raylet) file_system_monitor.cc:116: /tmp/ray/session_2025-04-12_20-50-22_955978_2486 is over 95% full, available space: 0.820366 GB; capacity: 30 GB. Object creation will fail if spilling is required.\n"
     ]
    },
    {
     "name": "stdout",
     "output_type": "stream",
     "text": [
      "\u001b[33m(autoscaler +1h57m28s)\u001b[0m Error: No available node types can fulfill resource request defaultdict(<class 'float'>, {'CPU': 20.0, 'GPU': 4.0}). Add suitable node types to this cluster to resolve this issue.\n"
     ]
    },
    {
     "name": "stderr",
     "output_type": "stream",
     "text": [
      "\u001b[33m(raylet)\u001b[0m [2025-04-12 22:47:53,354 E 2809 2843] (raylet) file_system_monitor.cc:116: /tmp/ray/session_2025-04-12_20-50-22_955978_2486 is over 95% full, available space: 0.820366 GB; capacity: 30 GB. Object creation will fail if spilling is required.\n",
      "\u001b[33m(raylet)\u001b[0m [2025-04-12 22:48:03,363 E 2809 2843] (raylet) file_system_monitor.cc:116: /tmp/ray/session_2025-04-12_20-50-22_955978_2486 is over 95% full, available space: 0.822006 GB; capacity: 30 GB. Object creation will fail if spilling is required.\n",
      "\u001b[33m(raylet)\u001b[0m [2025-04-12 22:48:13,373 E 2809 2843] (raylet) file_system_monitor.cc:116: /tmp/ray/session_2025-04-12_20-50-22_955978_2486 is over 95% full, available space: 0.821995 GB; capacity: 30 GB. Object creation will fail if spilling is required.\n",
      "\u001b[33m(raylet)\u001b[0m [2025-04-12 22:48:23,382 E 2809 2843] (raylet) file_system_monitor.cc:116: /tmp/ray/session_2025-04-12_20-50-22_955978_2486 is over 95% full, available space: 0.821941 GB; capacity: 30 GB. Object creation will fail if spilling is required.\n"
     ]
    },
    {
     "name": "stdout",
     "output_type": "stream",
     "text": [
      "\u001b[33m(autoscaler +1h58m3s)\u001b[0m Error: No available node types can fulfill resource request defaultdict(<class 'float'>, {'CPU': 20.0, 'GPU': 4.0}). Add suitable node types to this cluster to resolve this issue.\n"
     ]
    },
    {
     "name": "stderr",
     "output_type": "stream",
     "text": [
      "\u001b[33m(raylet)\u001b[0m [2025-04-12 22:48:33,392 E 2809 2843] (raylet) file_system_monitor.cc:116: /tmp/ray/session_2025-04-12_20-50-22_955978_2486 is over 95% full, available space: 0.818958 GB; capacity: 30 GB. Object creation will fail if spilling is required.\n",
      "\u001b[33m(raylet)\u001b[0m [2025-04-12 22:48:43,400 E 2809 2843] (raylet) file_system_monitor.cc:116: /tmp/ray/session_2025-04-12_20-50-22_955978_2486 is over 95% full, available space: 0.818958 GB; capacity: 30 GB. Object creation will fail if spilling is required.\n",
      "\u001b[33m(raylet)\u001b[0m [2025-04-12 22:48:53,408 E 2809 2843] (raylet) file_system_monitor.cc:116: /tmp/ray/session_2025-04-12_20-50-22_955978_2486 is over 95% full, available space: 0.818958 GB; capacity: 30 GB. Object creation will fail if spilling is required.\n"
     ]
    },
    {
     "name": "stdout",
     "output_type": "stream",
     "text": [
      "\u001b[33m(autoscaler +1h58m38s)\u001b[0m Error: No available node types can fulfill resource request defaultdict(<class 'float'>, {'CPU': 20.0, 'GPU': 4.0}). Add suitable node types to this cluster to resolve this issue.\n"
     ]
    },
    {
     "name": "stderr",
     "output_type": "stream",
     "text": [
      "\u001b[33m(raylet)\u001b[0m [2025-04-12 22:49:03,417 E 2809 2843] (raylet) file_system_monitor.cc:116: /tmp/ray/session_2025-04-12_20-50-22_955978_2486 is over 95% full, available space: 0.818958 GB; capacity: 30 GB. Object creation will fail if spilling is required.\n",
      "\u001b[33m(raylet)\u001b[0m [2025-04-12 22:49:13,426 E 2809 2843] (raylet) file_system_monitor.cc:116: /tmp/ray/session_2025-04-12_20-50-22_955978_2486 is over 95% full, available space: 0.818958 GB; capacity: 30 GB. Object creation will fail if spilling is required.\n",
      "\u001b[33m(raylet)\u001b[0m [2025-04-12 22:49:23,434 E 2809 2843] (raylet) file_system_monitor.cc:116: /tmp/ray/session_2025-04-12_20-50-22_955978_2486 is over 95% full, available space: 0.818958 GB; capacity: 30 GB. Object creation will fail if spilling is required.\n",
      "\u001b[33m(raylet)\u001b[0m [2025-04-12 22:49:33,442 E 2809 2843] (raylet) file_system_monitor.cc:116: /tmp/ray/session_2025-04-12_20-50-22_955978_2486 is over 95% full, available space: 0.818958 GB; capacity: 30 GB. Object creation will fail if spilling is required.\n"
     ]
    },
    {
     "name": "stdout",
     "output_type": "stream",
     "text": [
      "\u001b[33m(autoscaler +1h59m14s)\u001b[0m Error: No available node types can fulfill resource request defaultdict(<class 'float'>, {'CPU': 20.0, 'GPU': 4.0}). Add suitable node types to this cluster to resolve this issue.\n"
     ]
    },
    {
     "name": "stderr",
     "output_type": "stream",
     "text": [
      "\u001b[33m(raylet)\u001b[0m [2025-04-12 22:49:43,459 E 2809 2843] (raylet) file_system_monitor.cc:116: /tmp/ray/session_2025-04-12_20-50-22_955978_2486 is over 95% full, available space: 0.818958 GB; capacity: 30 GB. Object creation will fail if spilling is required.\n",
      "\u001b[33m(raylet)\u001b[0m [2025-04-12 22:49:53,476 E 2809 2843] (raylet) file_system_monitor.cc:116: /tmp/ray/session_2025-04-12_20-50-22_955978_2486 is over 95% full, available space: 0.818954 GB; capacity: 30 GB. Object creation will fail if spilling is required.\n",
      "\u001b[33m(raylet)\u001b[0m [2025-04-12 22:50:03,491 E 2809 2843] (raylet) file_system_monitor.cc:116: /tmp/ray/session_2025-04-12_20-50-22_955978_2486 is over 95% full, available space: 0.818954 GB; capacity: 30 GB. Object creation will fail if spilling is required.\n"
     ]
    },
    {
     "name": "stdout",
     "output_type": "stream",
     "text": [
      "\u001b[33m(autoscaler +1h59m49s)\u001b[0m Error: No available node types can fulfill resource request defaultdict(<class 'float'>, {'CPU': 20.0, 'GPU': 4.0}). Add suitable node types to this cluster to resolve this issue.\n"
     ]
    },
    {
     "name": "stderr",
     "output_type": "stream",
     "text": [
      "\u001b[33m(raylet)\u001b[0m [2025-04-12 22:50:13,499 E 2809 2843] (raylet) file_system_monitor.cc:116: /tmp/ray/session_2025-04-12_20-50-22_955978_2486 is over 95% full, available space: 0.818954 GB; capacity: 30 GB. Object creation will fail if spilling is required.\n",
      "\u001b[33m(raylet)\u001b[0m [2025-04-12 22:50:23,513 E 2809 2843] (raylet) file_system_monitor.cc:116: /tmp/ray/session_2025-04-12_20-50-22_955978_2486 is over 95% full, available space: 0.818954 GB; capacity: 30 GB. Object creation will fail if spilling is required.\n",
      "\u001b[33m(raylet)\u001b[0m [2025-04-12 22:50:33,523 E 2809 2843] (raylet) file_system_monitor.cc:116: /tmp/ray/session_2025-04-12_20-50-22_955978_2486 is over 95% full, available space: 0.818951 GB; capacity: 30 GB. Object creation will fail if spilling is required.\n",
      "\u001b[33m(raylet)\u001b[0m [2025-04-12 22:50:43,536 E 2809 2843] (raylet) file_system_monitor.cc:116: /tmp/ray/session_2025-04-12_20-50-22_955978_2486 is over 95% full, available space: 0.818951 GB; capacity: 30 GB. Object creation will fail if spilling is required.\n"
     ]
    },
    {
     "name": "stdout",
     "output_type": "stream",
     "text": [
      "\u001b[33m(autoscaler +2h24s)\u001b[0m Error: No available node types can fulfill resource request defaultdict(<class 'float'>, {'CPU': 20.0, 'GPU': 4.0}). Add suitable node types to this cluster to resolve this issue.\n"
     ]
    },
    {
     "name": "stderr",
     "output_type": "stream",
     "text": [
      "\u001b[33m(raylet)\u001b[0m [2025-04-12 22:50:53,546 E 2809 2843] (raylet) file_system_monitor.cc:116: /tmp/ray/session_2025-04-12_20-50-22_955978_2486 is over 95% full, available space: 0.818951 GB; capacity: 30 GB. Object creation will fail if spilling is required.\n",
      "\u001b[33m(raylet)\u001b[0m [2025-04-12 22:51:03,560 E 2809 2843] (raylet) file_system_monitor.cc:116: /tmp/ray/session_2025-04-12_20-50-22_955978_2486 is over 95% full, available space: 0.818947 GB; capacity: 30 GB. Object creation will fail if spilling is required.\n",
      "\u001b[33m(raylet)\u001b[0m [2025-04-12 22:51:13,574 E 2809 2843] (raylet) file_system_monitor.cc:116: /tmp/ray/session_2025-04-12_20-50-22_955978_2486 is over 95% full, available space: 0.818947 GB; capacity: 30 GB. Object creation will fail if spilling is required.\n"
     ]
    },
    {
     "name": "stdout",
     "output_type": "stream",
     "text": [
      "\u001b[33m(autoscaler +2h59s)\u001b[0m Error: No available node types can fulfill resource request defaultdict(<class 'float'>, {'CPU': 20.0, 'GPU': 4.0}). Add suitable node types to this cluster to resolve this issue.\n"
     ]
    },
    {
     "name": "stderr",
     "output_type": "stream",
     "text": [
      "\u001b[33m(raylet)\u001b[0m [2025-04-12 22:51:23,585 E 2809 2843] (raylet) file_system_monitor.cc:116: /tmp/ray/session_2025-04-12_20-50-22_955978_2486 is over 95% full, available space: 0.818947 GB; capacity: 30 GB. Object creation will fail if spilling is required.\n",
      "\u001b[33m(raylet)\u001b[0m [2025-04-12 22:51:33,595 E 2809 2843] (raylet) file_system_monitor.cc:116: /tmp/ray/session_2025-04-12_20-50-22_955978_2486 is over 95% full, available space: 0.818825 GB; capacity: 30 GB. Object creation will fail if spilling is required.\n",
      "\u001b[33m(raylet)\u001b[0m [2025-04-12 22:51:43,604 E 2809 2843] (raylet) file_system_monitor.cc:116: /tmp/ray/session_2025-04-12_20-50-22_955978_2486 is over 95% full, available space: 0.818825 GB; capacity: 30 GB. Object creation will fail if spilling is required.\n",
      "\u001b[33m(raylet)\u001b[0m [2025-04-12 22:51:53,613 E 2809 2843] (raylet) file_system_monitor.cc:116: /tmp/ray/session_2025-04-12_20-50-22_955978_2486 is over 95% full, available space: 0.818825 GB; capacity: 30 GB. Object creation will fail if spilling is required.\n"
     ]
    },
    {
     "name": "stdout",
     "output_type": "stream",
     "text": [
      "\u001b[33m(autoscaler +2h1m34s)\u001b[0m Error: No available node types can fulfill resource request defaultdict(<class 'float'>, {'CPU': 20.0, 'GPU': 4.0}). Add suitable node types to this cluster to resolve this issue.\n"
     ]
    },
    {
     "name": "stderr",
     "output_type": "stream",
     "text": [
      "\u001b[33m(raylet)\u001b[0m [2025-04-12 22:52:03,623 E 2809 2843] (raylet) file_system_monitor.cc:116: /tmp/ray/session_2025-04-12_20-50-22_955978_2486 is over 95% full, available space: 0.818825 GB; capacity: 30 GB. Object creation will fail if spilling is required.\n",
      "\u001b[33m(raylet)\u001b[0m [2025-04-12 22:52:13,634 E 2809 2843] (raylet) file_system_monitor.cc:116: /tmp/ray/session_2025-04-12_20-50-22_955978_2486 is over 95% full, available space: 0.818825 GB; capacity: 30 GB. Object creation will fail if spilling is required.\n",
      "\u001b[33m(raylet)\u001b[0m [2025-04-12 22:52:23,645 E 2809 2843] (raylet) file_system_monitor.cc:116: /tmp/ray/session_2025-04-12_20-50-22_955978_2486 is over 95% full, available space: 0.818825 GB; capacity: 30 GB. Object creation will fail if spilling is required.\n"
     ]
    },
    {
     "name": "stdout",
     "output_type": "stream",
     "text": [
      "\u001b[33m(autoscaler +2h2m9s)\u001b[0m Error: No available node types can fulfill resource request defaultdict(<class 'float'>, {'CPU': 20.0, 'GPU': 4.0}). Add suitable node types to this cluster to resolve this issue.\n"
     ]
    },
    {
     "name": "stderr",
     "output_type": "stream",
     "text": [
      "\u001b[33m(raylet)\u001b[0m [2025-04-12 22:52:33,657 E 2809 2843] (raylet) file_system_monitor.cc:116: /tmp/ray/session_2025-04-12_20-50-22_955978_2486 is over 95% full, available space: 0.818825 GB; capacity: 30 GB. Object creation will fail if spilling is required.\n",
      "\u001b[33m(raylet)\u001b[0m [2025-04-12 22:52:43,667 E 2809 2843] (raylet) file_system_monitor.cc:116: /tmp/ray/session_2025-04-12_20-50-22_955978_2486 is over 95% full, available space: 0.818825 GB; capacity: 30 GB. Object creation will fail if spilling is required.\n",
      "\u001b[33m(raylet)\u001b[0m [2025-04-12 22:52:53,678 E 2809 2843] (raylet) file_system_monitor.cc:116: /tmp/ray/session_2025-04-12_20-50-22_955978_2486 is over 95% full, available space: 0.818825 GB; capacity: 30 GB. Object creation will fail if spilling is required.\n",
      "\u001b[33m(raylet)\u001b[0m [2025-04-12 22:53:03,688 E 2809 2843] (raylet) file_system_monitor.cc:116: /tmp/ray/session_2025-04-12_20-50-22_955978_2486 is over 95% full, available space: 0.818825 GB; capacity: 30 GB. Object creation will fail if spilling is required.\n"
     ]
    },
    {
     "name": "stdout",
     "output_type": "stream",
     "text": [
      "\u001b[33m(autoscaler +2h2m44s)\u001b[0m Error: No available node types can fulfill resource request defaultdict(<class 'float'>, {'CPU': 20.0, 'GPU': 4.0}). Add suitable node types to this cluster to resolve this issue.\n"
     ]
    },
    {
     "name": "stderr",
     "output_type": "stream",
     "text": [
      "\u001b[33m(raylet)\u001b[0m [2025-04-12 22:53:13,700 E 2809 2843] (raylet) file_system_monitor.cc:116: /tmp/ray/session_2025-04-12_20-50-22_955978_2486 is over 95% full, available space: 0.820992 GB; capacity: 30 GB. Object creation will fail if spilling is required.\n",
      "\u001b[33m(raylet)\u001b[0m [2025-04-12 22:53:23,709 E 2809 2843] (raylet) file_system_monitor.cc:116: /tmp/ray/session_2025-04-12_20-50-22_955978_2486 is over 95% full, available space: 0.820786 GB; capacity: 30 GB. Object creation will fail if spilling is required.\n",
      "\u001b[33m(raylet)\u001b[0m [2025-04-12 22:53:33,719 E 2809 2843] (raylet) file_system_monitor.cc:116: /tmp/ray/session_2025-04-12_20-50-22_955978_2486 is over 95% full, available space: 0.81876 GB; capacity: 30 GB. Object creation will fail if spilling is required.\n"
     ]
    },
    {
     "name": "stdout",
     "output_type": "stream",
     "text": [
      "\u001b[33m(autoscaler +2h3m19s)\u001b[0m Error: No available node types can fulfill resource request defaultdict(<class 'float'>, {'CPU': 20.0, 'GPU': 4.0}). Add suitable node types to this cluster to resolve this issue.\n"
     ]
    },
    {
     "name": "stderr",
     "output_type": "stream",
     "text": [
      "\u001b[33m(raylet)\u001b[0m [2025-04-12 22:53:43,729 E 2809 2843] (raylet) file_system_monitor.cc:116: /tmp/ray/session_2025-04-12_20-50-22_955978_2486 is over 95% full, available space: 0.81876 GB; capacity: 30 GB. Object creation will fail if spilling is required.\n",
      "\u001b[33m(raylet)\u001b[0m [2025-04-12 22:53:53,740 E 2809 2843] (raylet) file_system_monitor.cc:116: /tmp/ray/session_2025-04-12_20-50-22_955978_2486 is over 95% full, available space: 0.818756 GB; capacity: 30 GB. Object creation will fail if spilling is required.\n",
      "\u001b[33m(raylet)\u001b[0m [2025-04-12 22:54:03,755 E 2809 2843] (raylet) file_system_monitor.cc:116: /tmp/ray/session_2025-04-12_20-50-22_955978_2486 is over 95% full, available space: 0.818756 GB; capacity: 30 GB. Object creation will fail if spilling is required.\n",
      "\u001b[33m(raylet)\u001b[0m [2025-04-12 22:54:13,766 E 2809 2843] (raylet) file_system_monitor.cc:116: /tmp/ray/session_2025-04-12_20-50-22_955978_2486 is over 95% full, available space: 0.818756 GB; capacity: 30 GB. Object creation will fail if spilling is required.\n"
     ]
    },
    {
     "name": "stdout",
     "output_type": "stream",
     "text": [
      "\u001b[33m(autoscaler +2h3m54s)\u001b[0m Error: No available node types can fulfill resource request defaultdict(<class 'float'>, {'CPU': 20.0, 'GPU': 4.0}). Add suitable node types to this cluster to resolve this issue.\n"
     ]
    },
    {
     "name": "stderr",
     "output_type": "stream",
     "text": [
      "\u001b[33m(raylet)\u001b[0m [2025-04-12 22:54:23,775 E 2809 2843] (raylet) file_system_monitor.cc:116: /tmp/ray/session_2025-04-12_20-50-22_955978_2486 is over 95% full, available space: 0.818756 GB; capacity: 30 GB. Object creation will fail if spilling is required.\n",
      "\u001b[33m(raylet)\u001b[0m [2025-04-12 22:54:33,787 E 2809 2843] (raylet) file_system_monitor.cc:116: /tmp/ray/session_2025-04-12_20-50-22_955978_2486 is over 95% full, available space: 0.818695 GB; capacity: 30 GB. Object creation will fail if spilling is required.\n",
      "\u001b[33m(raylet)\u001b[0m [2025-04-12 22:54:43,798 E 2809 2843] (raylet) file_system_monitor.cc:116: /tmp/ray/session_2025-04-12_20-50-22_955978_2486 is over 95% full, available space: 0.818695 GB; capacity: 30 GB. Object creation will fail if spilling is required.\n"
     ]
    },
    {
     "name": "stdout",
     "output_type": "stream",
     "text": [
      "\u001b[33m(autoscaler +2h4m29s)\u001b[0m Error: No available node types can fulfill resource request defaultdict(<class 'float'>, {'CPU': 20.0, 'GPU': 4.0}). Add suitable node types to this cluster to resolve this issue.\n"
     ]
    },
    {
     "name": "stderr",
     "output_type": "stream",
     "text": [
      "\u001b[33m(raylet)\u001b[0m [2025-04-12 22:54:53,809 E 2809 2843] (raylet) file_system_monitor.cc:116: /tmp/ray/session_2025-04-12_20-50-22_955978_2486 is over 95% full, available space: 0.818695 GB; capacity: 30 GB. Object creation will fail if spilling is required.\n",
      "\u001b[33m(raylet)\u001b[0m [2025-04-12 22:55:03,821 E 2809 2843] (raylet) file_system_monitor.cc:116: /tmp/ray/session_2025-04-12_20-50-22_955978_2486 is over 95% full, available space: 0.818695 GB; capacity: 30 GB. Object creation will fail if spilling is required.\n",
      "\u001b[33m(raylet)\u001b[0m [2025-04-12 22:55:13,833 E 2809 2843] (raylet) file_system_monitor.cc:116: /tmp/ray/session_2025-04-12_20-50-22_955978_2486 is over 95% full, available space: 0.818695 GB; capacity: 30 GB. Object creation will fail if spilling is required.\n",
      "\u001b[33m(raylet)\u001b[0m [2025-04-12 22:55:23,845 E 2809 2843] (raylet) file_system_monitor.cc:116: /tmp/ray/session_2025-04-12_20-50-22_955978_2486 is over 95% full, available space: 0.818695 GB; capacity: 30 GB. Object creation will fail if spilling is required.\n"
     ]
    },
    {
     "name": "stdout",
     "output_type": "stream",
     "text": [
      "\u001b[33m(autoscaler +2h5m4s)\u001b[0m Error: No available node types can fulfill resource request defaultdict(<class 'float'>, {'CPU': 20.0, 'GPU': 4.0}). Add suitable node types to this cluster to resolve this issue.\n"
     ]
    },
    {
     "name": "stderr",
     "output_type": "stream",
     "text": [
      "\u001b[33m(raylet)\u001b[0m [2025-04-12 22:55:33,855 E 2809 2843] (raylet) file_system_monitor.cc:116: /tmp/ray/session_2025-04-12_20-50-22_955978_2486 is over 95% full, available space: 0.818695 GB; capacity: 30 GB. Object creation will fail if spilling is required.\n",
      "\u001b[33m(raylet)\u001b[0m [2025-04-12 22:55:43,866 E 2809 2843] (raylet) file_system_monitor.cc:116: /tmp/ray/session_2025-04-12_20-50-22_955978_2486 is over 95% full, available space: 0.818687 GB; capacity: 30 GB. Object creation will fail if spilling is required.\n",
      "\u001b[33m(raylet)\u001b[0m [2025-04-12 22:55:53,877 E 2809 2843] (raylet) file_system_monitor.cc:116: /tmp/ray/session_2025-04-12_20-50-22_955978_2486 is over 95% full, available space: 0.818687 GB; capacity: 30 GB. Object creation will fail if spilling is required.\n"
     ]
    },
    {
     "name": "stdout",
     "output_type": "stream",
     "text": [
      "\u001b[33m(autoscaler +2h5m39s)\u001b[0m Error: No available node types can fulfill resource request defaultdict(<class 'float'>, {'CPU': 20.0, 'GPU': 4.0}). Add suitable node types to this cluster to resolve this issue.\n"
     ]
    },
    {
     "name": "stderr",
     "output_type": "stream",
     "text": [
      "\u001b[33m(raylet)\u001b[0m [2025-04-12 22:56:03,886 E 2809 2843] (raylet) file_system_monitor.cc:116: /tmp/ray/session_2025-04-12_20-50-22_955978_2486 is over 95% full, available space: 0.818687 GB; capacity: 30 GB. Object creation will fail if spilling is required.\n",
      "\u001b[33m(raylet)\u001b[0m [2025-04-12 22:56:13,897 E 2809 2843] (raylet) file_system_monitor.cc:116: /tmp/ray/session_2025-04-12_20-50-22_955978_2486 is over 95% full, available space: 0.818684 GB; capacity: 30 GB. Object creation will fail if spilling is required.\n",
      "\u001b[33m(raylet)\u001b[0m [2025-04-12 22:56:23,906 E 2809 2843] (raylet) file_system_monitor.cc:116: /tmp/ray/session_2025-04-12_20-50-22_955978_2486 is over 95% full, available space: 0.818684 GB; capacity: 30 GB. Object creation will fail if spilling is required.\n",
      "\u001b[33m(raylet)\u001b[0m [2025-04-12 22:56:33,953 E 2809 2843] (raylet) file_system_monitor.cc:116: /tmp/ray/session_2025-04-12_20-50-22_955978_2486 is over 95% full, available space: 0.818684 GB; capacity: 30 GB. Object creation will fail if spilling is required.\n"
     ]
    },
    {
     "name": "stdout",
     "output_type": "stream",
     "text": [
      "\u001b[33m(autoscaler +2h6m15s)\u001b[0m Error: No available node types can fulfill resource request defaultdict(<class 'float'>, {'CPU': 20.0, 'GPU': 4.0}). Add suitable node types to this cluster to resolve this issue.\n"
     ]
    },
    {
     "name": "stderr",
     "output_type": "stream",
     "text": [
      "\u001b[33m(raylet)\u001b[0m [2025-04-12 22:56:43,995 E 2809 2843] (raylet) file_system_monitor.cc:116: /tmp/ray/session_2025-04-12_20-50-22_955978_2486 is over 95% full, available space: 0.818684 GB; capacity: 30 GB. Object creation will fail if spilling is required.\n",
      "\u001b[33m(raylet)\u001b[0m [2025-04-12 22:56:54,010 E 2809 2843] (raylet) file_system_monitor.cc:116: /tmp/ray/session_2025-04-12_20-50-22_955978_2486 is over 95% full, available space: 0.818684 GB; capacity: 30 GB. Object creation will fail if spilling is required.\n",
      "\u001b[33m(raylet)\u001b[0m [2025-04-12 22:57:04,022 E 2809 2843] (raylet) file_system_monitor.cc:116: /tmp/ray/session_2025-04-12_20-50-22_955978_2486 is over 95% full, available space: 0.818684 GB; capacity: 30 GB. Object creation will fail if spilling is required.\n"
     ]
    },
    {
     "name": "stdout",
     "output_type": "stream",
     "text": [
      "\u001b[33m(autoscaler +2h6m50s)\u001b[0m Error: No available node types can fulfill resource request defaultdict(<class 'float'>, {'CPU': 20.0, 'GPU': 4.0}). Add suitable node types to this cluster to resolve this issue.\n"
     ]
    },
    {
     "name": "stderr",
     "output_type": "stream",
     "text": [
      "\u001b[33m(raylet)\u001b[0m [2025-04-12 22:57:14,031 E 2809 2843] (raylet) file_system_monitor.cc:116: /tmp/ray/session_2025-04-12_20-50-22_955978_2486 is over 95% full, available space: 0.818684 GB; capacity: 30 GB. Object creation will fail if spilling is required.\n",
      "\u001b[33m(raylet)\u001b[0m [2025-04-12 22:57:24,040 E 2809 2843] (raylet) file_system_monitor.cc:116: /tmp/ray/session_2025-04-12_20-50-22_955978_2486 is over 95% full, available space: 0.818684 GB; capacity: 30 GB. Object creation will fail if spilling is required.\n",
      "\u001b[33m(raylet)\u001b[0m [2025-04-12 22:57:34,048 E 2809 2843] (raylet) file_system_monitor.cc:116: /tmp/ray/session_2025-04-12_20-50-22_955978_2486 is over 95% full, available space: 0.818439 GB; capacity: 30 GB. Object creation will fail if spilling is required.\n",
      "\u001b[33m(raylet)\u001b[0m [2025-04-12 22:57:44,068 E 2809 2843] (raylet) file_system_monitor.cc:116: /tmp/ray/session_2025-04-12_20-50-22_955978_2486 is over 95% full, available space: 0.818439 GB; capacity: 30 GB. Object creation will fail if spilling is required.\n"
     ]
    },
    {
     "name": "stdout",
     "output_type": "stream",
     "text": [
      "\u001b[33m(autoscaler +2h7m25s)\u001b[0m Error: No available node types can fulfill resource request defaultdict(<class 'float'>, {'CPU': 20.0, 'GPU': 4.0}). Add suitable node types to this cluster to resolve this issue.\n"
     ]
    },
    {
     "name": "stderr",
     "output_type": "stream",
     "text": [
      "\u001b[33m(raylet)\u001b[0m [2025-04-12 22:57:54,081 E 2809 2843] (raylet) file_system_monitor.cc:116: /tmp/ray/session_2025-04-12_20-50-22_955978_2486 is over 95% full, available space: 0.818436 GB; capacity: 30 GB. Object creation will fail if spilling is required.\n",
      "\u001b[33m(raylet)\u001b[0m [2025-04-12 22:58:04,092 E 2809 2843] (raylet) file_system_monitor.cc:116: /tmp/ray/session_2025-04-12_20-50-22_955978_2486 is over 95% full, available space: 0.818436 GB; capacity: 30 GB. Object creation will fail if spilling is required.\n",
      "\u001b[33m(raylet)\u001b[0m [2025-04-12 22:58:14,101 E 2809 2843] (raylet) file_system_monitor.cc:116: /tmp/ray/session_2025-04-12_20-50-22_955978_2486 is over 95% full, available space: 0.818436 GB; capacity: 30 GB. Object creation will fail if spilling is required.\n"
     ]
    },
    {
     "name": "stdout",
     "output_type": "stream",
     "text": [
      "\u001b[33m(autoscaler +2h8m0s)\u001b[0m Error: No available node types can fulfill resource request defaultdict(<class 'float'>, {'CPU': 20.0, 'GPU': 4.0}). Add suitable node types to this cluster to resolve this issue.\n"
     ]
    },
    {
     "name": "stderr",
     "output_type": "stream",
     "text": [
      "\u001b[33m(raylet)\u001b[0m [2025-04-12 22:58:24,109 E 2809 2843] (raylet) file_system_monitor.cc:116: /tmp/ray/session_2025-04-12_20-50-22_955978_2486 is over 95% full, available space: 0.819855 GB; capacity: 30 GB. Object creation will fail if spilling is required.\n",
      "\u001b[33m(raylet)\u001b[0m [2025-04-12 22:58:34,117 E 2809 2843] (raylet) file_system_monitor.cc:116: /tmp/ray/session_2025-04-12_20-50-22_955978_2486 is over 95% full, available space: 0.816483 GB; capacity: 30 GB. Object creation will fail if spilling is required.\n",
      "\u001b[33m(raylet)\u001b[0m [2025-04-12 22:58:44,127 E 2809 2843] (raylet) file_system_monitor.cc:116: /tmp/ray/session_2025-04-12_20-50-22_955978_2486 is over 95% full, available space: 0.816483 GB; capacity: 30 GB. Object creation will fail if spilling is required.\n",
      "\u001b[33m(raylet)\u001b[0m [2025-04-12 22:58:54,137 E 2809 2843] (raylet) file_system_monitor.cc:116: /tmp/ray/session_2025-04-12_20-50-22_955978_2486 is over 95% full, available space: 0.816479 GB; capacity: 30 GB. Object creation will fail if spilling is required.\n"
     ]
    },
    {
     "name": "stdout",
     "output_type": "stream",
     "text": [
      "\u001b[33m(autoscaler +2h8m35s)\u001b[0m Error: No available node types can fulfill resource request defaultdict(<class 'float'>, {'CPU': 20.0, 'GPU': 4.0}). Add suitable node types to this cluster to resolve this issue.\n"
     ]
    },
    {
     "name": "stderr",
     "output_type": "stream",
     "text": [
      "\u001b[33m(raylet)\u001b[0m [2025-04-12 22:59:04,147 E 2809 2843] (raylet) file_system_monitor.cc:116: /tmp/ray/session_2025-04-12_20-50-22_955978_2486 is over 95% full, available space: 0.816479 GB; capacity: 30 GB. Object creation will fail if spilling is required.\n",
      "\u001b[33m(raylet)\u001b[0m [2025-04-12 22:59:14,158 E 2809 2843] (raylet) file_system_monitor.cc:116: /tmp/ray/session_2025-04-12_20-50-22_955978_2486 is over 95% full, available space: 0.816479 GB; capacity: 30 GB. Object creation will fail if spilling is required.\n",
      "\u001b[33m(raylet)\u001b[0m [2025-04-12 22:59:24,170 E 2809 2843] (raylet) file_system_monitor.cc:116: /tmp/ray/session_2025-04-12_20-50-22_955978_2486 is over 95% full, available space: 0.816479 GB; capacity: 30 GB. Object creation will fail if spilling is required.\n"
     ]
    },
    {
     "name": "stdout",
     "output_type": "stream",
     "text": [
      "\u001b[33m(autoscaler +2h9m10s)\u001b[0m Error: No available node types can fulfill resource request defaultdict(<class 'float'>, {'CPU': 20.0, 'GPU': 4.0}). Add suitable node types to this cluster to resolve this issue.\n"
     ]
    },
    {
     "name": "stderr",
     "output_type": "stream",
     "text": [
      "\u001b[33m(raylet)\u001b[0m [2025-04-12 22:59:34,181 E 2809 2843] (raylet) file_system_monitor.cc:116: /tmp/ray/session_2025-04-12_20-50-22_955978_2486 is over 95% full, available space: 0.816479 GB; capacity: 30 GB. Object creation will fail if spilling is required.\n",
      "\u001b[33m(raylet)\u001b[0m [2025-04-12 22:59:44,192 E 2809 2843] (raylet) file_system_monitor.cc:116: /tmp/ray/session_2025-04-12_20-50-22_955978_2486 is over 95% full, available space: 0.816475 GB; capacity: 30 GB. Object creation will fail if spilling is required.\n",
      "\u001b[33m(raylet)\u001b[0m [2025-04-12 22:59:54,202 E 2809 2843] (raylet) file_system_monitor.cc:116: /tmp/ray/session_2025-04-12_20-50-22_955978_2486 is over 95% full, available space: 0.816479 GB; capacity: 30 GB. Object creation will fail if spilling is required.\n",
      "\u001b[33m(raylet)\u001b[0m [2025-04-12 23:00:04,212 E 2809 2843] (raylet) file_system_monitor.cc:116: /tmp/ray/session_2025-04-12_20-50-22_955978_2486 is over 95% full, available space: 0.816475 GB; capacity: 30 GB. Object creation will fail if spilling is required.\n"
     ]
    },
    {
     "name": "stdout",
     "output_type": "stream",
     "text": [
      "\u001b[33m(autoscaler +2h9m45s)\u001b[0m Error: No available node types can fulfill resource request defaultdict(<class 'float'>, {'CPU': 20.0, 'GPU': 4.0}). Add suitable node types to this cluster to resolve this issue.\n"
     ]
    },
    {
     "name": "stderr",
     "output_type": "stream",
     "text": [
      "\u001b[33m(raylet)\u001b[0m [2025-04-12 23:00:14,221 E 2809 2843] (raylet) file_system_monitor.cc:116: /tmp/ray/session_2025-04-12_20-50-22_955978_2486 is over 95% full, available space: 0.816475 GB; capacity: 30 GB. Object creation will fail if spilling is required.\n",
      "\u001b[33m(raylet)\u001b[0m [2025-04-12 23:00:24,230 E 2809 2843] (raylet) file_system_monitor.cc:116: /tmp/ray/session_2025-04-12_20-50-22_955978_2486 is over 95% full, available space: 0.816475 GB; capacity: 30 GB. Object creation will fail if spilling is required.\n",
      "\u001b[33m(raylet)\u001b[0m [2025-04-12 23:00:34,239 E 2809 2843] (raylet) file_system_monitor.cc:116: /tmp/ray/session_2025-04-12_20-50-22_955978_2486 is over 95% full, available space: 0.816475 GB; capacity: 30 GB. Object creation will fail if spilling is required.\n"
     ]
    },
    {
     "name": "stdout",
     "output_type": "stream",
     "text": [
      "\u001b[33m(autoscaler +2h10m20s)\u001b[0m Error: No available node types can fulfill resource request defaultdict(<class 'float'>, {'CPU': 20.0, 'GPU': 4.0}). Add suitable node types to this cluster to resolve this issue.\n"
     ]
    },
    {
     "name": "stderr",
     "output_type": "stream",
     "text": [
      "\u001b[33m(raylet)\u001b[0m [2025-04-12 23:00:44,249 E 2809 2843] (raylet) file_system_monitor.cc:116: /tmp/ray/session_2025-04-12_20-50-22_955978_2486 is over 95% full, available space: 0.816475 GB; capacity: 30 GB. Object creation will fail if spilling is required.\n",
      "\u001b[33m(raylet)\u001b[0m [2025-04-12 23:00:54,258 E 2809 2843] (raylet) file_system_monitor.cc:116: /tmp/ray/session_2025-04-12_20-50-22_955978_2486 is over 95% full, available space: 0.816475 GB; capacity: 30 GB. Object creation will fail if spilling is required.\n",
      "\u001b[33m(raylet)\u001b[0m [2025-04-12 23:01:04,267 E 2809 2843] (raylet) file_system_monitor.cc:116: /tmp/ray/session_2025-04-12_20-50-22_955978_2486 is over 95% full, available space: 0.816475 GB; capacity: 30 GB. Object creation will fail if spilling is required.\n",
      "\u001b[33m(raylet)\u001b[0m [2025-04-12 23:01:14,275 E 2809 2843] (raylet) file_system_monitor.cc:116: /tmp/ray/session_2025-04-12_20-50-22_955978_2486 is over 95% full, available space: 0.816475 GB; capacity: 30 GB. Object creation will fail if spilling is required.\n"
     ]
    },
    {
     "name": "stdout",
     "output_type": "stream",
     "text": [
      "\u001b[33m(autoscaler +2h10m55s)\u001b[0m Error: No available node types can fulfill resource request defaultdict(<class 'float'>, {'CPU': 20.0, 'GPU': 4.0}). Add suitable node types to this cluster to resolve this issue.\n"
     ]
    },
    {
     "name": "stderr",
     "output_type": "stream",
     "text": [
      "\u001b[33m(raylet)\u001b[0m [2025-04-12 23:01:24,283 E 2809 2843] (raylet) file_system_monitor.cc:116: /tmp/ray/session_2025-04-12_20-50-22_955978_2486 is over 95% full, available space: 0.816475 GB; capacity: 30 GB. Object creation will fail if spilling is required.\n",
      "\u001b[33m(raylet)\u001b[0m [2025-04-12 23:01:34,292 E 2809 2843] (raylet) file_system_monitor.cc:116: /tmp/ray/session_2025-04-12_20-50-22_955978_2486 is over 95% full, available space: 0.816475 GB; capacity: 30 GB. Object creation will fail if spilling is required.\n",
      "\u001b[33m(raylet)\u001b[0m [2025-04-12 23:01:44,302 E 2809 2843] (raylet) file_system_monitor.cc:116: /tmp/ray/session_2025-04-12_20-50-22_955978_2486 is over 95% full, available space: 0.816475 GB; capacity: 30 GB. Object creation will fail if spilling is required.\n"
     ]
    },
    {
     "name": "stdout",
     "output_type": "stream",
     "text": [
      "\u001b[33m(autoscaler +2h11m30s)\u001b[0m Error: No available node types can fulfill resource request defaultdict(<class 'float'>, {'CPU': 20.0, 'GPU': 4.0}). Add suitable node types to this cluster to resolve this issue.\n"
     ]
    },
    {
     "name": "stderr",
     "output_type": "stream",
     "text": [
      "\u001b[33m(raylet)\u001b[0m [2025-04-12 23:01:54,311 E 2809 2843] (raylet) file_system_monitor.cc:116: /tmp/ray/session_2025-04-12_20-50-22_955978_2486 is over 95% full, available space: 0.816475 GB; capacity: 30 GB. Object creation will fail if spilling is required.\n",
      "\u001b[33m(raylet)\u001b[0m [2025-04-12 23:02:04,335 E 2809 2843] (raylet) file_system_monitor.cc:116: /tmp/ray/session_2025-04-12_20-50-22_955978_2486 is over 95% full, available space: 0.816475 GB; capacity: 30 GB. Object creation will fail if spilling is required.\n",
      "\u001b[33m(raylet)\u001b[0m [2025-04-12 23:02:14,352 E 2809 2843] (raylet) file_system_monitor.cc:116: /tmp/ray/session_2025-04-12_20-50-22_955978_2486 is over 95% full, available space: 0.816475 GB; capacity: 30 GB. Object creation will fail if spilling is required.\n",
      "\u001b[33m(raylet)\u001b[0m [2025-04-12 23:02:24,364 E 2809 2843] (raylet) file_system_monitor.cc:116: /tmp/ray/session_2025-04-12_20-50-22_955978_2486 is over 95% full, available space: 0.816475 GB; capacity: 30 GB. Object creation will fail if spilling is required.\n"
     ]
    },
    {
     "name": "stdout",
     "output_type": "stream",
     "text": [
      "\u001b[33m(autoscaler +2h12m5s)\u001b[0m Error: No available node types can fulfill resource request defaultdict(<class 'float'>, {'CPU': 20.0, 'GPU': 4.0}). Add suitable node types to this cluster to resolve this issue.\n"
     ]
    },
    {
     "name": "stderr",
     "output_type": "stream",
     "text": [
      "\u001b[33m(raylet)\u001b[0m [2025-04-12 23:02:34,376 E 2809 2843] (raylet) file_system_monitor.cc:116: /tmp/ray/session_2025-04-12_20-50-22_955978_2486 is over 95% full, available space: 0.816471 GB; capacity: 30 GB. Object creation will fail if spilling is required.\n",
      "\u001b[33m(raylet)\u001b[0m [2025-04-12 23:02:44,387 E 2809 2843] (raylet) file_system_monitor.cc:116: /tmp/ray/session_2025-04-12_20-50-22_955978_2486 is over 95% full, available space: 0.816471 GB; capacity: 30 GB. Object creation will fail if spilling is required.\n",
      "\u001b[33m(raylet)\u001b[0m [2025-04-12 23:02:54,403 E 2809 2843] (raylet) file_system_monitor.cc:116: /tmp/ray/session_2025-04-12_20-50-22_955978_2486 is over 95% full, available space: 0.816502 GB; capacity: 30 GB. Object creation will fail if spilling is required.\n"
     ]
    },
    {
     "name": "stdout",
     "output_type": "stream",
     "text": [
      "\u001b[33m(autoscaler +2h12m40s)\u001b[0m Error: No available node types can fulfill resource request defaultdict(<class 'float'>, {'CPU': 20.0, 'GPU': 4.0}). Add suitable node types to this cluster to resolve this issue.\n"
     ]
    },
    {
     "name": "stderr",
     "output_type": "stream",
     "text": [
      "\u001b[33m(raylet)\u001b[0m [2025-04-12 23:03:04,425 E 2809 2843] (raylet) file_system_monitor.cc:116: /tmp/ray/session_2025-04-12_20-50-22_955978_2486 is over 95% full, available space: 0.816502 GB; capacity: 30 GB. Object creation will fail if spilling is required.\n",
      "\u001b[33m(raylet)\u001b[0m [2025-04-12 23:03:14,446 E 2809 2843] (raylet) file_system_monitor.cc:116: /tmp/ray/session_2025-04-12_20-50-22_955978_2486 is over 95% full, available space: 0.816502 GB; capacity: 30 GB. Object creation will fail if spilling is required.\n",
      "\u001b[33m(raylet)\u001b[0m [2025-04-12 23:03:24,467 E 2809 2843] (raylet) file_system_monitor.cc:116: /tmp/ray/session_2025-04-12_20-50-22_955978_2486 is over 95% full, available space: 0.816013 GB; capacity: 30 GB. Object creation will fail if spilling is required.\n",
      "\u001b[33m(raylet)\u001b[0m [2025-04-12 23:03:34,490 E 2809 2843] (raylet) file_system_monitor.cc:116: /tmp/ray/session_2025-04-12_20-50-22_955978_2486 is over 95% full, available space: 0.816013 GB; capacity: 30 GB. Object creation will fail if spilling is required.\n"
     ]
    },
    {
     "name": "stdout",
     "output_type": "stream",
     "text": [
      "\u001b[33m(autoscaler +2h13m16s)\u001b[0m Error: No available node types can fulfill resource request defaultdict(<class 'float'>, {'CPU': 20.0, 'GPU': 4.0}). Add suitable node types to this cluster to resolve this issue.\n"
     ]
    },
    {
     "name": "stderr",
     "output_type": "stream",
     "text": [
      "\u001b[33m(raylet)\u001b[0m [2025-04-12 23:03:44,515 E 2809 2843] (raylet) file_system_monitor.cc:116: /tmp/ray/session_2025-04-12_20-50-22_955978_2486 is over 95% full, available space: 0.815994 GB; capacity: 30 GB. Object creation will fail if spilling is required.\n",
      "\u001b[33m(raylet)\u001b[0m [2025-04-12 23:03:54,538 E 2809 2843] (raylet) file_system_monitor.cc:116: /tmp/ray/session_2025-04-12_20-50-22_955978_2486 is over 95% full, available space: 0.815994 GB; capacity: 30 GB. Object creation will fail if spilling is required.\n",
      "\u001b[33m(raylet)\u001b[0m [2025-04-12 23:04:04,562 E 2809 2843] (raylet) file_system_monitor.cc:116: /tmp/ray/session_2025-04-12_20-50-22_955978_2486 is over 95% full, available space: 0.815994 GB; capacity: 30 GB. Object creation will fail if spilling is required.\n"
     ]
    },
    {
     "name": "stdout",
     "output_type": "stream",
     "text": [
      "\u001b[33m(autoscaler +2h13m51s)\u001b[0m Error: No available node types can fulfill resource request defaultdict(<class 'float'>, {'CPU': 20.0, 'GPU': 4.0}). Add suitable node types to this cluster to resolve this issue.\n"
     ]
    },
    {
     "name": "stderr",
     "output_type": "stream",
     "text": [
      "\u001b[33m(raylet)\u001b[0m [2025-04-12 23:04:14,575 E 2809 2843] (raylet) file_system_monitor.cc:116: /tmp/ray/session_2025-04-12_20-50-22_955978_2486 is over 95% full, available space: 0.815994 GB; capacity: 30 GB. Object creation will fail if spilling is required.\n",
      "\u001b[33m(raylet)\u001b[0m [2025-04-12 23:04:24,585 E 2809 2843] (raylet) file_system_monitor.cc:116: /tmp/ray/session_2025-04-12_20-50-22_955978_2486 is over 95% full, available space: 0.815994 GB; capacity: 30 GB. Object creation will fail if spilling is required.\n",
      "\u001b[33m(raylet)\u001b[0m [2025-04-12 23:04:34,595 E 2809 2843] (raylet) file_system_monitor.cc:116: /tmp/ray/session_2025-04-12_20-50-22_955978_2486 is over 95% full, available space: 0.815994 GB; capacity: 30 GB. Object creation will fail if spilling is required.\n",
      "\u001b[33m(raylet)\u001b[0m [2025-04-12 23:04:44,604 E 2809 2843] (raylet) file_system_monitor.cc:116: /tmp/ray/session_2025-04-12_20-50-22_955978_2486 is over 95% full, available space: 0.815994 GB; capacity: 30 GB. Object creation will fail if spilling is required.\n"
     ]
    },
    {
     "name": "stdout",
     "output_type": "stream",
     "text": [
      "\u001b[33m(autoscaler +2h14m26s)\u001b[0m Error: No available node types can fulfill resource request defaultdict(<class 'float'>, {'CPU': 20.0, 'GPU': 4.0}). Add suitable node types to this cluster to resolve this issue.\n"
     ]
    },
    {
     "name": "stderr",
     "output_type": "stream",
     "text": [
      "\u001b[33m(raylet)\u001b[0m [2025-04-12 23:04:54,613 E 2809 2843] (raylet) file_system_monitor.cc:116: /tmp/ray/session_2025-04-12_20-50-22_955978_2486 is over 95% full, available space: 0.815994 GB; capacity: 30 GB. Object creation will fail if spilling is required.\n",
      "\u001b[33m(raylet)\u001b[0m [2025-04-12 23:05:04,623 E 2809 2843] (raylet) file_system_monitor.cc:116: /tmp/ray/session_2025-04-12_20-50-22_955978_2486 is over 95% full, available space: 0.815994 GB; capacity: 30 GB. Object creation will fail if spilling is required.\n",
      "\u001b[33m(raylet)\u001b[0m [2025-04-12 23:05:14,637 E 2809 2843] (raylet) file_system_monitor.cc:116: /tmp/ray/session_2025-04-12_20-50-22_955978_2486 is over 95% full, available space: 0.81599 GB; capacity: 30 GB. Object creation will fail if spilling is required.\n"
     ]
    },
    {
     "name": "stdout",
     "output_type": "stream",
     "text": [
      "\u001b[33m(autoscaler +2h15m1s)\u001b[0m Error: No available node types can fulfill resource request defaultdict(<class 'float'>, {'CPU': 20.0, 'GPU': 4.0}). Add suitable node types to this cluster to resolve this issue.\n"
     ]
    },
    {
     "name": "stderr",
     "output_type": "stream",
     "text": [
      "\u001b[33m(raylet)\u001b[0m [2025-04-12 23:05:24,653 E 2809 2843] (raylet) file_system_monitor.cc:116: /tmp/ray/session_2025-04-12_20-50-22_955978_2486 is over 95% full, available space: 0.81599 GB; capacity: 30 GB. Object creation will fail if spilling is required.\n",
      "\u001b[33m(raylet)\u001b[0m [2025-04-12 23:05:34,663 E 2809 2843] (raylet) file_system_monitor.cc:116: /tmp/ray/session_2025-04-12_20-50-22_955978_2486 is over 95% full, available space: 0.81596 GB; capacity: 30 GB. Object creation will fail if spilling is required.\n",
      "\u001b[33m(raylet)\u001b[0m [2025-04-12 23:05:44,672 E 2809 2843] (raylet) file_system_monitor.cc:116: /tmp/ray/session_2025-04-12_20-50-22_955978_2486 is over 95% full, available space: 0.81596 GB; capacity: 30 GB. Object creation will fail if spilling is required.\n",
      "\u001b[33m(raylet)\u001b[0m [2025-04-12 23:05:54,682 E 2809 2843] (raylet) file_system_monitor.cc:116: /tmp/ray/session_2025-04-12_20-50-22_955978_2486 is over 95% full, available space: 0.81596 GB; capacity: 30 GB. Object creation will fail if spilling is required.\n"
     ]
    },
    {
     "name": "stdout",
     "output_type": "stream",
     "text": [
      "\u001b[33m(autoscaler +2h15m36s)\u001b[0m Error: No available node types can fulfill resource request defaultdict(<class 'float'>, {'CPU': 20.0, 'GPU': 4.0}). Add suitable node types to this cluster to resolve this issue.\n"
     ]
    },
    {
     "name": "stderr",
     "output_type": "stream",
     "text": [
      "\u001b[33m(raylet)\u001b[0m [2025-04-12 23:06:04,691 E 2809 2843] (raylet) file_system_monitor.cc:116: /tmp/ray/session_2025-04-12_20-50-22_955978_2486 is over 95% full, available space: 0.81596 GB; capacity: 30 GB. Object creation will fail if spilling is required.\n",
      "\u001b[33m(raylet)\u001b[0m [2025-04-12 23:06:14,701 E 2809 2843] (raylet) file_system_monitor.cc:116: /tmp/ray/session_2025-04-12_20-50-22_955978_2486 is over 95% full, available space: 0.81596 GB; capacity: 30 GB. Object creation will fail if spilling is required.\n",
      "\u001b[33m(raylet)\u001b[0m [2025-04-12 23:06:24,753 E 2809 2843] (raylet) file_system_monitor.cc:116: /tmp/ray/session_2025-04-12_20-50-22_955978_2486 is over 95% full, available space: 0.81596 GB; capacity: 30 GB. Object creation will fail if spilling is required.\n"
     ]
    },
    {
     "name": "stdout",
     "output_type": "stream",
     "text": [
      "\u001b[33m(autoscaler +2h16m11s)\u001b[0m Error: No available node types can fulfill resource request defaultdict(<class 'float'>, {'CPU': 20.0, 'GPU': 4.0}). Add suitable node types to this cluster to resolve this issue.\n"
     ]
    },
    {
     "name": "stderr",
     "output_type": "stream",
     "text": [
      "\u001b[33m(raylet)\u001b[0m [2025-04-12 23:06:34,771 E 2809 2843] (raylet) file_system_monitor.cc:116: /tmp/ray/session_2025-04-12_20-50-22_955978_2486 is over 95% full, available space: 0.81596 GB; capacity: 30 GB. Object creation will fail if spilling is required.\n",
      "\u001b[33m(raylet)\u001b[0m [2025-04-12 23:06:44,788 E 2809 2843] (raylet) file_system_monitor.cc:116: /tmp/ray/session_2025-04-12_20-50-22_955978_2486 is over 95% full, available space: 0.815952 GB; capacity: 30 GB. Object creation will fail if spilling is required.\n",
      "\u001b[33m(raylet)\u001b[0m [2025-04-12 23:06:54,798 E 2809 2843] (raylet) file_system_monitor.cc:116: /tmp/ray/session_2025-04-12_20-50-22_955978_2486 is over 95% full, available space: 0.815952 GB; capacity: 30 GB. Object creation will fail if spilling is required.\n",
      "\u001b[33m(raylet)\u001b[0m [2025-04-12 23:07:04,807 E 2809 2843] (raylet) file_system_monitor.cc:116: /tmp/ray/session_2025-04-12_20-50-22_955978_2486 is over 95% full, available space: 0.815952 GB; capacity: 30 GB. Object creation will fail if spilling is required.\n"
     ]
    },
    {
     "name": "stdout",
     "output_type": "stream",
     "text": [
      "\u001b[33m(autoscaler +2h16m46s)\u001b[0m Error: No available node types can fulfill resource request defaultdict(<class 'float'>, {'CPU': 20.0, 'GPU': 4.0}). Add suitable node types to this cluster to resolve this issue.\n"
     ]
    },
    {
     "name": "stderr",
     "output_type": "stream",
     "text": [
      "\u001b[33m(raylet)\u001b[0m [2025-04-12 23:07:14,816 E 2809 2843] (raylet) file_system_monitor.cc:116: /tmp/ray/session_2025-04-12_20-50-22_955978_2486 is over 95% full, available space: 0.81583 GB; capacity: 30 GB. Object creation will fail if spilling is required.\n",
      "\u001b[33m(raylet)\u001b[0m [2025-04-12 23:07:24,826 E 2809 2843] (raylet) file_system_monitor.cc:116: /tmp/ray/session_2025-04-12_20-50-22_955978_2486 is over 95% full, available space: 0.81583 GB; capacity: 30 GB. Object creation will fail if spilling is required.\n",
      "\u001b[33m(raylet)\u001b[0m [2025-04-12 23:07:34,835 E 2809 2843] (raylet) file_system_monitor.cc:116: /tmp/ray/session_2025-04-12_20-50-22_955978_2486 is over 95% full, available space: 0.815765 GB; capacity: 30 GB. Object creation will fail if spilling is required.\n"
     ]
    },
    {
     "name": "stdout",
     "output_type": "stream",
     "text": [
      "\u001b[33m(autoscaler +2h17m21s)\u001b[0m Error: No available node types can fulfill resource request defaultdict(<class 'float'>, {'CPU': 20.0, 'GPU': 4.0}). Add suitable node types to this cluster to resolve this issue.\n"
     ]
    },
    {
     "name": "stderr",
     "output_type": "stream",
     "text": [
      "\u001b[33m(raylet)\u001b[0m [2025-04-12 23:07:44,845 E 2809 2843] (raylet) file_system_monitor.cc:116: /tmp/ray/session_2025-04-12_20-50-22_955978_2486 is over 95% full, available space: 0.815765 GB; capacity: 30 GB. Object creation will fail if spilling is required.\n",
      "\u001b[33m(raylet)\u001b[0m [2025-04-12 23:07:54,856 E 2809 2843] (raylet) file_system_monitor.cc:116: /tmp/ray/session_2025-04-12_20-50-22_955978_2486 is over 95% full, available space: 0.815765 GB; capacity: 30 GB. Object creation will fail if spilling is required.\n",
      "\u001b[33m(raylet)\u001b[0m [2025-04-12 23:08:04,891 E 2809 2843] (raylet) file_system_monitor.cc:116: /tmp/ray/session_2025-04-12_20-50-22_955978_2486 is over 95% full, available space: 0.815765 GB; capacity: 30 GB. Object creation will fail if spilling is required.\n",
      "\u001b[33m(raylet)\u001b[0m [2025-04-12 23:08:14,908 E 2809 2843] (raylet) file_system_monitor.cc:116: /tmp/ray/session_2025-04-12_20-50-22_955978_2486 is over 95% full, available space: 0.815796 GB; capacity: 30 GB. Object creation will fail if spilling is required.\n"
     ]
    },
    {
     "name": "stdout",
     "output_type": "stream",
     "text": [
      "\u001b[33m(autoscaler +2h17m56s)\u001b[0m Error: No available node types can fulfill resource request defaultdict(<class 'float'>, {'CPU': 20.0, 'GPU': 4.0}). Add suitable node types to this cluster to resolve this issue.\n"
     ]
    },
    {
     "name": "stderr",
     "output_type": "stream",
     "text": [
      "\u001b[33m(raylet)\u001b[0m [2025-04-12 23:08:24,918 E 2809 2843] (raylet) file_system_monitor.cc:116: /tmp/ray/session_2025-04-12_20-50-22_955978_2486 is over 95% full, available space: 0.815796 GB; capacity: 30 GB. Object creation will fail if spilling is required.\n",
      "\u001b[33m(raylet)\u001b[0m [2025-04-12 23:08:34,926 E 2809 2843] (raylet) file_system_monitor.cc:116: /tmp/ray/session_2025-04-12_20-50-22_955978_2486 is over 95% full, available space: 0.815792 GB; capacity: 30 GB. Object creation will fail if spilling is required.\n",
      "\u001b[33m(raylet)\u001b[0m [2025-04-12 23:08:44,935 E 2809 2843] (raylet) file_system_monitor.cc:116: /tmp/ray/session_2025-04-12_20-50-22_955978_2486 is over 95% full, available space: 0.815792 GB; capacity: 30 GB. Object creation will fail if spilling is required.\n"
     ]
    },
    {
     "name": "stdout",
     "output_type": "stream",
     "text": [
      "\u001b[33m(autoscaler +2h18m31s)\u001b[0m Error: No available node types can fulfill resource request defaultdict(<class 'float'>, {'CPU': 20.0, 'GPU': 4.0}). Add suitable node types to this cluster to resolve this issue.\n"
     ]
    },
    {
     "name": "stderr",
     "output_type": "stream",
     "text": [
      "\u001b[33m(raylet)\u001b[0m [2025-04-12 23:08:54,944 E 2809 2843] (raylet) file_system_monitor.cc:116: /tmp/ray/session_2025-04-12_20-50-22_955978_2486 is over 95% full, available space: 0.815887 GB; capacity: 30 GB. Object creation will fail if spilling is required.\n",
      "\u001b[33m(raylet)\u001b[0m [2025-04-12 23:09:04,978 E 2809 2843] (raylet) file_system_monitor.cc:116: /tmp/ray/session_2025-04-12_20-50-22_955978_2486 is over 95% full, available space: 0.815422 GB; capacity: 30 GB. Object creation will fail if spilling is required.\n",
      "\u001b[33m(raylet)\u001b[0m [2025-04-12 23:09:15,017 E 2809 2843] (raylet) file_system_monitor.cc:116: /tmp/ray/session_2025-04-12_20-50-22_955978_2486 is over 95% full, available space: 0.815422 GB; capacity: 30 GB. Object creation will fail if spilling is required.\n",
      "\u001b[33m(raylet)\u001b[0m [2025-04-12 23:09:25,036 E 2809 2843] (raylet) file_system_monitor.cc:116: /tmp/ray/session_2025-04-12_20-50-22_955978_2486 is over 95% full, available space: 0.814934 GB; capacity: 30 GB. Object creation will fail if spilling is required.\n"
     ]
    },
    {
     "name": "stdout",
     "output_type": "stream",
     "text": [
      "\u001b[33m(autoscaler +2h19m6s)\u001b[0m Error: No available node types can fulfill resource request defaultdict(<class 'float'>, {'CPU': 20.0, 'GPU': 4.0}). Add suitable node types to this cluster to resolve this issue.\n"
     ]
    },
    {
     "name": "stderr",
     "output_type": "stream",
     "text": [
      "\u001b[33m(raylet)\u001b[0m [2025-04-12 23:09:35,047 E 2809 2843] (raylet) file_system_monitor.cc:116: /tmp/ray/session_2025-04-12_20-50-22_955978_2486 is over 95% full, available space: 0.814934 GB; capacity: 30 GB. Object creation will fail if spilling is required.\n",
      "\u001b[33m(raylet)\u001b[0m [2025-04-12 23:09:45,055 E 2809 2843] (raylet) file_system_monitor.cc:116: /tmp/ray/session_2025-04-12_20-50-22_955978_2486 is over 95% full, available space: 0.814934 GB; capacity: 30 GB. Object creation will fail if spilling is required.\n",
      "\u001b[33m(raylet)\u001b[0m [2025-04-12 23:09:55,064 E 2809 2843] (raylet) file_system_monitor.cc:116: /tmp/ray/session_2025-04-12_20-50-22_955978_2486 is over 95% full, available space: 0.814934 GB; capacity: 30 GB. Object creation will fail if spilling is required.\n"
     ]
    },
    {
     "name": "stdout",
     "output_type": "stream",
     "text": [
      "\u001b[33m(autoscaler +2h19m41s)\u001b[0m Error: No available node types can fulfill resource request defaultdict(<class 'float'>, {'CPU': 20.0, 'GPU': 4.0}). Add suitable node types to this cluster to resolve this issue.\n"
     ]
    },
    {
     "name": "stderr",
     "output_type": "stream",
     "text": [
      "\u001b[33m(raylet)\u001b[0m [2025-04-12 23:10:05,076 E 2809 2843] (raylet) file_system_monitor.cc:116: /tmp/ray/session_2025-04-12_20-50-22_955978_2486 is over 95% full, available space: 0.814903 GB; capacity: 30 GB. Object creation will fail if spilling is required.\n",
      "\u001b[33m(raylet)\u001b[0m [2025-04-12 23:10:15,116 E 2809 2843] (raylet) file_system_monitor.cc:116: /tmp/ray/session_2025-04-12_20-50-22_955978_2486 is over 95% full, available space: 0.814903 GB; capacity: 30 GB. Object creation will fail if spilling is required.\n",
      "\u001b[33m(raylet)\u001b[0m [2025-04-12 23:10:25,138 E 2809 2843] (raylet) file_system_monitor.cc:116: /tmp/ray/session_2025-04-12_20-50-22_955978_2486 is over 95% full, available space: 0.827538 GB; capacity: 30 GB. Object creation will fail if spilling is required.\n",
      "\u001b[33m(raylet)\u001b[0m [2025-04-12 23:10:35,155 E 2809 2843] (raylet) file_system_monitor.cc:116: /tmp/ray/session_2025-04-12_20-50-22_955978_2486 is over 95% full, available space: 0.827538 GB; capacity: 30 GB. Object creation will fail if spilling is required.\n"
     ]
    },
    {
     "name": "stdout",
     "output_type": "stream",
     "text": [
      "\u001b[33m(autoscaler +2h20m16s)\u001b[0m Error: No available node types can fulfill resource request defaultdict(<class 'float'>, {'CPU': 20.0, 'GPU': 4.0}). Add suitable node types to this cluster to resolve this issue.\n"
     ]
    },
    {
     "name": "stderr",
     "output_type": "stream",
     "text": [
      "\u001b[33m(raylet)\u001b[0m [2025-04-12 23:10:45,163 E 2809 2843] (raylet) file_system_monitor.cc:116: /tmp/ray/session_2025-04-12_20-50-22_955978_2486 is over 95% full, available space: 0.827538 GB; capacity: 30 GB. Object creation will fail if spilling is required.\n",
      "\u001b[33m(raylet)\u001b[0m [2025-04-12 23:10:55,173 E 2809 2843] (raylet) file_system_monitor.cc:116: /tmp/ray/session_2025-04-12_20-50-22_955978_2486 is over 95% full, available space: 0.82753 GB; capacity: 30 GB. Object creation will fail if spilling is required.\n",
      "\u001b[33m(raylet)\u001b[0m [2025-04-12 23:11:05,183 E 2809 2843] (raylet) file_system_monitor.cc:116: /tmp/ray/session_2025-04-12_20-50-22_955978_2486 is over 95% full, available space: 0.82753 GB; capacity: 30 GB. Object creation will fail if spilling is required.\n"
     ]
    },
    {
     "name": "stdout",
     "output_type": "stream",
     "text": [
      "\u001b[33m(autoscaler +2h20m52s)\u001b[0m Error: No available node types can fulfill resource request defaultdict(<class 'float'>, {'CPU': 20.0, 'GPU': 4.0}). Add suitable node types to this cluster to resolve this issue.\n"
     ]
    },
    {
     "name": "stderr",
     "output_type": "stream",
     "text": [
      "\u001b[33m(raylet)\u001b[0m [2025-04-12 23:11:15,193 E 2809 2843] (raylet) file_system_monitor.cc:116: /tmp/ray/session_2025-04-12_20-50-22_955978_2486 is over 95% full, available space: 0.82753 GB; capacity: 30 GB. Object creation will fail if spilling is required.\n",
      "\u001b[33m(raylet)\u001b[0m [2025-04-12 23:11:25,203 E 2809 2843] (raylet) file_system_monitor.cc:116: /tmp/ray/session_2025-04-12_20-50-22_955978_2486 is over 95% full, available space: 0.82753 GB; capacity: 30 GB. Object creation will fail if spilling is required.\n",
      "\u001b[33m(raylet)\u001b[0m [2025-04-12 23:11:35,214 E 2809 2843] (raylet) file_system_monitor.cc:116: /tmp/ray/session_2025-04-12_20-50-22_955978_2486 is over 95% full, available space: 0.827534 GB; capacity: 30 GB. Object creation will fail if spilling is required.\n",
      "\u001b[33m(raylet)\u001b[0m [2025-04-12 23:11:45,224 E 2809 2843] (raylet) file_system_monitor.cc:116: /tmp/ray/session_2025-04-12_20-50-22_955978_2486 is over 95% full, available space: 0.827534 GB; capacity: 30 GB. Object creation will fail if spilling is required.\n"
     ]
    },
    {
     "name": "stdout",
     "output_type": "stream",
     "text": [
      "\u001b[33m(autoscaler +2h21m27s)\u001b[0m Error: No available node types can fulfill resource request defaultdict(<class 'float'>, {'CPU': 20.0, 'GPU': 4.0}). Add suitable node types to this cluster to resolve this issue.\n"
     ]
    },
    {
     "name": "stderr",
     "output_type": "stream",
     "text": [
      "\u001b[33m(raylet)\u001b[0m [2025-04-12 23:11:55,233 E 2809 2843] (raylet) file_system_monitor.cc:116: /tmp/ray/session_2025-04-12_20-50-22_955978_2486 is over 95% full, available space: 0.827461 GB; capacity: 30 GB. Object creation will fail if spilling is required.\n",
      "\u001b[33m(raylet)\u001b[0m [2025-04-12 23:12:05,242 E 2809 2843] (raylet) file_system_monitor.cc:116: /tmp/ray/session_2025-04-12_20-50-22_955978_2486 is over 95% full, available space: 0.827202 GB; capacity: 30 GB. Object creation will fail if spilling is required.\n",
      "\u001b[33m(raylet)\u001b[0m [2025-04-12 23:12:15,251 E 2809 2843] (raylet) file_system_monitor.cc:116: /tmp/ray/session_2025-04-12_20-50-22_955978_2486 is over 95% full, available space: 0.827202 GB; capacity: 30 GB. Object creation will fail if spilling is required.\n"
     ]
    },
    {
     "name": "stdout",
     "output_type": "stream",
     "text": [
      "\u001b[33m(autoscaler +2h22m2s)\u001b[0m Error: No available node types can fulfill resource request defaultdict(<class 'float'>, {'CPU': 20.0, 'GPU': 4.0}). Add suitable node types to this cluster to resolve this issue.\n"
     ]
    },
    {
     "name": "stderr",
     "output_type": "stream",
     "text": [
      "\u001b[33m(raylet)\u001b[0m [2025-04-12 23:12:25,262 E 2809 2843] (raylet) file_system_monitor.cc:116: /tmp/ray/session_2025-04-12_20-50-22_955978_2486 is over 95% full, available space: 0.827202 GB; capacity: 30 GB. Object creation will fail if spilling is required.\n",
      "\u001b[33m(raylet)\u001b[0m [2025-04-12 23:12:35,272 E 2809 2843] (raylet) file_system_monitor.cc:116: /tmp/ray/session_2025-04-12_20-50-22_955978_2486 is over 95% full, available space: 0.827202 GB; capacity: 30 GB. Object creation will fail if spilling is required.\n",
      "\u001b[33m(raylet)\u001b[0m [2025-04-12 23:12:45,282 E 2809 2843] (raylet) file_system_monitor.cc:116: /tmp/ray/session_2025-04-12_20-50-22_955978_2486 is over 95% full, available space: 0.827137 GB; capacity: 30 GB. Object creation will fail if spilling is required.\n",
      "\u001b[33m(raylet)\u001b[0m [2025-04-12 23:12:55,300 E 2809 2843] (raylet) file_system_monitor.cc:116: /tmp/ray/session_2025-04-12_20-50-22_955978_2486 is over 95% full, available space: 0.826824 GB; capacity: 30 GB. Object creation will fail if spilling is required.\n"
     ]
    },
    {
     "name": "stdout",
     "output_type": "stream",
     "text": [
      "\u001b[33m(autoscaler +2h22m37s)\u001b[0m Error: No available node types can fulfill resource request defaultdict(<class 'float'>, {'CPU': 20.0, 'GPU': 4.0}). Add suitable node types to this cluster to resolve this issue.\n"
     ]
    },
    {
     "name": "stderr",
     "output_type": "stream",
     "text": [
      "\u001b[33m(raylet)\u001b[0m [2025-04-12 23:13:05,342 E 2809 2843] (raylet) file_system_monitor.cc:116: /tmp/ray/session_2025-04-12_20-50-22_955978_2486 is over 95% full, available space: 0.826813 GB; capacity: 30 GB. Object creation will fail if spilling is required.\n",
      "\u001b[33m(raylet)\u001b[0m [2025-04-12 23:13:15,352 E 2809 2843] (raylet) file_system_monitor.cc:116: /tmp/ray/session_2025-04-12_20-50-22_955978_2486 is over 95% full, available space: 0.826824 GB; capacity: 30 GB. Object creation will fail if spilling is required.\n",
      "\u001b[33m(raylet)\u001b[0m [2025-04-12 23:13:25,358 E 2809 2843] (raylet) file_system_monitor.cc:116: /tmp/ray/session_2025-04-12_20-50-22_955978_2486 is over 95% full, available space: 0.824776 GB; capacity: 30 GB. Object creation will fail if spilling is required.\n"
     ]
    },
    {
     "name": "stdout",
     "output_type": "stream",
     "text": [
      "\u001b[33m(autoscaler +2h23m12s)\u001b[0m Error: No available node types can fulfill resource request defaultdict(<class 'float'>, {'CPU': 20.0, 'GPU': 4.0}). Add suitable node types to this cluster to resolve this issue.\n"
     ]
    },
    {
     "name": "stderr",
     "output_type": "stream",
     "text": [
      "\u001b[33m(raylet)\u001b[0m [2025-04-12 23:13:35,377 E 2809 2843] (raylet) file_system_monitor.cc:116: /tmp/ray/session_2025-04-12_20-50-22_955978_2486 is over 95% full, available space: 0.824348 GB; capacity: 30 GB. Object creation will fail if spilling is required.\n",
      "\u001b[33m(raylet)\u001b[0m [2025-04-12 23:13:45,398 E 2809 2843] (raylet) file_system_monitor.cc:116: /tmp/ray/session_2025-04-12_20-50-22_955978_2486 is over 95% full, available space: 0.824223 GB; capacity: 30 GB. Object creation will fail if spilling is required.\n",
      "\u001b[33m(raylet)\u001b[0m [2025-04-12 23:13:55,419 E 2809 2843] (raylet) file_system_monitor.cc:116: /tmp/ray/session_2025-04-12_20-50-22_955978_2486 is over 95% full, available space: 0.824215 GB; capacity: 30 GB. Object creation will fail if spilling is required.\n",
      "\u001b[33m(raylet)\u001b[0m [2025-04-12 23:14:05,440 E 2809 2843] (raylet) file_system_monitor.cc:116: /tmp/ray/session_2025-04-12_20-50-22_955978_2486 is over 95% full, available space: 0.827839 GB; capacity: 30 GB. Object creation will fail if spilling is required.\n"
     ]
    },
    {
     "name": "stdout",
     "output_type": "stream",
     "text": [
      "\u001b[33m(autoscaler +2h23m47s)\u001b[0m Error: No available node types can fulfill resource request defaultdict(<class 'float'>, {'CPU': 20.0, 'GPU': 4.0}). Add suitable node types to this cluster to resolve this issue.\n"
     ]
    },
    {
     "name": "stderr",
     "output_type": "stream",
     "text": [
      "\u001b[33m(raylet)\u001b[0m [2025-04-12 23:14:15,462 E 2809 2843] (raylet) file_system_monitor.cc:116: /tmp/ray/session_2025-04-12_20-50-22_955978_2486 is over 95% full, available space: 0.827839 GB; capacity: 30 GB. Object creation will fail if spilling is required.\n",
      "\u001b[33m(raylet)\u001b[0m [2025-04-12 23:14:25,482 E 2809 2843] (raylet) file_system_monitor.cc:116: /tmp/ray/session_2025-04-12_20-50-22_955978_2486 is over 95% full, available space: 0.82494 GB; capacity: 30 GB. Object creation will fail if spilling is required.\n",
      "\u001b[33m(raylet)\u001b[0m [2025-04-12 23:14:35,503 E 2809 2843] (raylet) file_system_monitor.cc:116: /tmp/ray/session_2025-04-12_20-50-22_955978_2486 is over 95% full, available space: 0.82494 GB; capacity: 30 GB. Object creation will fail if spilling is required.\n"
     ]
    },
    {
     "name": "stdout",
     "output_type": "stream",
     "text": [
      "\u001b[33m(autoscaler +2h24m22s)\u001b[0m Error: No available node types can fulfill resource request defaultdict(<class 'float'>, {'CPU': 20.0, 'GPU': 4.0}). Add suitable node types to this cluster to resolve this issue.\n"
     ]
    },
    {
     "name": "stderr",
     "output_type": "stream",
     "text": [
      "\u001b[33m(raylet)\u001b[0m [2025-04-12 23:14:45,517 E 2809 2843] (raylet) file_system_monitor.cc:116: /tmp/ray/session_2025-04-12_20-50-22_955978_2486 is over 95% full, available space: 0.82494 GB; capacity: 30 GB. Object creation will fail if spilling is required.\n",
      "\u001b[33m(raylet)\u001b[0m [2025-04-12 23:14:55,536 E 2809 2843] (raylet) file_system_monitor.cc:116: /tmp/ray/session_2025-04-12_20-50-22_955978_2486 is over 95% full, available space: 0.82494 GB; capacity: 30 GB. Object creation will fail if spilling is required.\n",
      "\u001b[33m(raylet)\u001b[0m [2025-04-12 23:15:05,560 E 2809 2843] (raylet) file_system_monitor.cc:116: /tmp/ray/session_2025-04-12_20-50-22_955978_2486 is over 95% full, available space: 0.82494 GB; capacity: 30 GB. Object creation will fail if spilling is required.\n",
      "\u001b[33m(raylet)\u001b[0m [2025-04-12 23:15:15,583 E 2809 2843] (raylet) file_system_monitor.cc:116: /tmp/ray/session_2025-04-12_20-50-22_955978_2486 is over 95% full, available space: 0.82494 GB; capacity: 30 GB. Object creation will fail if spilling is required.\n"
     ]
    },
    {
     "name": "stdout",
     "output_type": "stream",
     "text": [
      "\u001b[33m(autoscaler +2h24m57s)\u001b[0m Error: No available node types can fulfill resource request defaultdict(<class 'float'>, {'CPU': 20.0, 'GPU': 4.0}). Add suitable node types to this cluster to resolve this issue.\n"
     ]
    },
    {
     "name": "stderr",
     "output_type": "stream",
     "text": [
      "\u001b[33m(raylet)\u001b[0m [2025-04-12 23:15:25,596 E 2809 2843] (raylet) file_system_monitor.cc:116: /tmp/ray/session_2025-04-12_20-50-22_955978_2486 is over 95% full, available space: 0.824905 GB; capacity: 30 GB. Object creation will fail if spilling is required.\n",
      "\u001b[33m(raylet)\u001b[0m [2025-04-12 23:15:35,609 E 2809 2843] (raylet) file_system_monitor.cc:116: /tmp/ray/session_2025-04-12_20-50-22_955978_2486 is over 95% full, available space: 0.824722 GB; capacity: 30 GB. Object creation will fail if spilling is required.\n",
      "\u001b[33m(raylet)\u001b[0m [2025-04-12 23:15:45,621 E 2809 2843] (raylet) file_system_monitor.cc:116: /tmp/ray/session_2025-04-12_20-50-22_955978_2486 is over 95% full, available space: 0.823231 GB; capacity: 30 GB. Object creation will fail if spilling is required.\n"
     ]
    },
    {
     "name": "stdout",
     "output_type": "stream",
     "text": [
      "\u001b[33m(autoscaler +2h25m32s)\u001b[0m Error: No available node types can fulfill resource request defaultdict(<class 'float'>, {'CPU': 20.0, 'GPU': 4.0}). Add suitable node types to this cluster to resolve this issue.\n"
     ]
    },
    {
     "name": "stderr",
     "output_type": "stream",
     "text": [
      "\u001b[33m(raylet)\u001b[0m [2025-04-12 23:15:55,632 E 2809 2843] (raylet) file_system_monitor.cc:116: /tmp/ray/session_2025-04-12_20-50-22_955978_2486 is over 95% full, available space: 0.823231 GB; capacity: 30 GB. Object creation will fail if spilling is required.\n",
      "\u001b[33m(raylet)\u001b[0m [2025-04-12 23:16:05,644 E 2809 2843] (raylet) file_system_monitor.cc:116: /tmp/ray/session_2025-04-12_20-50-22_955978_2486 is over 95% full, available space: 0.823231 GB; capacity: 30 GB. Object creation will fail if spilling is required.\n",
      "\u001b[33m(raylet)\u001b[0m [2025-04-12 23:16:15,654 E 2809 2843] (raylet) file_system_monitor.cc:116: /tmp/ray/session_2025-04-12_20-50-22_955978_2486 is over 95% full, available space: 0.823231 GB; capacity: 30 GB. Object creation will fail if spilling is required.\n",
      "\u001b[33m(raylet)\u001b[0m [2025-04-12 23:16:25,665 E 2809 2843] (raylet) file_system_monitor.cc:116: /tmp/ray/session_2025-04-12_20-50-22_955978_2486 is over 95% full, available space: 0.823231 GB; capacity: 30 GB. Object creation will fail if spilling is required.\n"
     ]
    },
    {
     "name": "stdout",
     "output_type": "stream",
     "text": [
      "\u001b[33m(autoscaler +2h26m7s)\u001b[0m Error: No available node types can fulfill resource request defaultdict(<class 'float'>, {'CPU': 20.0, 'GPU': 4.0}). Add suitable node types to this cluster to resolve this issue.\n"
     ]
    },
    {
     "name": "stderr",
     "output_type": "stream",
     "text": [
      "\u001b[33m(raylet)\u001b[0m [2025-04-12 23:16:35,676 E 2809 2843] (raylet) file_system_monitor.cc:116: /tmp/ray/session_2025-04-12_20-50-22_955978_2486 is over 95% full, available space: 0.823231 GB; capacity: 30 GB. Object creation will fail if spilling is required.\n",
      "\u001b[33m(raylet)\u001b[0m [2025-04-12 23:16:45,686 E 2809 2843] (raylet) file_system_monitor.cc:116: /tmp/ray/session_2025-04-12_20-50-22_955978_2486 is over 95% full, available space: 0.823231 GB; capacity: 30 GB. Object creation will fail if spilling is required.\n",
      "\u001b[33m(raylet)\u001b[0m [2025-04-12 23:16:55,697 E 2809 2843] (raylet) file_system_monitor.cc:116: /tmp/ray/session_2025-04-12_20-50-22_955978_2486 is over 95% full, available space: 0.823231 GB; capacity: 30 GB. Object creation will fail if spilling is required.\n"
     ]
    },
    {
     "name": "stdout",
     "output_type": "stream",
     "text": [
      "\u001b[33m(autoscaler +2h26m42s)\u001b[0m Error: No available node types can fulfill resource request defaultdict(<class 'float'>, {'CPU': 20.0, 'GPU': 4.0}). Add suitable node types to this cluster to resolve this issue.\n"
     ]
    },
    {
     "name": "stderr",
     "output_type": "stream",
     "text": [
      "\u001b[33m(raylet)\u001b[0m [2025-04-12 23:17:05,755 E 2809 2843] (raylet) file_system_monitor.cc:116: /tmp/ray/session_2025-04-12_20-50-22_955978_2486 is over 95% full, available space: 0.823231 GB; capacity: 30 GB. Object creation will fail if spilling is required.\n",
      "\u001b[33m(raylet)\u001b[0m [2025-04-12 23:17:15,811 E 2809 2843] (raylet) file_system_monitor.cc:116: /tmp/ray/session_2025-04-12_20-50-22_955978_2486 is over 95% full, available space: 0.823231 GB; capacity: 30 GB. Object creation will fail if spilling is required.\n",
      "\u001b[33m(raylet)\u001b[0m [2025-04-12 23:17:25,826 E 2809 2843] (raylet) file_system_monitor.cc:116: /tmp/ray/session_2025-04-12_20-50-22_955978_2486 is over 95% full, available space: 0.823231 GB; capacity: 30 GB. Object creation will fail if spilling is required.\n",
      "\u001b[33m(raylet)\u001b[0m [2025-04-12 23:17:35,838 E 2809 2843] (raylet) file_system_monitor.cc:116: /tmp/ray/session_2025-04-12_20-50-22_955978_2486 is over 95% full, available space: 0.823231 GB; capacity: 30 GB. Object creation will fail if spilling is required.\n"
     ]
    },
    {
     "name": "stdout",
     "output_type": "stream",
     "text": [
      "\u001b[33m(autoscaler +2h27m17s)\u001b[0m Error: No available node types can fulfill resource request defaultdict(<class 'float'>, {'CPU': 20.0, 'GPU': 4.0}). Add suitable node types to this cluster to resolve this issue.\n"
     ]
    },
    {
     "name": "stderr",
     "output_type": "stream",
     "text": [
      "\u001b[33m(raylet)\u001b[0m [2025-04-12 23:17:45,846 E 2809 2843] (raylet) file_system_monitor.cc:116: /tmp/ray/session_2025-04-12_20-50-22_955978_2486 is over 95% full, available space: 0.823177 GB; capacity: 30 GB. Object creation will fail if spilling is required.\n",
      "\u001b[33m(raylet)\u001b[0m [2025-04-12 23:17:55,854 E 2809 2843] (raylet) file_system_monitor.cc:116: /tmp/ray/session_2025-04-12_20-50-22_955978_2486 is over 95% full, available space: 0.823177 GB; capacity: 30 GB. Object creation will fail if spilling is required.\n",
      "\u001b[33m(raylet)\u001b[0m [2025-04-12 23:18:05,863 E 2809 2843] (raylet) file_system_monitor.cc:116: /tmp/ray/session_2025-04-12_20-50-22_955978_2486 is over 95% full, available space: 0.823174 GB; capacity: 30 GB. Object creation will fail if spilling is required.\n"
     ]
    },
    {
     "name": "stdout",
     "output_type": "stream",
     "text": [
      "\u001b[33m(autoscaler +2h27m52s)\u001b[0m Error: No available node types can fulfill resource request defaultdict(<class 'float'>, {'CPU': 20.0, 'GPU': 4.0}). Add suitable node types to this cluster to resolve this issue.\n"
     ]
    },
    {
     "name": "stderr",
     "output_type": "stream",
     "text": [
      "\u001b[33m(raylet)\u001b[0m [2025-04-12 23:18:15,871 E 2809 2843] (raylet) file_system_monitor.cc:116: /tmp/ray/session_2025-04-12_20-50-22_955978_2486 is over 95% full, available space: 0.823174 GB; capacity: 30 GB. Object creation will fail if spilling is required.\n",
      "\u001b[33m(raylet)\u001b[0m [2025-04-12 23:18:25,879 E 2809 2843] (raylet) file_system_monitor.cc:116: /tmp/ray/session_2025-04-12_20-50-22_955978_2486 is over 95% full, available space: 0.823189 GB; capacity: 30 GB. Object creation will fail if spilling is required.\n",
      "\u001b[33m(raylet)\u001b[0m [2025-04-12 23:18:35,888 E 2809 2843] (raylet) file_system_monitor.cc:116: /tmp/ray/session_2025-04-12_20-50-22_955978_2486 is over 95% full, available space: 0.823189 GB; capacity: 30 GB. Object creation will fail if spilling is required.\n",
      "\u001b[33m(raylet)\u001b[0m [2025-04-12 23:18:45,898 E 2809 2843] (raylet) file_system_monitor.cc:116: /tmp/ray/session_2025-04-12_20-50-22_955978_2486 is over 95% full, available space: 0.823189 GB; capacity: 30 GB. Object creation will fail if spilling is required.\n"
     ]
    },
    {
     "name": "stdout",
     "output_type": "stream",
     "text": [
      "\u001b[33m(autoscaler +2h28m28s)\u001b[0m Error: No available node types can fulfill resource request defaultdict(<class 'float'>, {'CPU': 20.0, 'GPU': 4.0}). Add suitable node types to this cluster to resolve this issue.\n"
     ]
    },
    {
     "name": "stderr",
     "output_type": "stream",
     "text": [
      "\u001b[33m(raylet)\u001b[0m [2025-04-12 23:18:55,907 E 2809 2843] (raylet) file_system_monitor.cc:116: /tmp/ray/session_2025-04-12_20-50-22_955978_2486 is over 95% full, available space: 0.823189 GB; capacity: 30 GB. Object creation will fail if spilling is required.\n",
      "\u001b[33m(raylet)\u001b[0m [2025-04-12 23:19:05,916 E 2809 2843] (raylet) file_system_monitor.cc:116: /tmp/ray/session_2025-04-12_20-50-22_955978_2486 is over 95% full, available space: 0.823189 GB; capacity: 30 GB. Object creation will fail if spilling is required.\n",
      "\u001b[33m(raylet)\u001b[0m [2025-04-12 23:19:15,926 E 2809 2843] (raylet) file_system_monitor.cc:116: /tmp/ray/session_2025-04-12_20-50-22_955978_2486 is over 95% full, available space: 0.825363 GB; capacity: 30 GB. Object creation will fail if spilling is required.\n"
     ]
    },
    {
     "name": "stdout",
     "output_type": "stream",
     "text": [
      "\u001b[33m(autoscaler +2h29m3s)\u001b[0m Error: No available node types can fulfill resource request defaultdict(<class 'float'>, {'CPU': 20.0, 'GPU': 4.0}). Add suitable node types to this cluster to resolve this issue.\n"
     ]
    },
    {
     "name": "stderr",
     "output_type": "stream",
     "text": [
      "\u001b[33m(raylet)\u001b[0m [2025-04-12 23:19:25,935 E 2809 2843] (raylet) file_system_monitor.cc:116: /tmp/ray/session_2025-04-12_20-50-22_955978_2486 is over 95% full, available space: 0.82251 GB; capacity: 30 GB. Object creation will fail if spilling is required.\n",
      "\u001b[33m(raylet)\u001b[0m [2025-04-12 23:19:35,944 E 2809 2843] (raylet) file_system_monitor.cc:116: /tmp/ray/session_2025-04-12_20-50-22_955978_2486 is over 95% full, available space: 0.82251 GB; capacity: 30 GB. Object creation will fail if spilling is required.\n",
      "\u001b[33m(raylet)\u001b[0m [2025-04-12 23:19:45,953 E 2809 2843] (raylet) file_system_monitor.cc:116: /tmp/ray/session_2025-04-12_20-50-22_955978_2486 is over 95% full, available space: 0.82251 GB; capacity: 30 GB. Object creation will fail if spilling is required.\n",
      "\u001b[33m(raylet)\u001b[0m [2025-04-12 23:19:55,972 E 2809 2843] (raylet) file_system_monitor.cc:116: /tmp/ray/session_2025-04-12_20-50-22_955978_2486 is over 95% full, available space: 0.82251 GB; capacity: 30 GB. Object creation will fail if spilling is required.\n"
     ]
    },
    {
     "name": "stdout",
     "output_type": "stream",
     "text": [
      "\u001b[33m(autoscaler +2h29m38s)\u001b[0m Error: No available node types can fulfill resource request defaultdict(<class 'float'>, {'CPU': 20.0, 'GPU': 4.0}). Add suitable node types to this cluster to resolve this issue.\n"
     ]
    },
    {
     "name": "stderr",
     "output_type": "stream",
     "text": [
      "\u001b[33m(raylet)\u001b[0m [2025-04-12 23:20:05,988 E 2809 2843] (raylet) file_system_monitor.cc:116: /tmp/ray/session_2025-04-12_20-50-22_955978_2486 is over 95% full, available space: 0.82251 GB; capacity: 30 GB. Object creation will fail if spilling is required.\n",
      "\u001b[33m(raylet)\u001b[0m [2025-04-12 23:20:16,003 E 2809 2843] (raylet) file_system_monitor.cc:116: /tmp/ray/session_2025-04-12_20-50-22_955978_2486 is over 95% full, available space: 0.822495 GB; capacity: 30 GB. Object creation will fail if spilling is required.\n",
      "\u001b[33m(raylet)\u001b[0m [2025-04-12 23:20:26,036 E 2809 2843] (raylet) file_system_monitor.cc:116: /tmp/ray/session_2025-04-12_20-50-22_955978_2486 is over 95% full, available space: 0.822495 GB; capacity: 30 GB. Object creation will fail if spilling is required.\n"
     ]
    },
    {
     "name": "stdout",
     "output_type": "stream",
     "text": [
      "\u001b[33m(autoscaler +2h30m13s)\u001b[0m Error: No available node types can fulfill resource request defaultdict(<class 'float'>, {'CPU': 20.0, 'GPU': 4.0}). Add suitable node types to this cluster to resolve this issue.\n"
     ]
    },
    {
     "name": "stderr",
     "output_type": "stream",
     "text": [
      "\u001b[33m(raylet)\u001b[0m [2025-04-12 23:20:36,065 E 2809 2843] (raylet) file_system_monitor.cc:116: /tmp/ray/session_2025-04-12_20-50-22_955978_2486 is over 95% full, available space: 0.822495 GB; capacity: 30 GB. Object creation will fail if spilling is required.\n",
      "\u001b[33m(raylet)\u001b[0m [2025-04-12 23:20:46,077 E 2809 2843] (raylet) file_system_monitor.cc:116: /tmp/ray/session_2025-04-12_20-50-22_955978_2486 is over 95% full, available space: 0.822495 GB; capacity: 30 GB. Object creation will fail if spilling is required.\n",
      "\u001b[33m(raylet)\u001b[0m [2025-04-12 23:20:56,086 E 2809 2843] (raylet) file_system_monitor.cc:116: /tmp/ray/session_2025-04-12_20-50-22_955978_2486 is over 95% full, available space: 0.822495 GB; capacity: 30 GB. Object creation will fail if spilling is required.\n",
      "\u001b[33m(raylet)\u001b[0m [2025-04-12 23:21:06,094 E 2809 2843] (raylet) file_system_monitor.cc:116: /tmp/ray/session_2025-04-12_20-50-22_955978_2486 is over 95% full, available space: 0.822495 GB; capacity: 30 GB. Object creation will fail if spilling is required.\n"
     ]
    },
    {
     "name": "stdout",
     "output_type": "stream",
     "text": [
      "\u001b[33m(autoscaler +2h30m48s)\u001b[0m Error: No available node types can fulfill resource request defaultdict(<class 'float'>, {'CPU': 20.0, 'GPU': 4.0}). Add suitable node types to this cluster to resolve this issue.\n"
     ]
    },
    {
     "name": "stderr",
     "output_type": "stream",
     "text": [
      "\u001b[33m(raylet)\u001b[0m [2025-04-12 23:21:16,103 E 2809 2843] (raylet) file_system_monitor.cc:116: /tmp/ray/session_2025-04-12_20-50-22_955978_2486 is over 95% full, available space: 0.822495 GB; capacity: 30 GB. Object creation will fail if spilling is required.\n",
      "\u001b[33m(raylet)\u001b[0m [2025-04-12 23:21:26,111 E 2809 2843] (raylet) file_system_monitor.cc:116: /tmp/ray/session_2025-04-12_20-50-22_955978_2486 is over 95% full, available space: 0.822495 GB; capacity: 30 GB. Object creation will fail if spilling is required.\n",
      "\u001b[33m(raylet)\u001b[0m [2025-04-12 23:21:36,119 E 2809 2843] (raylet) file_system_monitor.cc:116: /tmp/ray/session_2025-04-12_20-50-22_955978_2486 is over 95% full, available space: 0.822495 GB; capacity: 30 GB. Object creation will fail if spilling is required.\n"
     ]
    },
    {
     "name": "stdout",
     "output_type": "stream",
     "text": [
      "\u001b[33m(autoscaler +2h31m23s)\u001b[0m Error: No available node types can fulfill resource request defaultdict(<class 'float'>, {'CPU': 20.0, 'GPU': 4.0}). Add suitable node types to this cluster to resolve this issue.\n"
     ]
    },
    {
     "name": "stderr",
     "output_type": "stream",
     "text": [
      "\u001b[33m(raylet)\u001b[0m [2025-04-12 23:21:46,127 E 2809 2843] (raylet) file_system_monitor.cc:116: /tmp/ray/session_2025-04-12_20-50-22_955978_2486 is over 95% full, available space: 0.822495 GB; capacity: 30 GB. Object creation will fail if spilling is required.\n",
      "\u001b[33m(raylet)\u001b[0m [2025-04-12 23:21:56,136 E 2809 2843] (raylet) file_system_monitor.cc:116: /tmp/ray/session_2025-04-12_20-50-22_955978_2486 is over 95% full, available space: 0.822495 GB; capacity: 30 GB. Object creation will fail if spilling is required.\n",
      "\u001b[33m(raylet)\u001b[0m [2025-04-12 23:22:06,145 E 2809 2843] (raylet) file_system_monitor.cc:116: /tmp/ray/session_2025-04-12_20-50-22_955978_2486 is over 95% full, available space: 0.822495 GB; capacity: 30 GB. Object creation will fail if spilling is required.\n",
      "\u001b[33m(raylet)\u001b[0m [2025-04-12 23:22:16,154 E 2809 2843] (raylet) file_system_monitor.cc:116: /tmp/ray/session_2025-04-12_20-50-22_955978_2486 is over 95% full, available space: 0.822495 GB; capacity: 30 GB. Object creation will fail if spilling is required.\n"
     ]
    },
    {
     "name": "stdout",
     "output_type": "stream",
     "text": [
      "\u001b[33m(autoscaler +2h31m58s)\u001b[0m Error: No available node types can fulfill resource request defaultdict(<class 'float'>, {'CPU': 20.0, 'GPU': 4.0}). Add suitable node types to this cluster to resolve this issue.\n"
     ]
    },
    {
     "name": "stderr",
     "output_type": "stream",
     "text": [
      "\u001b[33m(raylet)\u001b[0m [2025-04-12 23:22:26,163 E 2809 2843] (raylet) file_system_monitor.cc:116: /tmp/ray/session_2025-04-12_20-50-22_955978_2486 is over 95% full, available space: 0.822311 GB; capacity: 30 GB. Object creation will fail if spilling is required.\n",
      "\u001b[33m(raylet)\u001b[0m [2025-04-12 23:22:36,172 E 2809 2843] (raylet) file_system_monitor.cc:116: /tmp/ray/session_2025-04-12_20-50-22_955978_2486 is over 95% full, available space: 0.822311 GB; capacity: 30 GB. Object creation will fail if spilling is required.\n",
      "\u001b[33m(raylet)\u001b[0m [2025-04-12 23:22:46,181 E 2809 2843] (raylet) file_system_monitor.cc:116: /tmp/ray/session_2025-04-12_20-50-22_955978_2486 is over 95% full, available space: 0.822311 GB; capacity: 30 GB. Object creation will fail if spilling is required.\n"
     ]
    },
    {
     "name": "stdout",
     "output_type": "stream",
     "text": [
      "\u001b[33m(autoscaler +2h32m33s)\u001b[0m Error: No available node types can fulfill resource request defaultdict(<class 'float'>, {'CPU': 20.0, 'GPU': 4.0}). Add suitable node types to this cluster to resolve this issue.\n"
     ]
    },
    {
     "name": "stderr",
     "output_type": "stream",
     "text": [
      "\u001b[33m(raylet)\u001b[0m [2025-04-12 23:22:56,190 E 2809 2843] (raylet) file_system_monitor.cc:116: /tmp/ray/session_2025-04-12_20-50-22_955978_2486 is over 95% full, available space: 0.822311 GB; capacity: 30 GB. Object creation will fail if spilling is required.\n",
      "\u001b[33m(raylet)\u001b[0m [2025-04-12 23:23:06,209 E 2809 2843] (raylet) file_system_monitor.cc:116: /tmp/ray/session_2025-04-12_20-50-22_955978_2486 is over 95% full, available space: 0.822311 GB; capacity: 30 GB. Object creation will fail if spilling is required.\n",
      "\u001b[33m(raylet)\u001b[0m [2025-04-12 23:23:16,227 E 2809 2843] (raylet) file_system_monitor.cc:116: /tmp/ray/session_2025-04-12_20-50-22_955978_2486 is over 95% full, available space: 0.822311 GB; capacity: 30 GB. Object creation will fail if spilling is required.\n",
      "\u001b[33m(raylet)\u001b[0m [2025-04-12 23:23:26,238 E 2809 2843] (raylet) file_system_monitor.cc:116: /tmp/ray/session_2025-04-12_20-50-22_955978_2486 is over 95% full, available space: 0.820419 GB; capacity: 30 GB. Object creation will fail if spilling is required.\n"
     ]
    },
    {
     "name": "stdout",
     "output_type": "stream",
     "text": [
      "\u001b[33m(autoscaler +2h33m8s)\u001b[0m Error: No available node types can fulfill resource request defaultdict(<class 'float'>, {'CPU': 20.0, 'GPU': 4.0}). Add suitable node types to this cluster to resolve this issue.\n"
     ]
    },
    {
     "name": "stderr",
     "output_type": "stream",
     "text": [
      "\u001b[33m(raylet)\u001b[0m [2025-04-12 23:23:36,250 E 2809 2843] (raylet) file_system_monitor.cc:116: /tmp/ray/session_2025-04-12_20-50-22_955978_2486 is over 95% full, available space: 0.820431 GB; capacity: 30 GB. Object creation will fail if spilling is required.\n",
      "\u001b[33m(raylet)\u001b[0m [2025-04-12 23:23:46,262 E 2809 2843] (raylet) file_system_monitor.cc:116: /tmp/ray/session_2025-04-12_20-50-22_955978_2486 is over 95% full, available space: 0.820431 GB; capacity: 30 GB. Object creation will fail if spilling is required.\n",
      "\u001b[33m(raylet)\u001b[0m [2025-04-12 23:23:56,273 E 2809 2843] (raylet) file_system_monitor.cc:116: /tmp/ray/session_2025-04-12_20-50-22_955978_2486 is over 95% full, available space: 0.820431 GB; capacity: 30 GB. Object creation will fail if spilling is required.\n"
     ]
    },
    {
     "name": "stdout",
     "output_type": "stream",
     "text": [
      "\u001b[33m(autoscaler +2h33m43s)\u001b[0m Error: No available node types can fulfill resource request defaultdict(<class 'float'>, {'CPU': 20.0, 'GPU': 4.0}). Add suitable node types to this cluster to resolve this issue.\n"
     ]
    },
    {
     "name": "stderr",
     "output_type": "stream",
     "text": [
      "\u001b[33m(raylet)\u001b[0m [2025-04-12 23:24:06,284 E 2809 2843] (raylet) file_system_monitor.cc:116: /tmp/ray/session_2025-04-12_20-50-22_955978_2486 is over 95% full, available space: 0.820431 GB; capacity: 30 GB. Object creation will fail if spilling is required.\n",
      "\u001b[33m(raylet)\u001b[0m [2025-04-12 23:24:16,292 E 2809 2843] (raylet) file_system_monitor.cc:116: /tmp/ray/session_2025-04-12_20-50-22_955978_2486 is over 95% full, available space: 0.820431 GB; capacity: 30 GB. Object creation will fail if spilling is required.\n",
      "\u001b[33m(raylet)\u001b[0m [2025-04-12 23:24:26,302 E 2809 2843] (raylet) file_system_monitor.cc:116: /tmp/ray/session_2025-04-12_20-50-22_955978_2486 is over 95% full, available space: 0.822384 GB; capacity: 30 GB. Object creation will fail if spilling is required.\n",
      "\u001b[33m(raylet)\u001b[0m [2025-04-12 23:24:36,311 E 2809 2843] (raylet) file_system_monitor.cc:116: /tmp/ray/session_2025-04-12_20-50-22_955978_2486 is over 95% full, available space: 0.822384 GB; capacity: 30 GB. Object creation will fail if spilling is required.\n"
     ]
    },
    {
     "name": "stdout",
     "output_type": "stream",
     "text": [
      "\u001b[33m(autoscaler +2h34m18s)\u001b[0m Error: No available node types can fulfill resource request defaultdict(<class 'float'>, {'CPU': 20.0, 'GPU': 4.0}). Add suitable node types to this cluster to resolve this issue.\n"
     ]
    },
    {
     "name": "stderr",
     "output_type": "stream",
     "text": [
      "\u001b[33m(raylet)\u001b[0m [2025-04-12 23:24:46,321 E 2809 2843] (raylet) file_system_monitor.cc:116: /tmp/ray/session_2025-04-12_20-50-22_955978_2486 is over 95% full, available space: 0.822384 GB; capacity: 30 GB. Object creation will fail if spilling is required.\n",
      "\u001b[33m(raylet)\u001b[0m [2025-04-12 23:24:56,329 E 2809 2843] (raylet) file_system_monitor.cc:116: /tmp/ray/session_2025-04-12_20-50-22_955978_2486 is over 95% full, available space: 0.822384 GB; capacity: 30 GB. Object creation will fail if spilling is required.\n",
      "\u001b[33m(raylet)\u001b[0m [2025-04-12 23:25:06,338 E 2809 2843] (raylet) file_system_monitor.cc:116: /tmp/ray/session_2025-04-12_20-50-22_955978_2486 is over 95% full, available space: 0.822384 GB; capacity: 30 GB. Object creation will fail if spilling is required.\n"
     ]
    },
    {
     "name": "stdout",
     "output_type": "stream",
     "text": [
      "\u001b[33m(autoscaler +2h34m53s)\u001b[0m Error: No available node types can fulfill resource request defaultdict(<class 'float'>, {'CPU': 20.0, 'GPU': 4.0}). Add suitable node types to this cluster to resolve this issue.\n"
     ]
    },
    {
     "name": "stderr",
     "output_type": "stream",
     "text": [
      "\u001b[33m(raylet)\u001b[0m [2025-04-12 23:25:16,348 E 2809 2843] (raylet) file_system_monitor.cc:116: /tmp/ray/session_2025-04-12_20-50-22_955978_2486 is over 95% full, available space: 0.822384 GB; capacity: 30 GB. Object creation will fail if spilling is required.\n",
      "\u001b[33m(raylet)\u001b[0m [2025-04-12 23:25:26,358 E 2809 2843] (raylet) file_system_monitor.cc:116: /tmp/ray/session_2025-04-12_20-50-22_955978_2486 is over 95% full, available space: 0.822384 GB; capacity: 30 GB. Object creation will fail if spilling is required.\n",
      "\u001b[33m(raylet)\u001b[0m [2025-04-12 23:25:36,367 E 2809 2843] (raylet) file_system_monitor.cc:116: /tmp/ray/session_2025-04-12_20-50-22_955978_2486 is over 95% full, available space: 0.82238 GB; capacity: 30 GB. Object creation will fail if spilling is required.\n",
      "\u001b[33m(raylet)\u001b[0m [2025-04-12 23:25:46,377 E 2809 2843] (raylet) file_system_monitor.cc:116: /tmp/ray/session_2025-04-12_20-50-22_955978_2486 is over 95% full, available space: 0.82238 GB; capacity: 30 GB. Object creation will fail if spilling is required.\n"
     ]
    },
    {
     "name": "stdout",
     "output_type": "stream",
     "text": [
      "\u001b[33m(autoscaler +2h35m29s)\u001b[0m Error: No available node types can fulfill resource request defaultdict(<class 'float'>, {'CPU': 20.0, 'GPU': 4.0}). Add suitable node types to this cluster to resolve this issue.\n"
     ]
    },
    {
     "name": "stderr",
     "output_type": "stream",
     "text": [
      "\u001b[33m(raylet)\u001b[0m [2025-04-12 23:25:56,387 E 2809 2843] (raylet) file_system_monitor.cc:116: /tmp/ray/session_2025-04-12_20-50-22_955978_2486 is over 95% full, available space: 0.82238 GB; capacity: 30 GB. Object creation will fail if spilling is required.\n",
      "\u001b[33m(raylet)\u001b[0m [2025-04-12 23:26:06,397 E 2809 2843] (raylet) file_system_monitor.cc:116: /tmp/ray/session_2025-04-12_20-50-22_955978_2486 is over 95% full, available space: 0.82238 GB; capacity: 30 GB. Object creation will fail if spilling is required.\n",
      "\u001b[33m(raylet)\u001b[0m [2025-04-12 23:26:16,409 E 2809 2843] (raylet) file_system_monitor.cc:116: /tmp/ray/session_2025-04-12_20-50-22_955978_2486 is over 95% full, available space: 0.82238 GB; capacity: 30 GB. Object creation will fail if spilling is required.\n"
     ]
    },
    {
     "name": "stdout",
     "output_type": "stream",
     "text": [
      "\u001b[33m(autoscaler +2h36m4s)\u001b[0m Error: No available node types can fulfill resource request defaultdict(<class 'float'>, {'CPU': 20.0, 'GPU': 4.0}). Add suitable node types to this cluster to resolve this issue.\n"
     ]
    },
    {
     "name": "stderr",
     "output_type": "stream",
     "text": [
      "\u001b[33m(raylet)\u001b[0m [2025-04-12 23:26:26,434 E 2809 2843] (raylet) file_system_monitor.cc:116: /tmp/ray/session_2025-04-12_20-50-22_955978_2486 is over 95% full, available space: 0.82238 GB; capacity: 30 GB. Object creation will fail if spilling is required.\n",
      "\u001b[33m(raylet)\u001b[0m [2025-04-12 23:26:36,449 E 2809 2843] (raylet) file_system_monitor.cc:116: /tmp/ray/session_2025-04-12_20-50-22_955978_2486 is over 95% full, available space: 0.82238 GB; capacity: 30 GB. Object creation will fail if spilling is required.\n",
      "\u001b[33m(raylet)\u001b[0m [2025-04-12 23:26:46,464 E 2809 2843] (raylet) file_system_monitor.cc:116: /tmp/ray/session_2025-04-12_20-50-22_955978_2486 is over 95% full, available space: 0.82238 GB; capacity: 30 GB. Object creation will fail if spilling is required.\n",
      "\u001b[33m(raylet)\u001b[0m [2025-04-12 23:26:56,478 E 2809 2843] (raylet) file_system_monitor.cc:116: /tmp/ray/session_2025-04-12_20-50-22_955978_2486 is over 95% full, available space: 0.82238 GB; capacity: 30 GB. Object creation will fail if spilling is required.\n"
     ]
    },
    {
     "name": "stdout",
     "output_type": "stream",
     "text": [
      "\u001b[33m(autoscaler +2h36m39s)\u001b[0m Error: No available node types can fulfill resource request defaultdict(<class 'float'>, {'CPU': 20.0, 'GPU': 4.0}). Add suitable node types to this cluster to resolve this issue.\n"
     ]
    },
    {
     "name": "stderr",
     "output_type": "stream",
     "text": [
      "\u001b[33m(raylet)\u001b[0m [2025-04-12 23:27:06,495 E 2809 2843] (raylet) file_system_monitor.cc:116: /tmp/ray/session_2025-04-12_20-50-22_955978_2486 is over 95% full, available space: 0.82238 GB; capacity: 30 GB. Object creation will fail if spilling is required.\n",
      "\u001b[33m(raylet)\u001b[0m [2025-04-12 23:27:16,506 E 2809 2843] (raylet) file_system_monitor.cc:116: /tmp/ray/session_2025-04-12_20-50-22_955978_2486 is over 95% full, available space: 0.82238 GB; capacity: 30 GB. Object creation will fail if spilling is required.\n",
      "\u001b[33m(raylet)\u001b[0m [2025-04-12 23:27:26,519 E 2809 2843] (raylet) file_system_monitor.cc:116: /tmp/ray/session_2025-04-12_20-50-22_955978_2486 is over 95% full, available space: 0.822136 GB; capacity: 30 GB. Object creation will fail if spilling is required.\n"
     ]
    },
    {
     "name": "stdout",
     "output_type": "stream",
     "text": [
      "\u001b[33m(autoscaler +2h37m14s)\u001b[0m Error: No available node types can fulfill resource request defaultdict(<class 'float'>, {'CPU': 20.0, 'GPU': 4.0}). Add suitable node types to this cluster to resolve this issue.\n"
     ]
    },
    {
     "name": "stderr",
     "output_type": "stream",
     "text": [
      "\u001b[33m(raylet)\u001b[0m [2025-04-12 23:27:36,530 E 2809 2843] (raylet) file_system_monitor.cc:116: /tmp/ray/session_2025-04-12_20-50-22_955978_2486 is over 95% full, available space: 0.822136 GB; capacity: 30 GB. Object creation will fail if spilling is required.\n",
      "\u001b[33m(raylet)\u001b[0m [2025-04-12 23:27:46,541 E 2809 2843] (raylet) file_system_monitor.cc:116: /tmp/ray/session_2025-04-12_20-50-22_955978_2486 is over 95% full, available space: 0.822136 GB; capacity: 30 GB. Object creation will fail if spilling is required.\n",
      "\u001b[33m(raylet)\u001b[0m [2025-04-12 23:27:56,552 E 2809 2843] (raylet) file_system_monitor.cc:116: /tmp/ray/session_2025-04-12_20-50-22_955978_2486 is over 95% full, available space: 0.822136 GB; capacity: 30 GB. Object creation will fail if spilling is required.\n",
      "\u001b[33m(raylet)\u001b[0m [2025-04-12 23:28:06,564 E 2809 2843] (raylet) file_system_monitor.cc:116: /tmp/ray/session_2025-04-12_20-50-22_955978_2486 is over 95% full, available space: 0.822136 GB; capacity: 30 GB. Object creation will fail if spilling is required.\n"
     ]
    },
    {
     "name": "stdout",
     "output_type": "stream",
     "text": [
      "\u001b[33m(autoscaler +2h37m49s)\u001b[0m Error: No available node types can fulfill resource request defaultdict(<class 'float'>, {'CPU': 20.0, 'GPU': 4.0}). Add suitable node types to this cluster to resolve this issue.\n"
     ]
    },
    {
     "name": "stderr",
     "output_type": "stream",
     "text": [
      "\u001b[33m(raylet)\u001b[0m [2025-04-12 23:28:16,573 E 2809 2843] (raylet) file_system_monitor.cc:116: /tmp/ray/session_2025-04-12_20-50-22_955978_2486 is over 95% full, available space: 0.822136 GB; capacity: 30 GB. Object creation will fail if spilling is required.\n",
      "\u001b[33m(raylet)\u001b[0m [2025-04-12 23:28:26,586 E 2809 2843] (raylet) file_system_monitor.cc:116: /tmp/ray/session_2025-04-12_20-50-22_955978_2486 is over 95% full, available space: 0.822014 GB; capacity: 30 GB. Object creation will fail if spilling is required.\n",
      "\u001b[33m(raylet)\u001b[0m [2025-04-12 23:28:36,596 E 2809 2843] (raylet) file_system_monitor.cc:116: /tmp/ray/session_2025-04-12_20-50-22_955978_2486 is over 95% full, available space: 0.822018 GB; capacity: 30 GB. Object creation will fail if spilling is required.\n"
     ]
    },
    {
     "name": "stdout",
     "output_type": "stream",
     "text": [
      "\u001b[33m(autoscaler +2h38m24s)\u001b[0m Error: No available node types can fulfill resource request defaultdict(<class 'float'>, {'CPU': 20.0, 'GPU': 4.0}). Add suitable node types to this cluster to resolve this issue.\n"
     ]
    },
    {
     "name": "stderr",
     "output_type": "stream",
     "text": [
      "\u001b[33m(raylet)\u001b[0m [2025-04-12 23:28:46,606 E 2809 2843] (raylet) file_system_monitor.cc:116: /tmp/ray/session_2025-04-12_20-50-22_955978_2486 is over 95% full, available space: 0.822018 GB; capacity: 30 GB. Object creation will fail if spilling is required.\n",
      "\u001b[33m(raylet)\u001b[0m [2025-04-12 23:28:56,617 E 2809 2843] (raylet) file_system_monitor.cc:116: /tmp/ray/session_2025-04-12_20-50-22_955978_2486 is over 95% full, available space: 0.822018 GB; capacity: 30 GB. Object creation will fail if spilling is required.\n",
      "\u001b[33m(raylet)\u001b[0m [2025-04-12 23:29:06,626 E 2809 2843] (raylet) file_system_monitor.cc:116: /tmp/ray/session_2025-04-12_20-50-22_955978_2486 is over 95% full, available space: 0.822018 GB; capacity: 30 GB. Object creation will fail if spilling is required.\n",
      "\u001b[33m(raylet)\u001b[0m [2025-04-12 23:29:16,635 E 2809 2843] (raylet) file_system_monitor.cc:116: /tmp/ray/session_2025-04-12_20-50-22_955978_2486 is over 95% full, available space: 0.822018 GB; capacity: 30 GB. Object creation will fail if spilling is required.\n"
     ]
    },
    {
     "name": "stdout",
     "output_type": "stream",
     "text": [
      "\u001b[33m(autoscaler +2h38m59s)\u001b[0m Error: No available node types can fulfill resource request defaultdict(<class 'float'>, {'CPU': 20.0, 'GPU': 4.0}). Add suitable node types to this cluster to resolve this issue.\n"
     ]
    },
    {
     "name": "stderr",
     "output_type": "stream",
     "text": [
      "\u001b[33m(raylet)\u001b[0m [2025-04-12 23:29:26,645 E 2809 2843] (raylet) file_system_monitor.cc:116: /tmp/ray/session_2025-04-12_20-50-22_955978_2486 is over 95% full, available space: 0.822018 GB; capacity: 30 GB. Object creation will fail if spilling is required.\n",
      "\u001b[33m(raylet)\u001b[0m [2025-04-12 23:29:36,655 E 2809 2843] (raylet) file_system_monitor.cc:116: /tmp/ray/session_2025-04-12_20-50-22_955978_2486 is over 95% full, available space: 0.822018 GB; capacity: 30 GB. Object creation will fail if spilling is required.\n",
      "\u001b[33m(raylet)\u001b[0m [2025-04-12 23:29:46,665 E 2809 2843] (raylet) file_system_monitor.cc:116: /tmp/ray/session_2025-04-12_20-50-22_955978_2486 is over 95% full, available space: 0.822018 GB; capacity: 30 GB. Object creation will fail if spilling is required.\n"
     ]
    },
    {
     "name": "stdout",
     "output_type": "stream",
     "text": [
      "\u001b[33m(autoscaler +2h39m34s)\u001b[0m Error: No available node types can fulfill resource request defaultdict(<class 'float'>, {'CPU': 20.0, 'GPU': 4.0}). Add suitable node types to this cluster to resolve this issue.\n"
     ]
    },
    {
     "name": "stderr",
     "output_type": "stream",
     "text": [
      "\u001b[33m(raylet)\u001b[0m [2025-04-12 23:29:56,676 E 2809 2843] (raylet) file_system_monitor.cc:116: /tmp/ray/session_2025-04-12_20-50-22_955978_2486 is over 95% full, available space: 0.822018 GB; capacity: 30 GB. Object creation will fail if spilling is required.\n",
      "\u001b[33m(raylet)\u001b[0m [2025-04-12 23:30:06,687 E 2809 2843] (raylet) file_system_monitor.cc:116: /tmp/ray/session_2025-04-12_20-50-22_955978_2486 is over 95% full, available space: 0.822018 GB; capacity: 30 GB. Object creation will fail if spilling is required.\n",
      "\u001b[33m(raylet)\u001b[0m [2025-04-12 23:30:16,698 E 2809 2843] (raylet) file_system_monitor.cc:116: /tmp/ray/session_2025-04-12_20-50-22_955978_2486 is over 95% full, available space: 0.822018 GB; capacity: 30 GB. Object creation will fail if spilling is required.\n",
      "\u001b[33m(raylet)\u001b[0m [2025-04-12 23:30:26,707 E 2809 2843] (raylet) file_system_monitor.cc:116: /tmp/ray/session_2025-04-12_20-50-22_955978_2486 is over 95% full, available space: 0.822018 GB; capacity: 30 GB. Object creation will fail if spilling is required.\n"
     ]
    },
    {
     "name": "stdout",
     "output_type": "stream",
     "text": [
      "\u001b[33m(autoscaler +2h40m9s)\u001b[0m Error: No available node types can fulfill resource request defaultdict(<class 'float'>, {'CPU': 20.0, 'GPU': 4.0}). Add suitable node types to this cluster to resolve this issue.\n"
     ]
    },
    {
     "name": "stderr",
     "output_type": "stream",
     "text": [
      "\u001b[33m(raylet)\u001b[0m [2025-04-12 23:30:36,718 E 2809 2843] (raylet) file_system_monitor.cc:116: /tmp/ray/session_2025-04-12_20-50-22_955978_2486 is over 95% full, available space: 0.822018 GB; capacity: 30 GB. Object creation will fail if spilling is required.\n",
      "\u001b[33m(raylet)\u001b[0m [2025-04-12 23:30:46,727 E 2809 2843] (raylet) file_system_monitor.cc:116: /tmp/ray/session_2025-04-12_20-50-22_955978_2486 is over 95% full, available space: 0.822018 GB; capacity: 30 GB. Object creation will fail if spilling is required.\n",
      "\u001b[33m(raylet)\u001b[0m [2025-04-12 23:30:56,736 E 2809 2843] (raylet) file_system_monitor.cc:116: /tmp/ray/session_2025-04-12_20-50-22_955978_2486 is over 95% full, available space: 0.822018 GB; capacity: 30 GB. Object creation will fail if spilling is required.\n"
     ]
    },
    {
     "name": "stdout",
     "output_type": "stream",
     "text": [
      "\u001b[33m(autoscaler +2h40m44s)\u001b[0m Error: No available node types can fulfill resource request defaultdict(<class 'float'>, {'CPU': 20.0, 'GPU': 4.0}). Add suitable node types to this cluster to resolve this issue.\n"
     ]
    },
    {
     "name": "stderr",
     "output_type": "stream",
     "text": [
      "\u001b[33m(raylet)\u001b[0m [2025-04-12 23:31:06,744 E 2809 2843] (raylet) file_system_monitor.cc:116: /tmp/ray/session_2025-04-12_20-50-22_955978_2486 is over 95% full, available space: 0.822018 GB; capacity: 30 GB. Object creation will fail if spilling is required.\n",
      "\u001b[33m(raylet)\u001b[0m [2025-04-12 23:31:16,753 E 2809 2843] (raylet) file_system_monitor.cc:116: /tmp/ray/session_2025-04-12_20-50-22_955978_2486 is over 95% full, available space: 0.822018 GB; capacity: 30 GB. Object creation will fail if spilling is required.\n",
      "\u001b[33m(raylet)\u001b[0m [2025-04-12 23:31:26,762 E 2809 2843] (raylet) file_system_monitor.cc:116: /tmp/ray/session_2025-04-12_20-50-22_955978_2486 is over 95% full, available space: 0.822018 GB; capacity: 30 GB. Object creation will fail if spilling is required.\n",
      "\u001b[33m(raylet)\u001b[0m [2025-04-12 23:31:36,772 E 2809 2843] (raylet) file_system_monitor.cc:116: /tmp/ray/session_2025-04-12_20-50-22_955978_2486 is over 95% full, available space: 0.822018 GB; capacity: 30 GB. Object creation will fail if spilling is required.\n"
     ]
    },
    {
     "name": "stdout",
     "output_type": "stream",
     "text": [
      "\u001b[33m(autoscaler +2h41m19s)\u001b[0m Error: No available node types can fulfill resource request defaultdict(<class 'float'>, {'CPU': 20.0, 'GPU': 4.0}). Add suitable node types to this cluster to resolve this issue.\n"
     ]
    },
    {
     "name": "stderr",
     "output_type": "stream",
     "text": [
      "\u001b[33m(raylet)\u001b[0m [2025-04-12 23:31:46,789 E 2809 2843] (raylet) file_system_monitor.cc:116: /tmp/ray/session_2025-04-12_20-50-22_955978_2486 is over 95% full, available space: 0.822018 GB; capacity: 30 GB. Object creation will fail if spilling is required.\n",
      "\u001b[33m(raylet)\u001b[0m [2025-04-12 23:31:56,802 E 2809 2843] (raylet) file_system_monitor.cc:116: /tmp/ray/session_2025-04-12_20-50-22_955978_2486 is over 95% full, available space: 0.822018 GB; capacity: 30 GB. Object creation will fail if spilling is required.\n",
      "\u001b[33m(raylet)\u001b[0m [2025-04-12 23:32:06,815 E 2809 2843] (raylet) file_system_monitor.cc:116: /tmp/ray/session_2025-04-12_20-50-22_955978_2486 is over 95% full, available space: 0.822018 GB; capacity: 30 GB. Object creation will fail if spilling is required.\n"
     ]
    },
    {
     "name": "stdout",
     "output_type": "stream",
     "text": [
      "\u001b[33m(autoscaler +2h41m54s)\u001b[0m Error: No available node types can fulfill resource request defaultdict(<class 'float'>, {'CPU': 20.0, 'GPU': 4.0}). Add suitable node types to this cluster to resolve this issue.\n"
     ]
    },
    {
     "name": "stderr",
     "output_type": "stream",
     "text": [
      "\u001b[33m(raylet)\u001b[0m [2025-04-12 23:32:16,827 E 2809 2843] (raylet) file_system_monitor.cc:116: /tmp/ray/session_2025-04-12_20-50-22_955978_2486 is over 95% full, available space: 0.822018 GB; capacity: 30 GB. Object creation will fail if spilling is required.\n",
      "\u001b[33m(raylet)\u001b[0m [2025-04-12 23:32:26,838 E 2809 2843] (raylet) file_system_monitor.cc:116: /tmp/ray/session_2025-04-12_20-50-22_955978_2486 is over 95% full, available space: 0.821651 GB; capacity: 30 GB. Object creation will fail if spilling is required.\n",
      "\u001b[33m(raylet)\u001b[0m [2025-04-12 23:32:36,847 E 2809 2843] (raylet) file_system_monitor.cc:116: /tmp/ray/session_2025-04-12_20-50-22_955978_2486 is over 95% full, available space: 0.821602 GB; capacity: 30 GB. Object creation will fail if spilling is required.\n",
      "\u001b[33m(raylet)\u001b[0m [2025-04-12 23:32:46,857 E 2809 2843] (raylet) file_system_monitor.cc:116: /tmp/ray/session_2025-04-12_20-50-22_955978_2486 is over 95% full, available space: 0.821602 GB; capacity: 30 GB. Object creation will fail if spilling is required.\n"
     ]
    },
    {
     "name": "stdout",
     "output_type": "stream",
     "text": [
      "\u001b[33m(autoscaler +2h42m29s)\u001b[0m Error: No available node types can fulfill resource request defaultdict(<class 'float'>, {'CPU': 20.0, 'GPU': 4.0}). Add suitable node types to this cluster to resolve this issue.\n"
     ]
    },
    {
     "name": "stderr",
     "output_type": "stream",
     "text": [
      "\u001b[33m(raylet)\u001b[0m [2025-04-12 23:32:56,866 E 2809 2843] (raylet) file_system_monitor.cc:116: /tmp/ray/session_2025-04-12_20-50-22_955978_2486 is over 95% full, available space: 0.821602 GB; capacity: 30 GB. Object creation will fail if spilling is required.\n",
      "\u001b[33m(raylet)\u001b[0m [2025-04-12 23:33:06,875 E 2809 2843] (raylet) file_system_monitor.cc:116: /tmp/ray/session_2025-04-12_20-50-22_955978_2486 is over 95% full, available space: 0.821598 GB; capacity: 30 GB. Object creation will fail if spilling is required.\n",
      "\u001b[33m(raylet)\u001b[0m [2025-04-12 23:33:16,884 E 2809 2843] (raylet) file_system_monitor.cc:116: /tmp/ray/session_2025-04-12_20-50-22_955978_2486 is over 95% full, available space: 0.821598 GB; capacity: 30 GB. Object creation will fail if spilling is required.\n"
     ]
    },
    {
     "name": "stdout",
     "output_type": "stream",
     "text": [
      "\u001b[33m(autoscaler +2h43m5s)\u001b[0m Error: No available node types can fulfill resource request defaultdict(<class 'float'>, {'CPU': 20.0, 'GPU': 4.0}). Add suitable node types to this cluster to resolve this issue.\n"
     ]
    },
    {
     "name": "stderr",
     "output_type": "stream",
     "text": [
      "\u001b[33m(raylet)\u001b[0m [2025-04-12 23:33:26,896 E 2809 2843] (raylet) file_system_monitor.cc:116: /tmp/ray/session_2025-04-12_20-50-22_955978_2486 is over 95% full, available space: 0.818851 GB; capacity: 30 GB. Object creation will fail if spilling is required.\n",
      "\u001b[33m(raylet)\u001b[0m [2025-04-12 23:33:36,907 E 2809 2843] (raylet) file_system_monitor.cc:116: /tmp/ray/session_2025-04-12_20-50-22_955978_2486 is over 95% full, available space: 0.818851 GB; capacity: 30 GB. Object creation will fail if spilling is required.\n",
      "\u001b[33m(raylet)\u001b[0m [2025-04-12 23:33:46,918 E 2809 2843] (raylet) file_system_monitor.cc:116: /tmp/ray/session_2025-04-12_20-50-22_955978_2486 is over 95% full, available space: 0.818836 GB; capacity: 30 GB. Object creation will fail if spilling is required.\n",
      "\u001b[33m(raylet)\u001b[0m [2025-04-12 23:33:56,928 E 2809 2843] (raylet) file_system_monitor.cc:116: /tmp/ray/session_2025-04-12_20-50-22_955978_2486 is over 95% full, available space: 0.818836 GB; capacity: 30 GB. Object creation will fail if spilling is required.\n"
     ]
    },
    {
     "name": "stdout",
     "output_type": "stream",
     "text": [
      "\u001b[33m(autoscaler +2h43m40s)\u001b[0m Error: No available node types can fulfill resource request defaultdict(<class 'float'>, {'CPU': 20.0, 'GPU': 4.0}). Add suitable node types to this cluster to resolve this issue.\n"
     ]
    },
    {
     "name": "stderr",
     "output_type": "stream",
     "text": [
      "\u001b[33m(raylet)\u001b[0m [2025-04-12 23:34:06,938 E 2809 2843] (raylet) file_system_monitor.cc:116: /tmp/ray/session_2025-04-12_20-50-22_955978_2486 is over 95% full, available space: 0.818836 GB; capacity: 30 GB. Object creation will fail if spilling is required.\n",
      "\u001b[33m(raylet)\u001b[0m [2025-04-12 23:34:16,947 E 2809 2843] (raylet) file_system_monitor.cc:116: /tmp/ray/session_2025-04-12_20-50-22_955978_2486 is over 95% full, available space: 0.818836 GB; capacity: 30 GB. Object creation will fail if spilling is required.\n",
      "\u001b[33m(raylet)\u001b[0m [2025-04-12 23:34:26,957 E 2809 2843] (raylet) file_system_monitor.cc:116: /tmp/ray/session_2025-04-12_20-50-22_955978_2486 is over 95% full, available space: 0.818836 GB; capacity: 30 GB. Object creation will fail if spilling is required.\n"
     ]
    },
    {
     "name": "stdout",
     "output_type": "stream",
     "text": [
      "\u001b[33m(autoscaler +2h44m15s)\u001b[0m Error: No available node types can fulfill resource request defaultdict(<class 'float'>, {'CPU': 20.0, 'GPU': 4.0}). Add suitable node types to this cluster to resolve this issue.\n"
     ]
    },
    {
     "name": "stderr",
     "output_type": "stream",
     "text": [
      "\u001b[33m(raylet)\u001b[0m [2025-04-12 23:34:36,967 E 2809 2843] (raylet) file_system_monitor.cc:116: /tmp/ray/session_2025-04-12_20-50-22_955978_2486 is over 95% full, available space: 0.818592 GB; capacity: 30 GB. Object creation will fail if spilling is required.\n",
      "\u001b[33m(raylet)\u001b[0m [2025-04-12 23:34:46,975 E 2809 2843] (raylet) file_system_monitor.cc:116: /tmp/ray/session_2025-04-12_20-50-22_955978_2486 is over 95% full, available space: 0.818813 GB; capacity: 30 GB. Object creation will fail if spilling is required.\n",
      "\u001b[33m(raylet)\u001b[0m [2025-04-12 23:34:56,984 E 2809 2843] (raylet) file_system_monitor.cc:116: /tmp/ray/session_2025-04-12_20-50-22_955978_2486 is over 95% full, available space: 0.818348 GB; capacity: 30 GB. Object creation will fail if spilling is required.\n",
      "\u001b[33m(raylet)\u001b[0m [2025-04-12 23:35:06,993 E 2809 2843] (raylet) file_system_monitor.cc:116: /tmp/ray/session_2025-04-12_20-50-22_955978_2486 is over 95% full, available space: 0.818348 GB; capacity: 30 GB. Object creation will fail if spilling is required.\n"
     ]
    },
    {
     "name": "stdout",
     "output_type": "stream",
     "text": [
      "\u001b[33m(autoscaler +2h44m50s)\u001b[0m Error: No available node types can fulfill resource request defaultdict(<class 'float'>, {'CPU': 20.0, 'GPU': 4.0}). Add suitable node types to this cluster to resolve this issue.\n"
     ]
    },
    {
     "name": "stderr",
     "output_type": "stream",
     "text": [
      "\u001b[33m(raylet)\u001b[0m [2025-04-12 23:35:17,003 E 2809 2843] (raylet) file_system_monitor.cc:116: /tmp/ray/session_2025-04-12_20-50-22_955978_2486 is over 95% full, available space: 0.818394 GB; capacity: 30 GB. Object creation will fail if spilling is required.\n",
      "\u001b[33m(raylet)\u001b[0m [2025-04-12 23:35:27,013 E 2809 2843] (raylet) file_system_monitor.cc:116: /tmp/ray/session_2025-04-12_20-50-22_955978_2486 is over 95% full, available space: 0.818394 GB; capacity: 30 GB. Object creation will fail if spilling is required.\n",
      "\u001b[33m(raylet)\u001b[0m [2025-04-12 23:35:37,021 E 2809 2843] (raylet) file_system_monitor.cc:116: /tmp/ray/session_2025-04-12_20-50-22_955978_2486 is over 95% full, available space: 0.818394 GB; capacity: 30 GB. Object creation will fail if spilling is required.\n"
     ]
    },
    {
     "name": "stdout",
     "output_type": "stream",
     "text": [
      "\u001b[33m(autoscaler +2h45m25s)\u001b[0m Error: No available node types can fulfill resource request defaultdict(<class 'float'>, {'CPU': 20.0, 'GPU': 4.0}). Add suitable node types to this cluster to resolve this issue.\n"
     ]
    },
    {
     "name": "stderr",
     "output_type": "stream",
     "text": [
      "\u001b[33m(raylet)\u001b[0m [2025-04-12 23:35:47,031 E 2809 2843] (raylet) file_system_monitor.cc:116: /tmp/ray/session_2025-04-12_20-50-22_955978_2486 is over 95% full, available space: 0.818394 GB; capacity: 30 GB. Object creation will fail if spilling is required.\n",
      "\u001b[33m(raylet)\u001b[0m [2025-04-12 23:35:57,040 E 2809 2843] (raylet) file_system_monitor.cc:116: /tmp/ray/session_2025-04-12_20-50-22_955978_2486 is over 95% full, available space: 0.818394 GB; capacity: 30 GB. Object creation will fail if spilling is required.\n",
      "\u001b[33m(raylet)\u001b[0m [2025-04-12 23:36:07,049 E 2809 2843] (raylet) file_system_monitor.cc:116: /tmp/ray/session_2025-04-12_20-50-22_955978_2486 is over 95% full, available space: 0.818394 GB; capacity: 30 GB. Object creation will fail if spilling is required.\n",
      "\u001b[33m(raylet)\u001b[0m [2025-04-12 23:36:17,059 E 2809 2843] (raylet) file_system_monitor.cc:116: /tmp/ray/session_2025-04-12_20-50-22_955978_2486 is over 95% full, available space: 0.818394 GB; capacity: 30 GB. Object creation will fail if spilling is required.\n"
     ]
    },
    {
     "name": "stdout",
     "output_type": "stream",
     "text": [
      "\u001b[33m(autoscaler +2h46m0s)\u001b[0m Error: No available node types can fulfill resource request defaultdict(<class 'float'>, {'CPU': 20.0, 'GPU': 4.0}). Add suitable node types to this cluster to resolve this issue.\n"
     ]
    },
    {
     "name": "stderr",
     "output_type": "stream",
     "text": [
      "\u001b[33m(raylet)\u001b[0m [2025-04-12 23:36:27,069 E 2809 2843] (raylet) file_system_monitor.cc:116: /tmp/ray/session_2025-04-12_20-50-22_955978_2486 is over 95% full, available space: 0.818394 GB; capacity: 30 GB. Object creation will fail if spilling is required.\n",
      "\u001b[33m(raylet)\u001b[0m [2025-04-12 23:36:37,079 E 2809 2843] (raylet) file_system_monitor.cc:116: /tmp/ray/session_2025-04-12_20-50-22_955978_2486 is over 95% full, available space: 0.818394 GB; capacity: 30 GB. Object creation will fail if spilling is required.\n",
      "\u001b[33m(raylet)\u001b[0m [2025-04-12 23:36:47,088 E 2809 2843] (raylet) file_system_monitor.cc:116: /tmp/ray/session_2025-04-12_20-50-22_955978_2486 is over 95% full, available space: 0.818398 GB; capacity: 30 GB. Object creation will fail if spilling is required.\n"
     ]
    },
    {
     "name": "stdout",
     "output_type": "stream",
     "text": [
      "\u001b[33m(autoscaler +2h46m35s)\u001b[0m Error: No available node types can fulfill resource request defaultdict(<class 'float'>, {'CPU': 20.0, 'GPU': 4.0}). Add suitable node types to this cluster to resolve this issue.\n"
     ]
    },
    {
     "name": "stderr",
     "output_type": "stream",
     "text": [
      "\u001b[33m(raylet)\u001b[0m [2025-04-12 23:36:57,098 E 2809 2843] (raylet) file_system_monitor.cc:116: /tmp/ray/session_2025-04-12_20-50-22_955978_2486 is over 95% full, available space: 0.818398 GB; capacity: 30 GB. Object creation will fail if spilling is required.\n",
      "\u001b[33m(raylet)\u001b[0m [2025-04-12 23:37:07,108 E 2809 2843] (raylet) file_system_monitor.cc:116: /tmp/ray/session_2025-04-12_20-50-22_955978_2486 is over 95% full, available space: 0.818398 GB; capacity: 30 GB. Object creation will fail if spilling is required.\n",
      "\u001b[33m(raylet)\u001b[0m [2025-04-12 23:37:17,118 E 2809 2843] (raylet) file_system_monitor.cc:116: /tmp/ray/session_2025-04-12_20-50-22_955978_2486 is over 95% full, available space: 0.818398 GB; capacity: 30 GB. Object creation will fail if spilling is required.\n",
      "\u001b[33m(raylet)\u001b[0m [2025-04-12 23:37:27,127 E 2809 2843] (raylet) file_system_monitor.cc:116: /tmp/ray/session_2025-04-12_20-50-22_955978_2486 is over 95% full, available space: 0.818398 GB; capacity: 30 GB. Object creation will fail if spilling is required.\n"
     ]
    },
    {
     "name": "stdout",
     "output_type": "stream",
     "text": [
      "\u001b[33m(autoscaler +2h47m10s)\u001b[0m Error: No available node types can fulfill resource request defaultdict(<class 'float'>, {'CPU': 20.0, 'GPU': 4.0}). Add suitable node types to this cluster to resolve this issue.\n"
     ]
    },
    {
     "name": "stderr",
     "output_type": "stream",
     "text": [
      "\u001b[33m(raylet)\u001b[0m [2025-04-12 23:37:37,136 E 2809 2843] (raylet) file_system_monitor.cc:116: /tmp/ray/session_2025-04-12_20-50-22_955978_2486 is over 95% full, available space: 0.818398 GB; capacity: 30 GB. Object creation will fail if spilling is required.\n",
      "\u001b[33m(raylet)\u001b[0m [2025-04-12 23:37:47,147 E 2809 2843] (raylet) file_system_monitor.cc:116: /tmp/ray/session_2025-04-12_20-50-22_955978_2486 is over 95% full, available space: 0.818398 GB; capacity: 30 GB. Object creation will fail if spilling is required.\n",
      "\u001b[33m(raylet)\u001b[0m [2025-04-12 23:37:57,158 E 2809 2843] (raylet) file_system_monitor.cc:116: /tmp/ray/session_2025-04-12_20-50-22_955978_2486 is over 95% full, available space: 0.818398 GB; capacity: 30 GB. Object creation will fail if spilling is required.\n"
     ]
    },
    {
     "name": "stdout",
     "output_type": "stream",
     "text": [
      "\u001b[33m(autoscaler +2h47m45s)\u001b[0m Error: No available node types can fulfill resource request defaultdict(<class 'float'>, {'CPU': 20.0, 'GPU': 4.0}). Add suitable node types to this cluster to resolve this issue.\n"
     ]
    },
    {
     "name": "stderr",
     "output_type": "stream",
     "text": [
      "\u001b[33m(raylet)\u001b[0m [2025-04-12 23:38:07,170 E 2809 2843] (raylet) file_system_monitor.cc:116: /tmp/ray/session_2025-04-12_20-50-22_955978_2486 is over 95% full, available space: 0.818398 GB; capacity: 30 GB. Object creation will fail if spilling is required.\n",
      "\u001b[33m(raylet)\u001b[0m [2025-04-12 23:38:17,186 E 2809 2843] (raylet) file_system_monitor.cc:116: /tmp/ray/session_2025-04-12_20-50-22_955978_2486 is over 95% full, available space: 0.818398 GB; capacity: 30 GB. Object creation will fail if spilling is required.\n",
      "\u001b[33m(raylet)\u001b[0m [2025-04-12 23:38:27,202 E 2809 2843] (raylet) file_system_monitor.cc:116: /tmp/ray/session_2025-04-12_20-50-22_955978_2486 is over 95% full, available space: 0.818398 GB; capacity: 30 GB. Object creation will fail if spilling is required.\n",
      "\u001b[33m(raylet)\u001b[0m [2025-04-12 23:38:37,216 E 2809 2843] (raylet) file_system_monitor.cc:116: /tmp/ray/session_2025-04-12_20-50-22_955978_2486 is over 95% full, available space: 0.818398 GB; capacity: 30 GB. Object creation will fail if spilling is required.\n"
     ]
    },
    {
     "name": "stdout",
     "output_type": "stream",
     "text": [
      "\u001b[33m(autoscaler +2h48m20s)\u001b[0m Error: No available node types can fulfill resource request defaultdict(<class 'float'>, {'CPU': 20.0, 'GPU': 4.0}). Add suitable node types to this cluster to resolve this issue.\n"
     ]
    },
    {
     "name": "stderr",
     "output_type": "stream",
     "text": [
      "\u001b[33m(raylet)\u001b[0m [2025-04-12 23:38:47,227 E 2809 2843] (raylet) file_system_monitor.cc:116: /tmp/ray/session_2025-04-12_20-50-22_955978_2486 is over 95% full, available space: 0.818398 GB; capacity: 30 GB. Object creation will fail if spilling is required.\n",
      "\u001b[33m(raylet)\u001b[0m [2025-04-12 23:38:57,239 E 2809 2843] (raylet) file_system_monitor.cc:116: /tmp/ray/session_2025-04-12_20-50-22_955978_2486 is over 95% full, available space: 0.818398 GB; capacity: 30 GB. Object creation will fail if spilling is required.\n",
      "\u001b[33m(raylet)\u001b[0m [2025-04-12 23:39:07,250 E 2809 2843] (raylet) file_system_monitor.cc:116: /tmp/ray/session_2025-04-12_20-50-22_955978_2486 is over 95% full, available space: 0.818398 GB; capacity: 30 GB. Object creation will fail if spilling is required.\n"
     ]
    },
    {
     "name": "stdout",
     "output_type": "stream",
     "text": [
      "\u001b[33m(autoscaler +2h48m55s)\u001b[0m Error: No available node types can fulfill resource request defaultdict(<class 'float'>, {'CPU': 20.0, 'GPU': 4.0}). Add suitable node types to this cluster to resolve this issue.\n"
     ]
    },
    {
     "name": "stderr",
     "output_type": "stream",
     "text": [
      "\u001b[33m(raylet)\u001b[0m [2025-04-12 23:39:17,261 E 2809 2843] (raylet) file_system_monitor.cc:116: /tmp/ray/session_2025-04-12_20-50-22_955978_2486 is over 95% full, available space: 0.818398 GB; capacity: 30 GB. Object creation will fail if spilling is required.\n",
      "\u001b[33m(raylet)\u001b[0m [2025-04-12 23:39:27,272 E 2809 2843] (raylet) file_system_monitor.cc:116: /tmp/ray/session_2025-04-12_20-50-22_955978_2486 is over 95% full, available space: 0.818398 GB; capacity: 30 GB. Object creation will fail if spilling is required.\n",
      "\u001b[33m(raylet)\u001b[0m [2025-04-12 23:39:37,288 E 2809 2843] (raylet) file_system_monitor.cc:116: /tmp/ray/session_2025-04-12_20-50-22_955978_2486 is over 95% full, available space: 0.818398 GB; capacity: 30 GB. Object creation will fail if spilling is required.\n",
      "\u001b[33m(raylet)\u001b[0m [2025-04-12 23:39:47,311 E 2809 2843] (raylet) file_system_monitor.cc:116: /tmp/ray/session_2025-04-12_20-50-22_955978_2486 is over 95% full, available space: 0.818398 GB; capacity: 30 GB. Object creation will fail if spilling is required.\n"
     ]
    },
    {
     "name": "stdout",
     "output_type": "stream",
     "text": [
      "\u001b[33m(autoscaler +2h49m30s)\u001b[0m Error: No available node types can fulfill resource request defaultdict(<class 'float'>, {'CPU': 20.0, 'GPU': 4.0}). Add suitable node types to this cluster to resolve this issue.\n"
     ]
    },
    {
     "name": "stderr",
     "output_type": "stream",
     "text": [
      "\u001b[33m(raylet)\u001b[0m [2025-04-12 23:39:57,331 E 2809 2843] (raylet) file_system_monitor.cc:116: /tmp/ray/session_2025-04-12_20-50-22_955978_2486 is over 95% full, available space: 0.818398 GB; capacity: 30 GB. Object creation will fail if spilling is required.\n",
      "\u001b[33m(raylet)\u001b[0m [2025-04-12 23:40:07,353 E 2809 2843] (raylet) file_system_monitor.cc:116: /tmp/ray/session_2025-04-12_20-50-22_955978_2486 is over 95% full, available space: 0.818398 GB; capacity: 30 GB. Object creation will fail if spilling is required.\n",
      "\u001b[33m(raylet)\u001b[0m [2025-04-12 23:40:17,373 E 2809 2843] (raylet) file_system_monitor.cc:116: /tmp/ray/session_2025-04-12_20-50-22_955978_2486 is over 95% full, available space: 0.818398 GB; capacity: 30 GB. Object creation will fail if spilling is required.\n"
     ]
    },
    {
     "name": "stdout",
     "output_type": "stream",
     "text": [
      "\u001b[33m(autoscaler +2h50m5s)\u001b[0m Error: No available node types can fulfill resource request defaultdict(<class 'float'>, {'CPU': 20.0, 'GPU': 4.0}). Add suitable node types to this cluster to resolve this issue.\n"
     ]
    },
    {
     "name": "stderr",
     "output_type": "stream",
     "text": [
      "\u001b[33m(raylet)\u001b[0m [2025-04-12 23:40:27,393 E 2809 2843] (raylet) file_system_monitor.cc:116: /tmp/ray/session_2025-04-12_20-50-22_955978_2486 is over 95% full, available space: 0.817909 GB; capacity: 30 GB. Object creation will fail if spilling is required.\n",
      "\u001b[33m(raylet)\u001b[0m [2025-04-12 23:40:37,412 E 2809 2843] (raylet) file_system_monitor.cc:116: /tmp/ray/session_2025-04-12_20-50-22_955978_2486 is over 95% full, available space: 0.817909 GB; capacity: 30 GB. Object creation will fail if spilling is required.\n",
      "\u001b[33m(raylet)\u001b[0m [2025-04-12 23:40:47,432 E 2809 2843] (raylet) file_system_monitor.cc:116: /tmp/ray/session_2025-04-12_20-50-22_955978_2486 is over 95% full, available space: 0.817909 GB; capacity: 30 GB. Object creation will fail if spilling is required.\n",
      "\u001b[33m(raylet)\u001b[0m [2025-04-12 23:40:57,452 E 2809 2843] (raylet) file_system_monitor.cc:116: /tmp/ray/session_2025-04-12_20-50-22_955978_2486 is over 95% full, available space: 0.817909 GB; capacity: 30 GB. Object creation will fail if spilling is required.\n"
     ]
    },
    {
     "name": "stdout",
     "output_type": "stream",
     "text": [
      "\u001b[33m(autoscaler +2h50m41s)\u001b[0m Error: No available node types can fulfill resource request defaultdict(<class 'float'>, {'CPU': 20.0, 'GPU': 4.0}). Add suitable node types to this cluster to resolve this issue.\n"
     ]
    },
    {
     "name": "stderr",
     "output_type": "stream",
     "text": [
      "\u001b[33m(raylet)\u001b[0m [2025-04-12 23:41:07,472 E 2809 2843] (raylet) file_system_monitor.cc:116: /tmp/ray/session_2025-04-12_20-50-22_955978_2486 is over 95% full, available space: 0.817909 GB; capacity: 30 GB. Object creation will fail if spilling is required.\n",
      "\u001b[33m(raylet)\u001b[0m [2025-04-12 23:41:17,491 E 2809 2843] (raylet) file_system_monitor.cc:116: /tmp/ray/session_2025-04-12_20-50-22_955978_2486 is over 95% full, available space: 0.817909 GB; capacity: 30 GB. Object creation will fail if spilling is required.\n",
      "\u001b[33m(raylet)\u001b[0m [2025-04-12 23:41:27,501 E 2809 2843] (raylet) file_system_monitor.cc:116: /tmp/ray/session_2025-04-12_20-50-22_955978_2486 is over 95% full, available space: 0.817665 GB; capacity: 30 GB. Object creation will fail if spilling is required.\n"
     ]
    },
    {
     "name": "stdout",
     "output_type": "stream",
     "text": [
      "\u001b[33m(autoscaler +2h51m16s)\u001b[0m Error: No available node types can fulfill resource request defaultdict(<class 'float'>, {'CPU': 20.0, 'GPU': 4.0}). Add suitable node types to this cluster to resolve this issue.\n"
     ]
    },
    {
     "name": "stderr",
     "output_type": "stream",
     "text": [
      "\u001b[33m(raylet)\u001b[0m [2025-04-12 23:41:37,513 E 2809 2843] (raylet) file_system_monitor.cc:116: /tmp/ray/session_2025-04-12_20-50-22_955978_2486 is over 95% full, available space: 0.817665 GB; capacity: 30 GB. Object creation will fail if spilling is required.\n",
      "\u001b[33m(raylet)\u001b[0m [2025-04-12 23:41:47,523 E 2809 2843] (raylet) file_system_monitor.cc:116: /tmp/ray/session_2025-04-12_20-50-22_955978_2486 is over 95% full, available space: 0.817665 GB; capacity: 30 GB. Object creation will fail if spilling is required.\n",
      "\u001b[33m(raylet)\u001b[0m [2025-04-12 23:41:57,535 E 2809 2843] (raylet) file_system_monitor.cc:116: /tmp/ray/session_2025-04-12_20-50-22_955978_2486 is over 95% full, available space: 0.817665 GB; capacity: 30 GB. Object creation will fail if spilling is required.\n",
      "\u001b[33m(raylet)\u001b[0m [2025-04-12 23:42:07,544 E 2809 2843] (raylet) file_system_monitor.cc:116: /tmp/ray/session_2025-04-12_20-50-22_955978_2486 is over 95% full, available space: 0.817665 GB; capacity: 30 GB. Object creation will fail if spilling is required.\n"
     ]
    },
    {
     "name": "stdout",
     "output_type": "stream",
     "text": [
      "\u001b[33m(autoscaler +2h51m51s)\u001b[0m Error: No available node types can fulfill resource request defaultdict(<class 'float'>, {'CPU': 20.0, 'GPU': 4.0}). Add suitable node types to this cluster to resolve this issue.\n"
     ]
    },
    {
     "name": "stderr",
     "output_type": "stream",
     "text": [
      "\u001b[33m(raylet)\u001b[0m [2025-04-12 23:42:17,555 E 2809 2843] (raylet) file_system_monitor.cc:116: /tmp/ray/session_2025-04-12_20-50-22_955978_2486 is over 95% full, available space: 0.817665 GB; capacity: 30 GB. Object creation will fail if spilling is required.\n",
      "\u001b[33m(raylet)\u001b[0m [2025-04-12 23:42:27,566 E 2809 2843] (raylet) file_system_monitor.cc:116: /tmp/ray/session_2025-04-12_20-50-22_955978_2486 is over 95% full, available space: 0.817295 GB; capacity: 30 GB. Object creation will fail if spilling is required.\n",
      "\u001b[33m(raylet)\u001b[0m [2025-04-12 23:42:37,578 E 2809 2843] (raylet) file_system_monitor.cc:116: /tmp/ray/session_2025-04-12_20-50-22_955978_2486 is over 95% full, available space: 0.817295 GB; capacity: 30 GB. Object creation will fail if spilling is required.\n"
     ]
    },
    {
     "name": "stdout",
     "output_type": "stream",
     "text": [
      "\u001b[33m(autoscaler +2h52m26s)\u001b[0m Error: No available node types can fulfill resource request defaultdict(<class 'float'>, {'CPU': 20.0, 'GPU': 4.0}). Add suitable node types to this cluster to resolve this issue.\n"
     ]
    },
    {
     "name": "stderr",
     "output_type": "stream",
     "text": [
      "\u001b[33m(raylet)\u001b[0m [2025-04-12 23:42:47,586 E 2809 2843] (raylet) file_system_monitor.cc:116: /tmp/ray/session_2025-04-12_20-50-22_955978_2486 is over 95% full, available space: 0.817295 GB; capacity: 30 GB. Object creation will fail if spilling is required.\n",
      "\u001b[33m(raylet)\u001b[0m [2025-04-12 23:42:57,595 E 2809 2843] (raylet) file_system_monitor.cc:116: /tmp/ray/session_2025-04-12_20-50-22_955978_2486 is over 95% full, available space: 0.817295 GB; capacity: 30 GB. Object creation will fail if spilling is required.\n",
      "\u001b[33m(raylet)\u001b[0m [2025-04-12 23:43:07,605 E 2809 2843] (raylet) file_system_monitor.cc:116: /tmp/ray/session_2025-04-12_20-50-22_955978_2486 is over 95% full, available space: 0.817295 GB; capacity: 30 GB. Object creation will fail if spilling is required.\n",
      "\u001b[33m(raylet)\u001b[0m [2025-04-12 23:43:17,617 E 2809 2843] (raylet) file_system_monitor.cc:116: /tmp/ray/session_2025-04-12_20-50-22_955978_2486 is over 95% full, available space: 0.817295 GB; capacity: 30 GB. Object creation will fail if spilling is required.\n"
     ]
    },
    {
     "name": "stdout",
     "output_type": "stream",
     "text": [
      "\u001b[33m(autoscaler +2h53m1s)\u001b[0m Error: No available node types can fulfill resource request defaultdict(<class 'float'>, {'CPU': 20.0, 'GPU': 4.0}). Add suitable node types to this cluster to resolve this issue.\n"
     ]
    },
    {
     "name": "stderr",
     "output_type": "stream",
     "text": [
      "\u001b[33m(raylet)\u001b[0m [2025-04-12 23:43:27,628 E 2809 2843] (raylet) file_system_monitor.cc:116: /tmp/ray/session_2025-04-12_20-50-22_955978_2486 is over 95% full, available space: 0.817295 GB; capacity: 30 GB. Object creation will fail if spilling is required.\n",
      "\u001b[33m(raylet)\u001b[0m [2025-04-12 23:43:37,640 E 2809 2843] (raylet) file_system_monitor.cc:116: /tmp/ray/session_2025-04-12_20-50-22_955978_2486 is over 95% full, available space: 0.817295 GB; capacity: 30 GB. Object creation will fail if spilling is required.\n",
      "\u001b[33m(raylet)\u001b[0m [2025-04-12 23:43:47,652 E 2809 2843] (raylet) file_system_monitor.cc:116: /tmp/ray/session_2025-04-12_20-50-22_955978_2486 is over 95% full, available space: 0.817295 GB; capacity: 30 GB. Object creation will fail if spilling is required.\n"
     ]
    },
    {
     "name": "stdout",
     "output_type": "stream",
     "text": [
      "\u001b[33m(autoscaler +2h53m36s)\u001b[0m Error: No available node types can fulfill resource request defaultdict(<class 'float'>, {'CPU': 20.0, 'GPU': 4.0}). Add suitable node types to this cluster to resolve this issue.\n"
     ]
    },
    {
     "name": "stderr",
     "output_type": "stream",
     "text": [
      "\u001b[33m(raylet)\u001b[0m [2025-04-12 23:43:57,664 E 2809 2843] (raylet) file_system_monitor.cc:116: /tmp/ray/session_2025-04-12_20-50-22_955978_2486 is over 95% full, available space: 0.817295 GB; capacity: 30 GB. Object creation will fail if spilling is required.\n",
      "\u001b[33m(raylet)\u001b[0m [2025-04-12 23:44:07,677 E 2809 2843] (raylet) file_system_monitor.cc:116: /tmp/ray/session_2025-04-12_20-50-22_955978_2486 is over 95% full, available space: 0.817295 GB; capacity: 30 GB. Object creation will fail if spilling is required.\n",
      "\u001b[33m(raylet)\u001b[0m [2025-04-12 23:44:17,688 E 2809 2843] (raylet) file_system_monitor.cc:116: /tmp/ray/session_2025-04-12_20-50-22_955978_2486 is over 95% full, available space: 0.817299 GB; capacity: 30 GB. Object creation will fail if spilling is required.\n",
      "\u001b[33m(raylet)\u001b[0m [2025-04-12 23:44:27,700 E 2809 2843] (raylet) file_system_monitor.cc:116: /tmp/ray/session_2025-04-12_20-50-22_955978_2486 is over 95% full, available space: 0.817299 GB; capacity: 30 GB. Object creation will fail if spilling is required.\n"
     ]
    },
    {
     "name": "stdout",
     "output_type": "stream",
     "text": [
      "\u001b[33m(autoscaler +2h54m11s)\u001b[0m Error: No available node types can fulfill resource request defaultdict(<class 'float'>, {'CPU': 20.0, 'GPU': 4.0}). Add suitable node types to this cluster to resolve this issue.\n"
     ]
    },
    {
     "name": "stderr",
     "output_type": "stream",
     "text": [
      "\u001b[33m(raylet)\u001b[0m [2025-04-12 23:44:37,712 E 2809 2843] (raylet) file_system_monitor.cc:116: /tmp/ray/session_2025-04-12_20-50-22_955978_2486 is over 95% full, available space: 0.817299 GB; capacity: 30 GB. Object creation will fail if spilling is required.\n",
      "\u001b[33m(raylet)\u001b[0m [2025-04-12 23:44:47,723 E 2809 2843] (raylet) file_system_monitor.cc:116: /tmp/ray/session_2025-04-12_20-50-22_955978_2486 is over 95% full, available space: 0.817299 GB; capacity: 30 GB. Object creation will fail if spilling is required.\n",
      "\u001b[33m(raylet)\u001b[0m [2025-04-12 23:44:57,734 E 2809 2843] (raylet) file_system_monitor.cc:116: /tmp/ray/session_2025-04-12_20-50-22_955978_2486 is over 95% full, available space: 0.817299 GB; capacity: 30 GB. Object creation will fail if spilling is required.\n"
     ]
    },
    {
     "name": "stdout",
     "output_type": "stream",
     "text": [
      "\u001b[33m(autoscaler +2h54m46s)\u001b[0m Error: No available node types can fulfill resource request defaultdict(<class 'float'>, {'CPU': 20.0, 'GPU': 4.0}). Add suitable node types to this cluster to resolve this issue.\n"
     ]
    },
    {
     "name": "stderr",
     "output_type": "stream",
     "text": [
      "\u001b[33m(raylet)\u001b[0m [2025-04-12 23:45:07,745 E 2809 2843] (raylet) file_system_monitor.cc:116: /tmp/ray/session_2025-04-12_20-50-22_955978_2486 is over 95% full, available space: 0.819855 GB; capacity: 30 GB. Object creation will fail if spilling is required.\n",
      "\u001b[33m(raylet)\u001b[0m [2025-04-12 23:45:17,755 E 2809 2843] (raylet) file_system_monitor.cc:116: /tmp/ray/session_2025-04-12_20-50-22_955978_2486 is over 95% full, available space: 0.819855 GB; capacity: 30 GB. Object creation will fail if spilling is required.\n",
      "\u001b[33m(raylet)\u001b[0m [2025-04-12 23:45:27,765 E 2809 2843] (raylet) file_system_monitor.cc:116: /tmp/ray/session_2025-04-12_20-50-22_955978_2486 is over 95% full, available space: 0.81675 GB; capacity: 30 GB. Object creation will fail if spilling is required.\n",
      "\u001b[33m(raylet)\u001b[0m [2025-04-12 23:45:37,776 E 2809 2843] (raylet) file_system_monitor.cc:116: /tmp/ray/session_2025-04-12_20-50-22_955978_2486 is over 95% full, available space: 0.81675 GB; capacity: 30 GB. Object creation will fail if spilling is required.\n"
     ]
    },
    {
     "name": "stdout",
     "output_type": "stream",
     "text": [
      "\u001b[33m(autoscaler +2h55m21s)\u001b[0m Error: No available node types can fulfill resource request defaultdict(<class 'float'>, {'CPU': 20.0, 'GPU': 4.0}). Add suitable node types to this cluster to resolve this issue.\n"
     ]
    },
    {
     "name": "stderr",
     "output_type": "stream",
     "text": [
      "\u001b[33m(raylet)\u001b[0m [2025-04-12 23:45:47,785 E 2809 2843] (raylet) file_system_monitor.cc:116: /tmp/ray/session_2025-04-12_20-50-22_955978_2486 is over 95% full, available space: 0.81675 GB; capacity: 30 GB. Object creation will fail if spilling is required.\n",
      "\u001b[33m(raylet)\u001b[0m [2025-04-12 23:45:57,794 E 2809 2843] (raylet) file_system_monitor.cc:116: /tmp/ray/session_2025-04-12_20-50-22_955978_2486 is over 95% full, available space: 0.81675 GB; capacity: 30 GB. Object creation will fail if spilling is required.\n",
      "\u001b[33m(raylet)\u001b[0m [2025-04-12 23:46:07,803 E 2809 2843] (raylet) file_system_monitor.cc:116: /tmp/ray/session_2025-04-12_20-50-22_955978_2486 is over 95% full, available space: 0.81675 GB; capacity: 30 GB. Object creation will fail if spilling is required.\n",
      "\u001b[33m(raylet)\u001b[0m [2025-04-12 23:46:17,814 E 2809 2843] (raylet) file_system_monitor.cc:116: /tmp/ray/session_2025-04-12_20-50-22_955978_2486 is over 95% full, available space: 0.81675 GB; capacity: 30 GB. Object creation will fail if spilling is required.\n"
     ]
    },
    {
     "name": "stdout",
     "output_type": "stream",
     "text": [
      "\u001b[33m(autoscaler +2h55m56s)\u001b[0m Error: No available node types can fulfill resource request defaultdict(<class 'float'>, {'CPU': 20.0, 'GPU': 4.0}). Add suitable node types to this cluster to resolve this issue.\n"
     ]
    },
    {
     "name": "stderr",
     "output_type": "stream",
     "text": [
      "\u001b[33m(raylet)\u001b[0m [2025-04-12 23:46:27,823 E 2809 2843] (raylet) file_system_monitor.cc:116: /tmp/ray/session_2025-04-12_20-50-22_955978_2486 is over 95% full, available space: 0.81675 GB; capacity: 30 GB. Object creation will fail if spilling is required.\n",
      "\u001b[33m(raylet)\u001b[0m [2025-04-12 23:46:37,832 E 2809 2843] (raylet) file_system_monitor.cc:116: /tmp/ray/session_2025-04-12_20-50-22_955978_2486 is over 95% full, available space: 0.81675 GB; capacity: 30 GB. Object creation will fail if spilling is required.\n",
      "\u001b[33m(raylet)\u001b[0m [2025-04-12 23:46:47,843 E 2809 2843] (raylet) file_system_monitor.cc:116: /tmp/ray/session_2025-04-12_20-50-22_955978_2486 is over 95% full, available space: 0.81675 GB; capacity: 30 GB. Object creation will fail if spilling is required.\n"
     ]
    },
    {
     "name": "stdout",
     "output_type": "stream",
     "text": [
      "\u001b[33m(autoscaler +2h56m31s)\u001b[0m Error: No available node types can fulfill resource request defaultdict(<class 'float'>, {'CPU': 20.0, 'GPU': 4.0}). Add suitable node types to this cluster to resolve this issue.\n"
     ]
    },
    {
     "name": "stderr",
     "output_type": "stream",
     "text": [
      "\u001b[33m(raylet)\u001b[0m [2025-04-12 23:46:57,853 E 2809 2843] (raylet) file_system_monitor.cc:116: /tmp/ray/session_2025-04-12_20-50-22_955978_2486 is over 95% full, available space: 0.81675 GB; capacity: 30 GB. Object creation will fail if spilling is required.\n",
      "\u001b[33m(raylet)\u001b[0m [2025-04-12 23:47:07,864 E 2809 2843] (raylet) file_system_monitor.cc:116: /tmp/ray/session_2025-04-12_20-50-22_955978_2486 is over 95% full, available space: 0.81675 GB; capacity: 30 GB. Object creation will fail if spilling is required.\n",
      "\u001b[33m(raylet)\u001b[0m [2025-04-12 23:47:17,874 E 2809 2843] (raylet) file_system_monitor.cc:116: /tmp/ray/session_2025-04-12_20-50-22_955978_2486 is over 95% full, available space: 0.81675 GB; capacity: 30 GB. Object creation will fail if spilling is required.\n",
      "\u001b[33m(raylet)\u001b[0m [2025-04-12 23:47:27,885 E 2809 2843] (raylet) file_system_monitor.cc:116: /tmp/ray/session_2025-04-12_20-50-22_955978_2486 is over 95% full, available space: 0.81675 GB; capacity: 30 GB. Object creation will fail if spilling is required.\n"
     ]
    },
    {
     "name": "stdout",
     "output_type": "stream",
     "text": [
      "\u001b[33m(autoscaler +2h57m6s)\u001b[0m Error: No available node types can fulfill resource request defaultdict(<class 'float'>, {'CPU': 20.0, 'GPU': 4.0}). Add suitable node types to this cluster to resolve this issue.\n"
     ]
    },
    {
     "name": "stderr",
     "output_type": "stream",
     "text": [
      "\u001b[33m(raylet)\u001b[0m [2025-04-12 23:47:37,894 E 2809 2843] (raylet) file_system_monitor.cc:116: /tmp/ray/session_2025-04-12_20-50-22_955978_2486 is over 95% full, available space: 0.816704 GB; capacity: 30 GB. Object creation will fail if spilling is required.\n",
      "\u001b[33m(raylet)\u001b[0m [2025-04-12 23:47:47,904 E 2809 2843] (raylet) file_system_monitor.cc:116: /tmp/ray/session_2025-04-12_20-50-22_955978_2486 is over 95% full, available space: 0.816704 GB; capacity: 30 GB. Object creation will fail if spilling is required.\n",
      "\u001b[33m(raylet)\u001b[0m [2025-04-12 23:47:57,914 E 2809 2843] (raylet) file_system_monitor.cc:116: /tmp/ray/session_2025-04-12_20-50-22_955978_2486 is over 95% full, available space: 0.816704 GB; capacity: 30 GB. Object creation will fail if spilling is required.\n"
     ]
    },
    {
     "name": "stdout",
     "output_type": "stream",
     "text": [
      "\u001b[33m(autoscaler +2h57m42s)\u001b[0m Error: No available node types can fulfill resource request defaultdict(<class 'float'>, {'CPU': 20.0, 'GPU': 4.0}). Add suitable node types to this cluster to resolve this issue.\n"
     ]
    },
    {
     "name": "stderr",
     "output_type": "stream",
     "text": [
      "\u001b[33m(raylet)\u001b[0m [2025-04-12 23:48:07,925 E 2809 2843] (raylet) file_system_monitor.cc:116: /tmp/ray/session_2025-04-12_20-50-22_955978_2486 is over 95% full, available space: 0.816704 GB; capacity: 30 GB. Object creation will fail if spilling is required.\n",
      "\u001b[33m(raylet)\u001b[0m [2025-04-12 23:48:17,934 E 2809 2843] (raylet) file_system_monitor.cc:116: /tmp/ray/session_2025-04-12_20-50-22_955978_2486 is over 95% full, available space: 0.816704 GB; capacity: 30 GB. Object creation will fail if spilling is required.\n",
      "\u001b[33m(raylet)\u001b[0m [2025-04-12 23:48:27,944 E 2809 2843] (raylet) file_system_monitor.cc:116: /tmp/ray/session_2025-04-12_20-50-22_955978_2486 is over 95% full, available space: 0.816578 GB; capacity: 30 GB. Object creation will fail if spilling is required.\n",
      "\u001b[33m(raylet)\u001b[0m [2025-04-12 23:48:37,955 E 2809 2843] (raylet) file_system_monitor.cc:116: /tmp/ray/session_2025-04-12_20-50-22_955978_2486 is over 95% full, available space: 0.816578 GB; capacity: 30 GB. Object creation will fail if spilling is required.\n"
     ]
    },
    {
     "name": "stdout",
     "output_type": "stream",
     "text": [
      "\u001b[33m(autoscaler +2h58m17s)\u001b[0m Error: No available node types can fulfill resource request defaultdict(<class 'float'>, {'CPU': 20.0, 'GPU': 4.0}). Add suitable node types to this cluster to resolve this issue.\n"
     ]
    },
    {
     "name": "stderr",
     "output_type": "stream",
     "text": [
      "\u001b[33m(raylet)\u001b[0m [2025-04-12 23:48:47,965 E 2809 2843] (raylet) file_system_monitor.cc:116: /tmp/ray/session_2025-04-12_20-50-22_955978_2486 is over 95% full, available space: 0.816578 GB; capacity: 30 GB. Object creation will fail if spilling is required.\n",
      "\u001b[33m(raylet)\u001b[0m [2025-04-12 23:48:57,980 E 2809 2843] (raylet) file_system_monitor.cc:116: /tmp/ray/session_2025-04-12_20-50-22_955978_2486 is over 95% full, available space: 0.816578 GB; capacity: 30 GB. Object creation will fail if spilling is required.\n",
      "\u001b[33m(raylet)\u001b[0m [2025-04-12 23:49:07,994 E 2809 2843] (raylet) file_system_monitor.cc:116: /tmp/ray/session_2025-04-12_20-50-22_955978_2486 is over 95% full, available space: 0.816578 GB; capacity: 30 GB. Object creation will fail if spilling is required.\n"
     ]
    },
    {
     "name": "stdout",
     "output_type": "stream",
     "text": [
      "\u001b[33m(autoscaler +2h58m52s)\u001b[0m Error: No available node types can fulfill resource request defaultdict(<class 'float'>, {'CPU': 20.0, 'GPU': 4.0}). Add suitable node types to this cluster to resolve this issue.\n"
     ]
    },
    {
     "name": "stderr",
     "output_type": "stream",
     "text": [
      "\u001b[33m(raylet)\u001b[0m [2025-04-12 23:49:18,011 E 2809 2843] (raylet) file_system_monitor.cc:116: /tmp/ray/session_2025-04-12_20-50-22_955978_2486 is over 95% full, available space: 0.816578 GB; capacity: 30 GB. Object creation will fail if spilling is required.\n",
      "\u001b[33m(raylet)\u001b[0m [2025-04-12 23:49:28,027 E 2809 2843] (raylet) file_system_monitor.cc:116: /tmp/ray/session_2025-04-12_20-50-22_955978_2486 is over 95% full, available space: 0.816334 GB; capacity: 30 GB. Object creation will fail if spilling is required.\n",
      "\u001b[33m(raylet)\u001b[0m [2025-04-12 23:49:38,039 E 2809 2843] (raylet) file_system_monitor.cc:116: /tmp/ray/session_2025-04-12_20-50-22_955978_2486 is over 95% full, available space: 0.816334 GB; capacity: 30 GB. Object creation will fail if spilling is required.\n",
      "\u001b[33m(raylet)\u001b[0m [2025-04-12 23:49:48,050 E 2809 2843] (raylet) file_system_monitor.cc:116: /tmp/ray/session_2025-04-12_20-50-22_955978_2486 is over 95% full, available space: 0.816334 GB; capacity: 30 GB. Object creation will fail if spilling is required.\n"
     ]
    },
    {
     "name": "stdout",
     "output_type": "stream",
     "text": [
      "\u001b[33m(autoscaler +2h59m27s)\u001b[0m Error: No available node types can fulfill resource request defaultdict(<class 'float'>, {'CPU': 20.0, 'GPU': 4.0}). Add suitable node types to this cluster to resolve this issue.\n"
     ]
    },
    {
     "name": "stderr",
     "output_type": "stream",
     "text": [
      "\u001b[33m(raylet)\u001b[0m [2025-04-12 23:49:58,062 E 2809 2843] (raylet) file_system_monitor.cc:116: /tmp/ray/session_2025-04-12_20-50-22_955978_2486 is over 95% full, available space: 0.816334 GB; capacity: 30 GB. Object creation will fail if spilling is required.\n",
      "\u001b[33m(raylet)\u001b[0m [2025-04-12 23:50:08,072 E 2809 2843] (raylet) file_system_monitor.cc:116: /tmp/ray/session_2025-04-12_20-50-22_955978_2486 is over 95% full, available space: 0.816334 GB; capacity: 30 GB. Object creation will fail if spilling is required.\n",
      "\u001b[33m(raylet)\u001b[0m [2025-04-12 23:50:18,081 E 2809 2843] (raylet) file_system_monitor.cc:116: /tmp/ray/session_2025-04-12_20-50-22_955978_2486 is over 95% full, available space: 0.819752 GB; capacity: 30 GB. Object creation will fail if spilling is required.\n"
     ]
    },
    {
     "name": "stdout",
     "output_type": "stream",
     "text": [
      "\u001b[33m(autoscaler +3h2s)\u001b[0m Error: No available node types can fulfill resource request defaultdict(<class 'float'>, {'CPU': 20.0, 'GPU': 4.0}). Add suitable node types to this cluster to resolve this issue.\n"
     ]
    },
    {
     "name": "stderr",
     "output_type": "stream",
     "text": [
      "\u001b[33m(raylet)\u001b[0m [2025-04-12 23:50:28,092 E 2809 2843] (raylet) file_system_monitor.cc:116: /tmp/ray/session_2025-04-12_20-50-22_955978_2486 is over 95% full, available space: 0.817493 GB; capacity: 30 GB. Object creation will fail if spilling is required.\n",
      "\u001b[33m(raylet)\u001b[0m [2025-04-12 23:50:38,102 E 2809 2843] (raylet) file_system_monitor.cc:116: /tmp/ray/session_2025-04-12_20-50-22_955978_2486 is over 95% full, available space: 0.817493 GB; capacity: 30 GB. Object creation will fail if spilling is required.\n",
      "\u001b[33m(raylet)\u001b[0m [2025-04-12 23:50:48,113 E 2809 2843] (raylet) file_system_monitor.cc:116: /tmp/ray/session_2025-04-12_20-50-22_955978_2486 is over 95% full, available space: 0.817493 GB; capacity: 30 GB. Object creation will fail if spilling is required.\n",
      "\u001b[33m(raylet)\u001b[0m [2025-04-12 23:50:58,123 E 2809 2843] (raylet) file_system_monitor.cc:116: /tmp/ray/session_2025-04-12_20-50-22_955978_2486 is over 95% full, available space: 0.817535 GB; capacity: 30 GB. Object creation will fail if spilling is required.\n"
     ]
    },
    {
     "name": "stdout",
     "output_type": "stream",
     "text": [
      "\u001b[33m(autoscaler +3h37s)\u001b[0m Error: No available node types can fulfill resource request defaultdict(<class 'float'>, {'CPU': 20.0, 'GPU': 4.0}). Add suitable node types to this cluster to resolve this issue.\n"
     ]
    },
    {
     "name": "stderr",
     "output_type": "stream",
     "text": [
      "\u001b[33m(raylet)\u001b[0m [2025-04-12 23:51:08,131 E 2809 2843] (raylet) file_system_monitor.cc:116: /tmp/ray/session_2025-04-12_20-50-22_955978_2486 is over 95% full, available space: 0.817535 GB; capacity: 30 GB. Object creation will fail if spilling is required.\n",
      "\u001b[33m(raylet)\u001b[0m [2025-04-12 23:51:18,140 E 2809 2843] (raylet) file_system_monitor.cc:116: /tmp/ray/session_2025-04-12_20-50-22_955978_2486 is over 95% full, available space: 0.817535 GB; capacity: 30 GB. Object creation will fail if spilling is required.\n",
      "\u001b[33m(raylet)\u001b[0m [2025-04-12 23:51:28,150 E 2809 2843] (raylet) file_system_monitor.cc:116: /tmp/ray/session_2025-04-12_20-50-22_955978_2486 is over 95% full, available space: 0.817535 GB; capacity: 30 GB. Object creation will fail if spilling is required.\n"
     ]
    },
    {
     "name": "stdout",
     "output_type": "stream",
     "text": [
      "\u001b[33m(autoscaler +3h1m12s)\u001b[0m Error: No available node types can fulfill resource request defaultdict(<class 'float'>, {'CPU': 20.0, 'GPU': 4.0}). Add suitable node types to this cluster to resolve this issue.\n"
     ]
    },
    {
     "name": "stderr",
     "output_type": "stream",
     "text": [
      "\u001b[33m(raylet)\u001b[0m [2025-04-12 23:51:38,160 E 2809 2843] (raylet) file_system_monitor.cc:116: /tmp/ray/session_2025-04-12_20-50-22_955978_2486 is over 95% full, available space: 0.817535 GB; capacity: 30 GB. Object creation will fail if spilling is required.\n",
      "\u001b[33m(raylet)\u001b[0m [2025-04-12 23:51:48,174 E 2809 2843] (raylet) file_system_monitor.cc:116: /tmp/ray/session_2025-04-12_20-50-22_955978_2486 is over 95% full, available space: 0.817535 GB; capacity: 30 GB. Object creation will fail if spilling is required.\n",
      "\u001b[33m(raylet)\u001b[0m [2025-04-12 23:51:58,189 E 2809 2843] (raylet) file_system_monitor.cc:116: /tmp/ray/session_2025-04-12_20-50-22_955978_2486 is over 95% full, available space: 0.817535 GB; capacity: 30 GB. Object creation will fail if spilling is required.\n",
      "\u001b[33m(raylet)\u001b[0m [2025-04-12 23:52:08,198 E 2809 2843] (raylet) file_system_monitor.cc:116: /tmp/ray/session_2025-04-12_20-50-22_955978_2486 is over 95% full, available space: 0.817535 GB; capacity: 30 GB. Object creation will fail if spilling is required.\n"
     ]
    },
    {
     "name": "stdout",
     "output_type": "stream",
     "text": [
      "\u001b[33m(autoscaler +3h1m47s)\u001b[0m Error: No available node types can fulfill resource request defaultdict(<class 'float'>, {'CPU': 20.0, 'GPU': 4.0}). Add suitable node types to this cluster to resolve this issue.\n"
     ]
    },
    {
     "name": "stderr",
     "output_type": "stream",
     "text": [
      "\u001b[33m(raylet)\u001b[0m [2025-04-12 23:52:18,208 E 2809 2843] (raylet) file_system_monitor.cc:116: /tmp/ray/session_2025-04-12_20-50-22_955978_2486 is over 95% full, available space: 0.817535 GB; capacity: 30 GB. Object creation will fail if spilling is required.\n",
      "\u001b[33m(raylet)\u001b[0m [2025-04-12 23:52:28,218 E 2809 2843] (raylet) file_system_monitor.cc:116: /tmp/ray/session_2025-04-12_20-50-22_955978_2486 is over 95% full, available space: 0.816498 GB; capacity: 30 GB. Object creation will fail if spilling is required.\n",
      "\u001b[33m(raylet)\u001b[0m [2025-04-12 23:52:38,230 E 2809 2843] (raylet) file_system_monitor.cc:116: /tmp/ray/session_2025-04-12_20-50-22_955978_2486 is over 95% full, available space: 0.816498 GB; capacity: 30 GB. Object creation will fail if spilling is required.\n"
     ]
    },
    {
     "name": "stdout",
     "output_type": "stream",
     "text": [
      "\u001b[33m(autoscaler +3h2m22s)\u001b[0m Error: No available node types can fulfill resource request defaultdict(<class 'float'>, {'CPU': 20.0, 'GPU': 4.0}). Add suitable node types to this cluster to resolve this issue.\n"
     ]
    },
    {
     "name": "stderr",
     "output_type": "stream",
     "text": [
      "\u001b[33m(raylet)\u001b[0m [2025-04-12 23:52:48,241 E 2809 2843] (raylet) file_system_monitor.cc:116: /tmp/ray/session_2025-04-12_20-50-22_955978_2486 is over 95% full, available space: 0.816376 GB; capacity: 30 GB. Object creation will fail if spilling is required.\n",
      "\u001b[33m(raylet)\u001b[0m [2025-04-12 23:52:58,252 E 2809 2843] (raylet) file_system_monitor.cc:116: /tmp/ray/session_2025-04-12_20-50-22_955978_2486 is over 95% full, available space: 0.816376 GB; capacity: 30 GB. Object creation will fail if spilling is required.\n",
      "\u001b[33m(raylet)\u001b[0m [2025-04-12 23:53:08,260 E 2809 2843] (raylet) file_system_monitor.cc:116: /tmp/ray/session_2025-04-12_20-50-22_955978_2486 is over 95% full, available space: 0.816376 GB; capacity: 30 GB. Object creation will fail if spilling is required.\n",
      "\u001b[33m(raylet)\u001b[0m [2025-04-12 23:53:18,270 E 2809 2843] (raylet) file_system_monitor.cc:116: /tmp/ray/session_2025-04-12_20-50-22_955978_2486 is over 95% full, available space: 0.816376 GB; capacity: 30 GB. Object creation will fail if spilling is required.\n"
     ]
    },
    {
     "name": "stdout",
     "output_type": "stream",
     "text": [
      "\u001b[33m(autoscaler +3h2m57s)\u001b[0m Error: No available node types can fulfill resource request defaultdict(<class 'float'>, {'CPU': 20.0, 'GPU': 4.0}). Add suitable node types to this cluster to resolve this issue.\n"
     ]
    },
    {
     "name": "stderr",
     "output_type": "stream",
     "text": [
      "\u001b[33m(raylet)\u001b[0m [2025-04-12 23:53:28,280 E 2809 2843] (raylet) file_system_monitor.cc:116: /tmp/ray/session_2025-04-12_20-50-22_955978_2486 is over 95% full, available space: 0.816376 GB; capacity: 30 GB. Object creation will fail if spilling is required.\n",
      "\u001b[33m(raylet)\u001b[0m [2025-04-12 23:53:38,290 E 2809 2843] (raylet) file_system_monitor.cc:116: /tmp/ray/session_2025-04-12_20-50-22_955978_2486 is over 95% full, available space: 0.816376 GB; capacity: 30 GB. Object creation will fail if spilling is required.\n",
      "\u001b[33m(raylet)\u001b[0m [2025-04-12 23:53:48,301 E 2809 2843] (raylet) file_system_monitor.cc:116: /tmp/ray/session_2025-04-12_20-50-22_955978_2486 is over 95% full, available space: 0.816376 GB; capacity: 30 GB. Object creation will fail if spilling is required.\n"
     ]
    },
    {
     "name": "stdout",
     "output_type": "stream",
     "text": [
      "\u001b[33m(autoscaler +3h3m32s)\u001b[0m Error: No available node types can fulfill resource request defaultdict(<class 'float'>, {'CPU': 20.0, 'GPU': 4.0}). Add suitable node types to this cluster to resolve this issue.\n"
     ]
    },
    {
     "name": "stderr",
     "output_type": "stream",
     "text": [
      "\u001b[33m(raylet)\u001b[0m [2025-04-12 23:53:58,312 E 2809 2843] (raylet) file_system_monitor.cc:116: /tmp/ray/session_2025-04-12_20-50-22_955978_2486 is over 95% full, available space: 0.816254 GB; capacity: 30 GB. Object creation will fail if spilling is required.\n",
      "\u001b[33m(raylet)\u001b[0m [2025-04-12 23:54:08,323 E 2809 2843] (raylet) file_system_monitor.cc:116: /tmp/ray/session_2025-04-12_20-50-22_955978_2486 is over 95% full, available space: 0.816254 GB; capacity: 30 GB. Object creation will fail if spilling is required.\n",
      "\u001b[33m(raylet)\u001b[0m [2025-04-12 23:54:18,334 E 2809 2843] (raylet) file_system_monitor.cc:116: /tmp/ray/session_2025-04-12_20-50-22_955978_2486 is over 95% full, available space: 0.816254 GB; capacity: 30 GB. Object creation will fail if spilling is required.\n",
      "\u001b[33m(raylet)\u001b[0m [2025-04-12 23:54:28,348 E 2809 2843] (raylet) file_system_monitor.cc:116: /tmp/ray/session_2025-04-12_20-50-22_955978_2486 is over 95% full, available space: 0.816254 GB; capacity: 30 GB. Object creation will fail if spilling is required.\n"
     ]
    },
    {
     "name": "stdout",
     "output_type": "stream",
     "text": [
      "\u001b[33m(autoscaler +3h4m7s)\u001b[0m Error: No available node types can fulfill resource request defaultdict(<class 'float'>, {'CPU': 20.0, 'GPU': 4.0}). Add suitable node types to this cluster to resolve this issue.\n"
     ]
    },
    {
     "name": "stderr",
     "output_type": "stream",
     "text": [
      "\u001b[33m(raylet)\u001b[0m [2025-04-12 23:54:38,358 E 2809 2843] (raylet) file_system_monitor.cc:116: /tmp/ray/session_2025-04-12_20-50-22_955978_2486 is over 95% full, available space: 0.819389 GB; capacity: 30 GB. Object creation will fail if spilling is required.\n",
      "\u001b[33m(raylet)\u001b[0m [2025-04-12 23:54:48,367 E 2809 2843] (raylet) file_system_monitor.cc:116: /tmp/ray/session_2025-04-12_20-50-22_955978_2486 is over 95% full, available space: 0.819172 GB; capacity: 30 GB. Object creation will fail if spilling is required.\n",
      "\u001b[33m(raylet)\u001b[0m [2025-04-12 23:54:58,377 E 2809 2843] (raylet) file_system_monitor.cc:116: /tmp/ray/session_2025-04-12_20-50-22_955978_2486 is over 95% full, available space: 0.819172 GB; capacity: 30 GB. Object creation will fail if spilling is required.\n"
     ]
    },
    {
     "name": "stdout",
     "output_type": "stream",
     "text": [
      "\u001b[33m(autoscaler +3h4m43s)\u001b[0m Error: No available node types can fulfill resource request defaultdict(<class 'float'>, {'CPU': 20.0, 'GPU': 4.0}). Add suitable node types to this cluster to resolve this issue.\n"
     ]
    },
    {
     "name": "stderr",
     "output_type": "stream",
     "text": [
      "\u001b[33m(raylet)\u001b[0m [2025-04-12 23:55:08,386 E 2809 2843] (raylet) file_system_monitor.cc:116: /tmp/ray/session_2025-04-12_20-50-22_955978_2486 is over 95% full, available space: 0.819164 GB; capacity: 30 GB. Object creation will fail if spilling is required.\n",
      "\u001b[33m(raylet)\u001b[0m [2025-04-12 23:55:18,396 E 2809 2843] (raylet) file_system_monitor.cc:116: /tmp/ray/session_2025-04-12_20-50-22_955978_2486 is over 95% full, available space: 0.819164 GB; capacity: 30 GB. Object creation will fail if spilling is required.\n",
      "\u001b[33m(raylet)\u001b[0m [2025-04-12 23:55:28,406 E 2809 2843] (raylet) file_system_monitor.cc:116: /tmp/ray/session_2025-04-12_20-50-22_955978_2486 is over 95% full, available space: 0.816185 GB; capacity: 30 GB. Object creation will fail if spilling is required.\n",
      "\u001b[33m(raylet)\u001b[0m [2025-04-12 23:55:38,416 E 2809 2843] (raylet) file_system_monitor.cc:116: /tmp/ray/session_2025-04-12_20-50-22_955978_2486 is over 95% full, available space: 0.816128 GB; capacity: 30 GB. Object creation will fail if spilling is required.\n"
     ]
    },
    {
     "name": "stdout",
     "output_type": "stream",
     "text": [
      "\u001b[33m(autoscaler +3h5m18s)\u001b[0m Error: No available node types can fulfill resource request defaultdict(<class 'float'>, {'CPU': 20.0, 'GPU': 4.0}). Add suitable node types to this cluster to resolve this issue.\n"
     ]
    },
    {
     "name": "stderr",
     "output_type": "stream",
     "text": [
      "\u001b[33m(raylet)\u001b[0m [2025-04-12 23:55:48,429 E 2809 2843] (raylet) file_system_monitor.cc:116: /tmp/ray/session_2025-04-12_20-50-22_955978_2486 is over 95% full, available space: 0.816128 GB; capacity: 30 GB. Object creation will fail if spilling is required.\n",
      "\u001b[33m(raylet)\u001b[0m [2025-04-12 23:55:58,439 E 2809 2843] (raylet) file_system_monitor.cc:116: /tmp/ray/session_2025-04-12_20-50-22_955978_2486 is over 95% full, available space: 0.816128 GB; capacity: 30 GB. Object creation will fail if spilling is required.\n",
      "\u001b[33m(raylet)\u001b[0m [2025-04-12 23:56:08,449 E 2809 2843] (raylet) file_system_monitor.cc:116: /tmp/ray/session_2025-04-12_20-50-22_955978_2486 is over 95% full, available space: 0.816128 GB; capacity: 30 GB. Object creation will fail if spilling is required.\n"
     ]
    },
    {
     "name": "stdout",
     "output_type": "stream",
     "text": [
      "\u001b[33m(autoscaler +3h5m53s)\u001b[0m Error: No available node types can fulfill resource request defaultdict(<class 'float'>, {'CPU': 20.0, 'GPU': 4.0}). Add suitable node types to this cluster to resolve this issue.\n"
     ]
    },
    {
     "name": "stderr",
     "output_type": "stream",
     "text": [
      "\u001b[33m(raylet)\u001b[0m [2025-04-12 23:56:18,458 E 2809 2843] (raylet) file_system_monitor.cc:116: /tmp/ray/session_2025-04-12_20-50-22_955978_2486 is over 95% full, available space: 0.816128 GB; capacity: 30 GB. Object creation will fail if spilling is required.\n",
      "\u001b[33m(raylet)\u001b[0m [2025-04-12 23:56:28,468 E 2809 2843] (raylet) file_system_monitor.cc:116: /tmp/ray/session_2025-04-12_20-50-22_955978_2486 is over 95% full, available space: 0.816128 GB; capacity: 30 GB. Object creation will fail if spilling is required.\n",
      "\u001b[33m(raylet)\u001b[0m [2025-04-12 23:56:38,482 E 2809 2843] (raylet) file_system_monitor.cc:116: /tmp/ray/session_2025-04-12_20-50-22_955978_2486 is over 95% full, available space: 0.816128 GB; capacity: 30 GB. Object creation will fail if spilling is required.\n",
      "\u001b[33m(raylet)\u001b[0m [2025-04-12 23:56:48,492 E 2809 2843] (raylet) file_system_monitor.cc:116: /tmp/ray/session_2025-04-12_20-50-22_955978_2486 is over 95% full, available space: 0.816128 GB; capacity: 30 GB. Object creation will fail if spilling is required.\n"
     ]
    },
    {
     "name": "stdout",
     "output_type": "stream",
     "text": [
      "\u001b[33m(autoscaler +3h6m28s)\u001b[0m Error: No available node types can fulfill resource request defaultdict(<class 'float'>, {'CPU': 20.0, 'GPU': 4.0}). Add suitable node types to this cluster to resolve this issue.\n"
     ]
    },
    {
     "name": "stderr",
     "output_type": "stream",
     "text": [
      "\u001b[33m(raylet)\u001b[0m [2025-04-12 23:56:58,505 E 2809 2843] (raylet) file_system_monitor.cc:116: /tmp/ray/session_2025-04-12_20-50-22_955978_2486 is over 95% full, available space: 0.816128 GB; capacity: 30 GB. Object creation will fail if spilling is required.\n",
      "\u001b[33m(raylet)\u001b[0m [2025-04-12 23:57:08,517 E 2809 2843] (raylet) file_system_monitor.cc:116: /tmp/ray/session_2025-04-12_20-50-22_955978_2486 is over 95% full, available space: 0.816128 GB; capacity: 30 GB. Object creation will fail if spilling is required.\n",
      "\u001b[33m(raylet)\u001b[0m [2025-04-12 23:57:18,528 E 2809 2843] (raylet) file_system_monitor.cc:116: /tmp/ray/session_2025-04-12_20-50-22_955978_2486 is over 95% full, available space: 0.816128 GB; capacity: 30 GB. Object creation will fail if spilling is required.\n"
     ]
    },
    {
     "name": "stdout",
     "output_type": "stream",
     "text": [
      "\u001b[33m(autoscaler +3h7m3s)\u001b[0m Error: No available node types can fulfill resource request defaultdict(<class 'float'>, {'CPU': 20.0, 'GPU': 4.0}). Add suitable node types to this cluster to resolve this issue.\n"
     ]
    },
    {
     "name": "stderr",
     "output_type": "stream",
     "text": [
      "\u001b[33m(raylet)\u001b[0m [2025-04-12 23:57:28,538 E 2809 2843] (raylet) file_system_monitor.cc:116: /tmp/ray/session_2025-04-12_20-50-22_955978_2486 is over 95% full, available space: 0.816067 GB; capacity: 30 GB. Object creation will fail if spilling is required.\n",
      "\u001b[33m(raylet)\u001b[0m [2025-04-12 23:57:38,549 E 2809 2843] (raylet) file_system_monitor.cc:116: /tmp/ray/session_2025-04-12_20-50-22_955978_2486 is over 95% full, available space: 0.816025 GB; capacity: 30 GB. Object creation will fail if spilling is required.\n",
      "\u001b[33m(raylet)\u001b[0m [2025-04-12 23:57:48,560 E 2809 2843] (raylet) file_system_monitor.cc:116: /tmp/ray/session_2025-04-12_20-50-22_955978_2486 is over 95% full, available space: 0.816025 GB; capacity: 30 GB. Object creation will fail if spilling is required.\n",
      "\u001b[33m(raylet)\u001b[0m [2025-04-12 23:57:58,569 E 2809 2843] (raylet) file_system_monitor.cc:116: /tmp/ray/session_2025-04-12_20-50-22_955978_2486 is over 95% full, available space: 0.815903 GB; capacity: 30 GB. Object creation will fail if spilling is required.\n"
     ]
    },
    {
     "name": "stdout",
     "output_type": "stream",
     "text": [
      "\u001b[33m(autoscaler +3h7m38s)\u001b[0m Error: No available node types can fulfill resource request defaultdict(<class 'float'>, {'CPU': 20.0, 'GPU': 4.0}). Add suitable node types to this cluster to resolve this issue.\n"
     ]
    },
    {
     "name": "stderr",
     "output_type": "stream",
     "text": [
      "\u001b[33m(raylet)\u001b[0m [2025-04-12 23:58:08,579 E 2809 2843] (raylet) file_system_monitor.cc:116: /tmp/ray/session_2025-04-12_20-50-22_955978_2486 is over 95% full, available space: 0.815903 GB; capacity: 30 GB. Object creation will fail if spilling is required.\n",
      "\u001b[33m(raylet)\u001b[0m [2025-04-12 23:58:18,588 E 2809 2843] (raylet) file_system_monitor.cc:116: /tmp/ray/session_2025-04-12_20-50-22_955978_2486 is over 95% full, available space: 0.815903 GB; capacity: 30 GB. Object creation will fail if spilling is required.\n",
      "\u001b[33m(raylet)\u001b[0m [2025-04-12 23:58:28,597 E 2809 2843] (raylet) file_system_monitor.cc:116: /tmp/ray/session_2025-04-12_20-50-22_955978_2486 is over 95% full, available space: 0.815903 GB; capacity: 30 GB. Object creation will fail if spilling is required.\n"
     ]
    },
    {
     "name": "stdout",
     "output_type": "stream",
     "text": [
      "\u001b[33m(autoscaler +3h8m13s)\u001b[0m Error: No available node types can fulfill resource request defaultdict(<class 'float'>, {'CPU': 20.0, 'GPU': 4.0}). Add suitable node types to this cluster to resolve this issue.\n"
     ]
    },
    {
     "name": "stderr",
     "output_type": "stream",
     "text": [
      "\u001b[33m(raylet)\u001b[0m [2025-04-12 23:58:38,606 E 2809 2843] (raylet) file_system_monitor.cc:116: /tmp/ray/session_2025-04-12_20-50-22_955978_2486 is over 95% full, available space: 0.815903 GB; capacity: 30 GB. Object creation will fail if spilling is required.\n",
      "\u001b[33m(raylet)\u001b[0m [2025-04-12 23:58:48,613 E 2809 2843] (raylet) file_system_monitor.cc:116: /tmp/ray/session_2025-04-12_20-50-22_955978_2486 is over 95% full, available space: 0.815903 GB; capacity: 30 GB. Object creation will fail if spilling is required.\n",
      "\u001b[33m(raylet)\u001b[0m [2025-04-12 23:58:58,620 E 2809 2843] (raylet) file_system_monitor.cc:116: /tmp/ray/session_2025-04-12_20-50-22_955978_2486 is over 95% full, available space: 0.815903 GB; capacity: 30 GB. Object creation will fail if spilling is required.\n",
      "\u001b[33m(raylet)\u001b[0m [2025-04-12 23:59:08,627 E 2809 2843] (raylet) file_system_monitor.cc:116: /tmp/ray/session_2025-04-12_20-50-22_955978_2486 is over 95% full, available space: 0.815903 GB; capacity: 30 GB. Object creation will fail if spilling is required.\n"
     ]
    },
    {
     "name": "stdout",
     "output_type": "stream",
     "text": [
      "\u001b[33m(autoscaler +3h8m48s)\u001b[0m Error: No available node types can fulfill resource request defaultdict(<class 'float'>, {'CPU': 20.0, 'GPU': 4.0}). Add suitable node types to this cluster to resolve this issue.\n"
     ]
    },
    {
     "name": "stderr",
     "output_type": "stream",
     "text": [
      "\u001b[33m(raylet)\u001b[0m [2025-04-12 23:59:18,633 E 2809 2843] (raylet) file_system_monitor.cc:116: /tmp/ray/session_2025-04-12_20-50-22_955978_2486 is over 95% full, available space: 0.815903 GB; capacity: 30 GB. Object creation will fail if spilling is required.\n",
      "\u001b[33m(raylet)\u001b[0m [2025-04-12 23:59:28,641 E 2809 2843] (raylet) file_system_monitor.cc:116: /tmp/ray/session_2025-04-12_20-50-22_955978_2486 is over 95% full, available space: 0.815781 GB; capacity: 30 GB. Object creation will fail if spilling is required.\n",
      "\u001b[33m(raylet)\u001b[0m [2025-04-12 23:59:38,651 E 2809 2843] (raylet) file_system_monitor.cc:116: /tmp/ray/session_2025-04-12_20-50-22_955978_2486 is over 95% full, available space: 0.815781 GB; capacity: 30 GB. Object creation will fail if spilling is required.\n"
     ]
    },
    {
     "name": "stdout",
     "output_type": "stream",
     "text": [
      "\u001b[33m(autoscaler +3h9m23s)\u001b[0m Error: No available node types can fulfill resource request defaultdict(<class 'float'>, {'CPU': 20.0, 'GPU': 4.0}). Add suitable node types to this cluster to resolve this issue.\n"
     ]
    },
    {
     "name": "stderr",
     "output_type": "stream",
     "text": [
      "\u001b[33m(raylet)\u001b[0m [2025-04-12 23:59:48,662 E 2809 2843] (raylet) file_system_monitor.cc:116: /tmp/ray/session_2025-04-12_20-50-22_955978_2486 is over 95% full, available space: 0.815723 GB; capacity: 30 GB. Object creation will fail if spilling is required.\n",
      "\u001b[33m(raylet)\u001b[0m [2025-04-12 23:59:58,671 E 2809 2843] (raylet) file_system_monitor.cc:116: /tmp/ray/session_2025-04-12_20-50-22_955978_2486 is over 95% full, available space: 0.815781 GB; capacity: 30 GB. Object creation will fail if spilling is required.\n",
      "\u001b[33m(raylet)\u001b[0m [2025-04-13 00:00:08,681 E 2809 2843] (raylet) file_system_monitor.cc:116: /tmp/ray/session_2025-04-12_20-50-22_955978_2486 is over 95% full, available space: 0.815781 GB; capacity: 30 GB. Object creation will fail if spilling is required.\n",
      "\u001b[33m(raylet)\u001b[0m [2025-04-13 00:00:18,692 E 2809 2843] (raylet) file_system_monitor.cc:116: /tmp/ray/session_2025-04-12_20-50-22_955978_2486 is over 95% full, available space: 0.815781 GB; capacity: 30 GB. Object creation will fail if spilling is required.\n"
     ]
    },
    {
     "name": "stdout",
     "output_type": "stream",
     "text": [
      "\u001b[33m(autoscaler +3h9m58s)\u001b[0m Error: No available node types can fulfill resource request defaultdict(<class 'float'>, {'CPU': 20.0, 'GPU': 4.0}). Add suitable node types to this cluster to resolve this issue.\n"
     ]
    },
    {
     "name": "stderr",
     "output_type": "stream",
     "text": [
      "\u001b[33m(raylet)\u001b[0m [2025-04-13 00:00:28,703 E 2809 2843] (raylet) file_system_monitor.cc:116: /tmp/ray/session_2025-04-12_20-50-22_955978_2486 is over 95% full, available space: 0.815784 GB; capacity: 30 GB. Object creation will fail if spilling is required.\n",
      "\u001b[33m(raylet)\u001b[0m [2025-04-13 00:00:38,713 E 2809 2843] (raylet) file_system_monitor.cc:116: /tmp/ray/session_2025-04-12_20-50-22_955978_2486 is over 95% full, available space: 0.815784 GB; capacity: 30 GB. Object creation will fail if spilling is required.\n",
      "\u001b[33m(raylet)\u001b[0m [2025-04-13 00:00:48,724 E 2809 2843] (raylet) file_system_monitor.cc:116: /tmp/ray/session_2025-04-12_20-50-22_955978_2486 is over 95% full, available space: 0.815784 GB; capacity: 30 GB. Object creation will fail if spilling is required.\n"
     ]
    },
    {
     "name": "stdout",
     "output_type": "stream",
     "text": [
      "\u001b[33m(autoscaler +3h10m33s)\u001b[0m Error: No available node types can fulfill resource request defaultdict(<class 'float'>, {'CPU': 20.0, 'GPU': 4.0}). Add suitable node types to this cluster to resolve this issue.\n"
     ]
    },
    {
     "name": "stderr",
     "output_type": "stream",
     "text": [
      "\u001b[33m(raylet)\u001b[0m [2025-04-13 00:00:58,737 E 2809 2843] (raylet) file_system_monitor.cc:116: /tmp/ray/session_2025-04-12_20-50-22_955978_2486 is over 95% full, available space: 0.815784 GB; capacity: 30 GB. Object creation will fail if spilling is required.\n",
      "\u001b[33m(raylet)\u001b[0m [2025-04-13 00:01:08,747 E 2809 2843] (raylet) file_system_monitor.cc:116: /tmp/ray/session_2025-04-12_20-50-22_955978_2486 is over 95% full, available space: 0.815784 GB; capacity: 30 GB. Object creation will fail if spilling is required.\n",
      "\u001b[33m(raylet)\u001b[0m [2025-04-13 00:01:18,758 E 2809 2843] (raylet) file_system_monitor.cc:116: /tmp/ray/session_2025-04-12_20-50-22_955978_2486 is over 95% full, available space: 0.815823 GB; capacity: 30 GB. Object creation will fail if spilling is required.\n",
      "\u001b[33m(raylet)\u001b[0m [2025-04-13 00:01:28,767 E 2809 2843] (raylet) file_system_monitor.cc:116: /tmp/ray/session_2025-04-12_20-50-22_955978_2486 is over 95% full, available space: 0.815823 GB; capacity: 30 GB. Object creation will fail if spilling is required.\n"
     ]
    },
    {
     "name": "stdout",
     "output_type": "stream",
     "text": [
      "\u001b[33m(autoscaler +3h11m8s)\u001b[0m Error: No available node types can fulfill resource request defaultdict(<class 'float'>, {'CPU': 20.0, 'GPU': 4.0}). Add suitable node types to this cluster to resolve this issue.\n"
     ]
    },
    {
     "name": "stderr",
     "output_type": "stream",
     "text": [
      "\u001b[33m(raylet)\u001b[0m [2025-04-13 00:01:38,777 E 2809 2843] (raylet) file_system_monitor.cc:116: /tmp/ray/session_2025-04-12_20-50-22_955978_2486 is over 95% full, available space: 0.815823 GB; capacity: 30 GB. Object creation will fail if spilling is required.\n",
      "\u001b[33m(raylet)\u001b[0m [2025-04-13 00:01:48,790 E 2809 2843] (raylet) file_system_monitor.cc:116: /tmp/ray/session_2025-04-12_20-50-22_955978_2486 is over 95% full, available space: 0.815823 GB; capacity: 30 GB. Object creation will fail if spilling is required.\n",
      "\u001b[33m(raylet)\u001b[0m [2025-04-13 00:01:58,801 E 2809 2843] (raylet) file_system_monitor.cc:116: /tmp/ray/session_2025-04-12_20-50-22_955978_2486 is over 95% full, available space: 0.815823 GB; capacity: 30 GB. Object creation will fail if spilling is required.\n"
     ]
    },
    {
     "name": "stdout",
     "output_type": "stream",
     "text": [
      "\u001b[33m(autoscaler +3h11m44s)\u001b[0m Error: No available node types can fulfill resource request defaultdict(<class 'float'>, {'CPU': 20.0, 'GPU': 4.0}). Add suitable node types to this cluster to resolve this issue.\n"
     ]
    },
    {
     "name": "stderr",
     "output_type": "stream",
     "text": [
      "\u001b[33m(raylet)\u001b[0m [2025-04-13 00:02:08,812 E 2809 2843] (raylet) file_system_monitor.cc:116: /tmp/ray/session_2025-04-12_20-50-22_955978_2486 is over 95% full, available space: 0.815823 GB; capacity: 30 GB. Object creation will fail if spilling is required.\n",
      "\u001b[33m(raylet)\u001b[0m [2025-04-13 00:02:18,822 E 2809 2843] (raylet) file_system_monitor.cc:116: /tmp/ray/session_2025-04-12_20-50-22_955978_2486 is over 95% full, available space: 0.815823 GB; capacity: 30 GB. Object creation will fail if spilling is required.\n",
      "\u001b[33m(raylet)\u001b[0m [2025-04-13 00:02:28,833 E 2809 2843] (raylet) file_system_monitor.cc:116: /tmp/ray/session_2025-04-12_20-50-22_955978_2486 is over 95% full, available space: 0.813625 GB; capacity: 30 GB. Object creation will fail if spilling is required.\n",
      "\u001b[33m(raylet)\u001b[0m [2025-04-13 00:02:38,845 E 2809 2843] (raylet) file_system_monitor.cc:116: /tmp/ray/session_2025-04-12_20-50-22_955978_2486 is over 95% full, available space: 0.813625 GB; capacity: 30 GB. Object creation will fail if spilling is required.\n"
     ]
    },
    {
     "name": "stdout",
     "output_type": "stream",
     "text": [
      "\u001b[33m(autoscaler +3h12m19s)\u001b[0m Error: No available node types can fulfill resource request defaultdict(<class 'float'>, {'CPU': 20.0, 'GPU': 4.0}). Add suitable node types to this cluster to resolve this issue.\n"
     ]
    },
    {
     "name": "stderr",
     "output_type": "stream",
     "text": [
      "\u001b[33m(raylet)\u001b[0m [2025-04-13 00:02:48,855 E 2809 2843] (raylet) file_system_monitor.cc:116: /tmp/ray/session_2025-04-12_20-50-22_955978_2486 is over 95% full, available space: 0.813625 GB; capacity: 30 GB. Object creation will fail if spilling is required.\n",
      "\u001b[33m(raylet)\u001b[0m [2025-04-13 00:02:58,866 E 2809 2843] (raylet) file_system_monitor.cc:116: /tmp/ray/session_2025-04-12_20-50-22_955978_2486 is over 95% full, available space: 0.813625 GB; capacity: 30 GB. Object creation will fail if spilling is required.\n",
      "\u001b[33m(raylet)\u001b[0m [2025-04-13 00:03:08,878 E 2809 2843] (raylet) file_system_monitor.cc:116: /tmp/ray/session_2025-04-12_20-50-22_955978_2486 is over 95% full, available space: 0.813625 GB; capacity: 30 GB. Object creation will fail if spilling is required.\n"
     ]
    },
    {
     "name": "stdout",
     "output_type": "stream",
     "text": [
      "\u001b[33m(autoscaler +3h12m54s)\u001b[0m Error: No available node types can fulfill resource request defaultdict(<class 'float'>, {'CPU': 20.0, 'GPU': 4.0}). Add suitable node types to this cluster to resolve this issue.\n"
     ]
    },
    {
     "name": "stderr",
     "output_type": "stream",
     "text": [
      "\u001b[33m(raylet)\u001b[0m [2025-04-13 00:03:18,889 E 2809 2843] (raylet) file_system_monitor.cc:116: /tmp/ray/session_2025-04-12_20-50-22_955978_2486 is over 95% full, available space: 0.813625 GB; capacity: 30 GB. Object creation will fail if spilling is required.\n",
      "\u001b[33m(raylet)\u001b[0m [2025-04-13 00:03:28,899 E 2809 2843] (raylet) file_system_monitor.cc:116: /tmp/ray/session_2025-04-12_20-50-22_955978_2486 is over 95% full, available space: 0.813625 GB; capacity: 30 GB. Object creation will fail if spilling is required.\n",
      "\u001b[33m(raylet)\u001b[0m [2025-04-13 00:03:38,910 E 2809 2843] (raylet) file_system_monitor.cc:116: /tmp/ray/session_2025-04-12_20-50-22_955978_2486 is over 95% full, available space: 0.813625 GB; capacity: 30 GB. Object creation will fail if spilling is required.\n",
      "\u001b[33m(raylet)\u001b[0m [2025-04-13 00:03:48,921 E 2809 2843] (raylet) file_system_monitor.cc:116: /tmp/ray/session_2025-04-12_20-50-22_955978_2486 is over 95% full, available space: 0.813625 GB; capacity: 30 GB. Object creation will fail if spilling is required.\n"
     ]
    },
    {
     "name": "stdout",
     "output_type": "stream",
     "text": [
      "\u001b[33m(autoscaler +3h13m29s)\u001b[0m Error: No available node types can fulfill resource request defaultdict(<class 'float'>, {'CPU': 20.0, 'GPU': 4.0}). Add suitable node types to this cluster to resolve this issue.\n"
     ]
    },
    {
     "name": "stderr",
     "output_type": "stream",
     "text": [
      "\u001b[33m(raylet)\u001b[0m [2025-04-13 00:03:58,931 E 2809 2843] (raylet) file_system_monitor.cc:116: /tmp/ray/session_2025-04-12_20-50-22_955978_2486 is over 95% full, available space: 0.813625 GB; capacity: 30 GB. Object creation will fail if spilling is required.\n",
      "\u001b[33m(raylet)\u001b[0m [2025-04-13 00:04:08,942 E 2809 2843] (raylet) file_system_monitor.cc:116: /tmp/ray/session_2025-04-12_20-50-22_955978_2486 is over 95% full, available space: 0.813625 GB; capacity: 30 GB. Object creation will fail if spilling is required.\n",
      "\u001b[33m(raylet)\u001b[0m [2025-04-13 00:04:18,954 E 2809 2843] (raylet) file_system_monitor.cc:116: /tmp/ray/session_2025-04-12_20-50-22_955978_2486 is over 95% full, available space: 0.813625 GB; capacity: 30 GB. Object creation will fail if spilling is required.\n"
     ]
    },
    {
     "name": "stdout",
     "output_type": "stream",
     "text": [
      "\u001b[33m(autoscaler +3h14m4s)\u001b[0m Error: No available node types can fulfill resource request defaultdict(<class 'float'>, {'CPU': 20.0, 'GPU': 4.0}). Add suitable node types to this cluster to resolve this issue.\n"
     ]
    },
    {
     "name": "stderr",
     "output_type": "stream",
     "text": [
      "\u001b[33m(raylet)\u001b[0m [2025-04-13 00:04:28,964 E 2809 2843] (raylet) file_system_monitor.cc:116: /tmp/ray/session_2025-04-12_20-50-22_955978_2486 is over 95% full, available space: 0.813625 GB; capacity: 30 GB. Object creation will fail if spilling is required.\n",
      "\u001b[33m(raylet)\u001b[0m [2025-04-13 00:04:38,974 E 2809 2843] (raylet) file_system_monitor.cc:116: /tmp/ray/session_2025-04-12_20-50-22_955978_2486 is over 95% full, available space: 0.813625 GB; capacity: 30 GB. Object creation will fail if spilling is required.\n",
      "\u001b[33m(raylet)\u001b[0m [2025-04-13 00:04:48,984 E 2809 2843] (raylet) file_system_monitor.cc:116: /tmp/ray/session_2025-04-12_20-50-22_955978_2486 is over 95% full, available space: 0.813625 GB; capacity: 30 GB. Object creation will fail if spilling is required.\n",
      "\u001b[33m(raylet)\u001b[0m [2025-04-13 00:04:58,994 E 2809 2843] (raylet) file_system_monitor.cc:116: /tmp/ray/session_2025-04-12_20-50-22_955978_2486 is over 95% full, available space: 0.813625 GB; capacity: 30 GB. Object creation will fail if spilling is required.\n"
     ]
    },
    {
     "name": "stdout",
     "output_type": "stream",
     "text": [
      "\u001b[33m(autoscaler +3h14m39s)\u001b[0m Error: No available node types can fulfill resource request defaultdict(<class 'float'>, {'CPU': 20.0, 'GPU': 4.0}). Add suitable node types to this cluster to resolve this issue.\n"
     ]
    },
    {
     "name": "stderr",
     "output_type": "stream",
     "text": [
      "\u001b[33m(raylet)\u001b[0m [2025-04-13 00:05:09,005 E 2809 2843] (raylet) file_system_monitor.cc:116: /tmp/ray/session_2025-04-12_20-50-22_955978_2486 is over 95% full, available space: 0.813625 GB; capacity: 30 GB. Object creation will fail if spilling is required.\n",
      "\u001b[33m(raylet)\u001b[0m [2025-04-13 00:05:19,015 E 2809 2843] (raylet) file_system_monitor.cc:116: /tmp/ray/session_2025-04-12_20-50-22_955978_2486 is over 95% full, available space: 0.813725 GB; capacity: 30 GB. Object creation will fail if spilling is required.\n",
      "\u001b[33m(raylet)\u001b[0m [2025-04-13 00:05:29,025 E 2809 2843] (raylet) file_system_monitor.cc:116: /tmp/ray/session_2025-04-12_20-50-22_955978_2486 is over 95% full, available space: 0.813725 GB; capacity: 30 GB. Object creation will fail if spilling is required.\n"
     ]
    },
    {
     "name": "stdout",
     "output_type": "stream",
     "text": [
      "\u001b[33m(autoscaler +3h15m14s)\u001b[0m Error: No available node types can fulfill resource request defaultdict(<class 'float'>, {'CPU': 20.0, 'GPU': 4.0}). Add suitable node types to this cluster to resolve this issue.\n"
     ]
    },
    {
     "name": "stderr",
     "output_type": "stream",
     "text": [
      "\u001b[33m(raylet)\u001b[0m [2025-04-13 00:05:39,035 E 2809 2843] (raylet) file_system_monitor.cc:116: /tmp/ray/session_2025-04-12_20-50-22_955978_2486 is over 95% full, available space: 0.813725 GB; capacity: 30 GB. Object creation will fail if spilling is required.\n",
      "\u001b[33m(raylet)\u001b[0m [2025-04-13 00:05:49,046 E 2809 2843] (raylet) file_system_monitor.cc:116: /tmp/ray/session_2025-04-12_20-50-22_955978_2486 is over 95% full, available space: 0.813725 GB; capacity: 30 GB. Object creation will fail if spilling is required.\n",
      "\u001b[33m(raylet)\u001b[0m [2025-04-13 00:05:59,063 E 2809 2843] (raylet) file_system_monitor.cc:116: /tmp/ray/session_2025-04-12_20-50-22_955978_2486 is over 95% full, available space: 0.813725 GB; capacity: 30 GB. Object creation will fail if spilling is required.\n",
      "\u001b[33m(raylet)\u001b[0m [2025-04-13 00:06:09,079 E 2809 2843] (raylet) file_system_monitor.cc:116: /tmp/ray/session_2025-04-12_20-50-22_955978_2486 is over 95% full, available space: 0.813725 GB; capacity: 30 GB. Object creation will fail if spilling is required.\n"
     ]
    },
    {
     "name": "stdout",
     "output_type": "stream",
     "text": [
      "\u001b[33m(autoscaler +3h15m49s)\u001b[0m Error: No available node types can fulfill resource request defaultdict(<class 'float'>, {'CPU': 20.0, 'GPU': 4.0}). Add suitable node types to this cluster to resolve this issue.\n"
     ]
    },
    {
     "name": "stderr",
     "output_type": "stream",
     "text": [
      "\u001b[33m(raylet)\u001b[0m [2025-04-13 00:06:19,092 E 2809 2843] (raylet) file_system_monitor.cc:116: /tmp/ray/session_2025-04-12_20-50-22_955978_2486 is over 95% full, available space: 0.813725 GB; capacity: 30 GB. Object creation will fail if spilling is required.\n",
      "\u001b[33m(raylet)\u001b[0m [2025-04-13 00:06:29,102 E 2809 2843] (raylet) file_system_monitor.cc:116: /tmp/ray/session_2025-04-12_20-50-22_955978_2486 is over 95% full, available space: 0.813725 GB; capacity: 30 GB. Object creation will fail if spilling is required.\n",
      "\u001b[33m(raylet)\u001b[0m [2025-04-13 00:06:39,110 E 2809 2843] (raylet) file_system_monitor.cc:116: /tmp/ray/session_2025-04-12_20-50-22_955978_2486 is over 95% full, available space: 0.813725 GB; capacity: 30 GB. Object creation will fail if spilling is required.\n"
     ]
    },
    {
     "name": "stdout",
     "output_type": "stream",
     "text": [
      "\u001b[33m(autoscaler +3h16m24s)\u001b[0m Error: No available node types can fulfill resource request defaultdict(<class 'float'>, {'CPU': 20.0, 'GPU': 4.0}). Add suitable node types to this cluster to resolve this issue.\n"
     ]
    },
    {
     "name": "stderr",
     "output_type": "stream",
     "text": [
      "\u001b[33m(raylet)\u001b[0m [2025-04-13 00:06:49,119 E 2809 2843] (raylet) file_system_monitor.cc:116: /tmp/ray/session_2025-04-12_20-50-22_955978_2486 is over 95% full, available space: 0.813625 GB; capacity: 30 GB. Object creation will fail if spilling is required.\n",
      "\u001b[33m(raylet)\u001b[0m [2025-04-13 00:06:59,128 E 2809 2843] (raylet) file_system_monitor.cc:116: /tmp/ray/session_2025-04-12_20-50-22_955978_2486 is over 95% full, available space: 0.813625 GB; capacity: 30 GB. Object creation will fail if spilling is required.\n",
      "\u001b[33m(raylet)\u001b[0m [2025-04-13 00:07:09,144 E 2809 2843] (raylet) file_system_monitor.cc:116: /tmp/ray/session_2025-04-12_20-50-22_955978_2486 is over 95% full, available space: 0.813625 GB; capacity: 30 GB. Object creation will fail if spilling is required.\n",
      "\u001b[33m(raylet)\u001b[0m [2025-04-13 00:07:19,157 E 2809 2843] (raylet) file_system_monitor.cc:116: /tmp/ray/session_2025-04-12_20-50-22_955978_2486 is over 95% full, available space: 0.813625 GB; capacity: 30 GB. Object creation will fail if spilling is required.\n"
     ]
    },
    {
     "name": "stdout",
     "output_type": "stream",
     "text": [
      "\u001b[33m(autoscaler +3h16m59s)\u001b[0m Error: No available node types can fulfill resource request defaultdict(<class 'float'>, {'CPU': 20.0, 'GPU': 4.0}). Add suitable node types to this cluster to resolve this issue.\n"
     ]
    },
    {
     "name": "stderr",
     "output_type": "stream",
     "text": [
      "\u001b[33m(raylet)\u001b[0m [2025-04-13 00:07:29,167 E 2809 2843] (raylet) file_system_monitor.cc:116: /tmp/ray/session_2025-04-12_20-50-22_955978_2486 is over 95% full, available space: 0.813625 GB; capacity: 30 GB. Object creation will fail if spilling is required.\n",
      "\u001b[33m(raylet)\u001b[0m [2025-04-13 00:07:39,188 E 2809 2843] (raylet) file_system_monitor.cc:116: /tmp/ray/session_2025-04-12_20-50-22_955978_2486 is over 95% full, available space: 0.813625 GB; capacity: 30 GB. Object creation will fail if spilling is required.\n",
      "\u001b[33m(raylet)\u001b[0m [2025-04-13 00:07:49,206 E 2809 2843] (raylet) file_system_monitor.cc:116: /tmp/ray/session_2025-04-12_20-50-22_955978_2486 is over 95% full, available space: 0.813625 GB; capacity: 30 GB. Object creation will fail if spilling is required.\n"
     ]
    },
    {
     "name": "stdout",
     "output_type": "stream",
     "text": [
      "\u001b[33m(autoscaler +3h17m34s)\u001b[0m Error: No available node types can fulfill resource request defaultdict(<class 'float'>, {'CPU': 20.0, 'GPU': 4.0}). Add suitable node types to this cluster to resolve this issue.\n"
     ]
    },
    {
     "name": "stderr",
     "output_type": "stream",
     "text": [
      "\u001b[33m(raylet)\u001b[0m [2025-04-13 00:07:59,219 E 2809 2843] (raylet) file_system_monitor.cc:116: /tmp/ray/session_2025-04-12_20-50-22_955978_2486 is over 95% full, available space: 0.813625 GB; capacity: 30 GB. Object creation will fail if spilling is required.\n",
      "\u001b[33m(raylet)\u001b[0m [2025-04-13 00:08:09,229 E 2809 2843] (raylet) file_system_monitor.cc:116: /tmp/ray/session_2025-04-12_20-50-22_955978_2486 is over 95% full, available space: 0.813625 GB; capacity: 30 GB. Object creation will fail if spilling is required.\n",
      "\u001b[33m(raylet)\u001b[0m [2025-04-13 00:08:19,238 E 2809 2843] (raylet) file_system_monitor.cc:116: /tmp/ray/session_2025-04-12_20-50-22_955978_2486 is over 95% full, available space: 0.813625 GB; capacity: 30 GB. Object creation will fail if spilling is required.\n",
      "\u001b[33m(raylet)\u001b[0m [2025-04-13 00:08:29,247 E 2809 2843] (raylet) file_system_monitor.cc:116: /tmp/ray/session_2025-04-12_20-50-22_955978_2486 is over 95% full, available space: 0.813625 GB; capacity: 30 GB. Object creation will fail if spilling is required.\n"
     ]
    },
    {
     "name": "stdout",
     "output_type": "stream",
     "text": [
      "\u001b[33m(autoscaler +3h18m9s)\u001b[0m Error: No available node types can fulfill resource request defaultdict(<class 'float'>, {'CPU': 20.0, 'GPU': 4.0}). Add suitable node types to this cluster to resolve this issue.\n"
     ]
    },
    {
     "name": "stderr",
     "output_type": "stream",
     "text": [
      "\u001b[33m(raylet)\u001b[0m [2025-04-13 00:08:39,259 E 2809 2843] (raylet) file_system_monitor.cc:116: /tmp/ray/session_2025-04-12_20-50-22_955978_2486 is over 95% full, available space: 0.813625 GB; capacity: 30 GB. Object creation will fail if spilling is required.\n",
      "\u001b[33m(raylet)\u001b[0m [2025-04-13 00:08:49,273 E 2809 2843] (raylet) file_system_monitor.cc:116: /tmp/ray/session_2025-04-12_20-50-22_955978_2486 is over 95% full, available space: 0.813625 GB; capacity: 30 GB. Object creation will fail if spilling is required.\n",
      "\u001b[33m(raylet)\u001b[0m [2025-04-13 00:08:59,285 E 2809 2843] (raylet) file_system_monitor.cc:116: /tmp/ray/session_2025-04-12_20-50-22_955978_2486 is over 95% full, available space: 0.813625 GB; capacity: 30 GB. Object creation will fail if spilling is required.\n"
     ]
    },
    {
     "name": "stdout",
     "output_type": "stream",
     "text": [
      "\u001b[33m(autoscaler +3h18m44s)\u001b[0m Error: No available node types can fulfill resource request defaultdict(<class 'float'>, {'CPU': 20.0, 'GPU': 4.0}). Add suitable node types to this cluster to resolve this issue.\n"
     ]
    },
    {
     "name": "stderr",
     "output_type": "stream",
     "text": [
      "\u001b[33m(raylet)\u001b[0m [2025-04-13 00:09:09,297 E 2809 2843] (raylet) file_system_monitor.cc:116: /tmp/ray/session_2025-04-12_20-50-22_955978_2486 is over 95% full, available space: 0.813625 GB; capacity: 30 GB. Object creation will fail if spilling is required.\n",
      "\u001b[33m(raylet)\u001b[0m [2025-04-13 00:09:19,308 E 2809 2843] (raylet) file_system_monitor.cc:116: /tmp/ray/session_2025-04-12_20-50-22_955978_2486 is over 95% full, available space: 0.813625 GB; capacity: 30 GB. Object creation will fail if spilling is required.\n",
      "\u001b[33m(raylet)\u001b[0m [2025-04-13 00:09:29,318 E 2809 2843] (raylet) file_system_monitor.cc:116: /tmp/ray/session_2025-04-12_20-50-22_955978_2486 is over 95% full, available space: 0.813625 GB; capacity: 30 GB. Object creation will fail if spilling is required.\n",
      "\u001b[33m(raylet)\u001b[0m [2025-04-13 00:09:39,329 E 2809 2843] (raylet) file_system_monitor.cc:116: /tmp/ray/session_2025-04-12_20-50-22_955978_2486 is over 95% full, available space: 0.813625 GB; capacity: 30 GB. Object creation will fail if spilling is required.\n"
     ]
    },
    {
     "name": "stdout",
     "output_type": "stream",
     "text": [
      "\u001b[33m(autoscaler +3h19m19s)\u001b[0m Error: No available node types can fulfill resource request defaultdict(<class 'float'>, {'CPU': 20.0, 'GPU': 4.0}). Add suitable node types to this cluster to resolve this issue.\n"
     ]
    },
    {
     "name": "stderr",
     "output_type": "stream",
     "text": [
      "\u001b[33m(raylet)\u001b[0m [2025-04-13 00:09:49,339 E 2809 2843] (raylet) file_system_monitor.cc:116: /tmp/ray/session_2025-04-12_20-50-22_955978_2486 is over 95% full, available space: 0.813625 GB; capacity: 30 GB. Object creation will fail if spilling is required.\n",
      "\u001b[33m(raylet)\u001b[0m [2025-04-13 00:09:59,349 E 2809 2843] (raylet) file_system_monitor.cc:116: /tmp/ray/session_2025-04-12_20-50-22_955978_2486 is over 95% full, available space: 0.813625 GB; capacity: 30 GB. Object creation will fail if spilling is required.\n",
      "\u001b[33m(raylet)\u001b[0m [2025-04-13 00:10:09,360 E 2809 2843] (raylet) file_system_monitor.cc:116: /tmp/ray/session_2025-04-12_20-50-22_955978_2486 is over 95% full, available space: 0.813625 GB; capacity: 30 GB. Object creation will fail if spilling is required.\n"
     ]
    },
    {
     "name": "stdout",
     "output_type": "stream",
     "text": [
      "\u001b[33m(autoscaler +3h19m55s)\u001b[0m Error: No available node types can fulfill resource request defaultdict(<class 'float'>, {'CPU': 20.0, 'GPU': 4.0}). Add suitable node types to this cluster to resolve this issue.\n"
     ]
    },
    {
     "name": "stderr",
     "output_type": "stream",
     "text": [
      "\u001b[33m(raylet)\u001b[0m [2025-04-13 00:10:19,371 E 2809 2843] (raylet) file_system_monitor.cc:116: /tmp/ray/session_2025-04-12_20-50-22_955978_2486 is over 95% full, available space: 0.813568 GB; capacity: 30 GB. Object creation will fail if spilling is required.\n",
      "\u001b[33m(raylet)\u001b[0m [2025-04-13 00:10:29,380 E 2809 2843] (raylet) file_system_monitor.cc:116: /tmp/ray/session_2025-04-12_20-50-22_955978_2486 is over 95% full, available space: 0.813568 GB; capacity: 30 GB. Object creation will fail if spilling is required.\n",
      "\u001b[33m(raylet)\u001b[0m [2025-04-13 00:10:39,389 E 2809 2843] (raylet) file_system_monitor.cc:116: /tmp/ray/session_2025-04-12_20-50-22_955978_2486 is over 95% full, available space: 0.813568 GB; capacity: 30 GB. Object creation will fail if spilling is required.\n",
      "\u001b[33m(raylet)\u001b[0m [2025-04-13 00:10:49,399 E 2809 2843] (raylet) file_system_monitor.cc:116: /tmp/ray/session_2025-04-12_20-50-22_955978_2486 is over 95% full, available space: 0.813568 GB; capacity: 30 GB. Object creation will fail if spilling is required.\n"
     ]
    },
    {
     "name": "stdout",
     "output_type": "stream",
     "text": [
      "\u001b[33m(autoscaler +3h20m30s)\u001b[0m Error: No available node types can fulfill resource request defaultdict(<class 'float'>, {'CPU': 20.0, 'GPU': 4.0}). Add suitable node types to this cluster to resolve this issue.\n"
     ]
    },
    {
     "name": "stderr",
     "output_type": "stream",
     "text": [
      "\u001b[33m(raylet)\u001b[0m [2025-04-13 00:10:59,409 E 2809 2843] (raylet) file_system_monitor.cc:116: /tmp/ray/session_2025-04-12_20-50-22_955978_2486 is over 95% full, available space: 0.813568 GB; capacity: 30 GB. Object creation will fail if spilling is required.\n",
      "\u001b[33m(raylet)\u001b[0m [2025-04-13 00:11:09,418 E 2809 2843] (raylet) file_system_monitor.cc:116: /tmp/ray/session_2025-04-12_20-50-22_955978_2486 is over 95% full, available space: 0.815907 GB; capacity: 30 GB. Object creation will fail if spilling is required.\n",
      "\u001b[33m(raylet)\u001b[0m [2025-04-13 00:11:19,432 E 2809 2843] (raylet) file_system_monitor.cc:116: /tmp/ray/session_2025-04-12_20-50-22_955978_2486 is over 95% full, available space: 0.815907 GB; capacity: 30 GB. Object creation will fail if spilling is required.\n"
     ]
    },
    {
     "name": "stdout",
     "output_type": "stream",
     "text": [
      "\u001b[33m(autoscaler +3h21m5s)\u001b[0m Error: No available node types can fulfill resource request defaultdict(<class 'float'>, {'CPU': 20.0, 'GPU': 4.0}). Add suitable node types to this cluster to resolve this issue.\n"
     ]
    },
    {
     "name": "stderr",
     "output_type": "stream",
     "text": [
      "\u001b[33m(raylet)\u001b[0m [2025-04-13 00:11:29,467 E 2809 2843] (raylet) file_system_monitor.cc:116: /tmp/ray/session_2025-04-12_20-50-22_955978_2486 is over 95% full, available space: 0.813568 GB; capacity: 30 GB. Object creation will fail if spilling is required.\n",
      "\u001b[33m(raylet)\u001b[0m [2025-04-13 00:11:39,484 E 2809 2843] (raylet) file_system_monitor.cc:116: /tmp/ray/session_2025-04-12_20-50-22_955978_2486 is over 95% full, available space: 0.813568 GB; capacity: 30 GB. Object creation will fail if spilling is required.\n",
      "\u001b[33m(raylet)\u001b[0m [2025-04-13 00:11:49,496 E 2809 2843] (raylet) file_system_monitor.cc:116: /tmp/ray/session_2025-04-12_20-50-22_955978_2486 is over 95% full, available space: 0.813568 GB; capacity: 30 GB. Object creation will fail if spilling is required.\n",
      "\u001b[33m(raylet)\u001b[0m [2025-04-13 00:11:59,506 E 2809 2843] (raylet) file_system_monitor.cc:116: /tmp/ray/session_2025-04-12_20-50-22_955978_2486 is over 95% full, available space: 0.813568 GB; capacity: 30 GB. Object creation will fail if spilling is required.\n"
     ]
    },
    {
     "name": "stdout",
     "output_type": "stream",
     "text": [
      "\u001b[33m(autoscaler +3h21m40s)\u001b[0m Error: No available node types can fulfill resource request defaultdict(<class 'float'>, {'CPU': 20.0, 'GPU': 4.0}). Add suitable node types to this cluster to resolve this issue.\n"
     ]
    },
    {
     "name": "stderr",
     "output_type": "stream",
     "text": [
      "\u001b[33m(raylet)\u001b[0m [2025-04-13 00:12:09,516 E 2809 2843] (raylet) file_system_monitor.cc:116: /tmp/ray/session_2025-04-12_20-50-22_955978_2486 is over 95% full, available space: 0.813568 GB; capacity: 30 GB. Object creation will fail if spilling is required.\n",
      "\u001b[33m(raylet)\u001b[0m [2025-04-13 00:12:19,526 E 2809 2843] (raylet) file_system_monitor.cc:116: /tmp/ray/session_2025-04-12_20-50-22_955978_2486 is over 95% full, available space: 0.813568 GB; capacity: 30 GB. Object creation will fail if spilling is required.\n",
      "\u001b[33m(raylet)\u001b[0m [2025-04-13 00:12:29,535 E 2809 2843] (raylet) file_system_monitor.cc:116: /tmp/ray/session_2025-04-12_20-50-22_955978_2486 is over 95% full, available space: 0.811676 GB; capacity: 30 GB. Object creation will fail if spilling is required.\n"
     ]
    },
    {
     "name": "stdout",
     "output_type": "stream",
     "text": [
      "\u001b[33m(autoscaler +3h22m15s)\u001b[0m Error: No available node types can fulfill resource request defaultdict(<class 'float'>, {'CPU': 20.0, 'GPU': 4.0}). Add suitable node types to this cluster to resolve this issue.\n"
     ]
    },
    {
     "name": "stderr",
     "output_type": "stream",
     "text": [
      "\u001b[33m(raylet)\u001b[0m [2025-04-13 00:12:39,544 E 2809 2843] (raylet) file_system_monitor.cc:116: /tmp/ray/session_2025-04-12_20-50-22_955978_2486 is over 95% full, available space: 0.811638 GB; capacity: 30 GB. Object creation will fail if spilling is required.\n",
      "\u001b[33m(raylet)\u001b[0m [2025-04-13 00:12:49,553 E 2809 2843] (raylet) file_system_monitor.cc:116: /tmp/ray/session_2025-04-12_20-50-22_955978_2486 is over 95% full, available space: 0.811638 GB; capacity: 30 GB. Object creation will fail if spilling is required.\n",
      "\u001b[33m(raylet)\u001b[0m [2025-04-13 00:12:59,562 E 2809 2843] (raylet) file_system_monitor.cc:116: /tmp/ray/session_2025-04-12_20-50-22_955978_2486 is over 95% full, available space: 0.811638 GB; capacity: 30 GB. Object creation will fail if spilling is required.\n",
      "\u001b[33m(raylet)\u001b[0m [2025-04-13 00:13:09,571 E 2809 2843] (raylet) file_system_monitor.cc:116: /tmp/ray/session_2025-04-12_20-50-22_955978_2486 is over 95% full, available space: 0.811638 GB; capacity: 30 GB. Object creation will fail if spilling is required.\n"
     ]
    },
    {
     "name": "stdout",
     "output_type": "stream",
     "text": [
      "\u001b[33m(autoscaler +3h22m50s)\u001b[0m Error: No available node types can fulfill resource request defaultdict(<class 'float'>, {'CPU': 20.0, 'GPU': 4.0}). Add suitable node types to this cluster to resolve this issue.\n"
     ]
    },
    {
     "name": "stderr",
     "output_type": "stream",
     "text": [
      "\u001b[33m(raylet)\u001b[0m [2025-04-13 00:13:19,579 E 2809 2843] (raylet) file_system_monitor.cc:116: /tmp/ray/session_2025-04-12_20-50-22_955978_2486 is over 95% full, available space: 0.811638 GB; capacity: 30 GB. Object creation will fail if spilling is required.\n",
      "\u001b[33m(raylet)\u001b[0m [2025-04-13 00:13:29,588 E 2809 2843] (raylet) file_system_monitor.cc:116: /tmp/ray/session_2025-04-12_20-50-22_955978_2486 is over 95% full, available space: 0.811638 GB; capacity: 30 GB. Object creation will fail if spilling is required.\n",
      "\u001b[33m(raylet)\u001b[0m [2025-04-13 00:13:39,599 E 2809 2843] (raylet) file_system_monitor.cc:116: /tmp/ray/session_2025-04-12_20-50-22_955978_2486 is over 95% full, available space: 0.811638 GB; capacity: 30 GB. Object creation will fail if spilling is required.\n"
     ]
    },
    {
     "name": "stdout",
     "output_type": "stream",
     "text": [
      "\u001b[33m(autoscaler +3h23m25s)\u001b[0m Error: No available node types can fulfill resource request defaultdict(<class 'float'>, {'CPU': 20.0, 'GPU': 4.0}). Add suitable node types to this cluster to resolve this issue.\n"
     ]
    },
    {
     "name": "stderr",
     "output_type": "stream",
     "text": [
      "\u001b[33m(raylet)\u001b[0m [2025-04-13 00:13:49,614 E 2809 2843] (raylet) file_system_monitor.cc:116: /tmp/ray/session_2025-04-12_20-50-22_955978_2486 is over 95% full, available space: 0.811638 GB; capacity: 30 GB. Object creation will fail if spilling is required.\n",
      "\u001b[33m(raylet)\u001b[0m [2025-04-13 00:13:59,624 E 2809 2843] (raylet) file_system_monitor.cc:116: /tmp/ray/session_2025-04-12_20-50-22_955978_2486 is over 95% full, available space: 0.811638 GB; capacity: 30 GB. Object creation will fail if spilling is required.\n",
      "\u001b[33m(raylet)\u001b[0m [2025-04-13 00:14:09,635 E 2809 2843] (raylet) file_system_monitor.cc:116: /tmp/ray/session_2025-04-12_20-50-22_955978_2486 is over 95% full, available space: 0.811638 GB; capacity: 30 GB. Object creation will fail if spilling is required.\n",
      "\u001b[33m(raylet)\u001b[0m [2025-04-13 00:14:19,646 E 2809 2843] (raylet) file_system_monitor.cc:116: /tmp/ray/session_2025-04-12_20-50-22_955978_2486 is over 95% full, available space: 0.811638 GB; capacity: 30 GB. Object creation will fail if spilling is required.\n"
     ]
    },
    {
     "name": "stdout",
     "output_type": "stream",
     "text": [
      "\u001b[33m(autoscaler +3h24m0s)\u001b[0m Error: No available node types can fulfill resource request defaultdict(<class 'float'>, {'CPU': 20.0, 'GPU': 4.0}). Add suitable node types to this cluster to resolve this issue.\n"
     ]
    },
    {
     "name": "stderr",
     "output_type": "stream",
     "text": [
      "\u001b[33m(raylet)\u001b[0m [2025-04-13 00:14:29,657 E 2809 2843] (raylet) file_system_monitor.cc:116: /tmp/ray/session_2025-04-12_20-50-22_955978_2486 is over 95% full, available space: 0.811638 GB; capacity: 30 GB. Object creation will fail if spilling is required.\n",
      "\u001b[33m(raylet)\u001b[0m [2025-04-13 00:14:39,669 E 2809 2843] (raylet) file_system_monitor.cc:116: /tmp/ray/session_2025-04-12_20-50-22_955978_2486 is over 95% full, available space: 0.811638 GB; capacity: 30 GB. Object creation will fail if spilling is required.\n",
      "\u001b[33m(raylet)\u001b[0m [2025-04-13 00:14:49,680 E 2809 2843] (raylet) file_system_monitor.cc:116: /tmp/ray/session_2025-04-12_20-50-22_955978_2486 is over 95% full, available space: 0.811638 GB; capacity: 30 GB. Object creation will fail if spilling is required.\n"
     ]
    },
    {
     "name": "stdout",
     "output_type": "stream",
     "text": [
      "\u001b[33m(autoscaler +3h24m35s)\u001b[0m Error: No available node types can fulfill resource request defaultdict(<class 'float'>, {'CPU': 20.0, 'GPU': 4.0}). Add suitable node types to this cluster to resolve this issue.\n"
     ]
    },
    {
     "name": "stderr",
     "output_type": "stream",
     "text": [
      "\u001b[33m(raylet)\u001b[0m [2025-04-13 00:14:59,691 E 2809 2843] (raylet) file_system_monitor.cc:116: /tmp/ray/session_2025-04-12_20-50-22_955978_2486 is over 95% full, available space: 0.811638 GB; capacity: 30 GB. Object creation will fail if spilling is required.\n",
      "\u001b[33m(raylet)\u001b[0m [2025-04-13 00:15:09,703 E 2809 2843] (raylet) file_system_monitor.cc:116: /tmp/ray/session_2025-04-12_20-50-22_955978_2486 is over 95% full, available space: 0.811638 GB; capacity: 30 GB. Object creation will fail if spilling is required.\n",
      "\u001b[33m(raylet)\u001b[0m [2025-04-13 00:15:19,714 E 2809 2843] (raylet) file_system_monitor.cc:116: /tmp/ray/session_2025-04-12_20-50-22_955978_2486 is over 95% full, available space: 0.811638 GB; capacity: 30 GB. Object creation will fail if spilling is required.\n",
      "\u001b[33m(raylet)\u001b[0m [2025-04-13 00:15:29,726 E 2809 2843] (raylet) file_system_monitor.cc:116: /tmp/ray/session_2025-04-12_20-50-22_955978_2486 is over 95% full, available space: 0.811691 GB; capacity: 30 GB. Object creation will fail if spilling is required.\n"
     ]
    },
    {
     "name": "stdout",
     "output_type": "stream",
     "text": [
      "\u001b[33m(autoscaler +3h25m10s)\u001b[0m Error: No available node types can fulfill resource request defaultdict(<class 'float'>, {'CPU': 20.0, 'GPU': 4.0}). Add suitable node types to this cluster to resolve this issue.\n"
     ]
    },
    {
     "name": "stderr",
     "output_type": "stream",
     "text": [
      "\u001b[33m(raylet)\u001b[0m [2025-04-13 00:15:39,738 E 2809 2843] (raylet) file_system_monitor.cc:116: /tmp/ray/session_2025-04-12_20-50-22_955978_2486 is over 95% full, available space: 0.811691 GB; capacity: 30 GB. Object creation will fail if spilling is required.\n",
      "\u001b[33m(raylet)\u001b[0m [2025-04-13 00:15:49,748 E 2809 2843] (raylet) file_system_monitor.cc:116: /tmp/ray/session_2025-04-12_20-50-22_955978_2486 is over 95% full, available space: 0.811691 GB; capacity: 30 GB. Object creation will fail if spilling is required.\n",
      "\u001b[33m(raylet)\u001b[0m [2025-04-13 00:15:59,758 E 2809 2843] (raylet) file_system_monitor.cc:116: /tmp/ray/session_2025-04-12_20-50-22_955978_2486 is over 95% full, available space: 0.811691 GB; capacity: 30 GB. Object creation will fail if spilling is required.\n"
     ]
    },
    {
     "name": "stdout",
     "output_type": "stream",
     "text": [
      "\u001b[33m(autoscaler +3h25m45s)\u001b[0m Error: No available node types can fulfill resource request defaultdict(<class 'float'>, {'CPU': 20.0, 'GPU': 4.0}). Add suitable node types to this cluster to resolve this issue.\n"
     ]
    },
    {
     "name": "stderr",
     "output_type": "stream",
     "text": [
      "\u001b[33m(raylet)\u001b[0m [2025-04-13 00:16:09,769 E 2809 2843] (raylet) file_system_monitor.cc:116: /tmp/ray/session_2025-04-12_20-50-22_955978_2486 is over 95% full, available space: 0.811691 GB; capacity: 30 GB. Object creation will fail if spilling is required.\n",
      "\u001b[33m(raylet)\u001b[0m [2025-04-13 00:16:19,779 E 2809 2843] (raylet) file_system_monitor.cc:116: /tmp/ray/session_2025-04-12_20-50-22_955978_2486 is over 95% full, available space: 0.815144 GB; capacity: 30 GB. Object creation will fail if spilling is required.\n",
      "\u001b[33m(raylet)\u001b[0m [2025-04-13 00:16:29,789 E 2809 2843] (raylet) file_system_monitor.cc:116: /tmp/ray/session_2025-04-12_20-50-22_955978_2486 is over 95% full, available space: 0.811508 GB; capacity: 30 GB. Object creation will fail if spilling is required.\n",
      "\u001b[33m(raylet)\u001b[0m [2025-04-13 00:16:39,799 E 2809 2843] (raylet) file_system_monitor.cc:116: /tmp/ray/session_2025-04-12_20-50-22_955978_2486 is over 95% full, available space: 0.811508 GB; capacity: 30 GB. Object creation will fail if spilling is required.\n"
     ]
    },
    {
     "name": "stdout",
     "output_type": "stream",
     "text": [
      "\u001b[33m(autoscaler +3h26m20s)\u001b[0m Error: No available node types can fulfill resource request defaultdict(<class 'float'>, {'CPU': 20.0, 'GPU': 4.0}). Add suitable node types to this cluster to resolve this issue.\n"
     ]
    },
    {
     "name": "stderr",
     "output_type": "stream",
     "text": [
      "\u001b[33m(raylet)\u001b[0m [2025-04-13 00:16:49,806 E 2809 2843] (raylet) file_system_monitor.cc:116: /tmp/ray/session_2025-04-12_20-50-22_955978_2486 is over 95% full, available space: 0.811508 GB; capacity: 30 GB. Object creation will fail if spilling is required.\n",
      "\u001b[33m(raylet)\u001b[0m [2025-04-13 00:16:59,812 E 2809 2843] (raylet) file_system_monitor.cc:116: /tmp/ray/session_2025-04-12_20-50-22_955978_2486 is over 95% full, available space: 0.811508 GB; capacity: 30 GB. Object creation will fail if spilling is required.\n",
      "\u001b[33m(raylet)\u001b[0m [2025-04-13 00:17:09,819 E 2809 2843] (raylet) file_system_monitor.cc:116: /tmp/ray/session_2025-04-12_20-50-22_955978_2486 is over 95% full, available space: 0.811508 GB; capacity: 30 GB. Object creation will fail if spilling is required.\n"
     ]
    },
    {
     "name": "stdout",
     "output_type": "stream",
     "text": [
      "\u001b[33m(autoscaler +3h26m56s)\u001b[0m Error: No available node types can fulfill resource request defaultdict(<class 'float'>, {'CPU': 20.0, 'GPU': 4.0}). Add suitable node types to this cluster to resolve this issue.\n"
     ]
    },
    {
     "name": "stderr",
     "output_type": "stream",
     "text": [
      "\u001b[33m(raylet)\u001b[0m [2025-04-13 00:17:19,829 E 2809 2843] (raylet) file_system_monitor.cc:116: /tmp/ray/session_2025-04-12_20-50-22_955978_2486 is over 95% full, available space: 0.811508 GB; capacity: 30 GB. Object creation will fail if spilling is required.\n",
      "\u001b[33m(raylet)\u001b[0m [2025-04-13 00:17:29,838 E 2809 2843] (raylet) file_system_monitor.cc:116: /tmp/ray/session_2025-04-12_20-50-22_955978_2486 is over 95% full, available space: 0.811508 GB; capacity: 30 GB. Object creation will fail if spilling is required.\n",
      "\u001b[33m(raylet)\u001b[0m [2025-04-13 00:17:39,847 E 2809 2843] (raylet) file_system_monitor.cc:116: /tmp/ray/session_2025-04-12_20-50-22_955978_2486 is over 95% full, available space: 0.811508 GB; capacity: 30 GB. Object creation will fail if spilling is required.\n",
      "\u001b[33m(raylet)\u001b[0m [2025-04-13 00:17:49,857 E 2809 2843] (raylet) file_system_monitor.cc:116: /tmp/ray/session_2025-04-12_20-50-22_955978_2486 is over 95% full, available space: 0.81102 GB; capacity: 30 GB. Object creation will fail if spilling is required.\n"
     ]
    },
    {
     "name": "stdout",
     "output_type": "stream",
     "text": [
      "\u001b[33m(autoscaler +3h27m31s)\u001b[0m Error: No available node types can fulfill resource request defaultdict(<class 'float'>, {'CPU': 20.0, 'GPU': 4.0}). Add suitable node types to this cluster to resolve this issue.\n"
     ]
    },
    {
     "name": "stderr",
     "output_type": "stream",
     "text": [
      "\u001b[33m(raylet)\u001b[0m [2025-04-13 00:17:59,866 E 2809 2843] (raylet) file_system_monitor.cc:116: /tmp/ray/session_2025-04-12_20-50-22_955978_2486 is over 95% full, available space: 0.81102 GB; capacity: 30 GB. Object creation will fail if spilling is required.\n",
      "\u001b[33m(raylet)\u001b[0m [2025-04-13 00:18:09,876 E 2809 2843] (raylet) file_system_monitor.cc:116: /tmp/ray/session_2025-04-12_20-50-22_955978_2486 is over 95% full, available space: 0.81102 GB; capacity: 30 GB. Object creation will fail if spilling is required.\n",
      "\u001b[33m(raylet)\u001b[0m [2025-04-13 00:18:19,886 E 2809 2843] (raylet) file_system_monitor.cc:116: /tmp/ray/session_2025-04-12_20-50-22_955978_2486 is over 95% full, available space: 0.81102 GB; capacity: 30 GB. Object creation will fail if spilling is required.\n"
     ]
    },
    {
     "name": "stdout",
     "output_type": "stream",
     "text": [
      "\u001b[33m(autoscaler +3h28m6s)\u001b[0m Error: No available node types can fulfill resource request defaultdict(<class 'float'>, {'CPU': 20.0, 'GPU': 4.0}). Add suitable node types to this cluster to resolve this issue.\n"
     ]
    },
    {
     "name": "stderr",
     "output_type": "stream",
     "text": [
      "\u001b[33m(raylet)\u001b[0m [2025-04-13 00:18:29,895 E 2809 2843] (raylet) file_system_monitor.cc:116: /tmp/ray/session_2025-04-12_20-50-22_955978_2486 is over 95% full, available space: 0.81102 GB; capacity: 30 GB. Object creation will fail if spilling is required.\n",
      "\u001b[33m(raylet)\u001b[0m [2025-04-13 00:18:39,904 E 2809 2843] (raylet) file_system_monitor.cc:116: /tmp/ray/session_2025-04-12_20-50-22_955978_2486 is over 95% full, available space: 0.81102 GB; capacity: 30 GB. Object creation will fail if spilling is required.\n",
      "\u001b[33m(raylet)\u001b[0m [2025-04-13 00:18:49,915 E 2809 2843] (raylet) file_system_monitor.cc:116: /tmp/ray/session_2025-04-12_20-50-22_955978_2486 is over 95% full, available space: 0.81102 GB; capacity: 30 GB. Object creation will fail if spilling is required.\n",
      "\u001b[33m(raylet)\u001b[0m [2025-04-13 00:18:59,925 E 2809 2843] (raylet) file_system_monitor.cc:116: /tmp/ray/session_2025-04-12_20-50-22_955978_2486 is over 95% full, available space: 0.810963 GB; capacity: 30 GB. Object creation will fail if spilling is required.\n"
     ]
    },
    {
     "name": "stdout",
     "output_type": "stream",
     "text": [
      "\u001b[33m(autoscaler +3h28m41s)\u001b[0m Error: No available node types can fulfill resource request defaultdict(<class 'float'>, {'CPU': 20.0, 'GPU': 4.0}). Add suitable node types to this cluster to resolve this issue.\n"
     ]
    },
    {
     "name": "stderr",
     "output_type": "stream",
     "text": [
      "\u001b[33m(raylet)\u001b[0m [2025-04-13 00:19:09,934 E 2809 2843] (raylet) file_system_monitor.cc:116: /tmp/ray/session_2025-04-12_20-50-22_955978_2486 is over 95% full, available space: 0.810963 GB; capacity: 30 GB. Object creation will fail if spilling is required.\n",
      "\u001b[33m(raylet)\u001b[0m [2025-04-13 00:19:19,944 E 2809 2843] (raylet) file_system_monitor.cc:116: /tmp/ray/session_2025-04-12_20-50-22_955978_2486 is over 95% full, available space: 0.810963 GB; capacity: 30 GB. Object creation will fail if spilling is required.\n",
      "\u001b[33m(raylet)\u001b[0m [2025-04-13 00:19:29,953 E 2809 2843] (raylet) file_system_monitor.cc:116: /tmp/ray/session_2025-04-12_20-50-22_955978_2486 is over 95% full, available space: 0.809986 GB; capacity: 30 GB. Object creation will fail if spilling is required.\n"
     ]
    },
    {
     "name": "stdout",
     "output_type": "stream",
     "text": [
      "\u001b[33m(autoscaler +3h29m16s)\u001b[0m Error: No available node types can fulfill resource request defaultdict(<class 'float'>, {'CPU': 20.0, 'GPU': 4.0}). Add suitable node types to this cluster to resolve this issue.\n"
     ]
    },
    {
     "name": "stderr",
     "output_type": "stream",
     "text": [
      "\u001b[33m(raylet)\u001b[0m [2025-04-13 00:19:39,963 E 2809 2843] (raylet) file_system_monitor.cc:116: /tmp/ray/session_2025-04-12_20-50-22_955978_2486 is over 95% full, available space: 0.809986 GB; capacity: 30 GB. Object creation will fail if spilling is required.\n",
      "\u001b[33m(raylet)\u001b[0m [2025-04-13 00:19:49,972 E 2809 2843] (raylet) file_system_monitor.cc:116: /tmp/ray/session_2025-04-12_20-50-22_955978_2486 is over 95% full, available space: 0.809986 GB; capacity: 30 GB. Object creation will fail if spilling is required.\n",
      "\u001b[33m(raylet)\u001b[0m [2025-04-13 00:19:59,994 E 2809 2843] (raylet) file_system_monitor.cc:116: /tmp/ray/session_2025-04-12_20-50-22_955978_2486 is over 95% full, available space: 0.809986 GB; capacity: 30 GB. Object creation will fail if spilling is required.\n",
      "\u001b[33m(raylet)\u001b[0m [2025-04-13 00:20:10,026 E 2809 2843] (raylet) file_system_monitor.cc:116: /tmp/ray/session_2025-04-12_20-50-22_955978_2486 is over 95% full, available space: 0.809986 GB; capacity: 30 GB. Object creation will fail if spilling is required.\n"
     ]
    },
    {
     "name": "stdout",
     "output_type": "stream",
     "text": [
      "\u001b[33m(autoscaler +3h29m51s)\u001b[0m Error: No available node types can fulfill resource request defaultdict(<class 'float'>, {'CPU': 20.0, 'GPU': 4.0}). Add suitable node types to this cluster to resolve this issue.\n"
     ]
    },
    {
     "name": "stderr",
     "output_type": "stream",
     "text": [
      "\u001b[33m(raylet)\u001b[0m [2025-04-13 00:20:20,039 E 2809 2843] (raylet) file_system_monitor.cc:116: /tmp/ray/session_2025-04-12_20-50-22_955978_2486 is over 95% full, available space: 0.809986 GB; capacity: 30 GB. Object creation will fail if spilling is required.\n",
      "\u001b[33m(raylet)\u001b[0m [2025-04-13 00:20:30,050 E 2809 2843] (raylet) file_system_monitor.cc:116: /tmp/ray/session_2025-04-12_20-50-22_955978_2486 is over 95% full, available space: 0.809986 GB; capacity: 30 GB. Object creation will fail if spilling is required.\n",
      "\u001b[33m(raylet)\u001b[0m [2025-04-13 00:20:40,060 E 2809 2843] (raylet) file_system_monitor.cc:116: /tmp/ray/session_2025-04-12_20-50-22_955978_2486 is over 95% full, available space: 0.809986 GB; capacity: 30 GB. Object creation will fail if spilling is required.\n"
     ]
    },
    {
     "name": "stdout",
     "output_type": "stream",
     "text": [
      "\u001b[33m(autoscaler +3h30m26s)\u001b[0m Error: No available node types can fulfill resource request defaultdict(<class 'float'>, {'CPU': 20.0, 'GPU': 4.0}). Add suitable node types to this cluster to resolve this issue.\n"
     ]
    },
    {
     "name": "stderr",
     "output_type": "stream",
     "text": [
      "\u001b[33m(raylet)\u001b[0m [2025-04-13 00:20:50,069 E 2809 2843] (raylet) file_system_monitor.cc:116: /tmp/ray/session_2025-04-12_20-50-22_955978_2486 is over 95% full, available space: 0.809986 GB; capacity: 30 GB. Object creation will fail if spilling is required.\n",
      "\u001b[33m(raylet)\u001b[0m [2025-04-13 00:21:00,079 E 2809 2843] (raylet) file_system_monitor.cc:116: /tmp/ray/session_2025-04-12_20-50-22_955978_2486 is over 95% full, available space: 0.809986 GB; capacity: 30 GB. Object creation will fail if spilling is required.\n",
      "\u001b[33m(raylet)\u001b[0m [2025-04-13 00:21:10,088 E 2809 2843] (raylet) file_system_monitor.cc:116: /tmp/ray/session_2025-04-12_20-50-22_955978_2486 is over 95% full, available space: 0.809986 GB; capacity: 30 GB. Object creation will fail if spilling is required.\n",
      "\u001b[33m(raylet)\u001b[0m [2025-04-13 00:21:20,097 E 2809 2843] (raylet) file_system_monitor.cc:116: /tmp/ray/session_2025-04-12_20-50-22_955978_2486 is over 95% full, available space: 0.809986 GB; capacity: 30 GB. Object creation will fail if spilling is required.\n"
     ]
    },
    {
     "name": "stdout",
     "output_type": "stream",
     "text": [
      "\u001b[33m(autoscaler +3h31m1s)\u001b[0m Error: No available node types can fulfill resource request defaultdict(<class 'float'>, {'CPU': 20.0, 'GPU': 4.0}). Add suitable node types to this cluster to resolve this issue.\n"
     ]
    },
    {
     "name": "stderr",
     "output_type": "stream",
     "text": [
      "\u001b[33m(raylet)\u001b[0m [2025-04-13 00:21:30,106 E 2809 2843] (raylet) file_system_monitor.cc:116: /tmp/ray/session_2025-04-12_20-50-22_955978_2486 is over 95% full, available space: 0.809681 GB; capacity: 30 GB. Object creation will fail if spilling is required.\n",
      "\u001b[33m(raylet)\u001b[0m [2025-04-13 00:21:40,116 E 2809 2843] (raylet) file_system_monitor.cc:116: /tmp/ray/session_2025-04-12_20-50-22_955978_2486 is over 95% full, available space: 0.809681 GB; capacity: 30 GB. Object creation will fail if spilling is required.\n",
      "\u001b[33m(raylet)\u001b[0m [2025-04-13 00:21:50,125 E 2809 2843] (raylet) file_system_monitor.cc:116: /tmp/ray/session_2025-04-12_20-50-22_955978_2486 is over 95% full, available space: 0.809685 GB; capacity: 30 GB. Object creation will fail if spilling is required.\n"
     ]
    },
    {
     "name": "stdout",
     "output_type": "stream",
     "text": [
      "\u001b[33m(autoscaler +3h31m36s)\u001b[0m Error: No available node types can fulfill resource request defaultdict(<class 'float'>, {'CPU': 20.0, 'GPU': 4.0}). Add suitable node types to this cluster to resolve this issue.\n"
     ]
    },
    {
     "name": "stderr",
     "output_type": "stream",
     "text": [
      "\u001b[33m(raylet)\u001b[0m [2025-04-13 00:22:00,135 E 2809 2843] (raylet) file_system_monitor.cc:116: /tmp/ray/session_2025-04-12_20-50-22_955978_2486 is over 95% full, available space: 0.809681 GB; capacity: 30 GB. Object creation will fail if spilling is required.\n",
      "\u001b[33m(raylet)\u001b[0m [2025-04-13 00:22:10,153 E 2809 2843] (raylet) file_system_monitor.cc:116: /tmp/ray/session_2025-04-12_20-50-22_955978_2486 is over 95% full, available space: 0.809681 GB; capacity: 30 GB. Object creation will fail if spilling is required.\n",
      "\u001b[33m(raylet)\u001b[0m [2025-04-13 00:22:20,175 E 2809 2843] (raylet) file_system_monitor.cc:116: /tmp/ray/session_2025-04-12_20-50-22_955978_2486 is over 95% full, available space: 0.809681 GB; capacity: 30 GB. Object creation will fail if spilling is required.\n",
      "\u001b[33m(raylet)\u001b[0m [2025-04-13 00:22:30,187 E 2809 2843] (raylet) file_system_monitor.cc:116: /tmp/ray/session_2025-04-12_20-50-22_955978_2486 is over 95% full, available space: 0.808277 GB; capacity: 30 GB. Object creation will fail if spilling is required.\n"
     ]
    },
    {
     "name": "stdout",
     "output_type": "stream",
     "text": [
      "\u001b[33m(autoscaler +3h32m11s)\u001b[0m Error: No available node types can fulfill resource request defaultdict(<class 'float'>, {'CPU': 20.0, 'GPU': 4.0}). Add suitable node types to this cluster to resolve this issue.\n"
     ]
    },
    {
     "name": "stderr",
     "output_type": "stream",
     "text": [
      "\u001b[33m(raylet)\u001b[0m [2025-04-13 00:22:40,199 E 2809 2843] (raylet) file_system_monitor.cc:116: /tmp/ray/session_2025-04-12_20-50-22_955978_2486 is over 95% full, available space: 0.808277 GB; capacity: 30 GB. Object creation will fail if spilling is required.\n",
      "\u001b[33m(raylet)\u001b[0m [2025-04-13 00:22:50,207 E 2809 2843] (raylet) file_system_monitor.cc:116: /tmp/ray/session_2025-04-12_20-50-22_955978_2486 is over 95% full, available space: 0.808277 GB; capacity: 30 GB. Object creation will fail if spilling is required.\n",
      "\u001b[33m(raylet)\u001b[0m [2025-04-13 00:23:00,216 E 2809 2843] (raylet) file_system_monitor.cc:116: /tmp/ray/session_2025-04-12_20-50-22_955978_2486 is over 95% full, available space: 0.808277 GB; capacity: 30 GB. Object creation will fail if spilling is required.\n"
     ]
    },
    {
     "name": "stdout",
     "output_type": "stream",
     "text": [
      "\u001b[33m(autoscaler +3h32m46s)\u001b[0m Error: No available node types can fulfill resource request defaultdict(<class 'float'>, {'CPU': 20.0, 'GPU': 4.0}). Add suitable node types to this cluster to resolve this issue.\n"
     ]
    },
    {
     "name": "stderr",
     "output_type": "stream",
     "text": [
      "\u001b[33m(raylet)\u001b[0m [2025-04-13 00:23:10,227 E 2809 2843] (raylet) file_system_monitor.cc:116: /tmp/ray/session_2025-04-12_20-50-22_955978_2486 is over 95% full, available space: 0.808277 GB; capacity: 30 GB. Object creation will fail if spilling is required.\n",
      "\u001b[33m(raylet)\u001b[0m [2025-04-13 00:23:20,237 E 2809 2843] (raylet) file_system_monitor.cc:116: /tmp/ray/session_2025-04-12_20-50-22_955978_2486 is over 95% full, available space: 0.808277 GB; capacity: 30 GB. Object creation will fail if spilling is required.\n",
      "\u001b[33m(raylet)\u001b[0m [2025-04-13 00:23:30,247 E 2809 2843] (raylet) file_system_monitor.cc:116: /tmp/ray/session_2025-04-12_20-50-22_955978_2486 is over 95% full, available space: 0.808277 GB; capacity: 30 GB. Object creation will fail if spilling is required.\n",
      "\u001b[33m(raylet)\u001b[0m [2025-04-13 00:23:40,257 E 2809 2843] (raylet) file_system_monitor.cc:116: /tmp/ray/session_2025-04-12_20-50-22_955978_2486 is over 95% full, available space: 0.808277 GB; capacity: 30 GB. Object creation will fail if spilling is required.\n"
     ]
    },
    {
     "name": "stdout",
     "output_type": "stream",
     "text": [
      "\u001b[33m(autoscaler +3h33m21s)\u001b[0m Error: No available node types can fulfill resource request defaultdict(<class 'float'>, {'CPU': 20.0, 'GPU': 4.0}). Add suitable node types to this cluster to resolve this issue.\n"
     ]
    },
    {
     "name": "stderr",
     "output_type": "stream",
     "text": [
      "\u001b[33m(raylet)\u001b[0m [2025-04-13 00:23:50,292 E 2809 2843] (raylet) file_system_monitor.cc:116: /tmp/ray/session_2025-04-12_20-50-22_955978_2486 is over 95% full, available space: 0.808277 GB; capacity: 30 GB. Object creation will fail if spilling is required.\n",
      "\u001b[33m(raylet)\u001b[0m [2025-04-13 00:24:00,312 E 2809 2843] (raylet) file_system_monitor.cc:116: /tmp/ray/session_2025-04-12_20-50-22_955978_2486 is over 95% full, available space: 0.808327 GB; capacity: 30 GB. Object creation will fail if spilling is required.\n",
      "\u001b[33m(raylet)\u001b[0m [2025-04-13 00:24:10,324 E 2809 2843] (raylet) file_system_monitor.cc:116: /tmp/ray/session_2025-04-12_20-50-22_955978_2486 is over 95% full, available space: 0.808327 GB; capacity: 30 GB. Object creation will fail if spilling is required.\n"
     ]
    },
    {
     "name": "stdout",
     "output_type": "stream",
     "text": [
      "\u001b[33m(autoscaler +3h33m57s)\u001b[0m Error: No available node types can fulfill resource request defaultdict(<class 'float'>, {'CPU': 20.0, 'GPU': 4.0}). Add suitable node types to this cluster to resolve this issue.\n"
     ]
    },
    {
     "name": "stderr",
     "output_type": "stream",
     "text": [
      "\u001b[33m(raylet)\u001b[0m [2025-04-13 00:24:20,337 E 2809 2843] (raylet) file_system_monitor.cc:116: /tmp/ray/session_2025-04-12_20-50-22_955978_2486 is over 95% full, available space: 0.808327 GB; capacity: 30 GB. Object creation will fail if spilling is required.\n",
      "\u001b[33m(raylet)\u001b[0m [2025-04-13 00:24:30,349 E 2809 2843] (raylet) file_system_monitor.cc:116: /tmp/ray/session_2025-04-12_20-50-22_955978_2486 is over 95% full, available space: 0.808327 GB; capacity: 30 GB. Object creation will fail if spilling is required.\n",
      "\u001b[33m(raylet)\u001b[0m [2025-04-13 00:24:40,361 E 2809 2843] (raylet) file_system_monitor.cc:116: /tmp/ray/session_2025-04-12_20-50-22_955978_2486 is over 95% full, available space: 0.808327 GB; capacity: 30 GB. Object creation will fail if spilling is required.\n",
      "\u001b[33m(raylet)\u001b[0m [2025-04-13 00:24:50,378 E 2809 2843] (raylet) file_system_monitor.cc:116: /tmp/ray/session_2025-04-12_20-50-22_955978_2486 is over 95% full, available space: 0.808327 GB; capacity: 30 GB. Object creation will fail if spilling is required.\n"
     ]
    },
    {
     "name": "stdout",
     "output_type": "stream",
     "text": [
      "\u001b[33m(autoscaler +3h34m32s)\u001b[0m Error: No available node types can fulfill resource request defaultdict(<class 'float'>, {'CPU': 20.0, 'GPU': 4.0}). Add suitable node types to this cluster to resolve this issue.\n"
     ]
    },
    {
     "name": "stderr",
     "output_type": "stream",
     "text": [
      "\u001b[33m(raylet)\u001b[0m [2025-04-13 00:25:00,399 E 2809 2843] (raylet) file_system_monitor.cc:116: /tmp/ray/session_2025-04-12_20-50-22_955978_2486 is over 95% full, available space: 0.808331 GB; capacity: 30 GB. Object creation will fail if spilling is required.\n",
      "\u001b[33m(raylet)\u001b[0m [2025-04-13 00:25:10,411 E 2809 2843] (raylet) file_system_monitor.cc:116: /tmp/ray/session_2025-04-12_20-50-22_955978_2486 is over 95% full, available space: 0.808331 GB; capacity: 30 GB. Object creation will fail if spilling is required.\n",
      "\u001b[33m(raylet)\u001b[0m [2025-04-13 00:25:20,422 E 2809 2843] (raylet) file_system_monitor.cc:116: /tmp/ray/session_2025-04-12_20-50-22_955978_2486 is over 95% full, available space: 0.808331 GB; capacity: 30 GB. Object creation will fail if spilling is required.\n"
     ]
    },
    {
     "name": "stdout",
     "output_type": "stream",
     "text": [
      "\u001b[33m(autoscaler +3h35m7s)\u001b[0m Error: No available node types can fulfill resource request defaultdict(<class 'float'>, {'CPU': 20.0, 'GPU': 4.0}). Add suitable node types to this cluster to resolve this issue.\n"
     ]
    },
    {
     "name": "stderr",
     "output_type": "stream",
     "text": [
      "\u001b[33m(raylet)\u001b[0m [2025-04-13 00:25:30,429 E 2809 2843] (raylet) file_system_monitor.cc:116: /tmp/ray/session_2025-04-12_20-50-22_955978_2486 is over 95% full, available space: 0.808331 GB; capacity: 30 GB. Object creation will fail if spilling is required.\n",
      "\u001b[33m(raylet)\u001b[0m [2025-04-13 00:25:40,439 E 2809 2843] (raylet) file_system_monitor.cc:116: /tmp/ray/session_2025-04-12_20-50-22_955978_2486 is over 95% full, available space: 0.808331 GB; capacity: 30 GB. Object creation will fail if spilling is required.\n",
      "\u001b[33m(raylet)\u001b[0m [2025-04-13 00:25:50,447 E 2809 2843] (raylet) file_system_monitor.cc:116: /tmp/ray/session_2025-04-12_20-50-22_955978_2486 is over 95% full, available space: 0.808331 GB; capacity: 30 GB. Object creation will fail if spilling is required.\n",
      "\u001b[33m(raylet)\u001b[0m [2025-04-13 00:26:00,459 E 2809 2843] (raylet) file_system_monitor.cc:116: /tmp/ray/session_2025-04-12_20-50-22_955978_2486 is over 95% full, available space: 0.808331 GB; capacity: 30 GB. Object creation will fail if spilling is required.\n"
     ]
    },
    {
     "name": "stdout",
     "output_type": "stream",
     "text": [
      "\u001b[33m(autoscaler +3h35m42s)\u001b[0m Error: No available node types can fulfill resource request defaultdict(<class 'float'>, {'CPU': 20.0, 'GPU': 4.0}). Add suitable node types to this cluster to resolve this issue.\n"
     ]
    },
    {
     "name": "stderr",
     "output_type": "stream",
     "text": [
      "\u001b[33m(raylet)\u001b[0m [2025-04-13 00:26:10,469 E 2809 2843] (raylet) file_system_monitor.cc:116: /tmp/ray/session_2025-04-12_20-50-22_955978_2486 is over 95% full, available space: 0.808319 GB; capacity: 30 GB. Object creation will fail if spilling is required.\n",
      "\u001b[33m(raylet)\u001b[0m [2025-04-13 00:26:20,480 E 2809 2843] (raylet) file_system_monitor.cc:116: /tmp/ray/session_2025-04-12_20-50-22_955978_2486 is over 95% full, available space: 0.808319 GB; capacity: 30 GB. Object creation will fail if spilling is required.\n",
      "\u001b[33m(raylet)\u001b[0m [2025-04-13 00:26:30,492 E 2809 2843] (raylet) file_system_monitor.cc:116: /tmp/ray/session_2025-04-12_20-50-22_955978_2486 is over 95% full, available space: 0.808319 GB; capacity: 30 GB. Object creation will fail if spilling is required.\n"
     ]
    },
    {
     "name": "stdout",
     "output_type": "stream",
     "text": [
      "\u001b[33m(autoscaler +3h36m17s)\u001b[0m Error: No available node types can fulfill resource request defaultdict(<class 'float'>, {'CPU': 20.0, 'GPU': 4.0}). Add suitable node types to this cluster to resolve this issue.\n"
     ]
    },
    {
     "name": "stderr",
     "output_type": "stream",
     "text": [
      "\u001b[33m(raylet)\u001b[0m [2025-04-13 00:26:40,505 E 2809 2843] (raylet) file_system_monitor.cc:116: /tmp/ray/session_2025-04-12_20-50-22_955978_2486 is over 95% full, available space: 0.808281 GB; capacity: 30 GB. Object creation will fail if spilling is required.\n",
      "\u001b[33m(raylet)\u001b[0m [2025-04-13 00:26:50,515 E 2809 2843] (raylet) file_system_monitor.cc:116: /tmp/ray/session_2025-04-12_20-50-22_955978_2486 is over 95% full, available space: 0.808281 GB; capacity: 30 GB. Object creation will fail if spilling is required.\n",
      "\u001b[33m(raylet)\u001b[0m [2025-04-13 00:27:00,529 E 2809 2843] (raylet) file_system_monitor.cc:116: /tmp/ray/session_2025-04-12_20-50-22_955978_2486 is over 95% full, available space: 0.808281 GB; capacity: 30 GB. Object creation will fail if spilling is required.\n",
      "\u001b[33m(raylet)\u001b[0m [2025-04-13 00:27:10,543 E 2809 2843] (raylet) file_system_monitor.cc:116: /tmp/ray/session_2025-04-12_20-50-22_955978_2486 is over 95% full, available space: 0.808281 GB; capacity: 30 GB. Object creation will fail if spilling is required.\n"
     ]
    },
    {
     "name": "stdout",
     "output_type": "stream",
     "text": [
      "\u001b[33m(autoscaler +3h36m52s)\u001b[0m Error: No available node types can fulfill resource request defaultdict(<class 'float'>, {'CPU': 20.0, 'GPU': 4.0}). Add suitable node types to this cluster to resolve this issue.\n"
     ]
    },
    {
     "name": "stderr",
     "output_type": "stream",
     "text": [
      "\u001b[33m(raylet)\u001b[0m [2025-04-13 00:27:20,561 E 2809 2843] (raylet) file_system_monitor.cc:116: /tmp/ray/session_2025-04-12_20-50-22_955978_2486 is over 95% full, available space: 0.808281 GB; capacity: 30 GB. Object creation will fail if spilling is required.\n",
      "\u001b[33m(raylet)\u001b[0m [2025-04-13 00:27:30,578 E 2809 2843] (raylet) file_system_monitor.cc:116: /tmp/ray/session_2025-04-12_20-50-22_955978_2486 is over 95% full, available space: 0.808281 GB; capacity: 30 GB. Object creation will fail if spilling is required.\n",
      "\u001b[33m(raylet)\u001b[0m [2025-04-13 00:27:40,592 E 2809 2843] (raylet) file_system_monitor.cc:116: /tmp/ray/session_2025-04-12_20-50-22_955978_2486 is over 95% full, available space: 0.808281 GB; capacity: 30 GB. Object creation will fail if spilling is required.\n"
     ]
    },
    {
     "name": "stdout",
     "output_type": "stream",
     "text": [
      "\u001b[33m(autoscaler +3h37m27s)\u001b[0m Error: No available node types can fulfill resource request defaultdict(<class 'float'>, {'CPU': 20.0, 'GPU': 4.0}). Add suitable node types to this cluster to resolve this issue.\n"
     ]
    },
    {
     "name": "stderr",
     "output_type": "stream",
     "text": [
      "\u001b[33m(raylet)\u001b[0m [2025-04-13 00:27:50,602 E 2809 2843] (raylet) file_system_monitor.cc:116: /tmp/ray/session_2025-04-12_20-50-22_955978_2486 is over 95% full, available space: 0.808281 GB; capacity: 30 GB. Object creation will fail if spilling is required.\n",
      "\u001b[33m(raylet)\u001b[0m [2025-04-13 00:28:00,613 E 2809 2843] (raylet) file_system_monitor.cc:116: /tmp/ray/session_2025-04-12_20-50-22_955978_2486 is over 95% full, available space: 0.808281 GB; capacity: 30 GB. Object creation will fail if spilling is required.\n",
      "\u001b[33m(raylet)\u001b[0m [2025-04-13 00:28:10,622 E 2809 2843] (raylet) file_system_monitor.cc:116: /tmp/ray/session_2025-04-12_20-50-22_955978_2486 is over 95% full, available space: 0.808281 GB; capacity: 30 GB. Object creation will fail if spilling is required.\n",
      "\u001b[33m(raylet)\u001b[0m [2025-04-13 00:28:20,632 E 2809 2843] (raylet) file_system_monitor.cc:116: /tmp/ray/session_2025-04-12_20-50-22_955978_2486 is over 95% full, available space: 0.808281 GB; capacity: 30 GB. Object creation will fail if spilling is required.\n"
     ]
    },
    {
     "name": "stdout",
     "output_type": "stream",
     "text": [
      "\u001b[33m(autoscaler +3h38m2s)\u001b[0m Error: No available node types can fulfill resource request defaultdict(<class 'float'>, {'CPU': 20.0, 'GPU': 4.0}). Add suitable node types to this cluster to resolve this issue.\n"
     ]
    },
    {
     "name": "stderr",
     "output_type": "stream",
     "text": [
      "\u001b[33m(raylet)\u001b[0m [2025-04-13 00:28:30,643 E 2809 2843] (raylet) file_system_monitor.cc:116: /tmp/ray/session_2025-04-12_20-50-22_955978_2486 is over 95% full, available space: 0.808159 GB; capacity: 30 GB. Object creation will fail if spilling is required.\n",
      "\u001b[33m(raylet)\u001b[0m [2025-04-13 00:28:40,656 E 2809 2843] (raylet) file_system_monitor.cc:116: /tmp/ray/session_2025-04-12_20-50-22_955978_2486 is over 95% full, available space: 0.808159 GB; capacity: 30 GB. Object creation will fail if spilling is required.\n",
      "\u001b[33m(raylet)\u001b[0m [2025-04-13 00:28:50,669 E 2809 2843] (raylet) file_system_monitor.cc:116: /tmp/ray/session_2025-04-12_20-50-22_955978_2486 is over 95% full, available space: 0.808159 GB; capacity: 30 GB. Object creation will fail if spilling is required.\n"
     ]
    },
    {
     "name": "stdout",
     "output_type": "stream",
     "text": [
      "\u001b[33m(autoscaler +3h38m37s)\u001b[0m Error: No available node types can fulfill resource request defaultdict(<class 'float'>, {'CPU': 20.0, 'GPU': 4.0}). Add suitable node types to this cluster to resolve this issue.\n"
     ]
    },
    {
     "name": "stderr",
     "output_type": "stream",
     "text": [
      "\u001b[33m(raylet)\u001b[0m [2025-04-13 00:29:00,678 E 2809 2843] (raylet) file_system_monitor.cc:116: /tmp/ray/session_2025-04-12_20-50-22_955978_2486 is over 95% full, available space: 0.808159 GB; capacity: 30 GB. Object creation will fail if spilling is required.\n",
      "\u001b[33m(raylet)\u001b[0m [2025-04-13 00:29:10,688 E 2809 2843] (raylet) file_system_monitor.cc:116: /tmp/ray/session_2025-04-12_20-50-22_955978_2486 is over 95% full, available space: 0.808205 GB; capacity: 30 GB. Object creation will fail if spilling is required.\n",
      "\u001b[33m(raylet)\u001b[0m [2025-04-13 00:29:20,698 E 2809 2843] (raylet) file_system_monitor.cc:116: /tmp/ray/session_2025-04-12_20-50-22_955978_2486 is over 95% full, available space: 0.808205 GB; capacity: 30 GB. Object creation will fail if spilling is required.\n",
      "\u001b[33m(raylet)\u001b[0m [2025-04-13 00:29:30,708 E 2809 2843] (raylet) file_system_monitor.cc:116: /tmp/ray/session_2025-04-12_20-50-22_955978_2486 is over 95% full, available space: 0.808205 GB; capacity: 30 GB. Object creation will fail if spilling is required.\n"
     ]
    },
    {
     "name": "stdout",
     "output_type": "stream",
     "text": [
      "\u001b[33m(autoscaler +3h39m12s)\u001b[0m Error: No available node types can fulfill resource request defaultdict(<class 'float'>, {'CPU': 20.0, 'GPU': 4.0}). Add suitable node types to this cluster to resolve this issue.\n"
     ]
    },
    {
     "name": "stderr",
     "output_type": "stream",
     "text": [
      "\u001b[33m(raylet)\u001b[0m [2025-04-13 00:29:40,719 E 2809 2843] (raylet) file_system_monitor.cc:116: /tmp/ray/session_2025-04-12_20-50-22_955978_2486 is over 95% full, available space: 0.808205 GB; capacity: 30 GB. Object creation will fail if spilling is required.\n",
      "\u001b[33m(raylet)\u001b[0m [2025-04-13 00:29:50,729 E 2809 2843] (raylet) file_system_monitor.cc:116: /tmp/ray/session_2025-04-12_20-50-22_955978_2486 is over 95% full, available space: 0.808205 GB; capacity: 30 GB. Object creation will fail if spilling is required.\n",
      "\u001b[33m(raylet)\u001b[0m [2025-04-13 00:30:00,738 E 2809 2843] (raylet) file_system_monitor.cc:116: /tmp/ray/session_2025-04-12_20-50-22_955978_2486 is over 95% full, available space: 0.808205 GB; capacity: 30 GB. Object creation will fail if spilling is required.\n"
     ]
    },
    {
     "name": "stdout",
     "output_type": "stream",
     "text": [
      "\u001b[33m(autoscaler +3h39m47s)\u001b[0m Error: No available node types can fulfill resource request defaultdict(<class 'float'>, {'CPU': 20.0, 'GPU': 4.0}). Add suitable node types to this cluster to resolve this issue.\n"
     ]
    },
    {
     "name": "stderr",
     "output_type": "stream",
     "text": [
      "\u001b[33m(raylet)\u001b[0m [2025-04-13 00:30:10,748 E 2809 2843] (raylet) file_system_monitor.cc:116: /tmp/ray/session_2025-04-12_20-50-22_955978_2486 is over 95% full, available space: 0.808205 GB; capacity: 30 GB. Object creation will fail if spilling is required.\n",
      "\u001b[33m(raylet)\u001b[0m [2025-04-13 00:30:20,758 E 2809 2843] (raylet) file_system_monitor.cc:116: /tmp/ray/session_2025-04-12_20-50-22_955978_2486 is over 95% full, available space: 0.808205 GB; capacity: 30 GB. Object creation will fail if spilling is required.\n",
      "\u001b[33m(raylet)\u001b[0m [2025-04-13 00:30:30,767 E 2809 2843] (raylet) file_system_monitor.cc:116: /tmp/ray/session_2025-04-12_20-50-22_955978_2486 is over 95% full, available space: 0.808205 GB; capacity: 30 GB. Object creation will fail if spilling is required.\n",
      "\u001b[33m(raylet)\u001b[0m [2025-04-13 00:30:40,778 E 2809 2843] (raylet) file_system_monitor.cc:116: /tmp/ray/session_2025-04-12_20-50-22_955978_2486 is over 95% full, available space: 0.808205 GB; capacity: 30 GB. Object creation will fail if spilling is required.\n"
     ]
    },
    {
     "name": "stdout",
     "output_type": "stream",
     "text": [
      "\u001b[33m(autoscaler +3h40m22s)\u001b[0m Error: No available node types can fulfill resource request defaultdict(<class 'float'>, {'CPU': 20.0, 'GPU': 4.0}). Add suitable node types to this cluster to resolve this issue.\n"
     ]
    },
    {
     "name": "stderr",
     "output_type": "stream",
     "text": [
      "\u001b[33m(raylet)\u001b[0m [2025-04-13 00:30:50,789 E 2809 2843] (raylet) file_system_monitor.cc:116: /tmp/ray/session_2025-04-12_20-50-22_955978_2486 is over 95% full, available space: 0.808205 GB; capacity: 30 GB. Object creation will fail if spilling is required.\n",
      "\u001b[33m(raylet)\u001b[0m [2025-04-13 00:31:00,800 E 2809 2843] (raylet) file_system_monitor.cc:116: /tmp/ray/session_2025-04-12_20-50-22_955978_2486 is over 95% full, available space: 0.808205 GB; capacity: 30 GB. Object creation will fail if spilling is required.\n",
      "\u001b[33m(raylet)\u001b[0m [2025-04-13 00:31:10,809 E 2809 2843] (raylet) file_system_monitor.cc:116: /tmp/ray/session_2025-04-12_20-50-22_955978_2486 is over 95% full, available space: 0.808205 GB; capacity: 30 GB. Object creation will fail if spilling is required.\n"
     ]
    },
    {
     "name": "stdout",
     "output_type": "stream",
     "text": [
      "\u001b[33m(autoscaler +3h40m57s)\u001b[0m Error: No available node types can fulfill resource request defaultdict(<class 'float'>, {'CPU': 20.0, 'GPU': 4.0}). Add suitable node types to this cluster to resolve this issue.\n"
     ]
    },
    {
     "name": "stderr",
     "output_type": "stream",
     "text": [
      "\u001b[33m(raylet)\u001b[0m [2025-04-13 00:31:20,819 E 2809 2843] (raylet) file_system_monitor.cc:116: /tmp/ray/session_2025-04-12_20-50-22_955978_2486 is over 95% full, available space: 0.808205 GB; capacity: 30 GB. Object creation will fail if spilling is required.\n",
      "\u001b[33m(raylet)\u001b[0m [2025-04-13 00:31:30,829 E 2809 2843] (raylet) file_system_monitor.cc:116: /tmp/ray/session_2025-04-12_20-50-22_955978_2486 is over 95% full, available space: 0.806984 GB; capacity: 30 GB. Object creation will fail if spilling is required.\n",
      "\u001b[33m(raylet)\u001b[0m [2025-04-13 00:31:40,840 E 2809 2843] (raylet) file_system_monitor.cc:116: /tmp/ray/session_2025-04-12_20-50-22_955978_2486 is over 95% full, available space: 0.806984 GB; capacity: 30 GB. Object creation will fail if spilling is required.\n",
      "\u001b[33m(raylet)\u001b[0m [2025-04-13 00:31:50,850 E 2809 2843] (raylet) file_system_monitor.cc:116: /tmp/ray/session_2025-04-12_20-50-22_955978_2486 is over 95% full, available space: 0.806984 GB; capacity: 30 GB. Object creation will fail if spilling is required.\n"
     ]
    },
    {
     "name": "stdout",
     "output_type": "stream",
     "text": [
      "\u001b[33m(autoscaler +3h41m33s)\u001b[0m Error: No available node types can fulfill resource request defaultdict(<class 'float'>, {'CPU': 20.0, 'GPU': 4.0}). Add suitable node types to this cluster to resolve this issue.\n"
     ]
    },
    {
     "name": "stderr",
     "output_type": "stream",
     "text": [
      "\u001b[33m(raylet)\u001b[0m [2025-04-13 00:32:00,859 E 2809 2843] (raylet) file_system_monitor.cc:116: /tmp/ray/session_2025-04-12_20-50-22_955978_2486 is over 95% full, available space: 0.806984 GB; capacity: 30 GB. Object creation will fail if spilling is required.\n",
      "\u001b[33m(raylet)\u001b[0m [2025-04-13 00:32:10,869 E 2809 2843] (raylet) file_system_monitor.cc:116: /tmp/ray/session_2025-04-12_20-50-22_955978_2486 is over 95% full, available space: 0.806984 GB; capacity: 30 GB. Object creation will fail if spilling is required.\n",
      "\u001b[33m(raylet)\u001b[0m [2025-04-13 00:32:20,879 E 2809 2843] (raylet) file_system_monitor.cc:116: /tmp/ray/session_2025-04-12_20-50-22_955978_2486 is over 95% full, available space: 0.806984 GB; capacity: 30 GB. Object creation will fail if spilling is required.\n"
     ]
    },
    {
     "name": "stdout",
     "output_type": "stream",
     "text": [
      "\u001b[33m(autoscaler +3h42m8s)\u001b[0m Error: No available node types can fulfill resource request defaultdict(<class 'float'>, {'CPU': 20.0, 'GPU': 4.0}). Add suitable node types to this cluster to resolve this issue.\n"
     ]
    },
    {
     "name": "stderr",
     "output_type": "stream",
     "text": [
      "\u001b[33m(raylet)\u001b[0m [2025-04-13 00:32:30,889 E 2809 2843] (raylet) file_system_monitor.cc:116: /tmp/ray/session_2025-04-12_20-50-22_955978_2486 is over 95% full, available space: 0.806984 GB; capacity: 30 GB. Object creation will fail if spilling is required.\n",
      "\u001b[33m(raylet)\u001b[0m [2025-04-13 00:32:40,898 E 2809 2843] (raylet) file_system_monitor.cc:116: /tmp/ray/session_2025-04-12_20-50-22_955978_2486 is over 95% full, available space: 0.806984 GB; capacity: 30 GB. Object creation will fail if spilling is required.\n",
      "\u001b[33m(raylet)\u001b[0m [2025-04-13 00:32:50,908 E 2809 2843] (raylet) file_system_monitor.cc:116: /tmp/ray/session_2025-04-12_20-50-22_955978_2486 is over 95% full, available space: 0.806984 GB; capacity: 30 GB. Object creation will fail if spilling is required.\n",
      "\u001b[33m(raylet)\u001b[0m [2025-04-13 00:33:00,918 E 2809 2843] (raylet) file_system_monitor.cc:116: /tmp/ray/session_2025-04-12_20-50-22_955978_2486 is over 95% full, available space: 0.806984 GB; capacity: 30 GB. Object creation will fail if spilling is required.\n"
     ]
    },
    {
     "name": "stdout",
     "output_type": "stream",
     "text": [
      "\u001b[33m(autoscaler +3h42m43s)\u001b[0m Error: No available node types can fulfill resource request defaultdict(<class 'float'>, {'CPU': 20.0, 'GPU': 4.0}). Add suitable node types to this cluster to resolve this issue.\n"
     ]
    },
    {
     "name": "stderr",
     "output_type": "stream",
     "text": [
      "\u001b[33m(raylet)\u001b[0m [2025-04-13 00:33:10,930 E 2809 2843] (raylet) file_system_monitor.cc:116: /tmp/ray/session_2025-04-12_20-50-22_955978_2486 is over 95% full, available space: 0.807011 GB; capacity: 30 GB. Object creation will fail if spilling is required.\n",
      "\u001b[33m(raylet)\u001b[0m [2025-04-13 00:33:20,941 E 2809 2843] (raylet) file_system_monitor.cc:116: /tmp/ray/session_2025-04-12_20-50-22_955978_2486 is over 95% full, available space: 0.807011 GB; capacity: 30 GB. Object creation will fail if spilling is required.\n",
      "\u001b[33m(raylet)\u001b[0m [2025-04-13 00:33:30,952 E 2809 2843] (raylet) file_system_monitor.cc:116: /tmp/ray/session_2025-04-12_20-50-22_955978_2486 is over 95% full, available space: 0.807011 GB; capacity: 30 GB. Object creation will fail if spilling is required.\n"
     ]
    },
    {
     "name": "stdout",
     "output_type": "stream",
     "text": [
      "\u001b[33m(autoscaler +3h43m18s)\u001b[0m Error: No available node types can fulfill resource request defaultdict(<class 'float'>, {'CPU': 20.0, 'GPU': 4.0}). Add suitable node types to this cluster to resolve this issue.\n"
     ]
    },
    {
     "name": "stderr",
     "output_type": "stream",
     "text": [
      "\u001b[33m(raylet)\u001b[0m [2025-04-13 00:33:40,963 E 2809 2843] (raylet) file_system_monitor.cc:116: /tmp/ray/session_2025-04-12_20-50-22_955978_2486 is over 95% full, available space: 0.807011 GB; capacity: 30 GB. Object creation will fail if spilling is required.\n",
      "\u001b[33m(raylet)\u001b[0m [2025-04-13 00:33:50,974 E 2809 2843] (raylet) file_system_monitor.cc:116: /tmp/ray/session_2025-04-12_20-50-22_955978_2486 is over 95% full, available space: 0.807011 GB; capacity: 30 GB. Object creation will fail if spilling is required.\n",
      "\u001b[33m(raylet)\u001b[0m [2025-04-13 00:34:00,986 E 2809 2843] (raylet) file_system_monitor.cc:116: /tmp/ray/session_2025-04-12_20-50-22_955978_2486 is over 95% full, available space: 0.807011 GB; capacity: 30 GB. Object creation will fail if spilling is required.\n",
      "\u001b[33m(raylet)\u001b[0m [2025-04-13 00:34:10,994 E 2809 2843] (raylet) file_system_monitor.cc:116: /tmp/ray/session_2025-04-12_20-50-22_955978_2486 is over 95% full, available space: 0.807011 GB; capacity: 30 GB. Object creation will fail if spilling is required.\n"
     ]
    },
    {
     "name": "stdout",
     "output_type": "stream",
     "text": [
      "\u001b[33m(autoscaler +3h43m53s)\u001b[0m Error: No available node types can fulfill resource request defaultdict(<class 'float'>, {'CPU': 20.0, 'GPU': 4.0}). Add suitable node types to this cluster to resolve this issue.\n"
     ]
    },
    {
     "name": "stderr",
     "output_type": "stream",
     "text": [
      "\u001b[33m(raylet)\u001b[0m [2025-04-13 00:34:21,004 E 2809 2843] (raylet) file_system_monitor.cc:116: /tmp/ray/session_2025-04-12_20-50-22_955978_2486 is over 95% full, available space: 0.807011 GB; capacity: 30 GB. Object creation will fail if spilling is required.\n",
      "\u001b[33m(raylet)\u001b[0m [2025-04-13 00:34:31,014 E 2809 2843] (raylet) file_system_monitor.cc:116: /tmp/ray/session_2025-04-12_20-50-22_955978_2486 is over 95% full, available space: 0.806889 GB; capacity: 30 GB. Object creation will fail if spilling is required.\n",
      "\u001b[33m(raylet)\u001b[0m [2025-04-13 00:34:41,023 E 2809 2843] (raylet) file_system_monitor.cc:116: /tmp/ray/session_2025-04-12_20-50-22_955978_2486 is over 95% full, available space: 0.806889 GB; capacity: 30 GB. Object creation will fail if spilling is required.\n"
     ]
    },
    {
     "name": "stdout",
     "output_type": "stream",
     "text": [
      "\u001b[33m(autoscaler +3h44m28s)\u001b[0m Error: No available node types can fulfill resource request defaultdict(<class 'float'>, {'CPU': 20.0, 'GPU': 4.0}). Add suitable node types to this cluster to resolve this issue.\n"
     ]
    },
    {
     "name": "stderr",
     "output_type": "stream",
     "text": [
      "\u001b[33m(raylet)\u001b[0m [2025-04-13 00:34:51,031 E 2809 2843] (raylet) file_system_monitor.cc:116: /tmp/ray/session_2025-04-12_20-50-22_955978_2486 is over 95% full, available space: 0.806889 GB; capacity: 30 GB. Object creation will fail if spilling is required.\n",
      "\u001b[33m(raylet)\u001b[0m [2025-04-13 00:35:01,041 E 2809 2843] (raylet) file_system_monitor.cc:116: /tmp/ray/session_2025-04-12_20-50-22_955978_2486 is over 95% full, available space: 0.806889 GB; capacity: 30 GB. Object creation will fail if spilling is required.\n",
      "\u001b[33m(raylet)\u001b[0m [2025-04-13 00:35:11,049 E 2809 2843] (raylet) file_system_monitor.cc:116: /tmp/ray/session_2025-04-12_20-50-22_955978_2486 is over 95% full, available space: 0.806889 GB; capacity: 30 GB. Object creation will fail if spilling is required.\n",
      "\u001b[33m(raylet)\u001b[0m [2025-04-13 00:35:21,059 E 2809 2843] (raylet) file_system_monitor.cc:116: /tmp/ray/session_2025-04-12_20-50-22_955978_2486 is over 95% full, available space: 0.806889 GB; capacity: 30 GB. Object creation will fail if spilling is required.\n"
     ]
    },
    {
     "name": "stdout",
     "output_type": "stream",
     "text": [
      "\u001b[33m(autoscaler +3h45m3s)\u001b[0m Error: No available node types can fulfill resource request defaultdict(<class 'float'>, {'CPU': 20.0, 'GPU': 4.0}). Add suitable node types to this cluster to resolve this issue.\n"
     ]
    },
    {
     "name": "stderr",
     "output_type": "stream",
     "text": [
      "\u001b[33m(raylet)\u001b[0m [2025-04-13 00:35:31,068 E 2809 2843] (raylet) file_system_monitor.cc:116: /tmp/ray/session_2025-04-12_20-50-22_955978_2486 is over 95% full, available space: 0.806889 GB; capacity: 30 GB. Object creation will fail if spilling is required.\n"
     ]
    }
   ],
   "source": [
    "# Build a local ray cluster. The head node and worker node are on this machine\n",
    "ray.init()"
   ]
  },
  {
   "cell_type": "markdown",
   "id": "a127e4e4",
   "metadata": {},
   "source": [
    "Implement an Accumulator class."
   ]
  },
  {
   "cell_type": "code",
   "execution_count": 4,
   "id": "20e7b9a3",
   "metadata": {
    "tags": []
   },
   "outputs": [],
   "source": [
    "@ray.remote\n",
    "class Accumulator:\n",
    "    def __init__(self):\n",
    "        self.value = 0\n",
    "        \n",
    "    def add(self, x):\n",
    "        self.value += x\n",
    "        \n",
    "    def get_value(self):\n",
    "        return self.value"
   ]
  },
  {
   "cell_type": "code",
   "execution_count": 5,
   "id": "3b80098c",
   "metadata": {
    "tags": []
   },
   "outputs": [],
   "source": [
    "# Instantiate an accumulator. Accumulator can be viewed as a process, acting as an RPC service.\n",
    "accumulator = Accumulator.remote()"
   ]
  },
  {
   "cell_type": "code",
   "execution_count": 6,
   "id": "b14b1009",
   "metadata": {
    "tags": []
   },
   "outputs": [
    {
     "name": "stdout",
     "output_type": "stream",
     "text": [
      "0\n"
     ]
    }
   ],
   "source": [
    "value_ref = accumulator.get_value.remote() # Check the current value. Note that this function returns immediately and does not actually wait for the remote execution to complete.\n",
    "# Get the value\n",
    "value = ray.get(value_ref)\n",
    "print(value)"
   ]
  },
  {
   "cell_type": "code",
   "execution_count": 7,
   "id": "513a84b3",
   "metadata": {
    "tags": []
   },
   "outputs": [
    {
     "name": "stdout",
     "output_type": "stream",
     "text": [
      "10\n"
     ]
    }
   ],
   "source": [
    "# Accumulate, then check the result.\n",
    "accumulator.add.remote(10)  # Similarly, the 'add' here will return immediately.\n",
    "new_value = ray.get(accumulator.get_value.remote())\n",
    "print(new_value)"
   ]
  },
  {
   "cell_type": "markdown",
   "id": "3c332fe0",
   "metadata": {},
   "source": [
    "## Chapter 2: Resource Pool and RayWorkerGroup\n",
    "In the previous example, it was a simple single-process worker. \n",
    "In this example, we implement a worker with a GPU and form a RayWorkerGroup. Within this RayWorkerGroup, we implement a simple operation of an accumulator."
   ]
  },
  {
   "cell_type": "code",
   "execution_count": 8,
   "id": "04229afb",
   "metadata": {
    "tags": []
   },
   "outputs": [],
   "source": [
    "from verl.single_controller.ray.base import RayResourcePool, RayClassWithInitArgs, RayWorkerGroup, merge_resource_pool\n",
    "from verl.single_controller.base import Worker"
   ]
  },
  {
   "cell_type": "code",
   "execution_count": 9,
   "id": "0d0dbd58",
   "metadata": {
    "tags": []
   },
   "outputs": [],
   "source": [
    "resource_pool = RayResourcePool([4], use_gpu=True)"
   ]
  },
  {
   "cell_type": "code",
   "execution_count": 10,
   "id": "68f6838a",
   "metadata": {
    "tags": []
   },
   "outputs": [],
   "source": [
    "@ray.remote\n",
    "class GPUAccumulator(Worker):\n",
    "\n",
    "    def __init__(self) -> None:\n",
    "        super().__init__()\n",
    "        # The initial value of each rank is the same as the rank\n",
    "        self.value = torch.zeros(size=(1,), device='cuda') + self.rank\n",
    "\n",
    "    def add(self, x):\n",
    "        self.value += x\n",
    "        print(f'rank {self.rank}, value: {self.value}')\n",
    "        return self.value.cpu()\n"
   ]
  },
  {
   "cell_type": "code",
   "execution_count": 11,
   "id": "23aad8fe",
   "metadata": {
    "tags": []
   },
   "outputs": [
    {
     "name": "stdout",
     "output_type": "stream",
     "text": [
      "\u001b[36m(autoscaler +8m8s)\u001b[0m Tip: use `ray status` to view detailed cluster status. To disable these messages, set RAY_SCHEDULER_EVENTS=0.\n",
      "\u001b[33m(autoscaler +8m8s)\u001b[0m Error: No available node types can fulfill resource request defaultdict(<class 'float'>, {'CPU': 20.0, 'GPU': 4.0}). Add suitable node types to this cluster to resolve this issue.\n"
     ]
    },
    {
     "name": "stderr",
     "output_type": "stream",
     "text": [
      "\u001b[33m(raylet)\u001b[0m [2025-04-12 20:58:35,307 E 2809 2843] (raylet) file_system_monitor.cc:116: /tmp/ray/session_2025-04-12_20-50-22_955978_2486 is over 95% full, available space: 0.84568 GB; capacity: 30 GB. Object creation will fail if spilling is required.\n",
      "\u001b[33m(raylet)\u001b[0m [2025-04-12 20:58:45,315 E 2809 2843] (raylet) file_system_monitor.cc:116: /tmp/ray/session_2025-04-12_20-50-22_955978_2486 is over 95% full, available space: 0.84568 GB; capacity: 30 GB. Object creation will fail if spilling is required.\n",
      "\u001b[33m(raylet)\u001b[0m [2025-04-12 20:58:55,323 E 2809 2843] (raylet) file_system_monitor.cc:116: /tmp/ray/session_2025-04-12_20-50-22_955978_2486 is over 95% full, available space: 0.84568 GB; capacity: 30 GB. Object creation will fail if spilling is required.\n"
     ]
    },
    {
     "ename": "KeyboardInterrupt",
     "evalue": "",
     "output_type": "error",
     "traceback": [
      "\u001b[0;31m---------------------------------------------------------------------------\u001b[0m",
      "\u001b[0;31mKeyboardInterrupt\u001b[0m                         Traceback (most recent call last)",
      "Cell \u001b[0;32mIn[11], line 3\u001b[0m\n\u001b[1;32m      1\u001b[0m \u001b[38;5;66;03m# Each worker's initial value is its rank, and then each rank's value is incremented by 1, so the values obtained on each rank are [1, 2, 3, 4]\u001b[39;00m\n\u001b[1;32m      2\u001b[0m class_with_args \u001b[38;5;241m=\u001b[39m RayClassWithInitArgs(\u001b[38;5;28mcls\u001b[39m\u001b[38;5;241m=\u001b[39mGPUAccumulator)\n\u001b[0;32m----> 3\u001b[0m worker_group \u001b[38;5;241m=\u001b[39m \u001b[43mRayWorkerGroup\u001b[49m\u001b[43m(\u001b[49m\u001b[43mresource_pool\u001b[49m\u001b[43m,\u001b[49m\u001b[43m \u001b[49m\u001b[43mclass_with_args\u001b[49m\u001b[43m)\u001b[49m\n\u001b[1;32m      4\u001b[0m \u001b[38;5;28mprint\u001b[39m(worker_group\u001b[38;5;241m.\u001b[39mexecute_all_sync(\u001b[38;5;124m'\u001b[39m\u001b[38;5;124madd\u001b[39m\u001b[38;5;124m'\u001b[39m, x\u001b[38;5;241m=\u001b[39m[\u001b[38;5;241m1\u001b[39m,\u001b[38;5;241m1\u001b[39m,\u001b[38;5;241m1\u001b[39m,\u001b[38;5;241m1\u001b[39m]))\n",
      "File \u001b[0;32m/ai/TinyZero/verl/single_controller/ray/base.py:197\u001b[0m, in \u001b[0;36mRayWorkerGroup.__init__\u001b[0;34m(self, resource_pool, ray_cls_with_init, bin_pack, name_prefix, detached, worker_names, **kwargs)\u001b[0m\n\u001b[1;32m    195\u001b[0m     \u001b[38;5;28mself\u001b[39m\u001b[38;5;241m.\u001b[39m_init_with_detached_workers(worker_names\u001b[38;5;241m=\u001b[39mworker_names)\n\u001b[1;32m    196\u001b[0m \u001b[38;5;28;01melse\u001b[39;00m:\n\u001b[0;32m--> 197\u001b[0m     \u001b[38;5;28;43mself\u001b[39;49m\u001b[38;5;241;43m.\u001b[39;49m\u001b[43m_init_with_resource_pool\u001b[49m\u001b[43m(\u001b[49m\u001b[43mresource_pool\u001b[49m\u001b[38;5;241;43m=\u001b[39;49m\u001b[43mresource_pool\u001b[49m\u001b[43m,\u001b[49m\n\u001b[1;32m    198\u001b[0m \u001b[43m                                  \u001b[49m\u001b[43mray_cls_with_init\u001b[49m\u001b[38;5;241;43m=\u001b[39;49m\u001b[43mray_cls_with_init\u001b[49m\u001b[43m,\u001b[49m\n\u001b[1;32m    199\u001b[0m \u001b[43m                                  \u001b[49m\u001b[43mbin_pack\u001b[49m\u001b[38;5;241;43m=\u001b[39;49m\u001b[43mbin_pack\u001b[49m\u001b[43m,\u001b[49m\n\u001b[1;32m    200\u001b[0m \u001b[43m                                  \u001b[49m\u001b[43mdetached\u001b[49m\u001b[38;5;241;43m=\u001b[39;49m\u001b[43mdetached\u001b[49m\u001b[43m)\u001b[49m\n\u001b[1;32m    202\u001b[0m \u001b[38;5;28;01mif\u001b[39;00m ray_cls_with_init \u001b[38;5;129;01mis\u001b[39;00m \u001b[38;5;129;01mnot\u001b[39;00m \u001b[38;5;28;01mNone\u001b[39;00m:\n\u001b[1;32m    203\u001b[0m     \u001b[38;5;28mself\u001b[39m\u001b[38;5;241m.\u001b[39m_bind_worker_method(\u001b[38;5;28mself\u001b[39m\u001b[38;5;241m.\u001b[39mray_cls_with_init\u001b[38;5;241m.\u001b[39mcls, func_generator)\n",
      "File \u001b[0;32m/ai/TinyZero/verl/single_controller/ray/base.py:220\u001b[0m, in \u001b[0;36mRayWorkerGroup._init_with_resource_pool\u001b[0;34m(self, resource_pool, ray_cls_with_init, bin_pack, detached)\u001b[0m\n\u001b[1;32m    218\u001b[0m \u001b[38;5;28;01mif\u001b[39;00m bin_pack:\n\u001b[1;32m    219\u001b[0m     strategy \u001b[38;5;241m=\u001b[39m \u001b[38;5;124m\"\u001b[39m\u001b[38;5;124mSTRICT_PACK\u001b[39m\u001b[38;5;124m\"\u001b[39m\n\u001b[0;32m--> 220\u001b[0m pgs \u001b[38;5;241m=\u001b[39m \u001b[43mresource_pool\u001b[49m\u001b[38;5;241;43m.\u001b[39;49m\u001b[43mget_placement_groups\u001b[49m\u001b[43m(\u001b[49m\u001b[43mstrategy\u001b[49m\u001b[38;5;241;43m=\u001b[39;49m\u001b[43mstrategy\u001b[49m\u001b[43m)\u001b[49m\n\u001b[1;32m    221\u001b[0m world_size \u001b[38;5;241m=\u001b[39m resource_pool\u001b[38;5;241m.\u001b[39mworld_size\n\u001b[1;32m    222\u001b[0m \u001b[38;5;28mself\u001b[39m\u001b[38;5;241m.\u001b[39m_world_size \u001b[38;5;241m=\u001b[39m world_size\n",
      "File \u001b[0;32m/ai/TinyZero/verl/single_controller/ray/base.py:85\u001b[0m, in \u001b[0;36mRayResourcePool.get_placement_groups\u001b[0;34m(self, strategy, name)\u001b[0m\n\u001b[1;32m     78\u001b[0m lifetime \u001b[38;5;241m=\u001b[39m \u001b[38;5;124m'\u001b[39m\u001b[38;5;124mdetached\u001b[39m\u001b[38;5;124m'\u001b[39m \u001b[38;5;28;01mif\u001b[39;00m \u001b[38;5;28mself\u001b[39m\u001b[38;5;241m.\u001b[39mdetached \u001b[38;5;28;01melse\u001b[39;00m \u001b[38;5;28;01mNone\u001b[39;00m\n\u001b[1;32m     80\u001b[0m pgs \u001b[38;5;241m=\u001b[39m [\n\u001b[1;32m     81\u001b[0m     placement_group(bundles\u001b[38;5;241m=\u001b[39mbundles, strategy\u001b[38;5;241m=\u001b[39mstrategy, name\u001b[38;5;241m=\u001b[39mpg_name_prefix \u001b[38;5;241m+\u001b[39m \u001b[38;5;28mstr\u001b[39m(idx), lifetime\u001b[38;5;241m=\u001b[39mlifetime)\n\u001b[1;32m     82\u001b[0m     \u001b[38;5;28;01mfor\u001b[39;00m idx, bundles \u001b[38;5;129;01min\u001b[39;00m \u001b[38;5;28menumerate\u001b[39m(pg_scheme)\n\u001b[1;32m     83\u001b[0m ]\n\u001b[0;32m---> 85\u001b[0m \u001b[43mray\u001b[49m\u001b[38;5;241;43m.\u001b[39;49m\u001b[43mget\u001b[49m\u001b[43m(\u001b[49m\u001b[43m[\u001b[49m\u001b[43mpg\u001b[49m\u001b[38;5;241;43m.\u001b[39;49m\u001b[43mready\u001b[49m\u001b[43m(\u001b[49m\u001b[43m)\u001b[49m\u001b[43m \u001b[49m\u001b[38;5;28;43;01mfor\u001b[39;49;00m\u001b[43m \u001b[49m\u001b[43mpg\u001b[49m\u001b[43m \u001b[49m\u001b[38;5;129;43;01min\u001b[39;49;00m\u001b[43m \u001b[49m\u001b[43mpgs\u001b[49m\u001b[43m]\u001b[49m\u001b[43m)\u001b[49m\n\u001b[1;32m     87\u001b[0m \u001b[38;5;28mself\u001b[39m\u001b[38;5;241m.\u001b[39mpgs \u001b[38;5;241m=\u001b[39m pgs\n\u001b[1;32m     88\u001b[0m \u001b[38;5;28;01mreturn\u001b[39;00m pgs\n",
      "File \u001b[0;32m~/miniconda3/envs/zero/lib/python3.9/site-packages/ray/_private/auto_init_hook.py:21\u001b[0m, in \u001b[0;36mwrap_auto_init.<locals>.auto_init_wrapper\u001b[0;34m(*args, **kwargs)\u001b[0m\n\u001b[1;32m     18\u001b[0m \u001b[38;5;129m@wraps\u001b[39m(fn)\n\u001b[1;32m     19\u001b[0m \u001b[38;5;28;01mdef\u001b[39;00m\u001b[38;5;250m \u001b[39m\u001b[38;5;21mauto_init_wrapper\u001b[39m(\u001b[38;5;241m*\u001b[39margs, \u001b[38;5;241m*\u001b[39m\u001b[38;5;241m*\u001b[39mkwargs):\n\u001b[1;32m     20\u001b[0m     auto_init_ray()\n\u001b[0;32m---> 21\u001b[0m     \u001b[38;5;28;01mreturn\u001b[39;00m \u001b[43mfn\u001b[49m\u001b[43m(\u001b[49m\u001b[38;5;241;43m*\u001b[39;49m\u001b[43margs\u001b[49m\u001b[43m,\u001b[49m\u001b[43m \u001b[49m\u001b[38;5;241;43m*\u001b[39;49m\u001b[38;5;241;43m*\u001b[39;49m\u001b[43mkwargs\u001b[49m\u001b[43m)\u001b[49m\n",
      "File \u001b[0;32m~/miniconda3/envs/zero/lib/python3.9/site-packages/ray/_private/client_mode_hook.py:103\u001b[0m, in \u001b[0;36mclient_mode_hook.<locals>.wrapper\u001b[0;34m(*args, **kwargs)\u001b[0m\n\u001b[1;32m    101\u001b[0m     \u001b[38;5;28;01mif\u001b[39;00m func\u001b[38;5;241m.\u001b[39m\u001b[38;5;18m__name__\u001b[39m \u001b[38;5;241m!=\u001b[39m \u001b[38;5;124m\"\u001b[39m\u001b[38;5;124minit\u001b[39m\u001b[38;5;124m\"\u001b[39m \u001b[38;5;129;01mor\u001b[39;00m is_client_mode_enabled_by_default:\n\u001b[1;32m    102\u001b[0m         \u001b[38;5;28;01mreturn\u001b[39;00m \u001b[38;5;28mgetattr\u001b[39m(ray, func\u001b[38;5;241m.\u001b[39m\u001b[38;5;18m__name__\u001b[39m)(\u001b[38;5;241m*\u001b[39margs, \u001b[38;5;241m*\u001b[39m\u001b[38;5;241m*\u001b[39mkwargs)\n\u001b[0;32m--> 103\u001b[0m \u001b[38;5;28;01mreturn\u001b[39;00m \u001b[43mfunc\u001b[49m\u001b[43m(\u001b[49m\u001b[38;5;241;43m*\u001b[39;49m\u001b[43margs\u001b[49m\u001b[43m,\u001b[49m\u001b[43m \u001b[49m\u001b[38;5;241;43m*\u001b[39;49m\u001b[38;5;241;43m*\u001b[39;49m\u001b[43mkwargs\u001b[49m\u001b[43m)\u001b[49m\n",
      "File \u001b[0;32m~/miniconda3/envs/zero/lib/python3.9/site-packages/ray/_private/worker.py:2782\u001b[0m, in \u001b[0;36mget\u001b[0;34m(object_refs, timeout)\u001b[0m\n\u001b[1;32m   2776\u001b[0m     \u001b[38;5;28;01mraise\u001b[39;00m \u001b[38;5;167;01mValueError\u001b[39;00m(\n\u001b[1;32m   2777\u001b[0m         \u001b[38;5;124mf\u001b[39m\u001b[38;5;124m\"\u001b[39m\u001b[38;5;124mInvalid type of object refs, \u001b[39m\u001b[38;5;132;01m{\u001b[39;00m\u001b[38;5;28mtype\u001b[39m(object_refs)\u001b[38;5;132;01m}\u001b[39;00m\u001b[38;5;124m, is given. \u001b[39m\u001b[38;5;124m\"\u001b[39m\n\u001b[1;32m   2778\u001b[0m         \u001b[38;5;124m\"\u001b[39m\u001b[38;5;124m'\u001b[39m\u001b[38;5;124mobject_refs\u001b[39m\u001b[38;5;124m'\u001b[39m\u001b[38;5;124m must either be an ObjectRef or a list of ObjectRefs. \u001b[39m\u001b[38;5;124m\"\u001b[39m\n\u001b[1;32m   2779\u001b[0m     )\n\u001b[1;32m   2781\u001b[0m \u001b[38;5;66;03m# TODO(ujvl): Consider how to allow user to retrieve the ready objects.\u001b[39;00m\n\u001b[0;32m-> 2782\u001b[0m values, debugger_breakpoint \u001b[38;5;241m=\u001b[39m \u001b[43mworker\u001b[49m\u001b[38;5;241;43m.\u001b[39;49m\u001b[43mget_objects\u001b[49m\u001b[43m(\u001b[49m\u001b[43mobject_refs\u001b[49m\u001b[43m,\u001b[49m\u001b[43m \u001b[49m\u001b[43mtimeout\u001b[49m\u001b[38;5;241;43m=\u001b[39;49m\u001b[43mtimeout\u001b[49m\u001b[43m)\u001b[49m\n\u001b[1;32m   2783\u001b[0m \u001b[38;5;28;01mfor\u001b[39;00m i, value \u001b[38;5;129;01min\u001b[39;00m \u001b[38;5;28menumerate\u001b[39m(values):\n\u001b[1;32m   2784\u001b[0m     \u001b[38;5;28;01mif\u001b[39;00m \u001b[38;5;28misinstance\u001b[39m(value, RayError):\n",
      "File \u001b[0;32m~/miniconda3/envs/zero/lib/python3.9/site-packages/ray/_private/worker.py:903\u001b[0m, in \u001b[0;36mWorker.get_objects\u001b[0;34m(self, object_refs, timeout, return_exceptions, skip_deserialization)\u001b[0m\n\u001b[1;32m    893\u001b[0m         \u001b[38;5;28;01mraise\u001b[39;00m \u001b[38;5;167;01mTypeError\u001b[39;00m(\n\u001b[1;32m    894\u001b[0m             \u001b[38;5;124mf\u001b[39m\u001b[38;5;124m\"\u001b[39m\u001b[38;5;124mAttempting to call `get` on the value \u001b[39m\u001b[38;5;132;01m{\u001b[39;00mobject_ref\u001b[38;5;132;01m}\u001b[39;00m\u001b[38;5;124m, \u001b[39m\u001b[38;5;124m\"\u001b[39m\n\u001b[1;32m    895\u001b[0m             \u001b[38;5;124m\"\u001b[39m\u001b[38;5;124mwhich is not an ray.ObjectRef.\u001b[39m\u001b[38;5;124m\"\u001b[39m\n\u001b[1;32m    896\u001b[0m         )\n\u001b[1;32m    898\u001b[0m timeout_ms \u001b[38;5;241m=\u001b[39m (\n\u001b[1;32m    899\u001b[0m     \u001b[38;5;28mint\u001b[39m(timeout \u001b[38;5;241m*\u001b[39m \u001b[38;5;241m1000\u001b[39m) \u001b[38;5;28;01mif\u001b[39;00m timeout \u001b[38;5;129;01mis\u001b[39;00m \u001b[38;5;129;01mnot\u001b[39;00m \u001b[38;5;28;01mNone\u001b[39;00m \u001b[38;5;129;01mand\u001b[39;00m timeout \u001b[38;5;241m!=\u001b[39m \u001b[38;5;241m-\u001b[39m\u001b[38;5;241m1\u001b[39m \u001b[38;5;28;01melse\u001b[39;00m \u001b[38;5;241m-\u001b[39m\u001b[38;5;241m1\u001b[39m\n\u001b[1;32m    900\u001b[0m )\n\u001b[1;32m    901\u001b[0m data_metadata_pairs: List[\n\u001b[1;32m    902\u001b[0m     Tuple[ray\u001b[38;5;241m.\u001b[39m_raylet\u001b[38;5;241m.\u001b[39mBuffer, \u001b[38;5;28mbytes\u001b[39m]\n\u001b[0;32m--> 903\u001b[0m ] \u001b[38;5;241m=\u001b[39m \u001b[38;5;28;43mself\u001b[39;49m\u001b[38;5;241;43m.\u001b[39;49m\u001b[43mcore_worker\u001b[49m\u001b[38;5;241;43m.\u001b[39;49m\u001b[43mget_objects\u001b[49m\u001b[43m(\u001b[49m\n\u001b[1;32m    904\u001b[0m \u001b[43m    \u001b[49m\u001b[43mobject_refs\u001b[49m\u001b[43m,\u001b[49m\n\u001b[1;32m    905\u001b[0m \u001b[43m    \u001b[49m\u001b[43mtimeout_ms\u001b[49m\u001b[43m,\u001b[49m\n\u001b[1;32m    906\u001b[0m \u001b[43m\u001b[49m\u001b[43m)\u001b[49m\n\u001b[1;32m    908\u001b[0m debugger_breakpoint \u001b[38;5;241m=\u001b[39m \u001b[38;5;124mb\u001b[39m\u001b[38;5;124m\"\u001b[39m\u001b[38;5;124m\"\u001b[39m\n\u001b[1;32m    909\u001b[0m \u001b[38;5;28;01mfor\u001b[39;00m data, metadata \u001b[38;5;129;01min\u001b[39;00m data_metadata_pairs:\n",
      "File \u001b[0;32mpython/ray/_raylet.pyx:3211\u001b[0m, in \u001b[0;36mray._raylet.CoreWorker.get_objects\u001b[0;34m()\u001b[0m\n",
      "File \u001b[0;32mpython/ray/includes/common.pxi:83\u001b[0m, in \u001b[0;36mray._raylet.check_status\u001b[0;34m()\u001b[0m\n",
      "\u001b[0;31mKeyboardInterrupt\u001b[0m: "
     ]
    }
   ],
   "source": [
    "# Each worker's initial value is its rank, and then each rank's value is incremented by 1, so the values obtained on each rank are [1, 2, 3, 4]\n",
    "class_with_args = RayClassWithInitArgs(cls=GPUAccumulator)\n",
    "worker_group = RayWorkerGroup(resource_pool, class_with_args)\n",
    "print(worker_group.execute_all_sync('add', x=[1,1,1,1]))"
   ]
  },
  {
   "cell_type": "markdown",
   "id": "e6705284",
   "metadata": {},
   "source": [
    "The principle of parameter passing: The input parameter is a list of length world_size, where each element in the list is dispatched respectively to each worker in the RayWorkerGroup. \n",
    "The return parameter is also a list, corresponding to the return value of each worker."
   ]
  },
  {
   "cell_type": "markdown",
   "id": "d25c2412",
   "metadata": {},
   "source": [
    "### GPU Resource Sharing"
   ]
  },
  {
   "cell_type": "markdown",
   "id": "f74f6d24",
   "metadata": {},
   "source": [
    "RayWorkerGroups mapped to the same resource pool share the GPU. In this example, we implement three resource pools: the first occupies 4 GPUs, the second also occupies 4 GPUs, and the last occupies all 8 GPUs. Among them, the first resource pool reuses the resource pool mentioned above."
   ]
  },
  {
   "cell_type": "code",
   "execution_count": 155,
   "id": "49f9c06f",
   "metadata": {
    "tags": []
   },
   "outputs": [],
   "source": [
    "# Create a new resource pool and then merge the newly created resource pool with the previous one.\n",
    "resource_pool_1 = RayResourcePool([4], use_gpu=True, name_prefix='a')\n",
    "resource_pool_merge = merge_resource_pool(resource_pool, resource_pool_1)"
   ]
  },
  {
   "cell_type": "code",
   "execution_count": 156,
   "id": "05c2e305",
   "metadata": {
    "tags": []
   },
   "outputs": [],
   "source": [
    "# Establish a RayWorkerGroup on the newly created resource pool.\n",
    "worker_group_1 = RayWorkerGroup(resource_pool_1, class_with_args)\n",
    "worker_group_merge = RayWorkerGroup(resource_pool_merge, class_with_args)"
   ]
  },
  {
   "cell_type": "code",
   "execution_count": 157,
   "id": "6b9b13f4",
   "metadata": {
    "tags": []
   },
   "outputs": [
    {
     "name": "stdout",
     "output_type": "stream",
     "text": [
      "[tensor([2.]), tensor([3.]), tensor([4.]), tensor([5.])]\n"
     ]
    }
   ],
   "source": [
    "# Run 'add' on the second set of 4 GPUs; the result should be [2, 3, 4, 5].\n",
    "output_1 = worker_group_1.execute_all_sync('add', x=[2,2,2,2])\n",
    "print(output_1)"
   ]
  },
  {
   "cell_type": "code",
   "execution_count": 158,
   "id": "d856d030",
   "metadata": {
    "tags": []
   },
   "outputs": [
    {
     "name": "stdout",
     "output_type": "stream",
     "text": [
      "[tensor([3.]), tensor([4.]), tensor([5.]), tensor([6.]), tensor([7.]), tensor([8.]), tensor([9.]), tensor([10.])]\n"
     ]
    }
   ],
   "source": [
    "# Run 'add' on the merged set of 8 GPUs; the result should be [3, 4, 5, 6, 7, 8, 9, 10].\n",
    "output_merge = worker_group_merge.execute_all_sync('add', x=[3,3,3,3,3,3,3,3])\n",
    "print(output_merge)"
   ]
  },
  {
   "cell_type": "code",
   "execution_count": 159,
   "id": "33a4628c",
   "metadata": {
    "tags": []
   },
   "outputs": [
    {
     "name": "stdout",
     "output_type": "stream",
     "text": [
      "4 4 8\n"
     ]
    }
   ],
   "source": [
    "print(worker_group.world_size, worker_group_1.world_size, worker_group_merge.world_size)"
   ]
  },
  {
   "cell_type": "markdown",
   "id": "3df19d13",
   "metadata": {},
   "source": [
    "## Chapter 3: Data Dispatch, Execution and Collection"
   ]
  },
  {
   "cell_type": "markdown",
   "id": "acb22d9d",
   "metadata": {},
   "source": [
    "In the above example, we used the `execute_all_sync` function in the RayWorkerGroup to dispatch data from the driver to each worker. This is very inconvenient for coding. \n",
    "In this chapter, we use the form of function decorators to allow RayWorkerGroup to directly call functions written in the Worker, and to greatly simplify parameter passing."
   ]
  },
  {
   "cell_type": "code",
   "execution_count": 160,
   "id": "35237432",
   "metadata": {
    "tags": []
   },
   "outputs": [],
   "source": [
    "from verl.single_controller.base.decorator import register, Dispatch, Execute"
   ]
  },
  {
   "cell_type": "code",
   "execution_count": 161,
   "id": "88b8ba3b",
   "metadata": {
    "tags": []
   },
   "outputs": [],
   "source": [
    "@ray.remote\n",
    "class GPUAccumulatorDecorator(Worker):\n",
    "\n",
    "    def __init__(self) -> None:\n",
    "        super().__init__()\n",
    "        # The initial value of each rank is the same as the rank\n",
    "        self.value = torch.zeros(size=(1,), device='cuda') + self.rank\n",
    "    \n",
    "    # map from a single input to all the worker\n",
    "    @register(Dispatch.ONE_TO_ALL)\n",
    "    def add(self, x):\n",
    "        print(x)\n",
    "        self.value = self.value + x\n",
    "        print(f'rank {self.rank}, value: {self.value}')\n",
    "        return self.value.cpu()"
   ]
  },
  {
   "cell_type": "code",
   "execution_count": 162,
   "id": "eddaa043",
   "metadata": {
    "tags": []
   },
   "outputs": [],
   "source": [
    "class_with_args = RayClassWithInitArgs(cls=GPUAccumulatorDecorator)\n",
    "gpu_accumulator_decorator = RayWorkerGroup(resource_pool_merge, class_with_args)"
   ]
  },
  {
   "cell_type": "code",
   "execution_count": 163,
   "id": "10087c91",
   "metadata": {
    "tags": []
   },
   "outputs": [
    {
     "name": "stdout",
     "output_type": "stream",
     "text": [
      "[tensor([10.]), tensor([11.]), tensor([12.]), tensor([13.]), tensor([14.]), tensor([15.]), tensor([16.]), tensor([17.])]\n"
     ]
    }
   ],
   "source": [
    "# As we can see, 10 is automatically dispatched to each Worker in this RayWorkerGroup.\n",
    "print(gpu_accumulator_decorator.add(x=10))"
   ]
  },
  {
   "cell_type": "markdown",
   "id": "540ee6ad",
   "metadata": {},
   "source": [
    "### Custom Dispatch, Collection\n",
    "Users can customize `dispatch` and `collection` function. You only need to write the `dispatch_fn` and `collect_fn` functions yourself. We also support executing RPC only on rank_zero, with specific examples provided below."
   ]
  },
  {
   "cell_type": "code",
   "execution_count": 164,
   "id": "8e041270",
   "metadata": {
    "tags": []
   },
   "outputs": [],
   "source": [
    "from verl.single_controller.base.decorator import register, Dispatch, collect_all_to_all, Execute"
   ]
  },
  {
   "cell_type": "code",
   "execution_count": 165,
   "id": "43b5be31",
   "metadata": {
    "tags": []
   },
   "outputs": [],
   "source": [
    "def two_to_all_dispatch_fn(worker_group, *args, **kwargs):\n",
    "    \"\"\"\n",
    "    Assume the input is a list of 2. Duplicate the input interleaved and pass to each worker.\n",
    "    \"\"\"\n",
    "    for arg in args:\n",
    "        assert len(arg) == 2\n",
    "        for i in range(worker_group.world_size - 2):\n",
    "            arg.append(arg[i % 2])\n",
    "    for k, v in kwargs.items():\n",
    "        assert len(v) == 2\n",
    "        for i in range(worker_group.world_size - 2):\n",
    "            v.append(v[i % 2])\n",
    "    return args, kwargs\n",
    "\n",
    "\n",
    "@ray.remote\n",
    "class TestActor(Worker):\n",
    "    # TODO: pass *args and **kwargs is bug prone and not very convincing\n",
    "    def __init__(self, x) -> None:\n",
    "        super().__init__()\n",
    "        self._x = x\n",
    "\n",
    "    def foo(self, y):\n",
    "        return self._x + y\n",
    "\n",
    "    @register(dispatch_mode=Dispatch.ALL_TO_ALL, execute_mode=Execute.RANK_ZERO)\n",
    "    def foo_rank_zero(self, x, y):\n",
    "        return self._x + y + x\n",
    "\n",
    "    @register(dispatch_mode={'dispatch_fn': two_to_all_dispatch_fn, 'collect_fn': collect_all_to_all})\n",
    "    def foo_custom(self, x, y):\n",
    "        return self._x + y + x"
   ]
  },
  {
   "cell_type": "code",
   "execution_count": 166,
   "id": "83ec6609",
   "metadata": {
    "tags": []
   },
   "outputs": [],
   "source": [
    "class_with_args = RayClassWithInitArgs(cls=TestActor, x=2)\n",
    "worker_group = RayWorkerGroup(resource_pool, class_with_args)"
   ]
  },
  {
   "cell_type": "code",
   "execution_count": 167,
   "id": "62c58d8a",
   "metadata": {
    "tags": []
   },
   "outputs": [],
   "source": [
    "output_ref = worker_group.foo_custom(x=[1, 2], y=[5, 6])\n",
    "assert output_ref == [8, 10, 8, 10]\n",
    "\n",
    "output_ref = worker_group.foo_rank_zero(x=1, y=2)\n",
    "assert output_ref == 5"
   ]
  },
  {
   "cell_type": "code",
   "execution_count": 168,
   "id": "14689353",
   "metadata": {
    "tags": []
   },
   "outputs": [
    {
     "name": "stdout",
     "output_type": "stream",
     "text": [
      "8\n"
     ]
    }
   ],
   "source": [
    "print(gpu_accumulator_decorator.world_size)"
   ]
  },
  {
   "cell_type": "code",
   "execution_count": 169,
   "id": "2c80bbf4",
   "metadata": {
    "tags": []
   },
   "outputs": [],
   "source": [
    "# Shutdown ray cluster\n",
    "ray.shutdown()"
   ]
  },
  {
   "cell_type": "markdown",
   "id": "a5c8151c",
   "metadata": {},
   "source": [
    "## Chapter 4: NVMegatronRayWorkerGroup"
   ]
  },
  {
   "cell_type": "markdown",
   "id": "cd5680e9",
   "metadata": {},
   "source": [
    "Due to the Ray issue, we can only support max_colocate_count=1 in RayResourcePool for now. \n",
    "This means that each GPU can only have one process.\n",
    "We can support max_colocate > 1 when applying this pull request: https://github.com/ray-project/ray/pull/44385"
   ]
  },
  {
   "cell_type": "markdown",
   "id": "92724419",
   "metadata": {},
   "source": [
    "Therefore, we need to restart the ray and initialize a new resource_pool to demonstrate the **NVMegatronRayWorkerGroup**"
   ]
  },
  {
   "cell_type": "code",
   "execution_count": null,
   "id": "9b038538",
   "metadata": {
    "tags": []
   },
   "outputs": [],
   "source": [
    "# Build a local ray cluster. The head node and worker node are on this machine\n",
    "ray.init()"
   ]
  },
  {
   "cell_type": "markdown",
   "id": "ebfd8798",
   "metadata": {},
   "source": [
    "Finally, we implement a `NVMegatronRayWorkerGroup`, within which we create a Megatron and then run a tensor parallel (tp) split Llama mlp layer. Here, we use a complex dispatch mode, `Megatron_COMPUTE`. This dispatch mode assumes that user passes the data partitioned by DP dimension. The data is dispatched to all tp/pp ranks within the same dp group, and ultimately only collects output data from tp=0 and the last pp. In this way, for users that only write code on the driver, the Megatron behind the RPC becomes transparent."
   ]
  },
  {
   "cell_type": "code",
   "execution_count": 171,
   "id": "5a032154",
   "metadata": {
    "tags": []
   },
   "outputs": [
    {
     "name": "stdout",
     "output_type": "stream",
     "text": [
      "/opt/tiger/Megatron-LM\n",
      "/opt/tiger/Megatron-LM/megatron/__init__.py\n"
     ]
    }
   ],
   "source": [
    "import os\n",
    "import sys\n",
    "import site\n",
    "\n",
    "\n",
    "current_pythonpath = os.environ.get('PYTHONPATH', '')\n",
    "\n",
    "new_path = '/opt/tiger/Megatron-LM'\n",
    "\n",
    "if current_pythonpath:\n",
    "    new_pythonpath = f'{new_path}:{current_pythonpath}'\n",
    "else:\n",
    "    new_pythonpath = new_path\n",
    "\n",
    "os.environ['PYTHONPATH'] = new_pythonpath\n",
    "\n",
    "print(new_path)\n",
    "sys.path.append(new_path)\n",
    "\n",
    "import megatron\n",
    "print(megatron.__file__)"
   ]
  },
  {
   "cell_type": "code",
   "execution_count": 172,
   "id": "8c84cd5a",
   "metadata": {
    "tags": []
   },
   "outputs": [],
   "source": [
    "from verl.single_controller.base.decorator import register, Dispatch, Execute\n",
    "from verl.single_controller.ray.megatron import NVMegatronRayWorkerGroup\n",
    "from verl.single_controller.base.megatron.worker import MegatronWorker\n",
    "from verl.single_controller.ray.base import RayResourcePool, RayClassWithInitArgs, RayWorkerGroup\n",
    "from omegaconf import OmegaConf\n",
    "from megatron.core import parallel_state as mpu"
   ]
  },
  {
   "cell_type": "code",
   "execution_count": 173,
   "id": "1b1debcc",
   "metadata": {
    "tags": []
   },
   "outputs": [],
   "source": [
    "resource_pool = RayResourcePool([4], use_gpu=True, max_colocate_count=1)"
   ]
  },
  {
   "cell_type": "code",
   "execution_count": 174,
   "id": "bccbe081",
   "metadata": {
    "tags": []
   },
   "outputs": [],
   "source": [
    "@ray.remote\n",
    "class MLPLayerWorker(MegatronWorker):\n",
    "    def __init__(self):\n",
    "        super().__init__()\n",
    "        rank = int(os.environ['LOCAL_RANK'])\n",
    "        torch.distributed.init_process_group(backend=\"nccl\")\n",
    "        torch.cuda.set_device(rank)\n",
    "\n",
    "        mpu.initialize_model_parallel(\n",
    "                tensor_model_parallel_size=4,\n",
    "                pipeline_model_parallel_size=1,\n",
    "                virtual_pipeline_model_parallel_size=None,\n",
    "                pipeline_model_parallel_split_rank=None,\n",
    "                use_sharp=False,\n",
    "                context_parallel_size=1,\n",
    "                expert_model_parallel_size=1,\n",
    "                nccl_communicator_config_path=None,\n",
    "            )\n",
    "        from megatron.core import tensor_parallel\n",
    "        tensor_parallel.model_parallel_cuda_manual_seed(10)\n",
    "\n",
    "\n",
    "    @register(Dispatch.ONE_TO_ALL)\n",
    "    def init_model(self, config):\n",
    "        from omegaconf import OmegaConf\n",
    "        from verl.utils.megatron_utils import init_model_parallel_config\n",
    "        from verl.models.llama.megatron.layers import ParallelLlamaMLP\n",
    "        megatron_config = OmegaConf.create({\n",
    "            'sequence_parallel': False,\n",
    "            'param_dtype': 'fp32',\n",
    "            'tensor_model_parallel_size': mpu.get_tensor_model_parallel_world_size(),\n",
    "            'pipeline_model_parallel_rank': mpu.get_pipeline_model_parallel_rank(),\n",
    "            'pipeline_model_parallel_size': mpu.get_pipeline_model_parallel_world_size(),\n",
    "            'virtual_pipeline_model_parallel_rank': mpu.get_virtual_pipeline_model_parallel_rank(),\n",
    "            'virtual_pipeline_model_parallel_size': mpu.get_virtual_pipeline_model_parallel_world_size()\n",
    "        })\n",
    "\n",
    "        megatron_config = init_model_parallel_config(megatron_config)\n",
    "        self.parallel_layer = ParallelLlamaMLP(config=config, megatron_config=megatron_config)\n",
    "    \n",
    "    @register(Dispatch.ONE_TO_ALL)\n",
    "    def get_weights(self):\n",
    "        output = {}\n",
    "        for key, val in self.parallel_layer.named_parameters():\n",
    "            output[key] = val\n",
    "        return output\n",
    "    \n",
    "    @register(Dispatch.MEGATRON_COMPUTE)\n",
    "    def run_layer(self, x):\n",
    "        x = x.to('cuda')\n",
    "        y = self.parallel_layer(x)\n",
    "        return y"
   ]
  },
  {
   "cell_type": "code",
   "execution_count": 175,
   "id": "a655271d",
   "metadata": {
    "tags": []
   },
   "outputs": [],
   "source": [
    "layer_cls = RayClassWithInitArgs(cls=MLPLayerWorker)\n",
    "layer_worker_group = NVMegatronRayWorkerGroup(resource_pool=resource_pool,\n",
    "                                            ray_cls_with_init=layer_cls,\n",
    "                                            )\n"
   ]
  },
  {
   "cell_type": "code",
   "execution_count": 176,
   "id": "f105ebee",
   "metadata": {
    "tags": []
   },
   "outputs": [
    {
     "name": "stdout",
     "output_type": "stream",
     "text": [
      "4 4 1 1\n"
     ]
    }
   ],
   "source": [
    "print(layer_worker_group.world_size, layer_worker_group.tp_size, layer_worker_group.pp_size, layer_worker_group.dp_size)"
   ]
  },
  {
   "cell_type": "code",
   "execution_count": 177,
   "id": "38655091",
   "metadata": {
    "tags": []
   },
   "outputs": [],
   "source": [
    "ffn_hidden_size = 11008\n",
    "batch_size = 16\n",
    "seq_len = 2048\n",
    "hidden_size = 4096\n",
    "\n",
    "config = OmegaConf.create({\n",
    "    'hidden_size': hidden_size,\n",
    "    'intermediate_size': ffn_hidden_size,\n",
    "    'hidden_act': 'silu',\n",
    "    'pretraining_tp': 1,\n",
    "    'tp': layer_worker_group.tp_size,\n",
    "})"
   ]
  },
  {
   "cell_type": "code",
   "execution_count": 178,
   "id": "a026efca",
   "metadata": {
    "tags": []
   },
   "outputs": [],
   "source": [
    "x = torch.rand(size=(seq_len, batch_size, hidden_size), dtype=torch.float32)"
   ]
  },
  {
   "cell_type": "code",
   "execution_count": 179,
   "id": "f5fcaf13",
   "metadata": {
    "tags": []
   },
   "outputs": [
    {
     "data": {
      "text/plain": [
       "[None, None, None, None]"
      ]
     },
     "execution_count": 179,
     "metadata": {},
     "output_type": "execute_result"
    }
   ],
   "source": [
    "layer_worker_group.init_model(config)"
   ]
  },
  {
   "cell_type": "code",
   "execution_count": 180,
   "id": "3f5cc9b4",
   "metadata": {
    "tags": []
   },
   "outputs": [
    {
     "name": "stdout",
     "output_type": "stream",
     "text": [
      "torch.Size([2048, 16, 4096])\n"
     ]
    }
   ],
   "source": [
    "output = layer_worker_group.run_layer([x])  # This must be a list of size 1, ensuring that the input equals the data parallel (dp).\n",
    "print(output[0].shape)"
   ]
  },
  {
   "cell_type": "code",
   "execution_count": 181,
   "id": "49792210",
   "metadata": {
    "tags": []
   },
   "outputs": [],
   "source": [
    "# Shutdown ray cluster\n",
    "ray.shutdown()"
   ]
  }
 ],
 "metadata": {
  "kernelspec": {
   "display_name": "zero",
   "language": "python",
   "name": "python3"
  },
  "language_info": {
   "codemirror_mode": {
    "name": "ipython",
    "version": 3
   },
   "file_extension": ".py",
   "mimetype": "text/x-python",
   "name": "python",
   "nbconvert_exporter": "python",
   "pygments_lexer": "ipython3",
   "version": "3.9.21"
  }
 },
 "nbformat": 4,
 "nbformat_minor": 5
}
